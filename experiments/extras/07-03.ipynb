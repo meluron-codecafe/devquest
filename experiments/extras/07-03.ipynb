{
 "cells": [
  {
   "cell_type": "code",
   "execution_count": 1,
   "id": "b68aac1e-5f63-4421-a5b4-8a9ef145a87d",
   "metadata": {},
   "outputs": [],
   "source": [
    "#hide"
   ]
  },
  {
   "cell_type": "code",
   "execution_count": 2,
   "id": "74df21ca-a4f0-44c3-9ceb-68d0c6819196",
   "metadata": {
    "jupyter": {
     "source_hidden": true
    }
   },
   "outputs": [
    {
     "data": {
      "text/html": [
       "\n",
       "    <div style=\"\n",
       "        position: relative;\n",
       "        display: flex; \n",
       "        align-items: center; \n",
       "        justify-content: flex-start;\n",
       "        min-height: 80px;\n",
       "        width: 800px;\n",
       "        background: linear-gradient(135deg, #f5f7fa 0%, #c3cfe2 100%);\n",
       "        padding: 20px;\n",
       "        border-radius: 12px;\n",
       "        box-shadow: 0 4px 15px rgba(0, 0, 0, 0.1);\n",
       "        border: 1px solid #e1e8ed;\n",
       "        margin: 10px 0;\n",
       "        font-family: 'Segoe UI', Tahoma, Geneva, Verdana, sans-serif;\n",
       "    \">\n",
       "\n",
       "        <!-- GitHub Icon + Name in top-right -->\n",
       "        <a href=\"https://github.com/meluron-codecafe\" target=\"_blank\" style=\"\n",
       "            position: absolute;\n",
       "            top: 16px;\n",
       "            right: 20px;\n",
       "            display: flex;\n",
       "            align-items: center;\n",
       "            text-decoration: none;\n",
       "            color: #333;\n",
       "            font-size: 14px;\n",
       "            font-weight: 500;\n",
       "            gap: 6px;\n",
       "        \">\n",
       "            <img src=\"https://cdn-icons-png.flaticon.com/512/25/25231.png\" \n",
       "                 alt=\"GitHub\" \n",
       "                 style=\"width: 18px; height: 18px; display: inline-block; vertical-align: middle;\">\n",
       "            <span style=\"transform: translateY(-1px); line-height: 1;\">\n",
       "                /meluron-codecafe\n",
       "            </span>\n",
       "        </a>\n",
       "\n",
       "        <!-- Logo + Label stacked vertically -->\n",
       "        <div style=\"\n",
       "            display: flex; \n",
       "            flex-direction: column; \n",
       "            align-items: center; \n",
       "            justify-content: center;\n",
       "            margin-right: 35px;\n",
       "        \">\n",
       "            <a href=\"https://meluron-codecafe.github.io/DevQuest/\">\n",
       "                <img src=\"https://raw.githubusercontent.com/meluron/assets/refs/heads/main/logos/meluron-codecafe/DevQuest/icon_with_text.png\" \n",
       "                     alt=\"My Logo\" \n",
       "                     style=\"\n",
       "                        width: 120px; \n",
       "                        height: 50px;\n",
       "                        border-radius: 5px;\n",
       "                        box-shadow: 0 3px 10px rgba(253, 138, 9, 0.3);\n",
       "                     \">\n",
       "            </a>\n",
       "            <div style=\"\n",
       "                font-size: 13px; \n",
       "                color: #fd8a09; \n",
       "                font-weight: bold;\n",
       "                margin-top: 6px;\n",
       "                text-align: center;\n",
       "            \">\n",
       "            </div>\n",
       "        </div>\n",
       "\n",
       "        <!-- Question Badge -->\n",
       "        <div style=\"\n",
       "            font-size: 14px; \n",
       "            background: linear-gradient(135deg, #667eea, #764ba2);\n",
       "            color: white; \n",
       "            padding: 8px 10px; \n",
       "            border-radius: 5px; \n",
       "            display: inline-flex;\n",
       "            align-items: center;\n",
       "            gap: 6px;\n",
       "            font-weight: 600;\n",
       "            box-shadow: 0 3px 12px rgba(102, 126, 234, 0.3);\n",
       "            margin-top: -10px;\n",
       "        \">\n",
       "            Functions in python\n",
       "            \n",
       "        </div>\n",
       "    </div>\n",
       "    "
      ],
      "text/plain": [
       "<IPython.core.display.HTML object>"
      ]
     },
     "metadata": {},
     "output_type": "display_data"
    }
   ],
   "source": [
    "#hide\n",
    "import utils\n",
    "utils.hero(\"Functions in python\")"
   ]
  },
  {
   "cell_type": "markdown",
   "id": "2e4935e0-839f-42e3-b444-9b9c1a5c1fe3",
   "metadata": {},
   "source": [
    "Function is a code-block that takes input and gives output as an API."
   ]
  },
  {
   "cell_type": "code",
   "execution_count": 3,
   "id": "03002ad9-e22a-42b0-9373-e5db97662351",
   "metadata": {},
   "outputs": [],
   "source": [
    "# How is function defined in Python\n",
    "def func_name(arg1: int, arg2: int) -> float:\n",
    "    pass"
   ]
  },
  {
   "cell_type": "code",
   "execution_count": 27,
   "id": "c31079db-1edd-4044-a009-e7eb3816a6de",
   "metadata": {},
   "outputs": [],
   "source": [
    "# Example 1: Add two numbers\n",
    "\n",
    "# Defining a function\n",
    "def add(a: int|float, b: int|float) -> int|float:\n",
    "    sum = a + b\n",
    "    \n",
    "    return sum"
   ]
  },
  {
   "cell_type": "code",
   "execution_count": 40,
   "id": "63380c80-1efb-4f02-8837-997b01d881db",
   "metadata": {},
   "outputs": [
    {
     "data": {
      "text/plain": [
       "4.0"
      ]
     },
     "execution_count": 40,
     "metadata": {},
     "output_type": "execute_result"
    }
   ],
   "source": [
    "add(1., 3.) # Function call (Calling a function)"
   ]
  },
  {
   "cell_type": "markdown",
   "id": "cd907718-2520-44b2-b670-72102d64b2f3",
   "metadata": {},
   "source": [
    "**Parameters**: The variables that holds the input given by the user on function call. \\\n",
    "**Arguments**: The values that are passed to the function"
   ]
  },
  {
   "cell_type": "code",
   "execution_count": 38,
   "id": "efe35467-bdc0-46f4-a3e6-275b080aca5c",
   "metadata": {},
   "outputs": [],
   "source": [
    "# Different ways to call a function\n",
    "\n",
    "sum1 = add(a=1., b=3.)\n",
    "sum2 = add(1., 3.) # Positional arguments\n",
    "sum3 = add(b=1., a=3.)"
   ]
  },
  {
   "cell_type": "code",
   "execution_count": 39,
   "id": "9a1964eb-83b7-458e-87f1-6277c4792bca",
   "metadata": {},
   "outputs": [
    {
     "data": {
      "text/plain": [
       "(4.0, 4.0, 4.0)"
      ]
     },
     "execution_count": 39,
     "metadata": {},
     "output_type": "execute_result"
    }
   ],
   "source": [
    "sum1, sum2, sum3"
   ]
  },
  {
   "cell_type": "markdown",
   "id": "f8b3986b-9711-4c52-a2db-d60547a8f42d",
   "metadata": {},
   "source": [
    "*args \\\n",
    "**kwargs"
   ]
  },
  {
   "cell_type": "code",
   "execution_count": 69,
   "id": "4894b71e-c520-4b39-bcd9-8886f2ee14af",
   "metadata": {},
   "outputs": [
    {
     "data": {
      "text/plain": [
       "16"
      ]
     },
     "execution_count": 69,
     "metadata": {},
     "output_type": "execute_result"
    }
   ],
   "source": [
    "# Defining a function\n",
    "def add(*args) -> int|float:\n",
    "    sum = 0\n",
    "    for arg in args:\n",
    "        sum = sum + arg\n",
    "        \n",
    "    return sum\n",
    "add(1, 2, 3, 10)"
   ]
  },
  {
   "cell_type": "code",
   "execution_count": 75,
   "id": "ad9e8ab0-059e-4668-a34d-ce71ab0b4b4e",
   "metadata": {},
   "outputs": [
    {
     "data": {
      "text/plain": [
       "121"
      ]
     },
     "execution_count": 75,
     "metadata": {},
     "output_type": "execute_result"
    }
   ],
   "source": [
    "# Defining a function\n",
    "def add(**kwargs) -> int|float:\n",
    "    sum = 0\n",
    "\n",
    "    for val in kwargs.values():\n",
    "        sum = sum + val\n",
    "\n",
    "    return sum   \n",
    "\n",
    "add(a=10, v=11, b=100)"
   ]
  },
  {
   "cell_type": "code",
   "execution_count": 84,
   "id": "cdda561c-abeb-4246-af33-ce2e58d61dbb",
   "metadata": {},
   "outputs": [
    {
     "data": {
      "text/plain": [
       "110"
      ]
     },
     "execution_count": 84,
     "metadata": {},
     "output_type": "execute_result"
    }
   ],
   "source": [
    "# Defining a function\n",
    "def add(a: int|float, b: int|float, *args, **kwargs) -> int|float:\n",
    "\n",
    "    return a + b\n",
    "\n",
    "add(100, 10, 20, c=10, v=11, d=100) # Positional argument, Keyword argument"
   ]
  },
  {
   "cell_type": "code",
   "execution_count": 95,
   "id": "639df8e9-43e3-4981-91cf-8c15eff61b26",
   "metadata": {},
   "outputs": [
    {
     "data": {
      "text/plain": [
       "30"
      ]
     },
     "execution_count": 95,
     "metadata": {},
     "output_type": "execute_result"
    }
   ],
   "source": [
    "# Adding default values to parameters\n",
    "def add(a: int|float = 1, b: int|float = 0, *args, **kwargs) -> int|float:\n",
    "    return a + b\n",
    "\n",
    "add(10, 20)"
   ]
  },
  {
   "cell_type": "code",
   "execution_count": 106,
   "id": "8e015229-cb6d-432d-aa15-1c32d22c28d5",
   "metadata": {},
   "outputs": [
    {
     "data": {
      "text/plain": [
       "30"
      ]
     },
     "execution_count": 106,
     "metadata": {},
     "output_type": "execute_result"
    }
   ],
   "source": [
    "# Good practice (Adding a docstring)\n",
    "def subtract(a: int | float, b: int | float) -> int | float: # API\n",
    "    \"\"\"\n",
    "    Subtracts a from b.\n",
    "\n",
    "    This is ashf kahf asf,asf.\n",
    "\n",
    "    Parameters\n",
    "    ----------\n",
    "    a: int | float\n",
    "        First number.\n",
    "    b: int | float\n",
    "        Second number.\n",
    "\n",
    "    Returns\n",
    "    -------\n",
    "    int | float:\n",
    "        Value after subtraction.\n",
    "\n",
    "    Example\n",
    "    -------\n",
    "    \n",
    "    \"\"\"\n",
    "    pass\n",
    "add(10, 20)"
   ]
  },
  {
   "cell_type": "code",
   "execution_count": null,
   "id": "d4d214de-b5d7-4331-9d3b-147062c19d3b",
   "metadata": {},
   "outputs": [],
   "source": [
    "def find_mode(a: list[int, ...]) -> tuple[int, int]:\n",
    "    \"\"\"\n",
    "    Finds the element with most repetition in the list. (Brute force implementation)\n",
    "\n",
    "    Parameters\n",
    "    ----------\n",
    "    a: list[int, ...]\n",
    "        List of integers to find the mode.\n",
    "\n",
    "    Returns\n",
    "    -------\n",
    "    int\n",
    "        Element with most repetition.\n",
    "    int\n",
    "        Number of repetition of the element.\n",
    "    \"\"\"\n",
    "    count_dict = {} # {element: repetition}\n",
    "    for element in a:\n",
    "        if count_dict.get(element) is None:\n",
    "            count_dict[element] = 1\n",
    "        else:\n",
    "            count_dict[element] += 1\n",
    "\n",
    "    max_count = 0\n",
    "    for k, v in count_dict.items():\n",
    "        if v > max_count:\n",
    "            max_count = v\n",
    "            mode = k\n",
    "\n",
    "    return (mode, max_count)"
   ]
  },
  {
   "cell_type": "code",
   "execution_count": null,
   "id": "4b205882-7cf1-4abf-ac01-bc9e3f0f41c4",
   "metadata": {},
   "outputs": [],
   "source": []
  },
  {
   "cell_type": "code",
   "execution_count": null,
   "id": "fcd2f1b9-8501-4fb9-9ae8-66e8add3cbca",
   "metadata": {},
   "outputs": [],
   "source": []
  },
  {
   "cell_type": "code",
   "execution_count": null,
   "id": "c2f3e758-9eaa-4130-86b9-6668f6a619df",
   "metadata": {},
   "outputs": [],
   "source": []
  },
  {
   "cell_type": "code",
   "execution_count": null,
   "id": "f40cf944-1ec0-4ce4-8794-7267a1088084",
   "metadata": {},
   "outputs": [],
   "source": []
  }
 ],
 "metadata": {
  "kernelspec": {
   "display_name": "Musa",
   "language": "python",
   "name": "musa-3.13"
  },
  "language_info": {
   "codemirror_mode": {
    "name": "ipython",
    "version": 3
   },
   "file_extension": ".py",
   "mimetype": "text/x-python",
   "name": "python",
   "nbconvert_exporter": "python",
   "pygments_lexer": "ipython3",
   "version": "3.12.0"
  }
 },
 "nbformat": 4,
 "nbformat_minor": 5
}
