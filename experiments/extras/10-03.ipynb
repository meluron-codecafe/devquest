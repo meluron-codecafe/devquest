{
 "cells": [
  {
   "cell_type": "code",
   "execution_count": 1,
   "id": "867d25f9-9f69-498c-b2db-a6848b8b7aba",
   "metadata": {},
   "outputs": [],
   "source": [
    "#hide"
   ]
  },
  {
   "cell_type": "code",
   "execution_count": 2,
   "id": "b30187ed-3965-4289-8292-8ce1d55db291",
   "metadata": {
    "jupyter": {
     "source_hidden": true
    }
   },
   "outputs": [
    {
     "data": {
      "text/html": [
       "\n",
       "    <div style=\"\n",
       "        position: relative;\n",
       "        display: flex; \n",
       "        align-items: center; \n",
       "        justify-content: flex-start;\n",
       "        min-height: 80px;\n",
       "        width: 800px;\n",
       "        background: linear-gradient(135deg, #f5f7fa 0%, #c3cfe2 100%);\n",
       "        padding: 20px;\n",
       "        border-radius: 12px;\n",
       "        box-shadow: 0 4px 15px rgba(0, 0, 0, 0.1);\n",
       "        border: 1px solid #e1e8ed;\n",
       "        margin: 10px 0;\n",
       "        font-family: 'Segoe UI', Tahoma, Geneva, Verdana, sans-serif;\n",
       "    \">\n",
       "\n",
       "        <!-- GitHub Icon + Name in top-right -->\n",
       "        <a href=\"https://github.com/meluron-codecafe\" target=\"_blank\" style=\"\n",
       "            position: absolute;\n",
       "            top: 16px;\n",
       "            right: 20px;\n",
       "            display: flex;\n",
       "            align-items: center;\n",
       "            text-decoration: none;\n",
       "            color: #333;\n",
       "            font-size: 14px;\n",
       "            font-weight: 500;\n",
       "            gap: 6px;\n",
       "        \">\n",
       "            <img src=\"https://cdn-icons-png.flaticon.com/512/25/25231.png\" \n",
       "                 alt=\"GitHub\" \n",
       "                 style=\"width: 18px; height: 18px; display: inline-block; vertical-align: middle;\">\n",
       "            <span style=\"transform: translateY(-1px); line-height: 1;\">\n",
       "                /meluron-codecafe\n",
       "            </span>\n",
       "        </a>\n",
       "\n",
       "        <!-- Logo + Label stacked vertically -->\n",
       "        <div style=\"\n",
       "            display: flex; \n",
       "            flex-direction: column; \n",
       "            align-items: center; \n",
       "            justify-content: center;\n",
       "            margin-right: 35px;\n",
       "        \">\n",
       "            <a href=\"https://meluron-codecafe.github.io/DevQuest/\">\n",
       "                <img src=\"https://raw.githubusercontent.com/meluron/assets/refs/heads/main/logos/meluron-codecafe/DevQuest/icon_with_text.png\" \n",
       "                     alt=\"My Logo\" \n",
       "                     style=\"\n",
       "                        width: 120px; \n",
       "                        height: 50px;\n",
       "                        border-radius: 5px;\n",
       "                        box-shadow: 0 3px 10px rgba(253, 138, 9, 0.3);\n",
       "                     \">\n",
       "            </a>\n",
       "            <div style=\"\n",
       "                font-size: 13px; \n",
       "                color: #fd8a09; \n",
       "                font-weight: bold;\n",
       "                margin-top: 6px;\n",
       "                text-align: center;\n",
       "            \">\n",
       "            </div>\n",
       "        </div>\n",
       "\n",
       "        <!-- Question Badge -->\n",
       "        <div style=\"\n",
       "            font-size: 14px; \n",
       "            background: linear-gradient(135deg, #667eea, #764ba2);\n",
       "            color: white; \n",
       "            padding: 8px 10px; \n",
       "            border-radius: 5px; \n",
       "            display: inline-flex;\n",
       "            align-items: center;\n",
       "            gap: 6px;\n",
       "            font-weight: 600;\n",
       "            box-shadow: 0 3px 12px rgba(102, 126, 234, 0.3);\n",
       "            margin-top: -10px;\n",
       "        \">\n",
       "            Public and Private Methods/Attributes in Class\n",
       "            \n",
       "        </div>\n",
       "    </div>\n",
       "    "
      ],
      "text/plain": [
       "<IPython.core.display.HTML object>"
      ]
     },
     "metadata": {},
     "output_type": "display_data"
    }
   ],
   "source": [
    "#hide\n",
    "import utils\n",
    "utils.hero(\"Public and Private Methods/Attributes in Class\")"
   ]
  },
  {
   "cell_type": "markdown",
   "id": "d47706e3-ab73-419a-a8be-6307bc26a4de",
   "metadata": {},
   "source": [
    "There is no way to create actual public and private methods/attributes in Python. We use naming convention as **access specifier**. These are not strict like C++ rather these are intended to tell the user if a method/attribute is private or public."
   ]
  },
  {
   "cell_type": "markdown",
   "id": "6d0e85a3-1bbd-4356-abb4-33ebeb1a235e",
   "metadata": {},
   "source": [
    "Any method/attribute that start with \"_\" is intended to be private and not to be used directly."
   ]
  },
  {
   "cell_type": "code",
   "execution_count": 21,
   "id": "405c142a-8451-4272-a5f0-be5701c2c935",
   "metadata": {},
   "outputs": [],
   "source": [
    "class Average:\n",
    "    def _sum_all(self, a: list) -> float:\n",
    "        total_sum = 0.\n",
    "        for i in range(len(a)):\n",
    "            total_sum += a[i]\n",
    "        return total_sum\n",
    "        \n",
    "    def get_average(self, a: list) -> float:\n",
    "        \"\"\"\n",
    "        Find average of a list of numbers.\n",
    "        \"\"\"\n",
    "        # Sum of all the numbers\n",
    "        total_sum = self._sum_all(a=a)\n",
    "\n",
    "        # Divide by the total elements\n",
    "        avg = total_sum / len(a)\n",
    "\n",
    "        return avg"
   ]
  },
  {
   "cell_type": "markdown",
   "id": "9fe8aa23-868c-4bea-b6e0-a62e6221f595",
   "metadata": {},
   "source": [
    "Property decorator in Python"
   ]
  },
  {
   "cell_type": "code",
   "execution_count": 69,
   "id": "a14f5fb7-2485-4652-89ed-4ab765208692",
   "metadata": {},
   "outputs": [],
   "source": [
    "class Student:\n",
    "    def __init__(self, name: str):\n",
    "        self._name = name\n",
    "        self._changed = False\n",
    "\n",
    "    @property\n",
    "    def name(self):\n",
    "        return self._name\n",
    "\n",
    "    @name.setter\n",
    "    def name(self, value: str):\n",
    "        self._changed = True\n",
    "        self._name = value\n",
    "    \n",
    "    def print_name(self) -> None:\n",
    "        if self._changed:\n",
    "            print(\"Name has been modified\")\n",
    "        else:\n",
    "            print(self._name)"
   ]
  }
 ],
 "metadata": {
  "kernelspec": {
   "display_name": "Python 3 (ipykernel)",
   "language": "python",
   "name": "python3"
  },
  "language_info": {
   "codemirror_mode": {
    "name": "ipython",
    "version": 3
   },
   "file_extension": ".py",
   "mimetype": "text/x-python",
   "name": "python",
   "nbconvert_exporter": "python",
   "pygments_lexer": "ipython3",
   "version": "3.12.0"
  }
 },
 "nbformat": 4,
 "nbformat_minor": 5
}
