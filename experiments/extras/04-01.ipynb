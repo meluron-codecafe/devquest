{
 "cells": [
  {
   "cell_type": "code",
   "execution_count": 1,
   "id": "052fd111-a511-43b2-b83d-878ec6f8c940",
   "metadata": {
    "papermill": {
     "duration": 0.020901,
     "end_time": "2025-06-21T22:12:02.261463",
     "exception": false,
     "start_time": "2025-06-21T22:12:02.240562",
     "status": "completed"
    },
    "tags": []
   },
   "outputs": [],
   "source": [
    "#hide"
   ]
  },
  {
   "cell_type": "code",
   "execution_count": 2,
   "id": "ccdf613c-b206-4a72-9928-3af56ca9cc4b",
   "metadata": {
    "jupyter": {
     "source_hidden": true
    },
    "papermill": {
     "duration": 0.014422,
     "end_time": "2025-06-21T22:12:02.280241",
     "exception": false,
     "start_time": "2025-06-21T22:12:02.265819",
     "status": "completed"
    },
    "tags": []
   },
   "outputs": [
    {
     "data": {
      "text/html": [
       "\n",
       "    <div style=\"\n",
       "        position: relative;\n",
       "        display: flex; \n",
       "        align-items: center; \n",
       "        justify-content: flex-start;\n",
       "        min-height: 80px;\n",
       "        width: 800px;\n",
       "        background: linear-gradient(135deg, #f5f7fa 0%, #c3cfe2 100%);\n",
       "        padding: 20px;\n",
       "        border-radius: 12px;\n",
       "        box-shadow: 0 4px 15px rgba(0, 0, 0, 0.1);\n",
       "        border: 1px solid #e1e8ed;\n",
       "        margin: 10px 0;\n",
       "        font-family: 'Segoe UI', Tahoma, Geneva, Verdana, sans-serif;\n",
       "    \">\n",
       "\n",
       "        <!-- GitHub Icon + Name in top-right -->\n",
       "        <a href=\"https://github.com/meluron-codecafe\" target=\"_blank\" style=\"\n",
       "            position: absolute;\n",
       "            top: 16px;\n",
       "            right: 20px;\n",
       "            display: flex;\n",
       "            align-items: center;\n",
       "            text-decoration: none;\n",
       "            color: #333;\n",
       "            font-size: 14px;\n",
       "            font-weight: 500;\n",
       "            gap: 6px;\n",
       "        \">\n",
       "            <img src=\"https://cdn-icons-png.flaticon.com/512/25/25231.png\" \n",
       "                 alt=\"GitHub\" \n",
       "                 style=\"width: 18px; height: 18px; display: inline-block; vertical-align: middle;\">\n",
       "            <span style=\"transform: translateY(-1px); line-height: 1;\">\n",
       "                /meluron-codecafe\n",
       "            </span>\n",
       "        </a>\n",
       "\n",
       "        <!-- Logo + Label stacked vertically -->\n",
       "        <div style=\"\n",
       "            display: flex; \n",
       "            flex-direction: column; \n",
       "            align-items: center; \n",
       "            justify-content: center;\n",
       "            margin-right: 35px;\n",
       "        \">\n",
       "            <a href=\"https://meluron-codecafe.github.io/DevQuest/\">\n",
       "                <img src=\"https://raw.githubusercontent.com/meluron/assets/refs/heads/main/logos/meluron-codecafe/DevQuest/orig.png\" \n",
       "                     alt=\"My Logo\" \n",
       "                     style=\"\n",
       "                        width: 70px; \n",
       "                        height: 70px;\n",
       "                        border-radius: 8px;\n",
       "                        box-shadow: 0 3px 10px rgba(253, 138, 9, 0.3);\n",
       "                     \">\n",
       "            </a>\n",
       "            <div style=\"\n",
       "                font-size: 13px; \n",
       "                color: #fd8a09; \n",
       "                font-weight: bold;\n",
       "                margin-top: 6px;\n",
       "                text-align: center;\n",
       "            \">\n",
       "            </div>\n",
       "        </div>\n",
       "\n",
       "        <!-- Question Badge -->\n",
       "        <div style=\"\n",
       "            font-size: 14px; \n",
       "            background: linear-gradient(135deg, #667eea, #764ba2);\n",
       "            color: white; \n",
       "            padding: 8px 14px; \n",
       "            border-radius: 20px; \n",
       "            display: inline-flex;\n",
       "            align-items: center;\n",
       "            gap: 6px;\n",
       "            font-weight: 600;\n",
       "            box-shadow: 0 3px 12px rgba(102, 126, 234, 0.3);\n",
       "        \">\n",
       "            <span style=\"font-size: 16px;\">❔</span>\n",
       "            An Intro to Data, Data Types and Data Structures\n",
       "            \n",
       "        </div>\n",
       "    </div>\n",
       "    "
      ],
      "text/plain": [
       "<IPython.core.display.HTML object>"
      ]
     },
     "metadata": {},
     "output_type": "display_data"
    }
   ],
   "source": [
    "#hide\n",
    "import utils\n",
    "utils.hero(\"An Intro to Data, Data Types and Data Structures\")"
   ]
  },
  {
   "cell_type": "code",
   "execution_count": 3,
   "id": "0540d9d7-02dd-4d9e-93a8-ba16931bedd4",
   "metadata": {
    "papermill": {
     "duration": 0.0088,
     "end_time": "2025-06-21T22:12:02.292359",
     "exception": false,
     "start_time": "2025-06-21T22:12:02.283559",
     "status": "completed"
    },
    "tags": []
   },
   "outputs": [
    {
     "data": {
      "text/html": [
       "\n",
       "        <div style=\"\n",
       "            margin: 25px 0 15px 0;\n",
       "            padding: 0;\n",
       "        \">\n",
       "            <h2 style=\"\n",
       "                font-size: 24px;\n",
       "                font-weight: 600;\n",
       "                color: #2c3e50;\n",
       "                margin: 0;\n",
       "                padding: 12px 0 8px 0;\n",
       "                display: inline-block;\n",
       "                font-family: 'Segoe UI', Tahoma, Geneva, Verdana, sans-serif;\n",
       "                background: linear-gradient(135deg, #667eea, #764ba2);\n",
       "                -webkit-background-clip: text;\n",
       "                -webkit-text-fill-color: transparent;\n",
       "                background-clip: text;\n",
       "            \">▶ What is Data?</h2>\n",
       "        </div>\n",
       "    "
      ],
      "text/plain": [
       "<IPython.core.display.HTML object>"
      ]
     },
     "metadata": {},
     "output_type": "display_data"
    }
   ],
   "source": [
    "#hide\n",
    "utils.h1(\"What is Data?\")"
   ]
  },
  {
   "cell_type": "markdown",
   "id": "2e8f58c8-66fe-4ff4-bb96-dd51f85ac7f3",
   "metadata": {
    "papermill": {
     "duration": 0.002821,
     "end_time": "2025-06-21T22:12:02.298308",
     "exception": false,
     "start_time": "2025-06-21T22:12:02.295487",
     "status": "completed"
    },
    "tags": []
   },
   "source": [
    "Information is floating all around us. Any piece of information that can be collected, stored, analysed and manipulated is referred to as data. For example, the name, color, weight, size, height associated to anything you see around is **data**."
   ]
  },
  {
   "cell_type": "code",
   "execution_count": 1,
   "id": "f9dcbcb5-5801-498e-9f87-bff7d442b02c",
   "metadata": {
    "papermill": {
     "duration": 0.008859,
     "end_time": "2025-06-21T22:12:02.309937",
     "exception": false,
     "start_time": "2025-06-21T22:12:02.301078",
     "status": "completed"
    },
    "tags": []
   },
   "outputs": [
    {
     "ename": "NameError",
     "evalue": "name 'utils' is not defined",
     "output_type": "error",
     "traceback": [
      "\u001b[31m---------------------------------------------------------------------------\u001b[39m",
      "\u001b[31mNameError\u001b[39m                                 Traceback (most recent call last)",
      "\u001b[36mCell\u001b[39m\u001b[36m \u001b[39m\u001b[32mIn[1]\u001b[39m\u001b[32m, line 2\u001b[39m\n\u001b[32m      1\u001b[39m \u001b[38;5;66;03m#hide\u001b[39;00m\n\u001b[32m----> \u001b[39m\u001b[32m2\u001b[39m \u001b[43mutils\u001b[49m.h1(\u001b[33m\"\u001b[39m\u001b[33mWhat are Data Types?\u001b[39m\u001b[33m\"\u001b[39m)\n",
      "\u001b[31mNameError\u001b[39m: name 'utils' is not defined"
     ]
    }
   ],
   "source": [
    "#hide\n",
    "utils.h1(\"What are Data Types?\")"
   ]
  },
  {
   "cell_type": "markdown",
   "id": "ec3a8b86-273c-4278-9029-906918ad25ce",
   "metadata": {
    "papermill": {
     "duration": 0.002741,
     "end_time": "2025-06-21T22:12:02.315701",
     "exception": false,
     "start_time": "2025-06-21T22:12:02.312960",
     "status": "completed"
    },
    "tags": []
   },
   "source": [
    "The operations like collecting, storing, analysing and manipulating data can be done both manually or with machines. But in most cases, using a machine makes it easier, faster and less error-prone to run these operations. \\\n",
    "However to make use of machines, we need to have a system well designed and optimised for such operations. For such optimisation, it becomes relevant to categorise data into different data types. \\\n",
    "For example, all the words like data can be grouped into one data type (say, string), similary all the integers data can be grouped together into one data type (say, int). \\\n",
    "A **data type** defines \"What kind of value it is\". Also, for different datatypes, we have access to different methods that we can perform on the data."
   ]
  },
  {
   "cell_type": "code",
   "execution_count": 5,
   "id": "6c467f99-07ec-4e26-99cc-a3c0d73d1451",
   "metadata": {
    "papermill": {
     "duration": 0.009686,
     "end_time": "2025-06-21T22:12:02.329138",
     "exception": false,
     "start_time": "2025-06-21T22:12:02.319452",
     "status": "completed"
    },
    "tags": []
   },
   "outputs": [
    {
     "name": "stdout",
     "output_type": "stream",
     "text": [
      "Name: Ankit\n",
      "Name: ankit\n",
      "Age: 24 years\n",
      "Age: 25 years\n",
      "Full name: Ankit Anand\n",
      "----------------------------------------------------------------------------------------------------\n"
     ]
    }
   ],
   "source": [
    "name = \"Ankit\" # \"Ankit\" is a data of data type \"String\"\n",
    "print(f\"Name: {name}\")\n",
    "print(f\"Name: {name.lower()}\") # lower() is a method that can be performed on data of data type \"String\"\n",
    "\n",
    "age = 24 # 24 is a data of data type \"Integer\"\n",
    "print(f\"Age: {age} years\")\n",
    "age = age + 1 # + is an operation that can be performed on data of data type \"int\" and it acts as arithmetic addition\n",
    "print(f\"Age: {age} years\")\n",
    "fullname = name + \" \" + \"Anand\" # + is an operation that can be performed on data of data type \"string\" and it acts as concatenation\n",
    "print(f\"Full name: {fullname}\")\n",
    "print(\"-\"*100)"
   ]
  },
  {
   "cell_type": "code",
   "execution_count": 6,
   "id": "0be8fe69-b50c-4690-9eaf-0ed4f641214e",
   "metadata": {
    "jupyter": {
     "source_hidden": true
    },
    "papermill": {
     "duration": 0.008935,
     "end_time": "2025-06-21T22:12:02.341121",
     "exception": false,
     "start_time": "2025-06-21T22:12:02.332186",
     "status": "completed"
    },
    "tags": []
   },
   "outputs": [
    {
     "data": {
      "text/html": [
       "\n",
       "    <div style=\"\n",
       "        margin: 15px 0; \n",
       "        padding: 16px 20px; \n",
       "        border-radius: 8px; \n",
       "        border-left: 4px solid #2196f3; \n",
       "        display: flex; \n",
       "        align-items: flex-start; \n",
       "        gap: 12px; \n",
       "        box-shadow: 0 2px 8px rgba(0, 0, 0, 0.1); \n",
       "        background-color: #e3f2fd; \n",
       "        color: #0d47a1;\n",
       "        font-family: -apple-system, BlinkMacSystemFont, 'Segoe UI', Roboto, sans-serif;\n",
       "    \">\n",
       "        <div style=\"\n",
       "            font-size: 20px; \n",
       "            margin-top: 2px; \n",
       "            flex-shrink: 0;\n",
       "        \">📝</div>\n",
       "        <div style=\"flex: 1;\">\n",
       "            <div style=\"\n",
       "                font-weight: bold; \n",
       "                margin-bottom: 6px; \n",
       "                font-size: 14px; \n",
       "                text-transform: uppercase; \n",
       "                letter-spacing: 0.5px;\n",
       "            \">Note</div>\n",
       "            <div style=\"\n",
       "                margin: 0; \n",
       "                font-size: 14px; \n",
       "                line-height: 1.5;\n",
       "            \">'name' and 'age' are just names of variables that store the memory location of the data. It has nothing to do with data types.</div>\n",
       "        </div>\n",
       "    </div>\n",
       "    "
      ],
      "text/plain": [
       "<IPython.core.display.HTML object>"
      ]
     },
     "execution_count": 6,
     "metadata": {},
     "output_type": "execute_result"
    }
   ],
   "source": [
    "#hide\n",
    "utils.note(\"'name' and 'age' are just names of variables that store the memory location of the data. It has nothing to do with data types.\")"
   ]
  },
  {
   "cell_type": "code",
   "execution_count": 7,
   "id": "26e7c324-b018-4468-89d8-72fbabf20806",
   "metadata": {
    "papermill": {
     "duration": 0.009518,
     "end_time": "2025-06-21T22:12:02.354367",
     "exception": false,
     "start_time": "2025-06-21T22:12:02.344849",
     "status": "completed"
    },
    "tags": []
   },
   "outputs": [
    {
     "name": "stdout",
     "output_type": "stream",
     "text": [
      "Name variable points to 0x109301050\n",
      "Age variable points to 0x108020f40\n",
      "Full Name variable points to 0x1093069b0\n",
      "----------------------------------------------------------------------------------------------------\n"
     ]
    }
   ],
   "source": [
    "# To see the memory address of a data, python has a function called id\n",
    "print(f\"Name variable points to {hex(id(name))}\") # memory address in hex\n",
    "print(f\"Age variable points to {hex(id(age))}\") # memory address in hex\n",
    "print(f\"Full Name variable points to {hex(id(fullname))}\") # memory address in hex\n",
    "print(\"-\"*100)"
   ]
  },
  {
   "cell_type": "code",
   "execution_count": 8,
   "id": "66d0f32e-bd35-404e-b90a-9f799c99d09d",
   "metadata": {
    "jupyter": {
     "source_hidden": true
    },
    "papermill": {
     "duration": 0.009082,
     "end_time": "2025-06-21T22:12:02.366873",
     "exception": false,
     "start_time": "2025-06-21T22:12:02.357791",
     "status": "completed"
    },
    "tags": []
   },
   "outputs": [
    {
     "data": {
      "text/html": [
       "\n",
       "        <div style=\"\n",
       "            margin: 25px 0 15px 0;\n",
       "            padding: 0;\n",
       "        \">\n",
       "            <h2 style=\"\n",
       "                font-size: 24px;\n",
       "                font-weight: 600;\n",
       "                color: #2c3e50;\n",
       "                margin: 0;\n",
       "                padding: 12px 0 8px 0;\n",
       "                display: inline-block;\n",
       "                font-family: 'Segoe UI', Tahoma, Geneva, Verdana, sans-serif;\n",
       "                background: linear-gradient(135deg, #667eea, #764ba2);\n",
       "                -webkit-background-clip: text;\n",
       "                -webkit-text-fill-color: transparent;\n",
       "                background-clip: text;\n",
       "            \">▶ What are Data Structures?</h2>\n",
       "        </div>\n",
       "    "
      ],
      "text/plain": [
       "<IPython.core.display.HTML object>"
      ]
     },
     "metadata": {},
     "output_type": "display_data"
    }
   ],
   "source": [
    "#hide\n",
    "utils.h1(\"What are Data Structures?\")"
   ]
  },
  {
   "cell_type": "markdown",
   "id": "44e7d176-c192-4413-a292-cb7a992f5574",
   "metadata": {
    "papermill": {
     "duration": 0.003196,
     "end_time": "2025-06-21T22:12:02.373554",
     "exception": false,
     "start_time": "2025-06-21T22:12:02.370358",
     "status": "completed"
    },
    "tags": []
   },
   "source": [
    "In most real world scenerio, we interact with not just one data point but multiple, so we need to design some sort of optimised structure to hold multiple data points together. That is what we mean by **data structure**. \\\n",
    "A **data structure** defines a particular way of organizing, storing and accessing a collection of data efficiently. For example, a list of friends, a dictionary (key-value pair)"
   ]
  },
  {
   "cell_type": "code",
   "execution_count": 9,
   "id": "8055d2d8-b66f-4ede-87f7-53baf20bec47",
   "metadata": {
    "papermill": {
     "duration": 0.0089,
     "end_time": "2025-06-21T22:12:02.385540",
     "exception": false,
     "start_time": "2025-06-21T22:12:02.376640",
     "status": "completed"
    },
    "tags": []
   },
   "outputs": [
    {
     "name": "stdout",
     "output_type": "stream",
     "text": [
      "At index 0: Ankit\n",
      "pop(['Ankit', 'Ayush', 'Shreyansh'])->['Ankit', 'Ayush']\n",
      "----------------------------------------------------------------------------------------------------\n"
     ]
    }
   ],
   "source": [
    "names = [\"Ankit\", \"Ayush\", \"Shreyansh\"] # This is a data structure called list\n",
    "print(f\"At index {0}: {names[0]}\") # This is an operation (retrieving an element) that can be performed on list\n",
    "print(f\"pop({names})\", end=\"->\")\n",
    "names.pop() # This is an operation (removing an element from the end) that can be performed on list\n",
    "print(names)\n",
    "print(\"-\"*100)"
   ]
  },
  {
   "cell_type": "code",
   "execution_count": 10,
   "id": "c9532ee5-df72-4fc7-b861-19aedd238734",
   "metadata": {
    "jupyter": {
     "source_hidden": true
    },
    "papermill": {
     "duration": 0.008869,
     "end_time": "2025-06-21T22:12:02.397778",
     "exception": false,
     "start_time": "2025-06-21T22:12:02.388909",
     "status": "completed"
    },
    "tags": []
   },
   "outputs": [
    {
     "data": {
      "text/html": [
       "\n",
       "    <div style=\"\n",
       "        margin: 15px 0; \n",
       "        padding: 16px 20px; \n",
       "        border-radius: 8px; \n",
       "        border-left: 4px solid #607d8b; \n",
       "        box-shadow: 0 2px 8px rgba(0, 0, 0, 0.1); \n",
       "        background-color: #f8f9fa; \n",
       "        color: #37474f;\n",
       "        font-family: -apple-system, BlinkMacSystemFont, 'Segoe UI', Roboto, sans-serif;\n",
       "    \">\n",
       "        <div style=\"\n",
       "            font-weight: bold; \n",
       "            margin-bottom: 12px; \n",
       "            font-size: 14px; \n",
       "            text-transform: uppercase; \n",
       "            letter-spacing: 0.5px;\n",
       "            display: flex;\n",
       "            align-items: center;\n",
       "            gap: 8px;\n",
       "        \">\n",
       "            <span style=\"font-size: 18px;\">🧭</span>\n",
       "            Navigation\n",
       "        </div>\n",
       "        <div style=\"\n",
       "            display: flex; \n",
       "            justify-content: space-between; \n",
       "            align-items: center;\n",
       "            gap: 16px;\n",
       "        \">\n",
       "            <div><span style=\"color: #999; padding: 8px 12px;\">⬅️ Previous Section</span></div>\n",
       "            <div><a href=\"./04-02.html\" style=\"color: #2e7d32; text-decoration: none; padding: 8px 12px; border-radius: 4px; background-color: #e8f5e8; border: 1px solid #66bb6a; display: inline-block; font-weight: 500;\">Next Section ➡️</a></div>\n",
       "        </div>\n",
       "    </div>\n",
       "    "
      ],
      "text/plain": [
       "<IPython.core.display.HTML object>"
      ]
     },
     "execution_count": 10,
     "metadata": {},
     "output_type": "execute_result"
    }
   ],
   "source": [
    "#hide\n",
    "utils.nav(\"\", \"./04-02.html\")"
   ]
  },
  {
   "cell_type": "code",
   "execution_count": null,
   "id": "87f3c14b-0815-40b0-a429-06a5a04cc4e0",
   "metadata": {
    "papermill": {
     "duration": 0.003333,
     "end_time": "2025-06-21T22:12:02.404738",
     "exception": false,
     "start_time": "2025-06-21T22:12:02.401405",
     "status": "completed"
    },
    "tags": []
   },
   "outputs": [],
   "source": []
  },
  {
   "cell_type": "code",
   "execution_count": null,
   "id": "3239f185-ed01-409a-991b-376c4647c36b",
   "metadata": {
    "papermill": {
     "duration": 0.003334,
     "end_time": "2025-06-21T22:12:02.411697",
     "exception": false,
     "start_time": "2025-06-21T22:12:02.408363",
     "status": "completed"
    },
    "tags": []
   },
   "outputs": [],
   "source": []
  }
 ],
 "metadata": {
  "kernelspec": {
   "display_name": "Python 3 (ipykernel)",
   "language": "python",
   "name": "python3"
  },
  "language_info": {
   "codemirror_mode": {
    "name": "ipython",
    "version": 3
   },
   "file_extension": ".py",
   "mimetype": "text/x-python",
   "name": "python",
   "nbconvert_exporter": "python",
   "pygments_lexer": "ipython3",
   "version": "3.12.0"
  },
  "papermill": {
   "default_parameters": {},
   "duration": 1.138357,
   "end_time": "2025-06-21T22:12:02.635520",
   "environment_variables": {},
   "exception": null,
   "input_path": "notebooks/00.ipynb",
   "output_path": "notebooks/00.ipynb",
   "parameters": {},
   "start_time": "2025-06-21T22:12:01.497163",
   "version": "2.6.0"
  }
 },
 "nbformat": 4,
 "nbformat_minor": 5
}
