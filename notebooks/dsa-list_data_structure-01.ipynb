{
 "cells": [
  {
   "cell_type": "markdown",
   "id": "944e1066-a1b1-4b3f-8001-f83aa344b753",
   "metadata": {},
   "source": [
    "<div style=\"font-family: 'Georgia', serif; border-left: 3px solid #ccc; padding-left: 12px; margin-bottom: 1em;\">\n",
    "<h2 style=\"margin: 0; color: #EF8C00; font-size: 2.4em; padding-left: 0; text-indent: 0;\">\n",
    "    List Data Structure\n",
    "</h2>\n",
    "</div>"
   ]
  },
  {
   "cell_type": "markdown",
   "id": "958bf476-9f8d-40b9-9342-74de48a092d6",
   "metadata": {},
   "source": [
    "References: \\\n",
    "[YT-1](https://www.youtube.com/watch?v=flHi8-C2SCY&list=PLxGzv4uunL67OB-qY-pCrC6dqkmWaRKu0&index=23)"
   ]
  },
  {
   "cell_type": "markdown",
   "id": "141c40d7-6189-4be5-9631-a67b05e69f71",
   "metadata": {},
   "source": [
    "Goal:\n",
    "1. Knowing about List Data Structure."
   ]
  },
  {
   "cell_type": "markdown",
   "id": "d6169a1b-7159-4c6b-9236-0593fa1b386a",
   "metadata": {},
   "source": [
    "List Data Structure in python is highly flexible."
   ]
  },
  {
   "cell_type": "code",
   "execution_count": 34,
   "id": "bf8a1393-9dd7-4004-b23f-14f9f95fcab8",
   "metadata": {},
   "outputs": [],
   "source": [
    "class ArrayList:\n",
    "    def __init__(self, capacity = 10):\n",
    "        self._capacity = capacity\n",
    "        self._arr = [0]*self._capacity\n",
    "        self._N = 0 # Total number of elements we have\n",
    "\n",
    "    def add(self, value):\n",
    "        \"\"\"\n",
    "        Add an element at the end of the list.\n",
    "        \"\"\"\n",
    "        if self._N == self._capacity:\n",
    "            raise KeyError(\"The capacity is full.\")\n",
    "        else:\n",
    "            self._arr[self._N] = value\n",
    "            self._N += 1\n",
    "\n",
    "    def at(self, i):\n",
    "        return self._arr[i]\n",
    "    \n",
    "    def __len__(self):\n",
    "        return self._N\n",
    "\n",
    "    def __str__(self):\n",
    "        s = \"\"\n",
    "        for i in range(self._N):\n",
    "            s += f\"{self._arr[i]}, \"\n",
    "\n",
    "        return s[:-2]\n",
    "        "
   ]
  },
  {
   "cell_type": "code",
   "execution_count": 35,
   "id": "0acfb4aa-fc1c-4162-b247-fa88d61fddce",
   "metadata": {},
   "outputs": [],
   "source": [
    "L = ArrayList()"
   ]
  },
  {
   "cell_type": "code",
   "execution_count": 66,
   "id": "6a23c00b-32a2-449f-8205-e7cc42e03aa1",
   "metadata": {},
   "outputs": [
    {
     "ename": "KeyError",
     "evalue": "'The capacity is full.'",
     "output_type": "error",
     "traceback": [
      "\u001b[0;31m---------------------------------------------------------------------------\u001b[0m",
      "\u001b[0;31mKeyError\u001b[0m                                  Traceback (most recent call last)",
      "Cell \u001b[0;32mIn[66], line 1\u001b[0m\n\u001b[0;32m----> 1\u001b[0m \u001b[43mL\u001b[49m\u001b[38;5;241;43m.\u001b[39;49m\u001b[43madd\u001b[49m\u001b[43m(\u001b[49m\u001b[38;5;241;43m1000\u001b[39;49m\u001b[43m)\u001b[49m\n",
      "Cell \u001b[0;32mIn[34], line 12\u001b[0m, in \u001b[0;36mArrayList.add\u001b[0;34m(self, value)\u001b[0m\n\u001b[1;32m      8\u001b[0m \u001b[38;5;250m\u001b[39m\u001b[38;5;124;03m\"\"\"\u001b[39;00m\n\u001b[1;32m      9\u001b[0m \u001b[38;5;124;03mAdd an element at the end of the list.\u001b[39;00m\n\u001b[1;32m     10\u001b[0m \u001b[38;5;124;03m\"\"\"\u001b[39;00m\n\u001b[1;32m     11\u001b[0m \u001b[38;5;28;01mif\u001b[39;00m \u001b[38;5;28mself\u001b[39m\u001b[38;5;241m.\u001b[39m_N \u001b[38;5;241m==\u001b[39m \u001b[38;5;28mself\u001b[39m\u001b[38;5;241m.\u001b[39m_capacity:\n\u001b[0;32m---> 12\u001b[0m     \u001b[38;5;28;01mraise\u001b[39;00m \u001b[38;5;167;01mKeyError\u001b[39;00m(\u001b[38;5;124m\"\u001b[39m\u001b[38;5;124mThe capacity is full.\u001b[39m\u001b[38;5;124m\"\u001b[39m)\n\u001b[1;32m     13\u001b[0m \u001b[38;5;28;01melse\u001b[39;00m:\n\u001b[1;32m     14\u001b[0m     \u001b[38;5;28mself\u001b[39m\u001b[38;5;241m.\u001b[39m_arr[\u001b[38;5;28mself\u001b[39m\u001b[38;5;241m.\u001b[39m_N] \u001b[38;5;241m=\u001b[39m value\n",
      "\u001b[0;31mKeyError\u001b[0m: 'The capacity is full.'"
     ]
    }
   ],
   "source": [
    "L.add(1000)"
   ]
  },
  {
   "cell_type": "code",
   "execution_count": 64,
   "id": "f623d186-2220-45b0-b7f5-8ad6f5201c21",
   "metadata": {},
   "outputs": [
    {
     "data": {
      "text/plain": [
       "10"
      ]
     },
     "execution_count": 64,
     "metadata": {},
     "output_type": "execute_result"
    }
   ],
   "source": [
    "len(L)"
   ]
  },
  {
   "cell_type": "code",
   "execution_count": 65,
   "id": "2531bdf6-fe60-4ffe-98ae-1b70bced10b1",
   "metadata": {},
   "outputs": [
    {
     "name": "stdout",
     "output_type": "stream",
     "text": [
      "20, 20, 20, 1000, 1000, 1000, 1000, 1000, 1000, 1000\n"
     ]
    }
   ],
   "source": [
    "print(L)"
   ]
  },
  {
   "cell_type": "code",
   "execution_count": null,
   "id": "04cebf07-3fcd-4e47-8bee-e34da3660bd0",
   "metadata": {},
   "outputs": [],
   "source": []
  },
  {
   "cell_type": "code",
   "execution_count": null,
   "id": "b782b651-7cd6-4bf5-9d74-a7c5565b7793",
   "metadata": {},
   "outputs": [],
   "source": []
  }
 ],
 "metadata": {
  "kernelspec": {
   "display_name": "DevQuest",
   "language": "python",
   "name": "devquest-3.10"
  },
  "language_info": {
   "codemirror_mode": {
    "name": "ipython",
    "version": 3
   },
   "file_extension": ".py",
   "mimetype": "text/x-python",
   "name": "python",
   "nbconvert_exporter": "python",
   "pygments_lexer": "ipython3",
   "version": "3.10.0"
  }
 },
 "nbformat": 4,
 "nbformat_minor": 5
}
