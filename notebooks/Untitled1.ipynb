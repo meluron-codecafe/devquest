{
 "cells": [
  {
   "cell_type": "code",
   "execution_count": 2,
   "id": "fbd50b1b-637e-4653-ae71-040857b00e5b",
   "metadata": {},
   "outputs": [
    {
     "name": "stdout",
     "output_type": "stream",
     "text": [
      "(0, 10)                                                  \n"
     ]
    }
   ],
   "source": [
    "import modusa as ms\n",
    "import numpy as np\n",
    "\n",
    "y, sr, title = ms.load(\"https://m.youtube.com/shorts/RWDQuFiZ9LA\", clip=10)"
   ]
  },
  {
   "cell_type": "code",
   "execution_count": 1,
   "id": "7b7b6580-d8ec-4ff8-ad28-1f0026d30b09",
   "metadata": {},
   "outputs": [
    {
     "name": "stdout",
     "output_type": "stream",
     "text": [
      "(0, 10)\n"
     ]
    }
   ],
   "source": [
    "import modusa as ms\n",
    "import numpy as np\n",
    "\n",
    "y, sr, title = ms.load(\"../../../data/fsm-snd/Crocodile 1.mp3\", clip=10)\n"
   ]
  },
  {
   "cell_type": "code",
   "execution_count": null,
   "id": "76b015f6-f4e9-4801-b1e3-33088376a5d1",
   "metadata": {},
   "outputs": [],
   "source": []
  }
 ],
 "metadata": {
  "kernelspec": {
   "display_name": "modusa",
   "language": "python",
   "name": "modusa-3.10"
  },
  "language_info": {
   "codemirror_mode": {
    "name": "ipython",
    "version": 3
   },
   "file_extension": ".py",
   "mimetype": "text/x-python",
   "name": "python",
   "nbconvert_exporter": "python",
   "pygments_lexer": "ipython3",
   "version": "3.10.18"
  }
 },
 "nbformat": 4,
 "nbformat_minor": 5
}
