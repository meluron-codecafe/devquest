{
 "cells": [
  {
   "cell_type": "markdown",
   "id": "eabe549c-13b1-4a1d-85d2-8effc405cafd",
   "metadata": {},
   "source": [
    "<div style=\"font-family: 'Georgia', serif; border-left: 3px solid #ccc; padding-left: 12px; margin-bottom: 1em;\">\n",
    "  <h2 style=\"margin: 0; color: #EF8C00; font-size: 2.4em; padding-left: 0; text-indent: 0;\">\n",
    "      NumPy\n",
    "  </h2>\n",
    "    <p>\n",
    "        ndarray; type; ndim; shape; size;\n",
    "    </p>\n",
    "</div>"
   ]
  },
  {
   "cell_type": "markdown",
   "id": "5be650ea-46c6-45aa-b4e8-8fb70d4fa8b5",
   "metadata": {},
   "source": [
    "NumPy is a python **library** which is optimised to **store data** and **perform numerical operations**. It is implemented in **C** language."
   ]
  },
  {
   "cell_type": "markdown",
   "id": "8e7ef869-d773-40e8-8569-8ca9526cc292",
   "metadata": {},
   "source": [
    "## Time taken to create an array in numpy and a list in python"
   ]
  },
  {
   "cell_type": "code",
   "execution_count": 1,
   "id": "d9522212-4056-43b2-b5b4-20f43974f97a",
   "metadata": {},
   "outputs": [],
   "source": [
    "import numpy as np\n",
    "import time"
   ]
  },
  {
   "cell_type": "code",
   "execution_count": 20,
   "id": "af9d8d5c-e0ec-4d97-9c57-b88d7641ceee",
   "metadata": {},
   "outputs": [
    {
     "name": "stdout",
     "output_type": "stream",
     "text": [
      "Total time taken to create the list: 1.25573 sec\n",
      "Total time taken to create the list: 0.04893 sec\n"
     ]
    }
   ],
   "source": [
    "# Python loop\n",
    "tic = time.time()\n",
    "lst = []\n",
    "for i in range(10_000_000):\n",
    "    lst.append(i)\n",
    "toc = time.time()\n",
    "print(f\"Total time taken to create the list: {toc - tic:.5f} sec\")\n",
    "\n",
    "# NumPy array\n",
    "tic = time.time()\n",
    "arr = np.arange(10_000_000) # No need for python loop\n",
    "toc = time.time()\n",
    "print(f\"Total time taken to create the list: {toc - tic:.5f} sec\")"
   ]
  },
  {
   "cell_type": "markdown",
   "id": "e91decdc-ad5f-4615-9c8a-8a9c8814a1c0",
   "metadata": {},
   "source": [
    "## Time taken to perform an operation on an array in numpy and a list in python"
   ]
  },
  {
   "cell_type": "code",
   "execution_count": 28,
   "id": "f4e7c06f-b9f3-4b07-8ce2-683bf0eec09e",
   "metadata": {},
   "outputs": [
    {
     "name": "stdout",
     "output_type": "stream",
     "text": [
      "Total time taken to perform operation on list: 4.31383 sec\n",
      "Total time taken to perform operation on numpy array: 0.12739 sec\n"
     ]
    }
   ],
   "source": [
    "# Python loop\n",
    "tic = time.time()\n",
    "for i in range(len(lst)):\n",
    "    lst[i] = lst[i] ** 2\n",
    "toc = time.time()\n",
    "print(f\"Total time taken to perform operation on list: {toc - tic:.5f} sec\")\n",
    "\n",
    "# NumPy array\n",
    "tic = time.time()\n",
    "arr = arr ** 2 # No need for python loop\n",
    "toc = time.time()\n",
    "print(f\"Total time taken to perform operation on numpy array: {toc - tic:.5f} sec\")"
   ]
  },
  {
   "cell_type": "markdown",
   "id": "ecb8ed8d-3f38-4035-bb0d-31e0f2db2725",
   "metadata": {},
   "source": [
    "## Array\n",
    "A collection of **numpy generic** objects."
   ]
  },
  {
   "cell_type": "code",
   "execution_count": 70,
   "id": "a0c442c8-87b1-4c00-84da-9fe3c63769fe",
   "metadata": {},
   "outputs": [],
   "source": [
    "arr = np.array([1, 1, 3])"
   ]
  },
  {
   "cell_type": "markdown",
   "id": "45dd2d24-ec93-4830-9661-0c3a84364e4f",
   "metadata": {},
   "source": [
    "## type\n",
    "The type of any numpy array will be `np.ndarray`"
   ]
  },
  {
   "cell_type": "code",
   "execution_count": 86,
   "id": "9b6dcebf-ba7d-4897-9899-34b437a9eaf3",
   "metadata": {},
   "outputs": [
    {
     "data": {
      "text/plain": [
       "(numpy.ndarray, object)"
      ]
     },
     "execution_count": 86,
     "metadata": {},
     "output_type": "execute_result"
    }
   ],
   "source": [
    "arr.__class__.__mro__"
   ]
  },
  {
   "cell_type": "markdown",
   "id": "3ea6e3e8-f24a-473a-a6c0-d872ac7b36b5",
   "metadata": {},
   "source": [
    "## ndim\n",
    "Every `np.ndarray` object has `ndim` attribute that returns `int`."
   ]
  },
  {
   "cell_type": "code",
   "execution_count": 4,
   "id": "ac9d9553-8016-4fef-8403-ecc0d04301f2",
   "metadata": {},
   "outputs": [
    {
     "name": "stdout",
     "output_type": "stream",
     "text": [
      "arr=1, \tndim=0\n",
      "\n",
      "arr=[], ndim=1\n",
      "\n",
      "arr=[1 2 3], ndim=1\n",
      "\n",
      "arr=[], ndim=2\n",
      "\n",
      "arr=[[1 2 3]\n",
      " [5 6 7]], ndim=2\n",
      "\n",
      "arr=[[1 2 3]], ndim=2\n",
      "\n",
      "arr=[[[1 2 3]]], ndim=3\n",
      "\n"
     ]
    }
   ],
   "source": [
    "arr = np.array(1) # 0 => Scalar => A number (no datastructure)\n",
    "print(f\"arr={arr}, \\tndim={arr.ndim}\\n\")\n",
    "\n",
    "arr = np.array([]) # 1 => Collection of scalar (0D array)\n",
    "print(f\"arr={arr}, ndim={arr.ndim}\\n\")\n",
    "\n",
    "arr = np.array([1, 2, 3]) # 1 => Collection of scalar (0D array) => Also known as vector\n",
    "print(f\"arr={arr}, ndim={arr.ndim}\\n\")\n",
    "\n",
    "arr = np.array([[], []]) # 2 => Collection of vector (1D array) => Also known as matrix\n",
    "print(f\"arr={arr}, ndim={arr.ndim}\\n\")\n",
    "\n",
    "arr = np.array([[1, 2, 3], [5, 6, 7]]) # 2 => Collection of vector (1D array) => Also known as matrix\n",
    "print(f\"arr={arr}, ndim={arr.ndim}\\n\")\n",
    "\n",
    "arr = np.array([[1, 2, 3]]) # 2 => Collection of vector (1D array) => Also known as matrix\n",
    "print(f\"arr={arr}, ndim={arr.ndim}\\n\")\n",
    "\n",
    "arr = np.array([[[1, 2, 3]]]) # 3 => Collection of matrix (2D array) => Also known as 3D\n",
    "print(f\"arr={arr}, ndim={arr.ndim}\\n\")"
   ]
  },
  {
   "cell_type": "markdown",
   "id": "50f0485e-29e5-434f-a262-fe869ed64e49",
   "metadata": {},
   "source": [
    "## shape\n",
    "Every `np.ndarray` object has `shape` attribute that returns `tuple` of length `ndim`."
   ]
  },
  {
   "cell_type": "code",
   "execution_count": 5,
   "id": "516dca60-ca42-4a02-b89d-22540bbe421a",
   "metadata": {},
   "outputs": [
    {
     "name": "stdout",
     "output_type": "stream",
     "text": [
      "arr=1, \tndim=0, shape=()\n",
      "\n",
      "arr=[], ndim=1, shape=(0,)\n",
      "\n",
      "arr=[1 2 3], ndim=1, shape=(3,)\n",
      "\n",
      "arr=[], ndim=2, shape=(2, 0)\n",
      "\n",
      "arr=[[1 2 3]\n",
      " [5 6 7]], ndim=2, shape=(2, 3)\n",
      "\n",
      "arr=[[1 2 3]], ndim=2, shape=(1, 3)\n",
      "\n",
      "arr=[[1]\n",
      " [2]\n",
      " [3]], ndim=2, shape=(3, 1)\n",
      "\n",
      "arr=[[[1 2 3]]], ndim=3, shape=(1, 1, 3)\n",
      "\n"
     ]
    }
   ],
   "source": [
    "arr = np.array(1) # 0 => Scalar => A number (no datastructure)\n",
    "print(f\"arr={arr}, \\tndim={arr.ndim}, shape={arr.shape}\\n\")\n",
    "\n",
    "arr = np.array([]) # 1 => Collection of scalar (0D array)\n",
    "print(f\"arr={arr}, ndim={arr.ndim}, shape={arr.shape}\\n\")\n",
    "\n",
    "arr = np.array([1, 2, 3]) # 1 => Collection of scalar (0D array) => Also known as vector\n",
    "print(f\"arr={arr}, ndim={arr.ndim}, shape={arr.shape}\\n\")\n",
    "\n",
    "arr = np.array([[], []]) # 2 => Collection of vector (1D array) => Also known as matrix\n",
    "print(f\"arr={arr}, ndim={arr.ndim}, shape={arr.shape}\\n\")\n",
    "\n",
    "arr = np.array([[1, 2, 3], [5, 6, 7]]) # 2 => Collection of vector (1D array) => Also known as matrix\n",
    "print(f\"arr={arr}, ndim={arr.ndim}, shape={arr.shape}\\n\")\n",
    "\n",
    "arr = np.array([[1, 2, 3]]) # 2 => Collection of vector (1D array) => Also known as matrix (row vector)\n",
    "print(f\"arr={arr}, ndim={arr.ndim}, shape={arr.shape}\\n\")\n",
    "\n",
    "arr = np.array([[1], [2], [3]]) # 2 => Collection of vector (1D array) => Also known as matrix (column vector)\n",
    "print(f\"arr={arr}, ndim={arr.ndim}, shape={arr.shape}\\n\")\n",
    "\n",
    "arr = np.array([[[1, 2, 3]]]) # 3 => Collection of matrix (2D array) => Also known as 3D\n",
    "print(f\"arr={arr}, ndim={arr.ndim}, shape={arr.shape}\\n\")"
   ]
  },
  {
   "cell_type": "markdown",
   "id": "dabbe997-4584-4178-ade8-749502a11f38",
   "metadata": {},
   "source": [
    "## size\n",
    "Every `np.ndarray` object has `size` attribute that returns `int`. It is basically the total number of scalar objects."
   ]
  },
  {
   "cell_type": "code",
   "execution_count": 6,
   "id": "38a4caaf-7faf-4dad-ad81-9e6d598aa477",
   "metadata": {},
   "outputs": [
    {
     "name": "stdout",
     "output_type": "stream",
     "text": [
      "arr=1, \tndim=0, shape=() size=1\n",
      "\n",
      "arr=[], ndim=1, shape=(0,) size=0\n",
      "\n",
      "arr=[1 2 3], ndim=1, shape=(3,) size=3\n",
      "\n",
      "arr=[], ndim=2, shape=(2, 0) size=0\n",
      "\n",
      "arr=[[1 2 3]\n",
      " [5 6 7]], ndim=2, shape=(2, 3) size=6\n",
      "\n",
      "arr=[[1 2 3]], ndim=2, shape=(1, 3) size=3\n",
      "\n",
      "arr=[[1]\n",
      " [2]\n",
      " [3]], ndim=2, shape=(3, 1) size=3\n",
      "\n",
      "arr=[[[1 2 3]]], ndim=3, shape=(1, 1, 3) size=3\n",
      "\n"
     ]
    }
   ],
   "source": [
    "arr = np.array(1) # 0 => Scalar => A number (no datastructure)\n",
    "print(f\"arr={arr}, \\tndim={arr.ndim}, shape={arr.shape} size={arr.size}\\n\")\n",
    "\n",
    "arr = np.array([]) # 1 => Collection of scalar (0D array)\n",
    "print(f\"arr={arr}, ndim={arr.ndim}, shape={arr.shape} size={arr.size}\\n\")\n",
    "\n",
    "arr = np.array([1, 2, 3]) # 1 => Collection of scalar (0D array) => Also known as vector\n",
    "print(f\"arr={arr}, ndim={arr.ndim}, shape={arr.shape} size={arr.size}\\n\")\n",
    "\n",
    "arr = np.array([[], []]) # 2 => Collection of vector (1D array) => Also known as matrix\n",
    "print(f\"arr={arr}, ndim={arr.ndim}, shape={arr.shape} size={arr.size}\\n\")\n",
    "\n",
    "arr = np.array([[1, 2, 3], [5, 6, 7]]) # 2 => Collection of vector (1D array) => Also known as matrix\n",
    "print(f\"arr={arr}, ndim={arr.ndim}, shape={arr.shape} size={arr.size}\\n\")\n",
    "\n",
    "arr = np.array([[1, 2, 3]]) # 2 => Collection of vector (1D array) => Also known as matrix (row vector)\n",
    "print(f\"arr={arr}, ndim={arr.ndim}, shape={arr.shape} size={arr.size}\\n\")\n",
    "\n",
    "arr = np.array([[1], [2], [3]]) # 2 => Collection of vector (1D array) => Also known as matrix (column vector)\n",
    "print(f\"arr={arr}, ndim={arr.ndim}, shape={arr.shape} size={arr.size}\\n\")\n",
    "\n",
    "arr = np.array([[[1, 2, 3]]]) # 3 => Collection of matrix (2D array) => Also known as 3D\n",
    "print(f\"arr={arr}, ndim={arr.ndim}, shape={arr.shape} size={arr.size}\\n\")"
   ]
  },
  {
   "cell_type": "markdown",
   "id": "2225c456-b483-41dd-9d9e-752bdb4d8b87",
   "metadata": {},
   "source": [
    "## dtype\n",
    "Every `np.ndarray` object has `dtype` attribute that returns the type of scalar objects stored in the array. By default, it is `float64` but it is dynamic and updates as per the scalar objects in the array. One can manually set the dtype while creating `np.ndarray` object."
   ]
  },
  {
   "cell_type": "code",
   "execution_count": 87,
   "id": "e38b5fad-b4c7-488c-9865-70152178b7c3",
   "metadata": {},
   "outputs": [
    {
     "name": "stdout",
     "output_type": "stream",
     "text": [
      "float64\n",
      "\n",
      "int64\n",
      "\n",
      "float64\n",
      "\n",
      "float64\n",
      "\n",
      "bool\n",
      "\n",
      "<U21\n",
      "\n",
      "int64\n",
      "\n"
     ]
    }
   ],
   "source": [
    "arr = np.array([])\n",
    "print(f\"{arr.dtype}\\n\")\n",
    "\n",
    "arr = np.array([1, 2, 3])\n",
    "print(f\"{arr.dtype}\\n\")\n",
    "\n",
    "arr = np.array([1, 2., 3])\n",
    "print(f\"{arr.dtype}\\n\")\n",
    "\n",
    "arr = np.array([1, 2.5, 3])\n",
    "print(f\"{arr.dtype}\\n\")\n",
    "\n",
    "arr = np.array([True, False])\n",
    "print(f\"{arr.dtype}\\n\")\n",
    "\n",
    "arr = np.array([\"a\", \"b\", 1]) # 1 will be upgraded to str type\n",
    "print(f\"{arr.dtype}\\n\")\n",
    "\n",
    "arr = np.array([True, False, 10]) # The elements will be upgraded to int with True -> \n",
    "print(f\"{arr.dtype}\\n\")"
   ]
  },
  {
   "cell_type": "markdown",
   "id": "405d0265-1401-4aa5-b210-708985b403f0",
   "metadata": {},
   "source": [
    "## Array operations\n",
    "Any array operations will result in one of the following:\n",
    "1. Same sized array\n",
    "2. Different sized array\n",
    "3. Scalar"
   ]
  },
  {
   "cell_type": "code",
   "execution_count": 46,
   "id": "24fc133a-a92c-49be-9a78-2d33336b4071",
   "metadata": {},
   "outputs": [
    {
     "name": "stdout",
     "output_type": "stream",
     "text": [
      "[3 4 5 6]\n",
      "[-1  0  1  2]\n",
      "[2 4 6 8]\n",
      "[0.5 1.  1.5 2. ]\n",
      "[0 1 1 2]\n",
      "[ 1  4  9 16]\n",
      "[ 0.84147098  0.90929743  0.14112001 -0.7568025 ]\n",
      "[ 0.54030231 -0.41614684 -0.9899925  -0.65364362]\n",
      "[ 1.55740772 -2.18503986 -0.14254654  1.15782128]\n",
      "[0.         0.69314718 1.09861229 1.38629436]\n",
      "[0.        1.        1.5849625 2.       ]\n",
      "[0.         0.30103    0.47712125 0.60205999]\n",
      "[ 2.71828183  7.3890561  20.08553692 54.59815003]\n",
      "[ 1  3  6 10]\n",
      "[ 1  2  6 24]\n"
     ]
    }
   ],
   "source": [
    "arr = np.array([1, 2, 3, 4])\n",
    "\n",
    "# Basic arithmetic operations => Transformation that returns same dimension array but with different values\n",
    "print(arr + 2) # Add\n",
    "print(arr - 2) # Subtract\n",
    "print(arr * 2) # Multiply\n",
    "print(arr / 2) # True division\n",
    "print(arr // 2) # Floor division\n",
    "print(arr ** 2) # Exponentiation\n",
    "\n",
    "# Other operations\n",
    "print(np.sin(arr))\n",
    "print(np.cos(arr))\n",
    "print(np.tan(arr))\n",
    "print(np.log(arr))\n",
    "print(np.log2(arr))\n",
    "print(np.log10(arr))\n",
    "print(np.exp(arr))\n",
    "print(np.cumsum(arr))\n",
    "print(np.cumprod(arr))"
   ]
  },
  {
   "cell_type": "code",
   "execution_count": 15,
   "id": "8e7d771b-fedd-4bd2-8913-4b3410df4f3f",
   "metadata": {},
   "outputs": [
    {
     "name": "stdout",
     "output_type": "stream",
     "text": [
      "[1 2 3 4 1 2 3 4 1 2 1 1] (12,)\n"
     ]
    }
   ],
   "source": [
    "# Concatenation => Transformation that results in different sized array\n",
    "concat_arr = np.concatenate([arr, arr, [1, 2, 1, 1]])\n",
    "print(concat_arr, concat_arr.shape)"
   ]
  },
  {
   "cell_type": "code",
   "execution_count": 43,
   "id": "ec0c58c5-6997-45fe-a45b-460f38379953",
   "metadata": {},
   "outputs": [
    {
     "name": "stdout",
     "output_type": "stream",
     "text": [
      "15\n",
      "120\n",
      "3.0\n",
      "3.0\n",
      "1\n",
      "5\n",
      "0\n",
      "4\n"
     ]
    }
   ],
   "source": [
    "# Aggregation ops => Transformation that reduces dimension\n",
    "arr = np.array([1, 2, 3, 4, 5])\n",
    "\n",
    "print(np.sum(arr))\n",
    "print(np.prod(arr))\n",
    "print(np.mean(arr)) # sum / n.o. element\n",
    "print(np.median(arr)) # centre value after sorting\n",
    "print(np.min(arr))\n",
    "print(np.max(arr))\n",
    "\n",
    "print(np.argmin(arr)) # Index where mininum occured\n",
    "print(np.argmax(arr)) # Index where mininum occured"
   ]
  },
  {
   "cell_type": "markdown",
   "id": "b8f21834-f2c3-49ea-9f0c-85acabfeec38",
   "metadata": {},
   "source": [
    "## Operations along an axis\n",
    "\n",
    "Any aggregation operation in numpy takes `axis` as a parameter to perform aggregation along that axis."
   ]
  },
  {
   "cell_type": "markdown",
   "id": "5af4877d-2213-462e-8f8c-d6f3a0d325cd",
   "metadata": {},
   "source": [
    "### 2D"
   ]
  },
  {
   "cell_type": "code",
   "execution_count": 117,
   "id": "f1679179-4323-4a4a-96ea-457319488381",
   "metadata": {},
   "outputs": [
    {
     "name": "stdout",
     "output_type": "stream",
     "text": [
      "(3, 3)\n",
      "[3 5 5]\n",
      "[6 3 4]\n"
     ]
    }
   ],
   "source": [
    "# 2D\n",
    "arr = np.array([[1, 2, 3], [1, 1, 1], [1, 2, 1]])\n",
    "\n",
    "# Shape: (3, 3) \n",
    "# Sum: Axis 0: [1, 2, 3] + [1, 1, 1] + [1, 2, 1] = [3, 5, 5]; \n",
    "# Sum: Axis 1: [6, 3, 4]\n",
    "print(arr.shape)\n",
    "print(np.sum(arr, axis=0))\n",
    "print(np.sum(arr, axis=1))"
   ]
  },
  {
   "cell_type": "markdown",
   "id": "8cca1d81-7f00-4221-95c7-bd3208aec000",
   "metadata": {},
   "source": [
    "### 3D\n",
    "<div align=\"center\">\n",
    "  <img src=\"../data/images/martix_aggregation.png\" width=\"700\">\n",
    "</div>"
   ]
  },
  {
   "cell_type": "code",
   "execution_count": 23,
   "id": "312e59d6-3b67-4614-a2d7-bdb4d62eb529",
   "metadata": {},
   "outputs": [
    {
     "name": "stdout",
     "output_type": "stream",
     "text": [
      "(2, 3, 3)\n",
      "31\n",
      "[[2 3 6]\n",
      " [6 2 3]\n",
      " [2 4 3]]\n",
      "[[3 5 5]\n",
      " [7 4 7]]\n",
      "[[6 3 4]\n",
      " [5 8 5]]\n"
     ]
    }
   ],
   "source": [
    "# 3D\n",
    "arr = np.array([[[1, 2, 3], [1, 1, 1], [1, 2, 1]], [[1, 1, 3], [5, 1, 2], [1, 2, 2]]])\n",
    "\n",
    "# Shape: (2, 3, 3) # arr[0, 1, :]\n",
    "\n",
    "# Sum: Axis 0 (3, 3): [[1, 2, 3], [1, 1, 1], [1, 2, 1]] + [[1, 1, 3], [5, 1, 2], [1, 2, 2]] \n",
    "# = [[2, 3, 6], [6, 2, 3], [2, 4, 3]]  -> (3, 3) \n",
    "# Sum: Axis 1 (2, 3): [[1, 2, 3], [1, 1, 3]] + [[1, 1, 1], [5, 1, 2]] + [[1, 2, 1], [1, 2, 2]]\n",
    "# = [[3, 5, 5], [7, 4, 7]]\n",
    "# Sum: Axis 2 (2, 3): [[1, 1, 1], [1, 5, 1]] + [[2, 1, 2], [1, 1, 2]] + [[3, 1, 1], [3, 2, 2]]\n",
    "# = [[6, 3, 4], [5, 8, 5]]\n",
    "print(arr.shape)\n",
    "print(np.sum(arr, axis=None)) # This is by default, all the axes will be collapsed\n",
    "print(np.sum(arr, axis=0))\n",
    "print(np.sum(arr, axis=1))\n",
    "print(np.sum(arr, axis=2))"
   ]
  },
  {
   "cell_type": "markdown",
   "id": "392ccfde-a782-472b-9366-b161a4a225a6",
   "metadata": {},
   "source": [
    "## APIs to generate numpy arrays\n",
    "\n",
    "`numpy` provides several APIs to generate some special arrays. Some of these are:\n",
    "1. arange: Generates array of values ranging from start to end with a given step size (end not included)\n",
    "2. linspace, logspace: Generates array of values between start and end (included) with linear/log spacing for a given number of points.\n",
    "4. zeros, zeros_like: Generates array of size N, with all elements zeros.\n",
    "5. ones, ones_like: Generates array of size N, with all elements ones.\n",
    "6. random: Generate array of random numbers."
   ]
  },
  {
   "cell_type": "code",
   "execution_count": 27,
   "id": "c9552c02-8207-4e26-a0a6-be851ca8aa05",
   "metadata": {},
   "outputs": [
    {
     "name": "stdout",
     "output_type": "stream",
     "text": [
      "[ 0  1  2  3  4  5  6  7  8  9 10 11 12 13 14 15 16 17 18 19 20 21 22 23\n",
      " 24 25 26 27 28 29 30 31 32 33 34 35 36 37 38 39 40 41 42 43 44 45 46 47\n",
      " 48 49 50 51 52 53 54 55 56 57 58 59 60 61 62 63 64 65 66 67 68 69 70 71\n",
      " 72 73 74 75 76 77 78 79 80 81 82 83 84 85 86 87 88 89 90 91 92 93 94 95\n",
      " 96 97 98 99]\n"
     ]
    }
   ],
   "source": [
    "y = np.arange(0, 100, 1)\n",
    "print(y)"
   ]
  },
  {
   "cell_type": "code",
   "execution_count": 35,
   "id": "bc6d0030-5573-40ae-b660-f5cfa557f88a",
   "metadata": {},
   "outputs": [
    {
     "name": "stdout",
     "output_type": "stream",
     "text": [
      "[  0.   1.   2.   3.   4.   5.   6.   7.   8.   9.  10.  11.  12.  13.\n",
      "  14.  15.  16.  17.  18.  19.  20.  21.  22.  23.  24.  25.  26.  27.\n",
      "  28.  29.  30.  31.  32.  33.  34.  35.  36.  37.  38.  39.  40.  41.\n",
      "  42.  43.  44.  45.  46.  47.  48.  49.  50.  51.  52.  53.  54.  55.\n",
      "  56.  57.  58.  59.  60.  61.  62.  63.  64.  65.  66.  67.  68.  69.\n",
      "  70.  71.  72.  73.  74.  75.  76.  77.  78.  79.  80.  81.  82.  83.\n",
      "  84.  85.  86.  87.  88.  89.  90.  91.  92.  93.  94.  95.  96.  97.\n",
      "  98.  99. 100.]\n",
      "[1.e+00 1.e+01 1.e+02 1.e+03 1.e+04 1.e+05 1.e+06 1.e+07 1.e+08 1.e+09\n",
      " 1.e+10]\n"
     ]
    }
   ],
   "source": [
    "y = np.linspace(0, 100, 101)\n",
    "print(y)\n",
    "\n",
    "y = np.logspace(0, 10, 11)\n",
    "print(y)"
   ]
  },
  {
   "cell_type": "code",
   "execution_count": 43,
   "id": "5f2bdaa8-efef-48e8-a1f9-62b0d154d9e4",
   "metadata": {},
   "outputs": [
    {
     "name": "stdout",
     "output_type": "stream",
     "text": [
      "[0. 0. 0. 0. 0. 0. 0. 0. 0. 0.]\n",
      "[[0. 0.]\n",
      " [0. 0.]\n",
      " [0. 0.]\n",
      " [0. 0.]\n",
      " [0. 0.]\n",
      " [0. 0.]\n",
      " [0. 0.]\n",
      " [0. 0.]\n",
      " [0. 0.]\n",
      " [0. 0.]]\n",
      "[[0. 0.]\n",
      " [0. 0.]\n",
      " [0. 0.]\n",
      " [0. 0.]\n",
      " [0. 0.]\n",
      " [0. 0.]\n",
      " [0. 0.]\n",
      " [0. 0.]\n",
      " [0. 0.]\n",
      " [0. 0.]]\n"
     ]
    }
   ],
   "source": [
    "y = np.zeros(10)\n",
    "print(y)\n",
    "\n",
    "y = np.zeros((10, 2))\n",
    "print(y)\n",
    "\n",
    "y1 = np.zeros_like(y)\n",
    "print(y1)"
   ]
  },
  {
   "cell_type": "code",
   "execution_count": 42,
   "id": "90a52c47-5c3f-406d-8435-39df7f4afce2",
   "metadata": {},
   "outputs": [
    {
     "name": "stdout",
     "output_type": "stream",
     "text": [
      "[1. 1. 1. 1. 1. 1. 1. 1. 1. 1.]\n",
      "[[1. 1.]\n",
      " [1. 1.]\n",
      " [1. 1.]\n",
      " [1. 1.]\n",
      " [1. 1.]\n",
      " [1. 1.]\n",
      " [1. 1.]\n",
      " [1. 1.]\n",
      " [1. 1.]\n",
      " [1. 1.]]\n",
      "[[1. 1.]\n",
      " [1. 1.]\n",
      " [1. 1.]\n",
      " [1. 1.]\n",
      " [1. 1.]\n",
      " [1. 1.]\n",
      " [1. 1.]\n",
      " [1. 1.]\n",
      " [1. 1.]\n",
      " [1. 1.]]\n"
     ]
    }
   ],
   "source": [
    "y = np.ones(10)\n",
    "print(y)\n",
    "\n",
    "y = np.ones((10, 2))\n",
    "print(y)\n",
    "\n",
    "y1 = np.ones_like(y)\n",
    "print(y1)"
   ]
  },
  {
   "cell_type": "code",
   "execution_count": 47,
   "id": "11824a47-4046-4ce4-ad6f-24adaf965f1a",
   "metadata": {},
   "outputs": [
    {
     "data": {
      "text/plain": [
       "array([[0.84281802, 0.16563977, 0.31606272],\n",
       "       [0.74371553, 0.0759661 , 0.82426233],\n",
       "       [0.3986615 , 0.90084362, 0.89352666],\n",
       "       [0.44179205, 0.26577335, 0.3773855 ],\n",
       "       [0.12142507, 0.25007688, 0.32239269],\n",
       "       [0.1171167 , 0.73637184, 0.25766493],\n",
       "       [0.84185338, 0.80460354, 0.23434395],\n",
       "       [0.03124573, 0.80635074, 0.42089767],\n",
       "       [0.3876257 , 0.02402851, 0.79147764],\n",
       "       [0.9749466 , 0.63237049, 0.11903628]])"
      ]
     },
     "execution_count": 47,
     "metadata": {},
     "output_type": "execute_result"
    }
   ],
   "source": [
    "y = np.random.random((10, 3))\n",
    "y"
   ]
  },
  {
   "cell_type": "code",
   "execution_count": null,
   "id": "860d9d0f-2f20-408e-a827-2728aa5df30d",
   "metadata": {},
   "outputs": [],
   "source": []
  }
 ],
 "metadata": {
  "kernelspec": {
   "display_name": "Python 3 (ipykernel)",
   "language": "python",
   "name": "python3"
  },
  "language_info": {
   "codemirror_mode": {
    "name": "ipython",
    "version": 3
   },
   "file_extension": ".py",
   "mimetype": "text/x-python",
   "name": "python",
   "nbconvert_exporter": "python",
   "pygments_lexer": "ipython3",
   "version": "3.10.18"
  }
 },
 "nbformat": 4,
 "nbformat_minor": 5
}
