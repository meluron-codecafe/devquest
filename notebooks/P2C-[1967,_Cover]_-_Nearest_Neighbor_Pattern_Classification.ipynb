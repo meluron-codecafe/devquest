{
 "cells": [
  {
   "cell_type": "code",
   "execution_count": 1,
   "id": "639a57ee-581f-46bb-9917-7b215d20f98c",
   "metadata": {
    "jupyter": {
     "source_hidden": true
    }
   },
   "outputs": [
    {
     "data": {
      "text/html": [
       "\n",
       "    <style>\n",
       "    .hc-wrapper {\n",
       "        display: flex;\n",
       "        align-items: center;\n",
       "        font-family: 'Georgia', serif;\n",
       "        border-left: 3px solid #666;\n",
       "        padding-left: 12px;\n",
       "        margin-top: 1em;  /* prevent overlap with buttons */\n",
       "        margin-bottom: 1em;\n",
       "        gap: 20px;\n",
       "    }\n",
       "    .hc-calendar {\n",
       "        display: inline-block;\n",
       "        font-family: 'Arial', sans-serif;\n",
       "        border-radius: 8px;\n",
       "        overflow: hidden;\n",
       "        background: #2d2d2d;\n",
       "        box-shadow: 0 2px 6px rgba(0,0,0,0.3);\n",
       "        width: 120px;\n",
       "        font-size: 12px;\n",
       "        text-align: center;\n",
       "        flex-shrink: 0;\n",
       "        border: 1px solid #444;\n",
       "    }\n",
       "    .hc-header {\n",
       "        background: #333;\n",
       "        color: #ddd;\n",
       "        padding: 4px 0;\n",
       "        font-weight: bold;\n",
       "        font-size: 11px;\n",
       "    }\n",
       "    .hc-month {\n",
       "        background: #4aa3ff;\n",
       "        color: #fff;\n",
       "        padding: 5px 0;\n",
       "        font-weight: bold;\n",
       "    }\n",
       "    .hc-day {\n",
       "        background: #3a3a3a;\n",
       "        color: #eee;\n",
       "        padding: 8px 0;\n",
       "        font-size: 20px;\n",
       "        font-weight: bold;\n",
       "    }\n",
       "    .hc-time {\n",
       "        background: #333;\n",
       "        color: #bbb;\n",
       "        padding: 4px 0;\n",
       "        font-size: 12px;\n",
       "    }\n",
       "    .hc-title {\n",
       "        margin: 0;\n",
       "        color: #EF8C00;\n",
       "        font-size: 2.4em;\n",
       "        line-height: 1.2em;\n",
       "        word-break: break-word;\n",
       "    }\n",
       "    .hc-keywords {\n",
       "        margin: 0.5em 0 0 0;\n",
       "        font-size: 0.9em;\n",
       "        opacity: 0.8;\n",
       "    }\n",
       "    </style>\n",
       "\n",
       "    <div class=\"hc-wrapper\">\n",
       "        <!-- Calendar -->\n",
       "        <div class=\"hc-calendar\">\n",
       "            <div class=\"hc-header\">Last modified</div>\n",
       "            <div class=\"hc-month\">Sep, 2025</div>\n",
       "            <div class=\"hc-day\">12</div>\n",
       "            <div class=\"hc-time\">07:10:46 PM</div>\n",
       "        </div>\n",
       "        \n",
       "        <!-- Header text -->\n",
       "        <div style=\"flex: 1;\">\n",
       "            <h1 class=\"hc-title\">Nearest Neighbours</h1>\n",
       "            <p class=\"hc-keywords\">;</p>\n",
       "        </div>\n",
       "    </div>\n",
       "    "
      ],
      "text/plain": [
       "<IPython.core.display.HTML object>"
      ]
     },
     "metadata": {},
     "output_type": "display_data"
    }
   ],
   "source": [
    "#hide\n",
    "from utils import *\n",
    "hc(\n",
    "    \"Nearest Neighbours\",\n",
    "    [\"\"]\n",
    ")"
   ]
  },
  {
   "cell_type": "code",
   "execution_count": null,
   "id": "07798109-25bd-4b66-b823-761d118e9e52",
   "metadata": {},
   "outputs": [],
   "source": []
  }
 ],
 "metadata": {
  "kernelspec": {
   "display_name": "DevQuest",
   "language": "python",
   "name": "devquest-3.10"
  },
  "language_info": {
   "codemirror_mode": {
    "name": "ipython",
    "version": 3
   },
   "file_extension": ".py",
   "mimetype": "text/x-python",
   "name": "python",
   "nbconvert_exporter": "python",
   "pygments_lexer": "ipython3",
   "version": "3.10.18"
  }
 },
 "nbformat": 4,
 "nbformat_minor": 5
}
