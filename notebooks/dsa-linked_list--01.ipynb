{
 "cells": [
  {
   "cell_type": "markdown",
   "id": "f44f3267-719a-4429-9b73-a2525e44268f",
   "metadata": {},
   "source": [
    "<div style=\"font-family: 'Georgia', serif; border-left: 3px solid #ccc; padding-left: 12px; margin-bottom: 1em;\">\n",
    "  <h2 style=\"margin: 0; color: #EF8C00; font-size: 2.4em; padding-left: 0; text-indent: 0;\">\n",
    "      Linked List\n",
    "  </h2>\n",
    "  <ul style=\"margin-top: 0; padding-left: 20px;\">\n",
    "    <li>What is a linked list?</li>\n",
    "    <li>How can we create one?</li>\n",
    "    <li>When to use it?</li>\n",
    "    <li>Real-world applications where it is useful</li>\n",
    "  </ul>\n",
    "</div>"
   ]
  },
  {
   "cell_type": "markdown",
   "id": "eeb0aafa-306b-4663-99b1-75b184b68e54",
   "metadata": {},
   "source": [
    "References: [YT-1](https://www.youtube.com/watch?v=fGSXJOAJJ9w&list=PLxGzv4uunL67OB-qY-pCrC6dqkmWaRKu0&index=22&t=81s)"
   ]
  },
  {
   "cell_type": "markdown",
   "id": "8d9adac3-cbb2-4080-b944-743e68074231",
   "metadata": {},
   "source": [
    "## What is linked list\n",
    "A `linked list` is a type of data structure"
   ]
  },
  {
   "cell_type": "code",
   "execution_count": 83,
   "id": "4e68a7e9-04be-4efe-a307-340babab3b40",
   "metadata": {},
   "outputs": [],
   "source": [
    "class Node:\n",
    "    def __init__(self, value):\n",
    "        self.value = value\n",
    "        self.next = None\n",
    "\n",
    "class LinkedList:\n",
    "    def __init__(self):\n",
    "        self.head = None\n",
    "        self.N = 0\n",
    "\n",
    "    def add_head(self, value):\n",
    "        \"\"\"\n",
    "        Add the value at the head of the linked list.\n",
    "        \"\"\"\n",
    "        new_node = Node(value)\n",
    "        new_node.next = self.head\n",
    "        self.head = new_node\n",
    "        self.N += 1\n",
    "\n",
    "    def remove_head(self):\n",
    "        \"\"\"\n",
    "        Remove the node at the head and return the value\n",
    "        from the linked list.\n",
    "        \"\"\"\n",
    "        ret = None\n",
    "        if self.head: # There is head\n",
    "            ret = self.head.value\n",
    "            self.head = self.head.next\n",
    "            self.N -= 1\n",
    "\n",
    "        return ret\n",
    "\n",
    "    def add_tail(self, value):\n",
    "        \"\"\"\n",
    "        Add the value at the tail of the linked list.\n",
    "        \"\"\"\n",
    "        new_node = Node(value)\n",
    "        node = self.head\n",
    "        while node.next:\n",
    "            node = node.next\n",
    "        node.next = new_node\n",
    "        self.N += 1\n",
    "\n",
    "    def __len__(self):\n",
    "        return self.N\n",
    "    \n",
    "    def __str__(self):\n",
    "        s = \"\"\n",
    "        node = self.head\n",
    "        while node:\n",
    "            s += str(node.value) + \"-->\"\n",
    "            node = node.next\n",
    "        return s[:-3]"
   ]
  },
  {
   "cell_type": "code",
   "execution_count": 84,
   "id": "ae95efe1-9116-4490-ba40-2cecce709f3b",
   "metadata": {},
   "outputs": [
    {
     "name": "stdout",
     "output_type": "stream",
     "text": [
      "30-->20-->10\n",
      "3\n",
      "20-->10\n",
      "2\n",
      "20-->10-->50\n",
      "3\n"
     ]
    }
   ],
   "source": [
    "L = LinkedList()\n",
    "\n",
    "L.add_head(10)\n",
    "L.add_head(20)\n",
    "L.add_head(30)\n",
    "print(L)\n",
    "print(len(L))\n",
    "\n",
    "L.remove_head()\n",
    "print(L)\n",
    "print(len(L))\n",
    "\n",
    "L.add_tail(50)\n",
    "print(L)\n",
    "print(len(L))"
   ]
  },
  {
   "cell_type": "code",
   "execution_count": null,
   "id": "a79e71fe-b273-49be-8f6b-70671144c26f",
   "metadata": {},
   "outputs": [],
   "source": []
  },
  {
   "cell_type": "code",
   "execution_count": null,
   "id": "8e925cdc-6ef5-4449-a8da-b8faecdf714f",
   "metadata": {},
   "outputs": [],
   "source": []
  },
  {
   "cell_type": "code",
   "execution_count": null,
   "id": "76efaf31-4999-4470-9614-022040b48c94",
   "metadata": {},
   "outputs": [],
   "source": []
  },
  {
   "cell_type": "code",
   "execution_count": null,
   "id": "c64c344f-0ae3-45fe-ab62-ea23bb4abd4b",
   "metadata": {},
   "outputs": [],
   "source": []
  }
 ],
 "metadata": {
  "kernelspec": {
   "display_name": "Python 3 (ipykernel)",
   "language": "python",
   "name": "python3"
  },
  "language_info": {
   "codemirror_mode": {
    "name": "ipython",
    "version": 3
   },
   "file_extension": ".py",
   "mimetype": "text/x-python",
   "name": "python",
   "nbconvert_exporter": "python",
   "pygments_lexer": "ipython3",
   "version": "3.10.18"
  }
 },
 "nbformat": 4,
 "nbformat_minor": 5
}
