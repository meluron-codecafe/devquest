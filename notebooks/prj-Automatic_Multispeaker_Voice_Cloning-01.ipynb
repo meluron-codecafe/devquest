{
 "cells": [
  {
   "cell_type": "markdown",
   "id": "0e05c6ba-2d1b-4f10-858c-971da6547b0c",
   "metadata": {},
   "source": [
    "<div style=\"font-family: 'Georgia', serif; border-left: 3px solid #ccc; padding-left: 12px; margin-bottom: 1em;\">\n",
    "  <h2 style=\"margin: 0; color: #EF8C00; font-size: 2.4em; padding-left: 0; text-indent: 0;\">\n",
    "      Automatic Multispeaker Voice Cloning\n",
    "  </h2>\n",
    "    <p>\n",
    "        - \n",
    "    </p>\n",
    "</div>"
   ]
  },
  {
   "cell_type": "code",
   "execution_count": 3,
   "id": "5c87f06a-9b2c-4a1f-aa88-a513b6409641",
   "metadata": {
    "jupyter": {
     "source_hidden": true
    }
   },
   "outputs": [
    {
     "data": {
      "text/html": [
       "\n",
       "\t<div style=\"\n",
       "\t\tdisplay: inline-block;\n",
       "\t\tfont-family: 'Arial', sans-serif;\n",
       "\t\tborder-radius: 8px;\n",
       "\t\toverflow: hidden;\n",
       "\t\tbox-shadow: 1px 1px 6px rgba(0,0,0,0.1);\n",
       "\t\twidth: 120px;\n",
       "\t\tfont-size: 12px;\n",
       "\t\ttext-align: center;\n",
       "\t\">\n",
       "\t\t<!-- Last modified label -->\n",
       "\t\t<div style=\"\n",
       "\t\t\tbackground: #f4f4f4;\n",
       "\t\t\tcolor: #555;\n",
       "\t\t\tpadding: 4px 0;\n",
       "\t\t\tfont-weight: bold;\n",
       "\t\t\tborder-top-left-radius: 8px;\n",
       "\t\t\tborder-top-right-radius: 8px;\n",
       "\t\t\">\n",
       "\t\t\tLast modified\n",
       "\t\t</div>\n",
       "\t\t\n",
       "\t\t<!-- Main calendar -->\n",
       "\t\t<div>\n",
       "\t\t\t<div style=\"\n",
       "\t\t\t\tbackground: #66a6ff;\n",
       "\t\t\t\tcolor: white;\n",
       "\t\t\t\tpadding: 5px 0;\n",
       "\t\t\t\tfont-weight: bold;\n",
       "\t\t\t\">\n",
       "\t\t\t\tAug, 2025\n",
       "\t\t\t</div>\n",
       "\t\t\t<div style=\"\n",
       "\t\t\t\tbackground: #fff;\n",
       "\t\t\t\tcolor: #333;\n",
       "\t\t\t\tpadding: 8px 0;\n",
       "\t\t\t\tfont-size: 20px;\n",
       "\t\t\t\tfont-weight: bold;\n",
       "\t\t\t\">\n",
       "\t\t\t\t18\n",
       "\t\t\t</div>\n",
       "\t\t\t<div style=\"\n",
       "\t\t\t\tbackground: #f4f4f4;\n",
       "\t\t\t\tcolor: #333;\n",
       "\t\t\t\tpadding: 4px 0;\n",
       "\t\t\t\tfont-size: 12px;\n",
       "\t\t\t\">\n",
       "\t\t\t\t03:08:19 PM\n",
       "\t\t\t</div>\n",
       "\t\t</div>\n",
       "\t</div>\n",
       "\t"
      ],
      "text/plain": [
       "<IPython.core.display.HTML object>"
      ]
     },
     "metadata": {},
     "output_type": "display_data"
    }
   ],
   "source": [
    "#hide\n",
    "from utils import *\n",
    "last_modified()"
   ]
  },
  {
   "cell_type": "markdown",
   "id": "4e8c17e7-eeb9-4301-8861-adfe19a610b5",
   "metadata": {},
   "source": [
    "References:"
   ]
  },
  {
   "cell_type": "markdown",
   "id": "53a2909c-c583-408f-98fd-10f11df19250",
   "metadata": {},
   "source": [
    "The idea behind this project is to understand and break down the thesis **Automatic Multispeaker Voice Cloning** by **Jemine, Corentine**.\n",
    "\n",
    "Voice cloning has always facinated me. At the moment, I literally have no clue on how this can be achieved but I think this paper will reveal all the magic tricks behind building one. I am excited about it. The best part is that they have open sourced the code so that we can have a look at the implementation."
   ]
  },
  {
   "cell_type": "markdown",
   "id": "9282aaf5-8c31-44d9-80aa-6e75082f4d7a",
   "metadata": {},
   "source": [
    "## Plan of Action (PoA)\n",
    "The project is going to take some time given my current skillset. I will need to learn a lot of new concepts on the go. Therefore, having a *PoA* will help stay on track. \\\n",
    "Honestly at this moment, I do not even know how to start the project so I am expecting the *PoA* to evolve over time.\n",
    "1. Skim through the paper to understand an high-level of what's going on in the paper."
   ]
  },
  {
   "cell_type": "code",
   "execution_count": 5,
   "id": "8b28311e-0b43-47dc-9187-8accab1c48d8",
   "metadata": {
    "jupyter": {
     "source_hidden": true
    }
   },
   "outputs": [
    {
     "data": {
      "text/html": [
       "\n",
       "    <div style=\"\n",
       "        margin: 15px 0; \n",
       "        padding: 16px 20px; \n",
       "        border-radius: 8px; \n",
       "        border-left: 4px solid #607d8b; \n",
       "        box-shadow: 0 2px 8px rgba(0, 0, 0, 0.1); \n",
       "        background-color: #f8f9fa; \n",
       "        color: #37474f;\n",
       "        font-family: -apple-system, BlinkMacSystemFont, 'Segoe UI', Roboto, sans-serif;\n",
       "    \">\n",
       "        <div style=\"\n",
       "            font-weight: bold; \n",
       "            margin-bottom: 12px; \n",
       "            font-size: 14px; \n",
       "            text-transform: uppercase; \n",
       "            letter-spacing: 0.5px;\n",
       "            display: flex;\n",
       "            align-items: center;\n",
       "            gap: 8px;\n",
       "        \">\n",
       "            <span style=\"font-size: 18px;\">🧭</span>\n",
       "            Navigation\n",
       "        </div>\n",
       "        <div style=\"\n",
       "            display: flex; \n",
       "            justify-content: space-between; \n",
       "            align-items: center;\n",
       "            gap: 16px;\n",
       "        \">\n",
       "            <div><span style=\"color: #999; padding: 8px 12px;\">⬅️ Previous Section</span></div>\n",
       "            <div><a href=\"./prj-Automatic_Multispeaker_Voice_Cloning-02.html\" style=\"color: #2e7d32; text-decoration: none; padding: 8px 12px; border-radius: 4px; background-color: #e8f5e8; border: 1px solid #66bb6a; display: inline-block; font-weight: 500;\">Next Section ➡️</a></div>\n",
       "        </div>\n",
       "    </div>\n",
       "    "
      ],
      "text/plain": [
       "<IPython.core.display.HTML object>"
      ]
     },
     "execution_count": 5,
     "metadata": {},
     "output_type": "execute_result"
    }
   ],
   "source": [
    "#hide\n",
    "nav(\"\", \"./prj-Automatic_Multispeaker_Voice_Cloning-02.html\")"
   ]
  },
  {
   "cell_type": "code",
   "execution_count": null,
   "id": "f6713810-08d2-4d08-abb5-c9bdbc1573f6",
   "metadata": {},
   "outputs": [],
   "source": []
  }
 ],
 "metadata": {
  "kernelspec": {
   "display_name": "DevQuest",
   "language": "python",
   "name": "devquest-3.10"
  },
  "language_info": {
   "codemirror_mode": {
    "name": "ipython",
    "version": 3
   },
   "file_extension": ".py",
   "mimetype": "text/x-python",
   "name": "python",
   "nbconvert_exporter": "python",
   "pygments_lexer": "ipython3",
   "version": "3.10.18"
  }
 },
 "nbformat": 4,
 "nbformat_minor": 5
}
