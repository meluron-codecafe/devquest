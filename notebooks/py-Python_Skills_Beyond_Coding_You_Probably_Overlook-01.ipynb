{
 "cells": [
  {
   "cell_type": "code",
   "execution_count": 1,
   "id": "bef3be62-9a18-4d46-ab0d-4804a19b2e1c",
   "metadata": {
    "jupyter": {
     "source_hidden": true
    }
   },
   "outputs": [
    {
     "data": {
      "text/html": [
       "\n",
       "    <div style=\"\n",
       "        display: flex;\n",
       "        align-items: center;\n",
       "        font-family: 'Georgia', serif;\n",
       "        border-left: 3px solid #ccc;\n",
       "        padding-left: 12px;\n",
       "        margin-bottom: 1em;\n",
       "        gap: 20px;\n",
       "    \">\n",
       "        <!-- Calendar on the left -->\n",
       "        <div style=\"\n",
       "            display: inline-block;\n",
       "            font-family: 'Arial', sans-serif;\n",
       "            border-radius: 8px;\n",
       "            overflow: hidden;\n",
       "            box-shadow: 1px 1px 6px rgba(0,0,0,0.1);\n",
       "            width: 120px;\n",
       "            font-size: 12px;\n",
       "            text-align: center;\n",
       "            flex-shrink: 0;\n",
       "        \">\n",
       "            <!-- Last modified label -->\n",
       "            <div style=\"\n",
       "                background: #f4f4f4;\n",
       "                color: #555;\n",
       "                padding: 4px 0;\n",
       "                font-weight: bold;\n",
       "                border-top-left-radius: 8px;\n",
       "                border-top-right-radius: 8px;\n",
       "            \">\n",
       "                Last modified\n",
       "            </div>\n",
       "            \n",
       "            <!-- Main calendar -->\n",
       "            <div>\n",
       "                <div style=\"\n",
       "                    background: #66a6ff;\n",
       "                    color: white;\n",
       "                    padding: 5px 0;\n",
       "                    font-weight: bold;\n",
       "                \">\n",
       "                    Sep, 2025\n",
       "                </div>\n",
       "                <div style=\"\n",
       "                    background: #fff;\n",
       "                    color: #333;\n",
       "                    padding: 8px 0;\n",
       "                    font-size: 20px;\n",
       "                    font-weight: bold;\n",
       "                \">\n",
       "                    05\n",
       "                </div>\n",
       "                <div style=\"\n",
       "                    background: #f4f4f4;\n",
       "                    color: #333;\n",
       "                    padding: 4px 0;\n",
       "                    font-size: 12px;\n",
       "                \">\n",
       "                    11:55:12 PM\n",
       "                </div>\n",
       "            </div>\n",
       "        </div>\n",
       "        \n",
       "        <!-- Header content on the right -->\n",
       "        <div style=\"flex: 1;\">\n",
       "            <h2 style=\"\n",
       "                margin: 0;\n",
       "                color: #EF8C00;\n",
       "                font-size: 2.4em;\n",
       "                padding-left: 0;\n",
       "                text-indent: 0;\n",
       "            \">\n",
       "                Python Skills Beyond Coding You Probably Overlook\n",
       "            </h2>\n",
       "            <p style=\"margin: 0.5em 0 0 0;\">\n",
       "                virtual environment (venv); jupyter-kernel;\n",
       "            </p>\n",
       "        </div>\n",
       "    </div>\n",
       "    "
      ],
      "text/plain": [
       "<IPython.core.display.HTML object>"
      ]
     },
     "metadata": {},
     "output_type": "display_data"
    },
    {
     "data": {
      "text/html": [
       "\n",
       "    <div id=\"toc-box\" style=\"\n",
       "        position:fixed; \n",
       "        top:40px; right:10px; \n",
       "        background:#1e1e1e; \n",
       "        border-left:4px solid #4caf50; \n",
       "        border-radius:8px; \n",
       "        box-shadow:0 2px 8px rgba(0,0,0,0.35); \n",
       "        font-family:'Fira Code', Consolas, monospace;\n",
       "        z-index:9999;\n",
       "        width:50px; /* collapsed width */\n",
       "        transition: width 0.3s ease;\n",
       "        overflow:hidden;\n",
       "        color:#d4d4d4;\n",
       "    \">\n",
       "    \n",
       "    <div onclick=\"\n",
       "        var box=document.getElementById('toc-box');\n",
       "        var content=document.getElementById('toc-box-content');\n",
       "        if(content.style.display=='none'){\n",
       "            content.style.display='block';\n",
       "            box.style.width='260px';\n",
       "        } else {\n",
       "            content.style.display='none';\n",
       "            box.style.width='50px';\n",
       "        }\n",
       "    \" style=\"display:flex; align-items:center; justify-content:center; \n",
       "             padding:8px; cursor:pointer; user-select:none;\">\n",
       "        <svg width=\"32\" height=\"32\" viewBox=\"0 0 36 36\" style=\"transform: rotate(-90deg);\">\n",
       "            <circle cx=\"18\" cy=\"18\" r=\"15.9155\" fill=\"none\" stroke=\"#333\" stroke-width=\"3\"/>\n",
       "            <circle cx=\"18\" cy=\"18\" r=\"15.9155\" fill=\"none\" \n",
       "                    stroke=\"#4caf50\" stroke-width=\"3\"\n",
       "                    stroke-dasharray=\"75, 100\"/>\n",
       "            <text x=\"18\" y=\"21\" text-anchor=\"middle\" fill=\"#d4d4d4\"\n",
       "                  font-size=\"9\" font-family=\"Arial\" transform=\"rotate(90,18,18)\">3/4</text>\n",
       "        </svg>\n",
       "    </div>\n",
       "    \n",
       "    <div id=\"toc-box-content\" style=\"display:none; padding:0 15px 12px 15px; \n",
       "                max-height:60vh; overflow-y:auto;\">\n",
       "        <div style=\"font-weight:bold; font-size:14px; margin-bottom:10px; color:#ffffff;\">\n",
       "            Table of Contents\n",
       "        </div>\n",
       "    \n",
       "        <div>\n",
       "            <div style=\"display:flex; align-items:center; margin-bottom:0;\">\n",
       "                <div style=\"\n",
       "                    width:20px; height:20px; border-radius:50%; \n",
       "                    background:#4caf50; color:white; \n",
       "                    display:flex; align-items:center; justify-content:center;\n",
       "                    font-size:10px; font-weight:bold;\n",
       "                    box-shadow: 0 2px 4px rgba(0,0,0,0.35);\n",
       "                \">✓</div>\n",
       "                <div style=\"margin-left:10px; font:12px 'Fira Code', monospace; font-weight:500;\">\n",
       "                    <a href=\"#References\" style=\"color:#4caf50; text-decoration:none;\">References</a>\n",
       "                </div>\n",
       "            </div>\n",
       "            <div style=\"width:2px; height:20px; background:#4caf50; margin-left:9px; margin-top:-4px;\"></div>\n",
       "        </div>\n",
       "        \n",
       "        <div>\n",
       "            <div style=\"display:flex; align-items:center; margin-bottom:0;\">\n",
       "                <div style=\"\n",
       "                    width:20px; height:20px; border-radius:50%; \n",
       "                    background:#4caf50; color:white; \n",
       "                    display:flex; align-items:center; justify-content:center;\n",
       "                    font-size:10px; font-weight:bold;\n",
       "                    box-shadow: 0 2px 4px rgba(0,0,0,0.35);\n",
       "                \">✓</div>\n",
       "                <div style=\"margin-left:10px; font:12px 'Fira Code', monospace; font-weight:500;\">\n",
       "                    <a href=\"#Problem-Statement\" style=\"color:#4caf50; text-decoration:none;\">Problem Statement</a>\n",
       "                </div>\n",
       "            </div>\n",
       "            <div style=\"width:2px; height:20px; background:#4caf50; margin-left:9px; margin-top:-4px;\"></div>\n",
       "        </div>\n",
       "        \n",
       "        <div>\n",
       "            <div style=\"display:flex; align-items:center; margin-bottom:0;\">\n",
       "                <div style=\"\n",
       "                    width:20px; height:20px; border-radius:50%; \n",
       "                    background:#4caf50; color:white; \n",
       "                    display:flex; align-items:center; justify-content:center;\n",
       "                    font-size:10px; font-weight:bold;\n",
       "                    box-shadow: 0 2px 4px rgba(0,0,0,0.35);\n",
       "                \">✓</div>\n",
       "                <div style=\"margin-left:10px; font:12px 'Fira Code', monospace; font-weight:500;\">\n",
       "                    <a href=\"#venv\" style=\"color:#4caf50; text-decoration:none;\">venv</a>\n",
       "                </div>\n",
       "            </div>\n",
       "            <div style=\"width:2px; height:20px; background:#4caf50; margin-left:9px; margin-top:-4px;\"></div>\n",
       "        </div>\n",
       "        \n",
       "        <div>\n",
       "            <div style=\"display:flex; align-items:center; margin-bottom:0;\">\n",
       "                <div style=\"\n",
       "                    width:20px; height:20px; border-radius:50%; \n",
       "                    background:#2d2d2d; color:white; \n",
       "                    display:flex; align-items:center; justify-content:center;\n",
       "                    font-size:10px; font-weight:bold;\n",
       "                    box-shadow: 0 2px 4px rgba(0,0,0,0.35);\n",
       "                \">○</div>\n",
       "                <div style=\"margin-left:10px; font:12px 'Fira Code', monospace; font-weight:500;\">\n",
       "                    <a href=\"#Jupyter-Kernel\" style=\"color:#999; text-decoration:none;\">Jupyter Kernel</a>\n",
       "                </div>\n",
       "            </div>\n",
       "            \n",
       "        </div>\n",
       "        </div></div>"
      ],
      "text/plain": [
       "<IPython.core.display.HTML object>"
      ]
     },
     "metadata": {},
     "output_type": "display_data"
    }
   ],
   "source": [
    "#hide\n",
    "from utils import *\n",
    "hc(\n",
    "    \"Python Skills Beyond Coding You Probably Overlook\",\n",
    "    [\"virtual environment (venv)\", \"jupyter-kernel\", ]\n",
    ")\n",
    "toc(\n",
    "    [\n",
    "        \"References\",\n",
    "        \"Problem Statement\",\n",
    "        \"venv\",\n",
    "        \"Jupyter Kernel\",\n",
    "    ],\n",
    "    3\n",
    ")"
   ]
  },
  {
   "cell_type": "markdown",
   "id": "d51b1a12-9567-4ca9-aaf1-961e1cdd3cef",
   "metadata": {},
   "source": [
    "## References\n",
    "\n",
    "For this notebook, I am not following any reference as it is more sort of my experience working with Python that I would like to share."
   ]
  },
  {
   "cell_type": "markdown",
   "id": "c2d10564-36ae-472e-a6e7-b6e39fd9a8e0",
   "metadata": {},
   "source": [
    "## Problem Statement\n",
    "\n",
    "I have been using Python for quite some years now. I have helped people debug issues in their python projects. One of the most common issues that I have seen people facing is what has motivated me to create this notebook. Although the solution to this problem is simple but I see it more like an awareness and adaptation issue.\n",
    "\n",
    "This small change of habit that we will discuss in the notebook can prove to be a huge time saver."
   ]
  },
  {
   "cell_type": "markdown",
   "id": "56585bf2-c03c-4461-91b0-5cdcfe182011",
   "metadata": {},
   "source": [
    "## venv"
   ]
  },
  {
   "cell_type": "markdown",
   "id": "98f10871-dce8-4eb7-9719-323270336028",
   "metadata": {},
   "source": [
    "Think of virtual environment as a **special folder/directory** that stores all the external python tools you need for a project. This helps isolate your project related tools from other projects or from system-wide available tools. \\\n",
    "You can name the folder anything you want and have it located anywhere on your machine but a general convention is to have virtual environment folder for a project in the project root directory by the name **.venv**"
   ]
  },
  {
   "cell_type": "markdown",
   "id": "7407b06b-6980-43a7-a1ec-1ec3b2988b8b",
   "metadata": {},
   "source": [
    "One of the advantages of using python is huge collection of third-party packages that we can install on our machine and use their APIs to build our projects. \\\n",
    "But this comes with its own problems. Let's say you are currently working on two different projects, **project A** and **project B**.\n",
    "Consider **project A** started much before and it uses a **package P** of *verion 0.1.0* whereas **project B** needs the same **package P** but latest *version 1.0.0*. Assuming that these versions have breaking changes which means that some of the modules in the latest version is not compatible with the older version."
   ]
  },
  {
   "cell_type": "markdown",
   "id": "78494354-0d8e-4285-853a-eb287c4304c3",
   "metadata": {},
   "source": [
    "Now we see a need of having separate versions of the package for different projects, this is where virtual environment comes into play. Virtual environment allows us to have different environments for different projects to avoid any sort of mixing dependencies."
   ]
  },
  {
   "cell_type": "markdown",
   "id": "19fb31c5-5e76-45c8-9791-c1b891b1cb93",
   "metadata": {},
   "source": [
    "Also, it does not harm to use virtual environment even if it is a small project. It is just a habit, a good one, that one builds. I always like to create a virtual environment in the project directory with the name (.venv) regardless of how small the project is."
   ]
  },
  {
   "cell_type": "markdown",
   "id": "4f0056b0-7ced-4eba-bae5-3135aac67120",
   "metadata": {},
   "source": [
    "## Creating a virtual environment."
   ]
  },
  {
   "cell_type": "markdown",
   "id": "447c6754-fee9-46f5-859a-8fb5a1366d4e",
   "metadata": {},
   "source": [
    "First, you need to have python installed on your machine to create a virtual environment. There are multiple ways to download python based on the OS you are using. Assuming you already have python installed on your machine. Python gives you a module that can be used to create virtual environment. Note that every virtual environment needs to have a python interpreter (which is simply the one that you used to create the virtual environment itself)."
   ]
  },
  {
   "cell_type": "markdown",
   "id": "0e96ccb9-bd50-47e3-b49f-07bb3fed4781",
   "metadata": {},
   "source": [
    "To find out the availabe python versions on your machine, you can run:\n",
    "\n",
    "Mac/Linux:  ```ls /Library/Frameworks/Python.framework/Versions/```\n",
    "\n",
    "Windows: ```?```"
   ]
  },
  {
   "cell_type": "markdown",
   "id": "543298c5-f90a-4290-bc4e-0352f09f45e9",
   "metadata": {},
   "source": [
    "On Mac/Linux: ```source <name of the venv>/bin/activate``` \\\n",
    "Example: ```source .venv/bin/activate```\n",
    "\n",
    "On Windows: ```<name of the venv>\\Scripts\\activate``` \\\n",
    "Example: ```.venv\\Scripts\\activate```"
   ]
  },
  {
   "cell_type": "markdown",
   "id": "7d751ca4-3d3c-4330-9339-0d00f587228d",
   "metadata": {},
   "source": [
    "Upon activation, you should see the name of the virtual environment on the left: \\\n",
    "<img src=\"../data/images/venv-tut.png\" width=500>"
   ]
  },
  {
   "cell_type": "markdown",
   "id": "14b64eeb-da4e-41c8-942a-7723887c83dc",
   "metadata": {},
   "source": [
    "## Installing python packages in virtual environment."
   ]
  },
  {
   "cell_type": "markdown",
   "id": "6b90f5a8-6af6-4ec3-b0ad-27a642ec6662",
   "metadata": {},
   "source": [
    "Once the virtual environment is activated, you can use pip or any other python package manager tools to install packages.\n",
    "\n",
    "With pip: `pip install <name of the package>`\n",
    "\n",
    "Example: `pip install numpy`\n",
    "\n",
    "Use `pip list` to check all the installed tools."
   ]
  },
  {
   "cell_type": "markdown",
   "id": "97bc7850-ef62-4b40-b81d-2eca7919c122",
   "metadata": {},
   "source": [
    "Upon activation, you should see the name of the virtual environment on the left: \\\n",
    "<img src=\"../data/images/venv-pip-install.png\" width=500>"
   ]
  },
  {
   "cell_type": "markdown",
   "id": "6b868459-2dc5-4fee-8e47-7fd2b04734a7",
   "metadata": {},
   "source": [
    "You can look into the venv directory to see where the downloaded packages are stored: \\\n",
    "<img src=\"../data/images/venv-directory.png\" width=900>"
   ]
  },
  {
   "cell_type": "markdown",
   "id": "e4eab18b-fa36-4778-befa-e03b5762e479",
   "metadata": {},
   "source": [
    "## Jupyter Kernel"
   ]
  },
  {
   "cell_type": "markdown",
   "id": "6d9f9d74-ce0f-4e6a-9666-35052a6ff849",
   "metadata": {},
   "source": [
    "When we run python code from terminal, we can activate any virtual environment and python of that virtual environment will be automatically used to run scripts (.py files) directly by running `python main.py` without any issues.\n",
    "\n",
    "However while using Jupyter, it is important to understand that it has its own way to allow virtual environments to be used. This is done through **kernels**."
   ]
  },
  {
   "cell_type": "markdown",
   "id": "c4fabcc7-4d01-4bdb-9bf1-08b9b3e931f8",
   "metadata": {},
   "source": [
    "Think of kernel as a configuration that allows Jupyter to access different existing virtual environments and run python code using the python interpreter available in those virtual environments."
   ]
  },
  {
   "cell_type": "markdown",
   "id": "74773862-25a3-4262-901d-2431da575380",
   "metadata": {},
   "source": [
    "For example, we see a list of kernels available to us in the Jupyter notebooks below.\n",
    "\n",
    "<img src=\"../data/images/jupyter-lab-kernels.png\" width=600 height=300>"
   ]
  },
  {
   "cell_type": "markdown",
   "id": "b360622e-5156-4cc8-9662-6d56a5e611f1",
   "metadata": {},
   "source": [
    "Creating a virtual environment does not make it automatically available in jupyter, you need to create a kernel using a python module `ipykernel`."
   ]
  },
  {
   "cell_type": "markdown",
   "id": "03110189-3610-4ef3-bca3-b243e38510bd",
   "metadata": {},
   "source": [
    "Command: ```python -m ipykernel install --user --name=<kernel_name> --display-name=<name to show in jupyter>```\n",
    "\n",
    "Example: `python -m ipykernel install --user --name=devquest-3.12 --display-name=DevQuest`"
   ]
  },
  {
   "cell_type": "markdown",
   "id": "bc42cfdb-159b-4d8c-ad7f-e970dc3a81c9",
   "metadata": {},
   "source": [
    "Command: `jupyter kernelspec list`"
   ]
  },
  {
   "cell_type": "markdown",
   "id": "3155d935-f189-42f8-9be7-9efc1212c592",
   "metadata": {},
   "source": [
    "Command: `jupyter kernelspec remove <kernel_name>`\n",
    "\n",
    "or you can just open the kernels folder and delete the kernel. (Not recommended)\n",
    "\n",
    "<img src=\"../data/images/kernels-dir.png\" width=300>"
   ]
  }
 ],
 "metadata": {
  "kernelspec": {
   "display_name": "Python 3 (ipykernel)",
   "language": "python",
   "name": "python3"
  },
  "language_info": {
   "codemirror_mode": {
    "name": "ipython",
    "version": 3
   },
   "file_extension": ".py",
   "mimetype": "text/x-python",
   "name": "python",
   "nbconvert_exporter": "python",
   "pygments_lexer": "ipython3",
   "version": "3.10.18"
  }
 },
 "nbformat": 4,
 "nbformat_minor": 5
}
