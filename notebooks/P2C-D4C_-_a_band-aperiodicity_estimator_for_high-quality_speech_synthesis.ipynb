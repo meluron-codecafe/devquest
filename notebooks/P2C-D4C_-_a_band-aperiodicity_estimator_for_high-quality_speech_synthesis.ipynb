{
 "cells": [
  {
   "cell_type": "code",
   "execution_count": 1,
   "id": "a5513904-2b84-4317-8cfd-2b5a6bdfd7e7",
   "metadata": {
    "jupyter": {
     "source_hidden": true
    }
   },
   "outputs": [
    {
     "data": {
      "text/html": [
       "\n",
       "    <style>\n",
       "    .hc-wrapper {\n",
       "        display: flex;\n",
       "        align-items: center;\n",
       "        font-family: 'Georgia', serif;\n",
       "        border-left: 3px solid #666;\n",
       "        padding-left: 12px;\n",
       "        margin-top: 1em;  /* prevent overlap with buttons */\n",
       "        margin-bottom: 1em;\n",
       "        gap: 20px;\n",
       "    }\n",
       "    .hc-calendar {\n",
       "        display: inline-block;\n",
       "        font-family: 'Arial', sans-serif;\n",
       "        border-radius: 8px;\n",
       "        overflow: hidden;\n",
       "        background: #2d2d2d;\n",
       "        box-shadow: 0 2px 6px rgba(0,0,0,0.3);\n",
       "        width: 120px;\n",
       "        font-size: 12px;\n",
       "        text-align: center;\n",
       "        flex-shrink: 0;\n",
       "        border: 1px solid #444;\n",
       "    }\n",
       "    .hc-header {\n",
       "        background: #333;\n",
       "        color: #ddd;\n",
       "        padding: 4px 0;\n",
       "        font-weight: bold;\n",
       "        font-size: 11px;\n",
       "    }\n",
       "    .hc-month {\n",
       "        background: #EF8C00;\n",
       "        color: #fff;\n",
       "        padding: 5px 0;\n",
       "        font-weight: bold;\n",
       "    }\n",
       "    .hc-day {\n",
       "        background: #3a3a3a;\n",
       "        color: #eee;\n",
       "        padding: 8px 0;\n",
       "        font-size: 20px;\n",
       "        font-weight: bold;\n",
       "    }\n",
       "    .hc-time {\n",
       "        background: #333;\n",
       "        color: #bbb;\n",
       "        padding: 4px 0;\n",
       "        font-size: 12px;\n",
       "    }\n",
       "    .hc-title {\n",
       "        margin: 0;\n",
       "        color: #EF8C00;\n",
       "        font-size: 2.4em;\n",
       "        line-height: 1.2em;\n",
       "        word-break: break-word;\n",
       "    }\n",
       "    .hc-keywords {\n",
       "        margin: 0.5em 0 0 0;\n",
       "        font-size: 0.9em;\n",
       "        opacity: 0.8;\n",
       "    }\n",
       "    </style>\n",
       "\n",
       "    <div class=\"hc-wrapper\">\n",
       "        <!-- Calendar -->\n",
       "        <div class=\"hc-calendar\">\n",
       "            <div class=\"hc-header\">Last modified</div>\n",
       "            <div class=\"hc-month\">Sep, 2025</div>\n",
       "            <div class=\"hc-day\">19</div>\n",
       "            <div class=\"hc-time\">06:17:26 PM</div>\n",
       "        </div>\n",
       "        \n",
       "        <!-- Header text -->\n",
       "        <div style=\"flex: 1;\">\n",
       "            <h1 class=\"hc-title\">D$4$C - An algorithm to measure aperiodicity of an audio signal</h1>\n",
       "            <p class=\"hc-keywords\"></p>\n",
       "        </div>\n",
       "    </div>\n",
       "    "
      ],
      "text/plain": [
       "<IPython.core.display.HTML object>"
      ]
     },
     "metadata": {},
     "output_type": "display_data"
    }
   ],
   "source": [
    "#hide\n",
    "from utils import *\n",
    "hc(\n",
    "    \"D$4$C - An algorithm to measure aperiodicity of an audio signal\",\n",
    "\n",
    ")"
   ]
  },
  {
   "cell_type": "markdown",
   "id": "be3c2648-b2ad-4a43-8db6-4fd2fea7b24c",
   "metadata": {},
   "source": [
    "## Quest\n",
    "\n",
    "1. What is D4C?\n",
    "2. What is aperiodicity?\n",
    "3. What physical information does it contain?\n",
    "4. How can we compute it using D4C algorithm?\n",
    "5. Which applications can benefit from aperiodicity?"
   ]
  },
  {
   "cell_type": "markdown",
   "id": "ef53ec4d-8fa6-4cdc-8f04-e9c4bb2da1e7",
   "metadata": {},
   "source": [
    "## Source\n",
    "\n",
    "[D4C, a band-aperiodicity estimator for high-quality speech synthesis](https://www.sciencedirect.com/science/article/pii/S0167639316300413)"
   ]
  },
  {
   "cell_type": "markdown",
   "id": "71ff12ba-f5d0-4f4f-bf3a-23e055ba0aa9",
   "metadata": {},
   "source": [
    "## Background\n",
    "\n"
   ]
  },
  {
   "cell_type": "markdown",
   "id": "bd4bc116-ed7c-43ba-8b7d-1a850a9123a5",
   "metadata": {},
   "source": [
    "## D4C"
   ]
  },
  {
   "cell_type": "markdown",
   "id": "98d8a5ba-50dc-4ba0-bfdd-950734f244da",
   "metadata": {},
   "source": [
    "Traditionally, speech synthesizers (or vocoders) relied on the fundamental frequency and spectral envelope to generate speech. To achieve higher quality and more natural-sounding synthesis, modern approaches also incorporate an aperiodicity parameter. One such algorithm for estimating band aperiodicity is called D4C which is used in the *WORLD* vocoder software."
   ]
  },
  {
   "cell_type": "markdown",
   "id": "6eb57922-6a06-4142-b632-ca54dd4757c8",
   "metadata": {},
   "source": [
    "## Aperiodicity"
   ]
  },
  {
   "cell_type": "markdown",
   "id": "fd9be580-d7aa-4abf-8a54-bafb18bce4bd",
   "metadata": {},
   "source": [
    "\n",
    "A voiced signal $y(t)$"
   ]
  },
  {
   "cell_type": "code",
   "execution_count": 2,
   "id": "47b90863-3773-4443-b8bb-6962a9ac39ff",
   "metadata": {},
   "outputs": [],
   "source": [
    "import numpy as np\n",
    "import modusa as ms\n",
    "\n",
    "T0 = 0.01 # Sampling Period\n",
    "\n",
    "def delta(t, T):\n",
    "    \"\"\"\n",
    "    Delta function.\n",
    "\n",
    "    Parameters\n",
    "    ----------\n",
    "    \n",
    "    \n",
    "    \"\"\"\n",
    "    y = np.zeros(N)\n",
    "    y[n] = 1\n",
    "    return y"
   ]
  },
  {
   "cell_type": "code",
   "execution_count": null,
   "id": "d80ef1ab-3b69-4796-ab10-d089c5ef7c22",
   "metadata": {},
   "outputs": [],
   "source": []
  },
  {
   "cell_type": "code",
   "execution_count": 8,
   "id": "e270839c-a206-46f0-9e7d-0884c64a4f80",
   "metadata": {},
   "outputs": [
    {
     "data": {
      "image/png": "[encoded data removed]",
      "text/plain": [
       "<Figure size 1600x200 with 4 Axes>"
      ]
     },
     "metadata": {},
     "output_type": "display_data"
    }
   ],
   "source": [
    "fig = ms.fig(\"s\")\n",
    "fig.add_signal(delta(20, 100), m=\"o\", label=\"$\\\\delta (n)$\")\n",
    "fig.add_legend()"
   ]
  },
  {
   "cell_type": "code",
   "execution_count": null,
   "id": "1ddf3f27-494e-44aa-bec1-41050f28b2f5",
   "metadata": {},
   "outputs": [],
   "source": []
  }
 ],
 "metadata": {
  "kernelspec": {
   "display_name": "Python 3 (ipykernel)",
   "language": "python",
   "name": "python3"
  },
  "language_info": {
   "codemirror_mode": {
    "name": "ipython",
    "version": 3
   },
   "file_extension": ".py",
   "mimetype": "text/x-python",
   "name": "python",
   "nbconvert_exporter": "python",
   "pygments_lexer": "ipython3",
   "version": "3.10.18"
  }
 },
 "nbformat": 4,
 "nbformat_minor": 5
}
