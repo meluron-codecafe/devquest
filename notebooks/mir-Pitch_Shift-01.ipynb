{
 "cells": [
  {
   "cell_type": "markdown",
   "id": "b339392e-baae-48ef-b091-c85f3a366147",
   "metadata": {},
   "source": [
    "<div style=\"font-family: 'Georgia', serif; border-left: 3px solid #ccc; padding-left: 12px; margin-bottom: 1em;\">\n",
    "  <h2 style=\"margin: 0; color: #EF8C00; font-size: 2.4em; padding-left: 0; text-indent: 0;\">\n",
    "      Pitch Shift\n",
    "  </h2>\n",
    "    <p>\n",
    "        pitch; formant;\n",
    "    </p>\n",
    "</div>"
   ]
  },
  {
   "cell_type": "code",
   "execution_count": 4,
   "id": "055dc9f4-19e2-4288-a3bb-dffd08fca624",
   "metadata": {
    "jupyter": {
     "source_hidden": true
    }
   },
   "outputs": [
    {
     "data": {
      "text/html": [
       "\n",
       "\t<div style=\"\n",
       "\t\tdisplay: inline-block;\n",
       "\t\tfont-family: 'Arial', sans-serif;\n",
       "\t\tborder-radius: 8px;\n",
       "\t\toverflow: hidden;\n",
       "\t\tbox-shadow: 1px 1px 6px rgba(0,0,0,0.1);\n",
       "\t\twidth: 120px;\n",
       "\t\tfont-size: 12px;\n",
       "\t\ttext-align: center;\n",
       "\t\">\n",
       "\t\t<!-- Last modified label -->\n",
       "\t\t<div style=\"\n",
       "\t\t\tbackground: #f4f4f4;\n",
       "\t\t\tcolor: #555;\n",
       "\t\t\tpadding: 4px 0;\n",
       "\t\t\tfont-weight: bold;\n",
       "\t\t\tborder-top-left-radius: 8px;\n",
       "\t\t\tborder-top-right-radius: 8px;\n",
       "\t\t\">\n",
       "\t\t\tLast modified\n",
       "\t\t</div>\n",
       "\t\t\n",
       "\t\t<!-- Main calendar -->\n",
       "\t\t<div>\n",
       "\t\t\t<div style=\"\n",
       "\t\t\t\tbackground: #66a6ff;\n",
       "\t\t\t\tcolor: white;\n",
       "\t\t\t\tpadding: 5px 0;\n",
       "\t\t\t\tfont-weight: bold;\n",
       "\t\t\t\">\n",
       "\t\t\t\tAug, 2025\n",
       "\t\t\t</div>\n",
       "\t\t\t<div style=\"\n",
       "\t\t\t\tbackground: #fff;\n",
       "\t\t\t\tcolor: #333;\n",
       "\t\t\t\tpadding: 8px 0;\n",
       "\t\t\t\tfont-size: 20px;\n",
       "\t\t\t\tfont-weight: bold;\n",
       "\t\t\t\">\n",
       "\t\t\t\t18\n",
       "\t\t\t</div>\n",
       "\t\t\t<div style=\"\n",
       "\t\t\t\tbackground: #f4f4f4;\n",
       "\t\t\t\tcolor: #333;\n",
       "\t\t\t\tpadding: 4px 0;\n",
       "\t\t\t\tfont-size: 12px;\n",
       "\t\t\t\">\n",
       "\t\t\t\t05:15:52 PM\n",
       "\t\t\t</div>\n",
       "\t\t</div>\n",
       "\t</div>\n",
       "\t"
      ],
      "text/plain": [
       "<IPython.core.display.HTML object>"
      ]
     },
     "metadata": {},
     "output_type": "display_data"
    }
   ],
   "source": [
    "#hide\n",
    "from utils import *\n",
    "last_modified()"
   ]
  },
  {
   "cell_type": "code",
   "execution_count": null,
   "id": "53f73117-ffc1-4b8d-b113-e4e16685885b",
   "metadata": {},
   "outputs": [],
   "source": []
  }
 ],
 "metadata": {
  "kernelspec": {
   "display_name": "DevQuest",
   "language": "python",
   "name": "devquest-3.10"
  },
  "language_info": {
   "codemirror_mode": {
    "name": "ipython",
    "version": 3
   },
   "file_extension": ".py",
   "mimetype": "text/x-python",
   "name": "python",
   "nbconvert_exporter": "python",
   "pygments_lexer": "ipython3",
   "version": "3.10.18"
  }
 },
 "nbformat": 4,
 "nbformat_minor": 5
}
