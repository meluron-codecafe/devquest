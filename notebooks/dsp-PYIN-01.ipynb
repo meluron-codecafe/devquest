{
 "cells": [
  {
   "cell_type": "markdown",
   "id": "45fc6e22-0361-4c48-abfa-076a0f9a21a2",
   "metadata": {},
   "source": [
    "<div style=\"font-family: 'Georgia', serif; border-left: 3px solid #ccc; padding-left: 12px; margin-bottom: 1em;\">\n",
    "  <h2 style=\"margin: 0; color: #EF8C00; font-size: 2.4em; padding-left: 0; text-indent: 0;\">\n",
    "      Probalisitic YIN\n",
    "  </h2>\n",
    "  <p>\n",
    "      pitch detection; fundamental frequency (f0);\n",
    "  </p>\n",
    "</div>"
   ]
  },
  {
   "cell_type": "markdown",
   "id": "1374eaea-eba4-4b51-b914-4df3b120f507",
   "metadata": {},
   "source": [
    "Reference: [1](https://www.youtube.com/watch?v=JJv3UhDboGs&t=3324s)"
   ]
  },
  {
   "cell_type": "markdown",
   "id": "2d885142-43f9-47a1-b258-79fd6da81244",
   "metadata": {},
   "source": [
    "I have always found pitch detection algorithms to b"
   ]
  },
  {
   "cell_type": "code",
   "execution_count": null,
   "id": "6be3a2ac-8ded-4d57-8ed9-80138e5b212c",
   "metadata": {},
   "outputs": [],
   "source": []
  },
  {
   "cell_type": "code",
   "execution_count": null,
   "id": "d1c6d027-3081-4817-a712-6883c0b3dfdf",
   "metadata": {},
   "outputs": [],
   "source": []
  }
 ],
 "metadata": {
  "kernelspec": {
   "display_name": "DevQuest",
   "language": "python",
   "name": "devquest-3.10"
  },
  "language_info": {
   "codemirror_mode": {
    "name": "ipython",
    "version": 3
   },
   "file_extension": ".py",
   "mimetype": "text/x-python",
   "name": "python",
   "nbconvert_exporter": "python",
   "pygments_lexer": "ipython3",
   "version": "3.10.18"
  }
 },
 "nbformat": 4,
 "nbformat_minor": 5
}
