{
 "cells": [
  {
   "cell_type": "code",
   "execution_count": 2,
   "id": "6d7d4770-dc19-4a89-a265-5f47753b127d",
   "metadata": {
    "jupyter": {
     "source_hidden": true
    }
   },
   "outputs": [
    {
     "data": {
      "text/html": [
       "\n",
       "    <div style=\"\n",
       "        display: flex;\n",
       "        align-items: center;\n",
       "        font-family: 'Georgia', serif;\n",
       "        border-left: 3px solid #ccc;\n",
       "        padding-left: 12px;\n",
       "        margin-bottom: 1em;\n",
       "        gap: 20px;\n",
       "    \">\n",
       "        <!-- Calendar on the left -->\n",
       "        <div style=\"\n",
       "            display: inline-block;\n",
       "            font-family: 'Arial', sans-serif;\n",
       "            border-radius: 8px;\n",
       "            overflow: hidden;\n",
       "            box-shadow: 1px 1px 6px rgba(0,0,0,0.1);\n",
       "            width: 120px;\n",
       "            font-size: 12px;\n",
       "            text-align: center;\n",
       "            flex-shrink: 0;\n",
       "        \">\n",
       "            <!-- Last modified label -->\n",
       "            <div style=\"\n",
       "                background: #f4f4f4;\n",
       "                color: #555;\n",
       "                padding: 4px 0;\n",
       "                font-weight: bold;\n",
       "                border-top-left-radius: 8px;\n",
       "                border-top-right-radius: 8px;\n",
       "            \">\n",
       "                Last modified\n",
       "            </div>\n",
       "            \n",
       "            <!-- Main calendar -->\n",
       "            <div>\n",
       "                <div style=\"\n",
       "                    background: #66a6ff;\n",
       "                    color: white;\n",
       "                    padding: 5px 0;\n",
       "                    font-weight: bold;\n",
       "                \">\n",
       "                    Aug, 2025\n",
       "                </div>\n",
       "                <div style=\"\n",
       "                    background: #fff;\n",
       "                    color: #333;\n",
       "                    padding: 8px 0;\n",
       "                    font-size: 20px;\n",
       "                    font-weight: bold;\n",
       "                \">\n",
       "                    20\n",
       "                </div>\n",
       "                <div style=\"\n",
       "                    background: #f4f4f4;\n",
       "                    color: #333;\n",
       "                    padding: 4px 0;\n",
       "                    font-size: 12px;\n",
       "                \">\n",
       "                    02:26:33 PM\n",
       "                </div>\n",
       "            </div>\n",
       "        </div>\n",
       "        \n",
       "        <!-- Header content on the right -->\n",
       "        <div style=\"flex: 1;\">\n",
       "            <h2 style=\"\n",
       "                margin: 0;\n",
       "                color: #EF8C00;\n",
       "                font-size: 2.4em;\n",
       "                padding-left: 0;\n",
       "                text-indent: 0;\n",
       "            \">\n",
       "                How to build an autotuner?\n",
       "            </h2>\n",
       "            <p style=\"margin: 0.5em 0 0 0;\">\n",
       "                \n",
       "            </p>\n",
       "        </div>\n",
       "    </div>\n",
       "    "
      ],
      "text/plain": [
       "<IPython.core.display.HTML object>"
      ]
     },
     "metadata": {},
     "output_type": "display_data"
    },
    {
     "data": {
      "text/html": [
       "\n",
       "\t<div style=\"padding:12px; border-radius:6px; background:#f9f9f9; margin:8px 0; border-left:3px solid #667eea;\">\n",
       "\t\t<div style=\"font:bold 16px Arial; color:#333; margin-bottom:12px;\">\n",
       "\t\t\t📋 Table of Contents\n",
       "\t\t</div>\n",
       "\t\t<div style=\"font:11px Arial; color:#666; margin-bottom:8px;\">\n",
       "\t\t\tProgress: 0% (0/0)\n",
       "\t\t</div>\n",
       "\t\t\n",
       "\t</div>\n",
       "\t"
      ],
      "text/plain": [
       "<IPython.core.display.HTML object>"
      ]
     },
     "metadata": {},
     "output_type": "display_data"
    }
   ],
   "source": [
    "#hide\n",
    "from utils import *\n",
    "hc(\n",
    "    \"How to build an autotuner?\",\n",
    "    [],\n",
    ")\n",
    "toc(\n",
    "    [\n",
    "    ],\n",
    "    1\n",
    ")"
   ]
  },
  {
   "cell_type": "code",
   "execution_count": null,
   "id": "53f73117-ffc1-4b8d-b113-e4e16685885b",
   "metadata": {},
   "outputs": [],
   "source": []
  }
 ],
 "metadata": {
  "kernelspec": {
   "display_name": "DevQuest",
   "language": "python",
   "name": "devquest-3.10"
  },
  "language_info": {
   "codemirror_mode": {
    "name": "ipython",
    "version": 3
   },
   "file_extension": ".py",
   "mimetype": "text/x-python",
   "name": "python",
   "nbconvert_exporter": "python",
   "pygments_lexer": "ipython3",
   "version": "3.10.18"
  }
 },
 "nbformat": 4,
 "nbformat_minor": 5
}
