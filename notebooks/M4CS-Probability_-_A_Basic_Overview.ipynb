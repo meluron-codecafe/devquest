{
 "cells": [
  {
   "cell_type": "code",
   "execution_count": 1,
   "id": "5d63ee2b-ec39-42d1-93bc-0ddea0f1e7a5",
   "metadata": {
    "jupyter": {
     "source_hidden": true
    }
   },
   "outputs": [
    {
     "data": {
      "text/html": [
       "\n",
       "    <style>\n",
       "    .hc-wrapper {\n",
       "        display: flex;\n",
       "        align-items: center;\n",
       "        font-family: 'Georgia', serif;\n",
       "        border-left: 3px solid #666;\n",
       "        padding-left: 12px;\n",
       "        margin-top: 1em;  /* prevent overlap with buttons */\n",
       "        margin-bottom: 1em;\n",
       "        gap: 20px;\n",
       "    }\n",
       "    .hc-calendar {\n",
       "        display: inline-block;\n",
       "        font-family: 'Arial', sans-serif;\n",
       "        border-radius: 8px;\n",
       "        overflow: hidden;\n",
       "        background: #2d2d2d;\n",
       "        box-shadow: 0 2px 6px rgba(0,0,0,0.3);\n",
       "        width: 120px;\n",
       "        font-size: 12px;\n",
       "        text-align: center;\n",
       "        flex-shrink: 0;\n",
       "        border: 1px solid #444;\n",
       "    }\n",
       "    .hc-header {\n",
       "        background: #333;\n",
       "        color: #ddd;\n",
       "        padding: 4px 0;\n",
       "        font-weight: bold;\n",
       "        font-size: 11px;\n",
       "    }\n",
       "    .hc-month {\n",
       "        background: #4aa3ff;\n",
       "        color: #fff;\n",
       "        padding: 5px 0;\n",
       "        font-weight: bold;\n",
       "    }\n",
       "    .hc-day {\n",
       "        background: #3a3a3a;\n",
       "        color: #eee;\n",
       "        padding: 8px 0;\n",
       "        font-size: 20px;\n",
       "        font-weight: bold;\n",
       "    }\n",
       "    .hc-time {\n",
       "        background: #333;\n",
       "        color: #bbb;\n",
       "        padding: 4px 0;\n",
       "        font-size: 12px;\n",
       "    }\n",
       "    .hc-title {\n",
       "        margin: 0;\n",
       "        color: #EF8C00;\n",
       "        font-size: 2.4em;\n",
       "        line-height: 1.2em;\n",
       "        word-break: break-word;\n",
       "    }\n",
       "    .hc-keywords {\n",
       "        margin: 0.5em 0 0 0;\n",
       "        font-size: 0.9em;\n",
       "        opacity: 0.8;\n",
       "    }\n",
       "    </style>\n",
       "\n",
       "    <div class=\"hc-wrapper\">\n",
       "        <!-- Calendar -->\n",
       "        <div class=\"hc-calendar\">\n",
       "            <div class=\"hc-header\">Last modified</div>\n",
       "            <div class=\"hc-month\">Sep, 2025</div>\n",
       "            <div class=\"hc-day\">12</div>\n",
       "            <div class=\"hc-time\">06:13:46 PM</div>\n",
       "        </div>\n",
       "        \n",
       "        <!-- Header text -->\n",
       "        <div style=\"flex: 1;\">\n",
       "            <h1 class=\"hc-title\">Probability - A Basic Overview</h2>\n",
       "            <p class=\"hc-keywords\">;</p>\n",
       "        </div>\n",
       "    </div>\n",
       "    "
      ],
      "text/plain": [
       "<IPython.core.display.HTML object>"
      ]
     },
     "metadata": {},
     "output_type": "display_data"
    }
   ],
   "source": [
    "#hide\n",
    "from utils import *\n",
    "hc(\n",
    "    \"Probability - A Basic Overview\",\n",
    "    [\"\"]\n",
    ")"
   ]
  },
  {
   "cell_type": "markdown",
   "id": "1f01e903-f803-48cb-b09f-b217949b869d",
   "metadata": {},
   "source": [
    "## Source"
   ]
  },
  {
   "cell_type": "markdown",
   "id": "ed9d6c3b-7957-4243-8b33-a00ac6458d96",
   "metadata": {},
   "source": [
    "[Chapter 2: Probability](https://sar.ac.id/stmik_ebook/prog_file_file/XCN2xPxjGa.pdf)"
   ]
  },
  {
   "cell_type": "markdown",
   "id": "656b7270-0d63-42ae-96e0-6fd5344877b8",
   "metadata": {},
   "source": [
    "## Motivation\n",
    "\n",
    "*Probabilty theory* lays out the foundation for numerous applications that we use in on a daily basis. This is my attempt to explore the theory in a reasonable depth so that I can appreciate the beaty of how people used it to build so many products that today impact the whole of humanity."
   ]
  },
  {
   "cell_type": "markdown",
   "id": "91b5dda5-452d-491a-b0c3-4f582278c96f",
   "metadata": {},
   "source": [
    "## AIM"
   ]
  },
  {
   "cell_type": "markdown",
   "id": "119af668-1c3a-4e91-9caf-6b500029cab2",
   "metadata": {},
   "source": [
    "1. To read through chapter 2 and demonstrate my interpretation of the same with code wherever possible."
   ]
  },
  {
   "cell_type": "markdown",
   "id": "a73bfb10-7801-4447-86db-b7166f10c2ee",
   "metadata": {},
   "source": [
    "## Sample Space"
   ]
  },
  {
   "cell_type": "markdown",
   "id": "4be31e53-f893-4ddf-b572-d404133cc94c",
   "metadata": {},
   "source": [
    "A collection/set of all possible outcomes of an experiment. It is denoted by $\\Omega$.\n",
    "\n",
    "Example: If the experiment is tossing a dice then the sample space will be the set $\\{1, 2, 3, 4, 5, 6\\}$"
   ]
  },
  {
   "cell_type": "markdown",
   "id": "4e8b99a6-b5f3-4ff3-8a42-48b12462f7d7",
   "metadata": {},
   "source": [
    "## Event"
   ]
  },
  {
   "cell_type": "markdown",
   "id": "727dd58d-8bf3-4d12-bcc5-5586bfe8e879",
   "metadata": {},
   "source": [
    "Any subset of a *sample space* is an event. It is denoted by $E$.\n",
    "\n",
    "Example: For an experiment of throwing a dice, we can have the following events:\n",
    "- An event of getting 1: $\\{1\\}$\n",
    "- An event of getting 5: $\\{5\\}$\n",
    "- An event of getting even: $\\{2, 4, 6\\}$\n",
    "- An event of getting 1, 6: $\\{1, 6\\}$\n",
    "and so on..."
   ]
  },
  {
   "cell_type": "markdown",
   "id": "30439823-f01f-4775-9709-8f24ed7c5daf",
   "metadata": {},
   "source": [
    "For a sample space containing $N$ elements, the number of possible events is $2^N$.\n",
    "\n",
    "Let's list out all the possible events for rolling a coin experiment.\n",
    "$\\{\\phi, \\{H\\}, \\{T\\}, \\{H, T\\}\\}$ "
   ]
  },
  {
   "cell_type": "code",
   "execution_count": 155,
   "id": "9c43db99-d8c2-456c-ac31-7a84dddbe555",
   "metadata": {},
   "outputs": [
    {
     "name": "stdout",
     "output_type": "stream",
     "text": [
      "{frozenset(), frozenset({'Head', 'Tail'}), frozenset({'Tail'}), frozenset({'Head'})}\n"
     ]
    }
   ],
   "source": [
    "#----------------------\n",
    "# Naive Implementation.\n",
    "#----------------------\n",
    "from itertools import combinations\n",
    "def get_all_possible_events(sample_space):\n",
    "    \"\"\"\n",
    "    Given a sample space, find all the\n",
    "    possible events.\n",
    "\n",
    "    Parameters\n",
    "    ----------\n",
    "    sample_space: set[str, ...]\n",
    "        - Set of outcomes.\n",
    "    \n",
    "    Returns\n",
    "    -------\n",
    "    set:\n",
    "        Set of all possible events.\n",
    "    \"\"\"\n",
    "    empty_event = frozenset([\"PHI\"])\n",
    "    Es = set([empty_event]) # A set that will be filled with all the possible events\n",
    "    N = len(sample_space) # Total number of possible outcomes\n",
    "    sample_space = list(sample_space) # Because we will need indexing operation\n",
    "\n",
    "    for i in range(1, N+1): # To keep track of how many outcomes we are putting together in the event\n",
    "        for E in combinations(sample_space, i):\n",
    "            Es.add(frozenset(E))\n",
    "\n",
    "    # Check if the number of events is correct\n",
    "    if len(Es) != 2 ** N:\n",
    "        raise ValueError(f\"The number of events is not correct\")\n",
    "\n",
    "    return Es\n",
    "\n",
    "#--------------------------------------\n",
    "# For people who want an implementation\n",
    "# without using `combination` API\n",
    "#--------------------------------------\n",
    "def get_all_possible_events_bitwise(sample_space):\n",
    "    \"\"\"\n",
    "    Given a sample space, find all the\n",
    "    possible events using bitwise operations.\n",
    "\n",
    "    Parameters\n",
    "    ----------\n",
    "    sample_space: set[str, ...]\n",
    "        - Set of outcomes.\n",
    "    \n",
    "    Returns\n",
    "    -------\n",
    "    set:\n",
    "        Set of all possible events.\n",
    "    \"\"\"\n",
    "\n",
    "    sample_space = list(sample_space)\n",
    "    N = len(sample_space)\n",
    "    \n",
    "    empty_event = frozenset()\n",
    "    Es = set([empty_event])\n",
    "\n",
    "    # Since we are using bit-wise ops, we will create a bit mask\n",
    "    for bitmask in range(1 << N): # 1 << n = 2 ** N\n",
    "        E = [] # To store a possible event\n",
    "        for i in range(N): # Think of the list element to take ordered position in binary (000 - [A, B, C])\n",
    "            # Since the mask has all the position combination, we just need to figure out which indices are activated (1)\n",
    "            if bitmask & (1 << i): # This will only be true for cases when atleast the i-th position of mask is 1\n",
    "                E.append(sample_space[i])\n",
    "\n",
    "        Es.add(frozenset(E))\n",
    "\n",
    "    return Es\n",
    "\n",
    "Es = get_all_possible_events_bitwise({\"Head\", \"Tail\"})\n",
    "print(Es)"
   ]
  },
  {
   "cell_type": "markdown",
   "id": "9fd31451-fca8-4071-bf36-4f4eecbd8dcb",
   "metadata": {},
   "source": [
    "## Set Operations"
   ]
  },
  {
   "cell_type": "code",
   "execution_count": null,
   "id": "cca6dc37-3cc7-4403-8c9d-f6f510759642",
   "metadata": {},
   "outputs": [],
   "source": []
  },
  {
   "cell_type": "code",
   "execution_count": null,
   "id": "1e3b219e-afaf-4c77-905f-ca1ba981c091",
   "metadata": {},
   "outputs": [],
   "source": []
  },
  {
   "cell_type": "code",
   "execution_count": null,
   "id": "d45a8a95-ed80-459c-97d3-1487a8d114b0",
   "metadata": {},
   "outputs": [],
   "source": []
  },
  {
   "cell_type": "code",
   "execution_count": null,
   "id": "8e9adc0d-f812-454e-bc55-94af90f58dab",
   "metadata": {},
   "outputs": [],
   "source": []
  },
  {
   "cell_type": "code",
   "execution_count": null,
   "id": "be116ab4-84b4-475a-909d-75132dbeb3f6",
   "metadata": {},
   "outputs": [],
   "source": []
  },
  {
   "cell_type": "code",
   "execution_count": null,
   "id": "6ca711a4-ef4a-4cbb-9aa9-8b095915850c",
   "metadata": {},
   "outputs": [],
   "source": []
  },
  {
   "cell_type": "code",
   "execution_count": null,
   "id": "ec8888f7-fd27-4fb9-bfd2-89ac48ed9bba",
   "metadata": {},
   "outputs": [],
   "source": []
  },
  {
   "cell_type": "code",
   "execution_count": null,
   "id": "015a1a30-9ed0-4cd0-98c1-ba0e49017913",
   "metadata": {},
   "outputs": [],
   "source": []
  },
  {
   "cell_type": "markdown",
   "id": "adb883ab-2283-4c54-ae09-a0565d58f530",
   "metadata": {},
   "source": [
    "## Probability Space"
   ]
  },
  {
   "cell_type": "markdown",
   "id": "e566a63b-b4ec-4515-ae77-f1eb9eaf7b5a",
   "metadata": {},
   "source": [
    "A Probability space is a *triple* $(\\Omega, \\mathcal{F}, P)$ where,\n",
    "\n",
    "- $\\Omega$ is a set of \"outcomes\".\n",
    "- $\\mathcal{F}$ is a set of \"events\".\n",
    "- $P : \\mathcal{F} \\rightarrow [0, 1]$ is a function that assigns probabilities to events.\n",
    "\n",
    "An assumption is that $\\mathcal{F}$ is a $\\sigma$-field that means $\\mathcal{F}$ is a non-empty subset of $\\Omega$ that satisfy:\n",
    "- if $A \\in \\mathcal{F}$ then $A^c \\in \\mathcal{F}$\n",
    "- if $A_i \\in \\mathcal{F}$ is a countable sequence of sets then "
   ]
  },
  {
   "cell_type": "code",
   "execution_count": null,
   "id": "0c72c37c-2560-4264-bb82-e8bdf6b26f57",
   "metadata": {},
   "outputs": [],
   "source": []
  },
  {
   "cell_type": "markdown",
   "id": "2832a3aa-605e-4c9d-95ee-27374dfdce83",
   "metadata": {},
   "source": [
    "## Measurable Space\n"
   ]
  },
  {
   "cell_type": "code",
   "execution_count": null,
   "id": "334b121a-4fc6-4d95-87b0-bdcac8663c52",
   "metadata": {},
   "outputs": [],
   "source": []
  },
  {
   "cell_type": "markdown",
   "id": "41dfb66b-397e-4b0e-9a63-5efc88e8735f",
   "metadata": {},
   "source": [
    "**DEF**: \\\n",
    "[It says](http://old-eclass.uop.gr/modules/document/file.php/TST244/%5BGeoffrey_R._Grimmett%2C_David_R._Stirzaker%5D_Probabi(BookZZ.org).pdf): A random variable is a function $X : \\Omega \\rightarrow \\mathbb{R}$ with the property that $\\{\\omega \\in \\Omega : X(\\omega) \\le x \\} \\in \\mathcal{F}$ for each $x \\in \\mathbb{R}$. Such function is called $\\mathcal{F}$ measurable.\n",
    "\n",
    "$\\Omega$: aka sample-space is a **set** of all the possible outcomes of an experiment. Eg. $\\{H, T \\}$ for a coin toss. \\\n",
    "$\\mathcal{F}$: A **set** of elements which are subsets of $\\Omega$. Eg. $\\{\\Phi, \\{H \\}, \\{ T\\}, \\{H, T\\} \\}$. It is defined in a way that we can always choose an $x \\in \\mathbb{R}$ such that the set $\\{\\omega \\in \\Omega : X(\\omega) \\le x \\} \\in \\mathcal{F}$. This condition ensures that probabilty of any random variable is well defined (check $\\sigma$-algebra rules)."
   ]
  },
  {
   "cell_type": "markdown",
   "id": "ca4bf8b9-ba49-4edf-bcfc-232a0de71315",
   "metadata": {},
   "source": [
    "**DEF:** \\\n",
    "Any collection of random variables evolving over time is called *Stochastic Process*. Mathematically, it is defined as\n",
    "\n",
    "$\\{\\vec{X_t} : t \\in T\\}$; where $\\vec{X_t}$ ($\\in \\mathbb{R}^n$) \n",
    "\n",
    "$\\vec{X_t}$ generally corresponds to a physical observable like temperature, pressure, head/tail for a coin toss, etc.\n",
    "\n",
    "**EXAMPLE:** \\\n",
    "You are flipping the coin and observing the outcome. So the collection $\\{H, T, T, T, H, ... \\}$ is a stochastic process."
   ]
  },
  {
   "cell_type": "markdown",
   "id": "a278e94c-1dde-42e3-9075-43bd809b0e74",
   "metadata": {},
   "source": [
    "## Classification"
   ]
  },
  {
   "cell_type": "markdown",
   "id": "b4c7995b-6bc7-4a5e-96cd-aec5c9697ec9",
   "metadata": {},
   "source": [
    "**UNIVARIATE/MULTIVARIATE** \\\n",
    "Based on the dimension ($n$) of $X_t$, the stochastic process can be *univariate* ($n=1$) or *multivariate* ($n > 1$).\n",
    "\n",
    "EXAMPLE: \\\n",
    "You are recording the tempature and humidity. So the collection $\\{[24, 70\\%], [25, 70\\%], [24, 65\\%], ... \\}$\n",
    "\n",
    "**DISCRETE-TIME/CONTINUOUS-TIME** \\\n",
    "Based on the continuity of $t$, the stochastic process can be *discrete-time* or *continuous-time*. This is what we often mean when we say *discrete/continuous stochastic process*.\n",
    "\n",
    "EXAMPLE: \\\n",
    "If you are tossing the coin every second (discrete interval), then the stochastic process is called *discrete-time*.\n",
    "\n",
    "**DISCRETE-STATE/CONTINUOUS-STATE**: \\\n",
    "Based on the continuity of the sample space of $X_t$, the stochastic process can be *discrete-state* or *continuous-state*.\n",
    "\n",
    "EXAMPLE: \\\n",
    "If you are tossing the coin every second then the outcome is discrete (Head/Tail), then the stochastic process is called *discrete-state*.\n",
    "\n",
    "**NOTE**: We can have a stochastic process with any possible combination of above."
   ]
  },
  {
   "cell_type": "code",
   "execution_count": null,
   "id": "074ec41c-e7bf-4ce0-afba-c0f1600b1698",
   "metadata": {},
   "outputs": [],
   "source": []
  }
 ],
 "metadata": {
  "kernelspec": {
   "display_name": "DevQuest",
   "language": "python",
   "name": "devquest-3.10"
  },
  "language_info": {
   "codemirror_mode": {
    "name": "ipython",
    "version": 3
   },
   "file_extension": ".py",
   "mimetype": "text/x-python",
   "name": "python",
   "nbconvert_exporter": "python",
   "pygments_lexer": "ipython3",
   "version": "3.10.18"
  }
 },
 "nbformat": 4,
 "nbformat_minor": 5
}
