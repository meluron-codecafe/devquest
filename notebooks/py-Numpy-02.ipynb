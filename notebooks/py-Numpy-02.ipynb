{
 "cells": [
  {
   "cell_type": "markdown",
   "id": "51d9c2ab-7355-4a37-a987-e66a82e8b1a2",
   "metadata": {},
   "source": [
    "<div style=\"font-family: 'Georgia', serif; border-left: 3px solid #ccc; padding-left: 12px; margin-bottom: 1em;\">\n",
    "  <h2 style=\"margin: 0; color: #EF8C00; font-size: 2.4em; padding-left: 0; text-indent: 0;\">\n",
    "      Numpy\n",
    "  </h2>\n",
    "    <p>\n",
    "        scalars\n",
    "    </p>\n",
    "</div>"
   ]
  },
  {
   "cell_type": "markdown",
   "id": "22418636-aebc-4639-8684-c0e43638519c",
   "metadata": {},
   "source": [
    "To hold scalars in numpy, we have different numpy classes."
   ]
  },
  {
   "cell_type": "markdown",
   "id": "a417b52d-2746-4885-8d74-6b467009e41e",
   "metadata": {},
   "source": [
    "## Int"
   ]
  },
  {
   "cell_type": "code",
   "execution_count": 1,
   "id": "0739b5c4-b017-45f6-ad0a-1ded262ebc18",
   "metadata": {},
   "outputs": [],
   "source": [
    "import numpy as np"
   ]
  },
  {
   "cell_type": "code",
   "execution_count": 10,
   "id": "34f44d63-de6b-4597-b448-25662d91c16f",
   "metadata": {},
   "outputs": [
    {
     "name": "stdout",
     "output_type": "stream",
     "text": [
      "10 <class 'numpy.int16'>\n"
     ]
    }
   ],
   "source": [
    "a = np.int16(10)\n",
    "print(a, type(a))"
   ]
  },
  {
   "cell_type": "markdown",
   "id": "b8e8b12f-841d-4514-b534-36b05e9f4299",
   "metadata": {},
   "source": [
    "## Float"
   ]
  },
  {
   "cell_type": "code",
   "execution_count": 9,
   "id": "d51f29c1-cdc9-4787-b7df-9eb019ebb0c3",
   "metadata": {},
   "outputs": [
    {
     "name": "stdout",
     "output_type": "stream",
     "text": [
      "10.0 <class 'numpy.float16'>\n"
     ]
    }
   ],
   "source": [
    "a = np.float16(10)\n",
    "print(a, type(a))"
   ]
  },
  {
   "cell_type": "markdown",
   "id": "a8d1f93a-9f8a-487a-89cb-fa80ebb09056",
   "metadata": {},
   "source": [
    "## Complex"
   ]
  },
  {
   "cell_type": "code",
   "execution_count": 13,
   "id": "d9ee4e47-0dc8-43b2-9a71-896567997c48",
   "metadata": {},
   "outputs": [
    {
     "name": "stdout",
     "output_type": "stream",
     "text": [
      "(10+10j) <class 'numpy.complex64'>\n"
     ]
    }
   ],
   "source": [
    "a = np.complex64(10, 10)\n",
    "print(a, type(a))"
   ]
  },
  {
   "cell_type": "markdown",
   "id": "0e550a8b-e7a7-4c96-a8d2-c15fd1471476",
   "metadata": {},
   "source": [
    "## Operations"
   ]
  },
  {
   "cell_type": "code",
   "execution_count": null,
   "id": "90b48f55-9744-4315-8518-f67554500737",
   "metadata": {},
   "outputs": [],
   "source": []
  },
  {
   "cell_type": "code",
   "execution_count": null,
   "id": "587aa5a7-f84b-4ca6-9994-90c8b36e1003",
   "metadata": {},
   "outputs": [],
   "source": []
  }
 ],
 "metadata": {
  "kernelspec": {
   "display_name": "Python 3 (ipykernel)",
   "language": "python",
   "name": "python3"
  },
  "language_info": {
   "codemirror_mode": {
    "name": "ipython",
    "version": 3
   },
   "file_extension": ".py",
   "mimetype": "text/x-python",
   "name": "python",
   "nbconvert_exporter": "python",
   "pygments_lexer": "ipython3",
   "version": "3.10.18"
  }
 },
 "nbformat": 4,
 "nbformat_minor": 5
}
