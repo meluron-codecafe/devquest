{
 "cells": [
  {
   "cell_type": "code",
   "execution_count": 1,
   "id": "66a001a1-474e-4bf5-90a9-cbec31506ace",
   "metadata": {
    "jupyter": {
     "source_hidden": true
    }
   },
   "outputs": [
    {
     "data": {
      "text/html": [
       "\n",
       "    <div style=\"\n",
       "        display: flex;\n",
       "        align-items: center;\n",
       "        font-family: 'Georgia', serif;\n",
       "        border-left: 3px solid #ccc;\n",
       "        padding-left: 12px;\n",
       "        margin-bottom: 1em;\n",
       "        gap: 20px;\n",
       "    \">\n",
       "        <!-- Calendar on the left (dark mode only) -->\n",
       "        <div style=\"\n",
       "            display: inline-block;\n",
       "            font-family: 'Arial', sans-serif;\n",
       "            border-radius: 8px;\n",
       "            overflow: hidden;\n",
       "            box-shadow: 1px 1px 6px rgba(0,0,0,0.6);\n",
       "            width: 120px;\n",
       "            font-size: 12px;\n",
       "            text-align: center;\n",
       "            flex-shrink: 0;\n",
       "        \">\n",
       "            <!-- Last modified label -->\n",
       "            <div style=\"\n",
       "                background: #333;\n",
       "                color: #ddd;\n",
       "                padding: 4px 0;\n",
       "                font-weight: bold;\n",
       "                border-top-left-radius: 8px;\n",
       "                border-top-right-radius: 8px;\n",
       "            \">\n",
       "                Last modified\n",
       "            </div>\n",
       "            \n",
       "            <!-- Main calendar -->\n",
       "            <div>\n",
       "                <div style=\"\n",
       "                    background: #007acc;\n",
       "                    color: white;\n",
       "                    padding: 5px 0;\n",
       "                    font-weight: bold;\n",
       "                \">\n",
       "                    Sep, 2025\n",
       "                </div>\n",
       "                <div style=\"\n",
       "                    background: #2d2d2d;\n",
       "                    color: #ddd;\n",
       "                    padding: 8px 0;\n",
       "                    font-size: 20px;\n",
       "                    font-weight: bold;\n",
       "                \">\n",
       "                    08\n",
       "                </div>\n",
       "                <div style=\"\n",
       "                    background: #333;\n",
       "                    color: #ddd;\n",
       "                    padding: 4px 0;\n",
       "                    font-size: 12px;\n",
       "                \">\n",
       "                    11:11:53 AM\n",
       "                </div>\n",
       "            </div>\n",
       "        </div>\n",
       "        \n",
       "        <!-- Header content on the right (unchanged) -->\n",
       "        <div style=\"flex: 1;\">\n",
       "            <h2 style=\"\n",
       "                margin: 0;\n",
       "                color: #EF8C00;\n",
       "                font-size: 2.4em;\n",
       "                padding-left: 0;\n",
       "                text-indent: 0;\n",
       "            \">\n",
       "                A Tutorial on Hidden Markov Models and Selected Applications in Speech Recognition\n",
       "            </h2>\n",
       "            <p style=\"margin: 0.5em 0 0 0;\">\n",
       "                ;\n",
       "            </p>\n",
       "        </div>\n",
       "    </div>\n",
       "    "
      ],
      "text/plain": [
       "<IPython.core.display.HTML object>"
      ]
     },
     "metadata": {},
     "output_type": "display_data"
    },
    {
     "data": {
      "text/html": [
       "\n",
       "    <div id=\"toc-box\" style=\"\n",
       "        position:fixed; \n",
       "        top:40px; right:10px; \n",
       "        background:#1e1e1e; \n",
       "        border-left:4px solid #4caf50; \n",
       "        border-radius:8px; \n",
       "        box-shadow:0 2px 8px rgba(0,0,0,0.35); \n",
       "        font-family:'Fira Code', Consolas, monospace;\n",
       "        z-index:9999;\n",
       "        width:50px; /* collapsed width */\n",
       "        transition: width 0.3s ease;\n",
       "        overflow:hidden;\n",
       "        color:#d4d4d4;\n",
       "    \">\n",
       "    \n",
       "    <div onclick=\"\n",
       "        var box=document.getElementById('toc-box');\n",
       "        var content=document.getElementById('toc-box-content');\n",
       "        if(content.style.display=='none'){\n",
       "            content.style.display='block';\n",
       "            box.style.width='260px';\n",
       "        } else {\n",
       "            content.style.display='none';\n",
       "            box.style.width='50px';\n",
       "        }\n",
       "    \" style=\"display:flex; align-items:center; justify-content:center; \n",
       "             padding:8px; cursor:pointer; user-select:none;\">\n",
       "        <svg width=\"32\" height=\"32\" viewBox=\"0 0 36 36\" style=\"transform: rotate(-90deg);\">\n",
       "            <circle cx=\"18\" cy=\"18\" r=\"15.9155\" fill=\"none\" stroke=\"#333\" stroke-width=\"3\"/>\n",
       "            <circle cx=\"18\" cy=\"18\" r=\"15.9155\" fill=\"none\" \n",
       "                    stroke=\"#4caf50\" stroke-width=\"3\"\n",
       "                    stroke-dasharray=\"25, 100\"/>\n",
       "            <text x=\"18\" y=\"21\" text-anchor=\"middle\" fill=\"#d4d4d4\"\n",
       "                  font-size=\"9\" font-family=\"Arial\" transform=\"rotate(90,18,18)\">1/4</text>\n",
       "        </svg>\n",
       "    </div>\n",
       "    \n",
       "    <div id=\"toc-box-content\" style=\"display:none; padding:0 15px 12px 15px; \n",
       "                max-height:60vh; overflow-y:auto;\">\n",
       "        <div style=\"font-weight:bold; font-size:14px; margin-bottom:10px; color:#ffffff;\">\n",
       "            Table of Contents\n",
       "        </div>\n",
       "    \n",
       "        <div>\n",
       "            <div style=\"display:flex; align-items:center; margin-bottom:0;\">\n",
       "                <div style=\"\n",
       "                    width:20px; height:20px; border-radius:50%; \n",
       "                    background:#4caf50; color:white; \n",
       "                    display:flex; align-items:center; justify-content:center;\n",
       "                    font-size:10px; font-weight:bold;\n",
       "                    box-shadow: 0 2px 4px rgba(0,0,0,0.35);\n",
       "                \">✓</div>\n",
       "                <div style=\"margin-left:10px; font:12px 'Fira Code', monospace; font-weight:500;\">\n",
       "                    <a href=\"#References\" style=\"color:#4caf50; text-decoration:none;\">References</a>\n",
       "                </div>\n",
       "            </div>\n",
       "            <div style=\"width:2px; height:20px; background:#4caf50; margin-left:9px; margin-top:-4px;\"></div>\n",
       "        </div>\n",
       "        \n",
       "        <div>\n",
       "            <div style=\"display:flex; align-items:center; margin-bottom:0;\">\n",
       "                <div style=\"\n",
       "                    width:20px; height:20px; border-radius:50%; \n",
       "                    background:#2d2d2d; color:white; \n",
       "                    display:flex; align-items:center; justify-content:center;\n",
       "                    font-size:10px; font-weight:bold;\n",
       "                    box-shadow: 0 2px 4px rgba(0,0,0,0.35);\n",
       "                \">○</div>\n",
       "                <div style=\"margin-left:10px; font:12px 'Fira Code', monospace; font-weight:500;\">\n",
       "                    <a href=\"#Goal\" style=\"color:#999; text-decoration:none;\">Goal</a>\n",
       "                </div>\n",
       "            </div>\n",
       "            <div style=\"width:2px; height:20px; background:#444; margin-left:9px; margin-top:-4px;\"></div>\n",
       "        </div>\n",
       "        \n",
       "        <div>\n",
       "            <div style=\"display:flex; align-items:center; margin-bottom:0;\">\n",
       "                <div style=\"\n",
       "                    width:20px; height:20px; border-radius:50%; \n",
       "                    background:#2d2d2d; color:white; \n",
       "                    display:flex; align-items:center; justify-content:center;\n",
       "                    font-size:10px; font-weight:bold;\n",
       "                    box-shadow: 0 2px 4px rgba(0,0,0,0.35);\n",
       "                \">○</div>\n",
       "                <div style=\"margin-left:10px; font:12px 'Fira Code', monospace; font-weight:500;\">\n",
       "                    <a href=\"#Observable-Markov-Model\" style=\"color:#999; text-decoration:none;\">Observable Markov Model</a>\n",
       "                </div>\n",
       "            </div>\n",
       "            <div style=\"width:2px; height:20px; background:#444; margin-left:9px; margin-top:-4px;\"></div>\n",
       "        </div>\n",
       "        \n",
       "        <div>\n",
       "            <div style=\"display:flex; align-items:center; margin-bottom:0;\">\n",
       "                <div style=\"\n",
       "                    width:20px; height:20px; border-radius:50%; \n",
       "                    background:#2d2d2d; color:white; \n",
       "                    display:flex; align-items:center; justify-content:center;\n",
       "                    font-size:10px; font-weight:bold;\n",
       "                    box-shadow: 0 2px 4px rgba(0,0,0,0.35);\n",
       "                \">○</div>\n",
       "                <div style=\"margin-left:10px; font:12px 'Fira Code', monospace; font-weight:500;\">\n",
       "                    <a href=\"#An-OMM-ExampleHidden-Markov-Model\" style=\"color:#999; text-decoration:none;\">An OMM ExampleHidden Markov Model</a>\n",
       "                </div>\n",
       "            </div>\n",
       "            \n",
       "        </div>\n",
       "        </div></div>"
      ],
      "text/plain": [
       "<IPython.core.display.HTML object>"
      ]
     },
     "metadata": {},
     "output_type": "display_data"
    }
   ],
   "source": [
    "#hide\n",
    "from utils import *\n",
    "hc(\n",
    "    \"A Tutorial on Hidden Markov Models and Selected Applications in Speech Recognition\",\n",
    "    [\"\"]\n",
    ")\n",
    "toc(\n",
    "    [\n",
    "        \"References\",\n",
    "        \"Goal\",\n",
    "        \"Observable Markov Model\",\n",
    "        \"An OMM Example\"\n",
    "        \"Hidden Markov Model\"\n",
    "    ],\n",
    "    1\n",
    ")"
   ]
  },
  {
   "cell_type": "markdown",
   "id": "4f5d61d3-4663-48cc-a69c-2a1b398cc4ef",
   "metadata": {},
   "source": [
    "## References"
   ]
  },
  {
   "cell_type": "markdown",
   "id": "ffdd6f97-ea3e-4b4c-9d3d-13237955c9af",
   "metadata": {},
   "source": [
    "1. [1966: Statistical Inference for Probabilistic Functions of Finite State Markov Chains](https://projecteuclid.org/journals/annals-of-mathematical-statistics/volume-37/issue-6/Statistical-Inference-for-Probabilistic-Functions-of-Finite-State-Markov-Chains/10.1214/aoms/1177699147.full)\n",
    "3. [1989: A Tutorial on HMM by Rabiner](https://ieeexplore.ieee.org/stamp/stamp.jsp?tp=&arnumber=18626) (Main)\n",
    "4. [2012: Chapter 17 Machine Learning - A Probabilistic Perspective](https://raw.githubusercontent.com/kerasking/book-1/master/ML%20Machine%20Learning-A%20Probabilistic%20Perspective.pdf)\n",
    "5. [A Revealing Introduction to Hidden Markov Models](https://www.cs.sjsu.edu/~stamp/RUA/HMM.pdf)"
   ]
  },
  {
   "cell_type": "markdown",
   "id": "0830d7c3-cdb5-4a12-a478-1b72dfd90393",
   "metadata": {},
   "source": [
    "## Goal\n",
    "\n",
    "1. To follow [2] thoroughly.\n",
    "2. To understand HMM from mathematical perspective.\n",
    "3. To be able to implement HMM from scratch in Python\n",
    "4. To be able to use it in a real-world context."
   ]
  },
  {
   "cell_type": "markdown",
   "id": "1018fafc-c677-4897-97e2-9a5c944a4b6e",
   "metadata": {},
   "source": [
    "## Observable Markov Model"
   ]
  },
  {
   "cell_type": "markdown",
   "id": "ff56f266-2de8-4def-8488-fc22f465a9db",
   "metadata": {},
   "source": [
    "Consider a system that is charaterized at any given time $t \\in \\{0, 1, 2, \\dots \\}$ by a state variable $q_t \\in \\mathbb{S} = \\{S_0, S_1, \\dots, S_{N-1}\\}$.\n",
    "\n",
    "The probability of the system to be in state $S_j$ at time $t$ (depends only on its past) is defined as \\\n",
    "$P[q_t = S_j | q_{t-1} = S_i, q_{t-2} = S_k, \\dots]$\n",
    "\n",
    "To simplify the problem, we make few assumptions:\n",
    "\n",
    "1. The system's current state $q_t$ only depends on it's immediate previous state $q_{t-1}$. \\\n",
    "$P[q_t = S_j | q_{t-1} = S_i, q_{t-2} = S_k, \\dots] = P[q_t = S_j | q_{t-1} = S_i]$\n",
    "2. The dependency is independent of $t$. \\\n",
    "$P[q_t = S_j | q_{t-1} = S_i] = a_{ij}$ \\\n",
    "where, $a_{ij}$ is independent of $t$ meaning $\\frac{da_{ij}}{dt} = 0$\n",
    "3. The system at any $t$ has to be in one of the states $\\mathbb{S}$. \\\n",
    "$a_{ij} \\ge 0$ and $\\sum_{j=0}^{N-1}a_{ij} = 1$\n",
    "\n",
    "JARGON\n",
    "- ${a_{ij}}$ is the probability of $S_i \\rightarrow S_j$ transition and is often referred to as *State Transition Probabilites.*\n",
    "- The system that follows the above assumptions are called *N-state Observable Markov Models (N-state OMMs)*. The reason for calling it as *observable* is due to the states i.e. elements $\\in \\mathbb{S}$ being physical observables."
   ]
  },
  {
   "cell_type": "markdown",
   "id": "9555b888-63eb-4664-a5b1-4a480807f41b",
   "metadata": {},
   "source": [
    "## An OMM Example"
   ]
  },
  {
   "cell_type": "markdown",
   "id": "54539ff0-879e-4a52-8499-31a480c3efe2",
   "metadata": {},
   "source": [
    "Suppose the weather for a day can be characterized into one the three states. Hence the system can be modelled with a *3-State Observable Markov Model*.\n",
    "- State 0 ($S_0$): rain/snow\n",
    "- State 1 ($S_1$): cloudy\n",
    "- State 2 ($S_2$): sunny\n",
    "\n",
    "with the following state transition probabilites written in matrix form\n",
    "\n",
    "$A = {a_{ij}} = \\begin{bmatrix} 0.4 & 0.3 & 0.3 \\\\ 0.2 & 0.6 & 0.2 \\\\ 0.1 & 0.1 & 0.8 \\end{bmatrix}$\n",
    "\n",
    "We also define $\\pi_{i}$ which is the probability of initialising the system with state $i$,\n",
    "\n",
    "$\\pi_{i} = P(q_1 = S_i), \\quad 0 \\le i \\le 2$"
   ]
  },
  {
   "cell_type": "code",
   "execution_count": 2,
   "id": "6e0c5a7a-6906-4644-910c-ad27bfc870a8",
   "metadata": {
    "jupyter": {
     "source_hidden": true
    }
   },
   "outputs": [
    {
     "data": {
      "image/png": "[encoded data removed]",
      "text/plain": [
       "<Figure size 400x400 with 4 Axes>"
      ]
     },
     "metadata": {},
     "output_type": "display_data"
    }
   ],
   "source": [
    "#hide\n",
    "import numpy as np\n",
    "import modusa as ms\n",
    "\n",
    "A = np.array([[0.4, 0.3, 0.3], [0.2, 0.6, 0.2], [0.1, 0.1, 0.8]])\n",
    "fig = ms.fig(\"m\", width=4)\n",
    "fig.add_matrix(A, label=\"Probability\", \n",
    "               yticks=[0, 1, 2], yticklabels=[\"Rain/Snow\", \"Cloudy\", \"Sunny\"], \n",
    "               xticks=[0, 1, 2], xticklabels=[\"Rain/Snow\", \"Cloudy\", \"Sunny\"],\n",
    "              )\n",
    "fig.add_title(\"Transition Probablity Matrix\")"
   ]
  },
  {
   "cell_type": "markdown",
   "id": "af01519c-e9d3-490b-a95a-c0dc2c20e7a6",
   "metadata": {},
   "source": [
    "For any OMMs, we are interested in the following queries:\n",
    "- The probability of observing a given sequence of states.\n",
    "- Given the model is in state $S_i$, the probability of the model to stays in the same state $S_i$ for next $d$ duration."
   ]
  },
  {
   "cell_type": "markdown",
   "id": "779e7561-5c47-439f-88fa-af37de01b9c6",
   "metadata": {},
   "source": [
    "The probability of getting a given sequence of observations $O$ say, $O = \\{S_2, S_2, S_2, S_0, S_0, S_2, S_1, S_2\\}$ corresponding to $t = \\{0, 1, 2, ..., 7\\}$ is given by:\n",
    "\n",
    "$P(O|\\text{Model}) = P(S_2, S_2, S_2, S_0, S_0, S_2, S_1, S_2|\\text{Model})$\n",
    "\n",
    "$= P(S_2) \\times P(S_2 | S_2) \\times P(S_2 | S_2) \\times P(S_0 | S_2) \\times P(S_0 | S_0) \\times P(S_2 | S_0) \\times P(S_1 | S_2) \\times P(S_2 | S_1)$\n",
    "\n",
    "$= \\pi_{2} \\times a_{22} \\times a_{22} \\times a_{20} \\times a_{00} \\times a_{02} \\times a_{21} \\times a_{12}$\n"
   ]
  },
  {
   "cell_type": "code",
   "execution_count": 3,
   "id": "def7a766-e26f-49e9-86ae-25168ffa8275",
   "metadata": {
    "jupyter": {
     "source_hidden": true
    }
   },
   "outputs": [
    {
     "name": "stdout",
     "output_type": "stream",
     "text": [
      "1.536e-04\n"
     ]
    }
   ],
   "source": [
    "def compute_prob_obsv(O, A, pi):\n",
    "    \"\"\"\n",
    "    Compute probability of occurence of\n",
    "    a series of observations O given the\n",
    "    OMM characterized by A.\n",
    "\n",
    "    Parameters\n",
    "    ----------\n",
    "    O: list[index]\n",
    "        - Observation sequences i.e. sequence of states to find the probability of.\n",
    "    A: ndarray\n",
    "        - Transition probabilities.\n",
    "    pi: ndarray\n",
    "        - Initial probabilities.\n",
    "    \"\"\"\n",
    "    curr_state = O[0]\n",
    "    P = pi[curr_state] # Initial probability\n",
    "    for i in range(1, len(O)):\n",
    "        prev_state = O[i-1]\n",
    "        curr_state = O[i]\n",
    "        P *= A[prev_state, curr_state]\n",
    "\n",
    "    return P\n",
    "\n",
    "P = compute_prob_obsv([2, 2, 2, 0, 0, 2, 1, 2], A, pi=[1, 1, 1])\n",
    "print(f\"{P:.3e}\")"
   ]
  },
  {
   "cell_type": "markdown",
   "id": "52a87732-dc2f-485c-b352-1af1b0000a68",
   "metadata": {},
   "source": [
    "The probability of the system staying in the same state for $d$ duration is given by:\n",
    "\n",
    "$P(O|\\text{Model})$ where, $O = \\{S_i, S_i, ..., S_i, S_j \\ne S_i \\}$ for $t = \\{0, 1, ..., d-1, d \\}$\n",
    "\n",
    "$P(O|\\text{Model}, q_0 = S_i) = (a_{ii})^{d-1} \\times (1 - a_{ii}) = p_i(d)$\n",
    "\n",
    "JARGON \\\n",
    "$p_i(d)$ is known as (discrete) probability density function (PDF) of duration $d$ in state $i$"
   ]
  },
  {
   "cell_type": "code",
   "execution_count": 9,
   "id": "66bb37fd-20e7-48ed-a416-dad1b4e72af8",
   "metadata": {
    "jupyter": {
     "source_hidden": true
    }
   },
   "outputs": [
    {
     "data": {
      "image/png": "[encoded data removed]",
      "text/plain": [
       "<Figure size 1600x200 with 4 Axes>"
      ]
     },
     "metadata": {},
     "output_type": "display_data"
    }
   ],
   "source": [
    "def compute_dpdf(s0, d, A):\n",
    "    \"\"\"\n",
    "    Compute the discrete probability\n",
    "    density function of duration d in\n",
    "    state i.\n",
    "\n",
    "    s0: int\n",
    "        - Starting state of the system that needs to be retained for next d duration.\n",
    "    d: int\n",
    "        - For how many duration (>0), the state should be unchanged from s0.\n",
    "    A: ndarray\n",
    "        - Transition probability of the system.\n",
    "\n",
    "    Returns\n",
    "    -------\n",
    "    float\n",
    "        - Computed probability.\n",
    "    \"\"\"\n",
    "    \n",
    "    aii = A[s0, s0]\n",
    "\n",
    "    if d <= 0:\n",
    "        raise ValueError(\"d must be greater than 0\")\n",
    "\n",
    "    return (aii ** (d - 1)) * (1 - aii)\n",
    "\n",
    "D = 50 # Total duration for the state to remain unchanged\n",
    "dpdf0 = np.zeros(D-1)\n",
    "dpdf1 = np.zeros(D-1)\n",
    "dpdf2 = np.zeros(D-1)\n",
    "ds = np.zeros(D-1)\n",
    "\n",
    "for d in range(1, 50):\n",
    "    dpdf0[d-1] = compute_dpdf(0, d, A)\n",
    "    dpdf1[d-1] = compute_dpdf(1, d, A)\n",
    "    dpdf2[d-1] = compute_dpdf(2, d, A)\n",
    "    ds[d-1] = d\n",
    "\n",
    "fig = ms.fig(\"s\")\n",
    "fig.add_signal(dpdf0, ds, label=f\"DPDF (state={0})\", ylabel=\"Probability\", ax=1, xticks=np.arange(0, 50, 5))\n",
    "fig.add_signal(dpdf1, ds, label=f\"DPDF (state={1})\", ylabel=\"Probability\", ax=1)\n",
    "fig.add_signal(dpdf2, ds, label=f\"DPDF (state={2})\", ylabel=\"Probability\", ax=1)\n",
    "fig.add_title(\"Probability Density Function\", s=12)\n",
    "fig.add_xlabel(\"Duration\")\n",
    "fig.add_legend(1.2)"
   ]
  },
  {
   "cell_type": "markdown",
   "id": "98e48e16-be8c-4f42-b351-2b359ad34caf",
   "metadata": {},
   "source": [
    "To find the expected number of observations (duration) in a state us given by:\n",
    "\n",
    "$\\bar d_{i} = \\sum_{d=1}^{\\infty} d p_i(d)$\n",
    "\n",
    "$ = \\sum_{d=1}^{\\infty} d (a_{ii})^{d-1} \\times (1 - a_{ii})$\n",
    "\n",
    "$ = (1 - a_{ii}) \\sum_{d=1}^{\\infty} d (a_{ii})^{d-1}$"
   ]
  },
  {
   "cell_type": "code",
   "execution_count": 13,
   "id": "1f2ec1b5-9a9d-4ba1-bed4-8ba8268bb14a",
   "metadata": {
    "jupyter": {
     "source_hidden": true
    }
   },
   "outputs": [
    {
     "data": {
      "image/png": "[encoded data removed]",
      "text/plain": [
       "<Figure size 1600x240 with 6 Axes>"
      ]
     },
     "metadata": {},
     "output_type": "display_data"
    }
   ],
   "source": [
    "def compute_expected_d(pd, d):\n",
    "    \"\"\"\n",
    "    Compute expected number of consecutive\n",
    "    days to stay in a state i.\n",
    "    \"\"\"\n",
    "    return np.sum(d*pd)\n",
    "\n",
    "exp_d_s0 = compute_expected_d(dpdf0, ds) # Expected d for state 0\n",
    "exp_d_s1 = compute_expected_d(dpdf1, ds) # Expected d for state 1\n",
    "exp_d_s2 = compute_expected_d(dpdf2, ds) # Expected d for state 2\n",
    "\n",
    "fig = ms.fig(\"as\")\n",
    "fig.add_annotation([(0 * ds[-1], 0.33 * ds[-1], f\"$\\\\bar d_0 = ${exp_d_s0:.2f}\"), (0.33 * ds[-1], 0.66 * ds[-1], f\"$\\\\bar d_1 = ${exp_d_s1:.2f}\"), (0.66 * ds[-1], 1.0 * ds[-1], f\"$\\\\bar d_2 = ${exp_d_s2:.2f}\")])\n",
    "fig.add_signal(ds*dpdf0, ds, label=f\"$dp_{0}(d)$\", ax=2, xticks=np.arange(0, 50, 5))\n",
    "fig.add_signal(ds*dpdf1, ds, label=f\"$dp_{1}(d)$\", ax=2)\n",
    "fig.add_signal(ds*dpdf2, ds, label=f\"$dp_{2}(d)$\", ax=2)\n",
    "\n",
    "fig.add_xlabel(\"Duration\")\n",
    "fig.add_legend(1.2)"
   ]
  },
  {
   "cell_type": "markdown",
   "id": "3edd9403-d4e0-4cfd-9887-1e9433b4b1e9",
   "metadata": {},
   "source": [
    "The area under the curve gives us $\\bar d_i$. The computed values are mentioned above the plot which matches the values mentioned in the paper."
   ]
  },
  {
   "cell_type": "markdown",
   "id": "76733a88-57e8-4356-9fac-6b483d55363b",
   "metadata": {},
   "source": [
    "## Hidden Markov Model"
   ]
  },
  {
   "cell_type": "markdown",
   "id": "fbacd488-99f9-4329-8727-68bda21f84af",
   "metadata": {},
   "source": [
    "So far we discussed about systems where the state $\\in \\mathbb{S}$ corresponds to a physical observable event. We extend this idea to include case where the state that we observe is not exactly the observable event that we are interested in. \n",
    "\n",
    "Think of it as two layers, layer-1 with states that we can observe but are not of our interest directly and layer-2 with states that we can't observe but are interested in getting a measurement of."
   ]
  },
  {
   "cell_type": "code",
   "execution_count": null,
   "id": "91448880-1564-4b2c-8097-58498214c406",
   "metadata": {},
   "outputs": [],
   "source": []
  },
  {
   "cell_type": "code",
   "execution_count": null,
   "id": "52c5eb85-10e9-4b10-8caa-98969b963fd3",
   "metadata": {},
   "outputs": [],
   "source": []
  },
  {
   "cell_type": "code",
   "execution_count": null,
   "id": "02f96386-bf76-4bee-9ead-5efddb4b6087",
   "metadata": {},
   "outputs": [],
   "source": []
  },
  {
   "cell_type": "code",
   "execution_count": null,
   "id": "c0dda832-58f7-49e1-a622-dc93119ec05e",
   "metadata": {},
   "outputs": [],
   "source": []
  },
  {
   "cell_type": "code",
   "execution_count": null,
   "id": "97644ab4-6873-402e-97e3-888dfbcd4d28",
   "metadata": {},
   "outputs": [],
   "source": []
  },
  {
   "cell_type": "code",
   "execution_count": 46,
   "id": "73c3d586-df75-4c3c-9705-0ee90d65278e",
   "metadata": {},
   "outputs": [
    {
     "data": {
      "text/plain": [
       "np.float64(44.94762000967771)"
      ]
     },
     "execution_count": 46,
     "metadata": {},
     "output_type": "execute_result"
    }
   ],
   "source": [
    "np.sum((ds**2)*(dpdf2))"
   ]
  },
  {
   "cell_type": "code",
   "execution_count": 12,
   "id": "44103973-3b4d-4440-836f-0c06c721e149",
   "metadata": {},
   "outputs": [
    {
     "data": {
      "text/plain": [
       "np.float64(0.9999821594038412)"
      ]
     },
     "execution_count": 12,
     "metadata": {},
     "output_type": "execute_result"
    }
   ],
   "source": [
    "np.sum(dpdf2)"
   ]
  },
  {
   "cell_type": "code",
   "execution_count": 66,
   "id": "23e9378e-9f78-44ec-9e9e-413c9692a923",
   "metadata": {},
   "outputs": [
    {
     "data": {
      "text/plain": [
       "np.float64(1.6666666666666665)"
      ]
     },
     "execution_count": 66,
     "metadata": {},
     "output_type": "execute_result"
    }
   ],
   "source": [
    "np.sum(dpdf0 * ds)"
   ]
  },
  {
   "cell_type": "code",
   "execution_count": 67,
   "id": "df8e5e1a-07cf-4a06-a5a2-00dcffca9bd1",
   "metadata": {},
   "outputs": [
    {
     "data": {
      "text/plain": [
       "np.float64(2.4999999993062247)"
      ]
     },
     "execution_count": 67,
     "metadata": {},
     "output_type": "execute_result"
    }
   ],
   "source": [
    "np.sum(dpdf1 * ds)"
   ]
  },
  {
   "cell_type": "code",
   "execution_count": 68,
   "id": "f7320a5b-5209-4bc7-aabf-6406ca04f628",
   "metadata": {},
   "outputs": [
    {
     "data": {
      "text/plain": [
       "np.float64(4.999036607807425)"
      ]
     },
     "execution_count": 68,
     "metadata": {},
     "output_type": "execute_result"
    }
   ],
   "source": [
    "np.sum(dpdf2 * ds)"
   ]
  },
  {
   "cell_type": "code",
   "execution_count": null,
   "id": "5901e146-5304-4321-8736-829985ae3260",
   "metadata": {},
   "outputs": [],
   "source": []
  }
 ],
 "metadata": {
  "kernelspec": {
   "display_name": "DevQuest",
   "language": "python",
   "name": "devquest-3.10"
  },
  "language_info": {
   "codemirror_mode": {
    "name": "ipython",
    "version": 3
   },
   "file_extension": ".py",
   "mimetype": "text/x-python",
   "name": "python",
   "nbconvert_exporter": "python",
   "pygments_lexer": "ipython3",
   "version": "3.10.18"
  }
 },
 "nbformat": 4,
 "nbformat_minor": 5
}
