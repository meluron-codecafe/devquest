{
 "cells": [
  {
   "cell_type": "code",
   "execution_count": 2,
   "id": "5d63ee2b-ec39-42d1-93bc-0ddea0f1e7a5",
   "metadata": {
    "jupyter": {
     "source_hidden": true
    }
   },
   "outputs": [
    {
     "data": {
      "text/html": [
       "\n",
       "    <style>\n",
       "    .hc-wrapper {\n",
       "        display: flex;\n",
       "        align-items: center;\n",
       "        font-family: 'Georgia', serif;\n",
       "        border-left: 3px solid #666;\n",
       "        padding-left: 12px;\n",
       "        margin-top: 1em;  /* prevent overlap with buttons */\n",
       "        margin-bottom: 1em;\n",
       "        gap: 20px;\n",
       "    }\n",
       "    .hc-calendar {\n",
       "        display: inline-block;\n",
       "        font-family: 'Arial', sans-serif;\n",
       "        border-radius: 8px;\n",
       "        overflow: hidden;\n",
       "        background: #2d2d2d;\n",
       "        box-shadow: 0 2px 6px rgba(0,0,0,0.3);\n",
       "        width: 120px;\n",
       "        font-size: 12px;\n",
       "        text-align: center;\n",
       "        flex-shrink: 0;\n",
       "        border: 1px solid #444;\n",
       "    }\n",
       "    .hc-header {\n",
       "        background: #333;\n",
       "        color: #ddd;\n",
       "        padding: 4px 0;\n",
       "        font-weight: bold;\n",
       "        font-size: 11px;\n",
       "    }\n",
       "    .hc-month {\n",
       "        background: #4aa3ff;\n",
       "        color: #fff;\n",
       "        padding: 5px 0;\n",
       "        font-weight: bold;\n",
       "    }\n",
       "    .hc-day {\n",
       "        background: #3a3a3a;\n",
       "        color: #eee;\n",
       "        padding: 8px 0;\n",
       "        font-size: 20px;\n",
       "        font-weight: bold;\n",
       "    }\n",
       "    .hc-time {\n",
       "        background: #333;\n",
       "        color: #bbb;\n",
       "        padding: 4px 0;\n",
       "        font-size: 12px;\n",
       "    }\n",
       "    .hc-title {\n",
       "        margin: 0;\n",
       "        color: #EF8C00;\n",
       "        font-size: 2.4em;\n",
       "        line-height: 1.2em;\n",
       "        word-break: break-word;\n",
       "    }\n",
       "    .hc-keywords {\n",
       "        margin: 0.5em 0 0 0;\n",
       "        font-size: 0.9em;\n",
       "        opacity: 0.8;\n",
       "    }\n",
       "    </style>\n",
       "\n",
       "    <div class=\"hc-wrapper\">\n",
       "        <!-- Calendar -->\n",
       "        <div class=\"hc-calendar\">\n",
       "            <div class=\"hc-header\">Last modified</div>\n",
       "            <div class=\"hc-month\">Sep, 2025</div>\n",
       "            <div class=\"hc-day\">16</div>\n",
       "            <div class=\"hc-time\">11:36:55 AM</div>\n",
       "        </div>\n",
       "        \n",
       "        <!-- Header text -->\n",
       "        <div style=\"flex: 1;\">\n",
       "            <h1 class=\"hc-title\">Probability - A Basic Overview</h1>\n",
       "            <p class=\"hc-keywords\"></p>\n",
       "        </div>\n",
       "    </div>\n",
       "    "
      ],
      "text/plain": [
       "<IPython.core.display.HTML object>"
      ]
     },
     "metadata": {},
     "output_type": "display_data"
    }
   ],
   "source": [
    "#hide\n",
    "from utils import *\n",
    "hc(\n",
    "    \"Probability - A Basic Overview\",\n",
    "    []\n",
    ")"
   ]
  },
  {
   "cell_type": "markdown",
   "id": "06814bce-868f-4e40-a27a-f62db65e96a6",
   "metadata": {},
   "source": [
    "## PREVIEW\n",
    "\n",
    "<img src=\"../data/images/probability.png\" width=\"200\" style=\"border-radius: 15px;\">\n",
    "\n",
    "The text to explain probability"
   ]
  },
  {
   "cell_type": "markdown",
   "id": "1f01e903-f803-48cb-b09f-b217949b869d",
   "metadata": {},
   "source": [
    "## Source"
   ]
  },
  {
   "cell_type": "markdown",
   "id": "ed9d6c3b-7957-4243-8b33-a00ac6458d96",
   "metadata": {},
   "source": [
    "[Chapter 2: Probability](https://sar.ac.id/stmik_ebook/prog_file_file/XCN2xPxjGa.pdf)"
   ]
  },
  {
   "cell_type": "markdown",
   "id": "656b7270-0d63-42ae-96e0-6fd5344877b8",
   "metadata": {},
   "source": [
    "## Motivation\n",
    "\n",
    "*Probabilty theory* lays out the foundation for numerous applications that we use in on a daily basis. This is my attempt to explore the theory in a reasonable depth so that I can appreciate the beaty of how people used it to build so many products that today impact the whole of humanity."
   ]
  },
  {
   "cell_type": "markdown",
   "id": "91b5dda5-452d-491a-b0c3-4f582278c96f",
   "metadata": {},
   "source": [
    "## AIM"
   ]
  },
  {
   "cell_type": "markdown",
   "id": "119af668-1c3a-4e91-9caf-6b500029cab2",
   "metadata": {},
   "source": [
    "1. To read through chapter 2 and demonstrate my interpretation of the same with code wherever possible."
   ]
  },
  {
   "cell_type": "markdown",
   "id": "a73bfb10-7801-4447-86db-b7166f10c2ee",
   "metadata": {},
   "source": [
    "## Sample Space"
   ]
  },
  {
   "cell_type": "markdown",
   "id": "4be31e53-f893-4ddf-b572-d404133cc94c",
   "metadata": {},
   "source": [
    "A collection/set of all possible outcomes of an experiment. It is denoted by $\\Omega$.\n",
    "\n",
    "Example: If the experiment is tossing a dice then the sample space will be the set $\\{1, 2, 3, 4, 5, 6\\}$"
   ]
  },
  {
   "cell_type": "markdown",
   "id": "4e8b99a6-b5f3-4ff3-8a42-48b12462f7d7",
   "metadata": {},
   "source": [
    "## Event"
   ]
  },
  {
   "cell_type": "markdown",
   "id": "727dd58d-8bf3-4d12-bcc5-5586bfe8e879",
   "metadata": {},
   "source": [
    "Any subset of a *sample space* is an event. It is denoted by $E$.\n",
    "\n",
    "Example: For an experiment of throwing a dice, we can have the following events:\n",
    "- An event of getting 1: $\\{1\\}$\n",
    "- An event of getting 5: $\\{5\\}$\n",
    "- An event of getting even: $\\{2, 4, 6\\}$\n",
    "- An event of getting 1, 6: $\\{1, 6\\}$\n",
    "and so on..."
   ]
  },
  {
   "cell_type": "markdown",
   "id": "30439823-f01f-4775-9709-8f24ed7c5daf",
   "metadata": {},
   "source": [
    "For a sample space containing $N$ elements, the number of possible events is $2^N$.\n",
    "\n",
    "Let's list out all the possible events for rolling a coin experiment.\n",
    "$\\{\\phi, \\{H\\}, \\{T\\}, \\{H, T\\}\\}$ "
   ]
  },
  {
   "cell_type": "markdown",
   "id": "08a21314-470b-4c98-a218-2a5663c80ff1",
   "metadata": {},
   "source": [
    "**Exercise**: Write a python function get_all_possible_events that takes sample_space (set) and returns a set with all possible events."
   ]
  },
  {
   "cell_type": "code",
   "execution_count": 155,
   "id": "9c43db99-d8c2-456c-ac31-7a84dddbe555",
   "metadata": {},
   "outputs": [
    {
     "name": "stdout",
     "output_type": "stream",
     "text": [
      "{frozenset(), frozenset({'Head', 'Tail'}), frozenset({'Tail'}), frozenset({'Head'})}\n"
     ]
    }
   ],
   "source": [
    "#----------------------\n",
    "# Naive Implementation.\n",
    "#----------------------\n",
    "from itertools import combinations\n",
    "def get_all_possible_events(sample_space):\n",
    "    \"\"\"\n",
    "    Given a sample space, find all the\n",
    "    possible events.\n",
    "\n",
    "    Parameters\n",
    "    ----------\n",
    "    sample_space: set[str, ...]\n",
    "        - Set of outcomes.\n",
    "    \n",
    "    Returns\n",
    "    -------\n",
    "    set:\n",
    "        Set of all possible events.\n",
    "    \"\"\"\n",
    "    empty_event = frozenset([\"PHI\"])\n",
    "    Es = set([empty_event]) # A set that will be filled with all the possible events\n",
    "    N = len(sample_space) # Total number of possible outcomes\n",
    "    sample_space = list(sample_space) # Because we will need indexing operation\n",
    "\n",
    "    for i in range(1, N+1): # To keep track of how many outcomes we are putting together in the event\n",
    "        for E in combinations(sample_space, i):\n",
    "            Es.add(frozenset(E))\n",
    "\n",
    "    # Check if the number of events is correct\n",
    "    if len(Es) != 2 ** N:\n",
    "        raise ValueError(f\"The number of events is not correct\")\n",
    "\n",
    "    return Es\n",
    "\n",
    "#--------------------------------------\n",
    "# For people who want an implementation\n",
    "# without using `combination` API\n",
    "#--------------------------------------\n",
    "def get_all_possible_events_bitwise(sample_space):\n",
    "    \"\"\"\n",
    "    Given a sample space, find all the\n",
    "    possible events using bitwise operations.\n",
    "\n",
    "    Parameters\n",
    "    ----------\n",
    "    sample_space: set[str, ...]\n",
    "        - Set of outcomes.\n",
    "    \n",
    "    Returns\n",
    "    -------\n",
    "    set:\n",
    "        Set of all possible events.\n",
    "    \"\"\"\n",
    "\n",
    "    sample_space = list(sample_space)\n",
    "    N = len(sample_space)\n",
    "    \n",
    "    empty_event = frozenset()\n",
    "    Es = set([empty_event])\n",
    "\n",
    "    # Since we are using bit-wise ops, we will create a bit mask\n",
    "    for bitmask in range(1 << N): # 1 << n = 2 ** N\n",
    "        E = [] # To store a possible event\n",
    "        for i in range(N): # Think of the list element to take ordered position in binary (000 - [A, B, C])\n",
    "            # Since the mask has all the position combination, we just need to figure out which indices are activated (1)\n",
    "            if bitmask & (1 << i): # This will only be true for cases when atleast the i-th position of mask is 1\n",
    "                E.append(sample_space[i])\n",
    "\n",
    "        Es.add(frozenset(E))\n",
    "\n",
    "    return Es\n",
    "\n",
    "Es = get_all_possible_events_bitwise({\"Head\", \"Tail\"})\n",
    "print(Es)"
   ]
  },
  {
   "cell_type": "markdown",
   "id": "9fd31451-fca8-4071-bf36-4f4eecbd8dcb",
   "metadata": {},
   "source": [
    "## Set Operations"
   ]
  },
  {
   "cell_type": "markdown",
   "id": "e7d93da9-5f9b-41e0-a092-c127539fdb2d",
   "metadata": {},
   "source": [
    "As mentioned above, sample space is a *set* of outcomes, event is a subset of *sample space*. It is going to be helpful if we learn some basics of set. In this section we discuss about some operations that we can perform on a set.\n",
    "\n",
    "A set is a collection of unique (no repetition) objects with no ordering. The objects are also known as elements of the set. If an element $a$ belongs to the set $S$ then we denote it as $a \\in S$ (read as 'a' belongs to 'S').\n",
    "\n",
    "We will discuss set opertation in context to events (which is nothing but a set) to build some intuition for the subject of our focus (Probability)."
   ]
  },
  {
   "cell_type": "markdown",
   "id": "397e88dc-7695-4314-8710-5b1460ce94fe",
   "metadata": {},
   "source": [
    "### Union"
   ]
  },
  {
   "cell_type": "markdown",
   "id": "abcbbf9e-e1b6-4c32-8d6b-96fb270bba2a",
   "metadata": {},
   "source": [
    "A **union** of events $A, B, C, ...$ is an event say $Z$ consiting of all the outcomes in all these events. So the probabality of $Z$ to occur is the probability that any of $A, B, C, ...$ occurs. Union corresponds to **OR** and is denoted by $\\cup$. Mathematically, we write \\\n",
    "$Z = A \\cup B \\cup C \\cup ...$"
   ]
  },
  {
   "cell_type": "markdown",
   "id": "f55494bd-8c53-4825-b0b7-568e3ef047a2",
   "metadata": {},
   "source": [
    "### Intersection\n",
    "\n",
    "An **intesection** of events $A, B, C, ...$ is an event say $Z$ consisting of outcomes that are common in all these events. So the probability of $Z$ to occur is the probability that all of $A, B, C, ...$ occurs. Intersection corresponds to **AND** and is denoted by $\\cap$. Mathematically we write \\\n",
    "$Z = A \\cap B \\cap C \\cap ...$"
   ]
  },
  {
   "cell_type": "markdown",
   "id": "11c1bf6a-ca76-4998-ab5d-85c0aa669212",
   "metadata": {},
   "source": [
    "### Complement"
   ]
  },
  {
   "cell_type": "markdown",
   "id": "30b6f511-87ad-4a99-8a27-bace074f98cc",
   "metadata": {},
   "source": [
    "A **complement** of an event $A$ is an event say $Z$ that occurs when $A$ does not occur. So the probality of the complement to occur is $1$ minus the probability of $A$ to occur. Complement corresponds to **NOT** and is denoted by $\\bar A$. Mathematically we write \\\n",
    "$Z = \\bar A$"
   ]
  },
  {
   "cell_type": "markdown",
   "id": "a298848e-e394-4ac9-86da-b902101eb49d",
   "metadata": {},
   "source": [
    "### Difference"
   ]
  },
  {
   "cell_type": "markdown",
   "id": "b060fd88-a2c6-4f91-a556-044da49717a6",
   "metadata": {},
   "source": [
    "A difference of events $A$ and $B$ is an event say $Z$ consisting of all the outcomes in $A$ but not in $B$. So the probablity of the difference of $A$ and $B$ is the probability that $A$ occurs but not $B$. Difference corresponds to **BUT NOT** and is denoted by $A - B$. Mathematically, we write \\\n",
    "$Z = A - B$"
   ]
  },
  {
   "cell_type": "code",
   "execution_count": 2,
   "id": "decc2b12-1f70-4626-8f87-df7949ca345d",
   "metadata": {},
   "outputs": [
    {
     "data": {
      "image/png": "[encoded data removed]",
      "text/plain": [
       "<Figure size 640x480 with 1 Axes>"
      ]
     },
     "metadata": {},
     "output_type": "display_data"
    }
   ],
   "source": [
    "from matplotlib_venn import venn2\n",
    "import matplotlib.pyplot as plt\n",
    "\n",
    "# Example with 2 sets\n",
    "set1 = {1, 2, 3, 4}\n",
    "set2 = {5, 6}\n",
    "\n",
    "venn2([set1, set2], set_labels=('Set A', 'Set B'))\n",
    "plt.show()\n"
   ]
  },
  {
   "cell_type": "markdown",
   "id": "5cc8ee41-e970-478d-9b0a-3bf54338a896",
   "metadata": {},
   "source": [
    "**Exercise**: Write a python class to demonstrate all the set operations, along with a method to visualise them as venn diagram."
   ]
  },
  {
   "cell_type": "code",
   "execution_count": 162,
   "id": "5e75b89d-a7d5-4f7a-a771-cedfc8ccc875",
   "metadata": {},
   "outputs": [],
   "source": [
    "import warnings\n",
    "\n",
    "class Event:\n",
    "    def __init__(self, outcomes=None, desc=None, sample_space=None):\n",
    "        \"\"\"\n",
    "        Paramters\n",
    "        ---------\n",
    "        outcomes: list | None\n",
    "            - List of all outcomes for the event.\n",
    "        desc: str\n",
    "            - Small description about the event.\n",
    "        sample_space: list | None\n",
    "            - List of all possible outcomes.\n",
    "\n",
    "        Returns\n",
    "        -------\n",
    "        None\n",
    "        \"\"\"\n",
    "        self._sample_space = None\n",
    "        self._outcomes = None\n",
    "        self._desc = desc\n",
    "\n",
    "        if sample_space is not None:\n",
    "            self._sample_space = set()\n",
    "            for outcome in sample_space:\n",
    "                self._sample_space.add(str(outcome))\n",
    "\n",
    "        if outcomes is not None:\n",
    "            self._sample_space = set()\n",
    "            for outcome in outcomes:\n",
    "                self.add(str(outcome))\n",
    "    \n",
    "    def add(self, outcome):\n",
    "        \"\"\"\n",
    "        Add an outcome to the event.\n",
    "\n",
    "        Parameters\n",
    "        ----------\n",
    "        outcome: str\n",
    "            - The outcome to be added to the event.\n",
    "\n",
    "        Returns\n",
    "        -------\n",
    "        None\n",
    "        \"\"\"\n",
    "        outcome = str(outcome)\n",
    "        self._outcomes.add(outcome)\n",
    "\n",
    "    def remove(self, outcome):\n",
    "        \"\"\"\n",
    "        Remove an outcome to the event.\n",
    "\n",
    "        Parameters\n",
    "        ----------\n",
    "        outcome: str\n",
    "            - The outcome to be removed from the event.\n",
    "\n",
    "        Returns\n",
    "        -------\n",
    "        None\n",
    "        \"\"\"\n",
    "        try:\n",
    "            outcome = str(outcome)\n",
    "            self._outcomes.remove(outcome)\n",
    "        except KeyError as e:\n",
    "            warnings.warn(f\"The outcome {outcome} does not exist.\")\n",
    "            return\n",
    "            \n",
    "    def __len__(self):\n",
    "        return len(self._outcomes)\n",
    "\n",
    "    def __str__(self):\n",
    "        return f\"{self._outcomes}\"\n",
    "\n",
    "    def __repr__(self):\n",
    "        return self.__str__()\n",
    "\n",
    "    def union(self, other):\n",
    "        outcomes = self._outcomes.union(other._outcomes)\n",
    "        return self.__class__(outcomes, desc=\"$A \\\\cup B$\")\n",
    "\n",
    "    def intersection(self, other):\n",
    "        outcomes = self._outcomes.intersection(other._outcomes)\n",
    "        return self.__class__(outcomes, desc=\"$A \\\\cap B$\")\n",
    "\n",
    "    def difference(self, other):\n",
    "        outcomes = self._outcomes.difference(other._outcomes)\n",
    "        return self.__class__(outcomes, desc=\"$A - B$\")\n",
    "\n",
    "    def visualize(self, other=None, mode=\"plain\", universe=None):\n",
    "        \"\"\"\n",
    "        Visualize set operations using a Venn diagram.\n",
    "    \n",
    "        Parameters\n",
    "        ----------\n",
    "        other : Event | None\n",
    "            - Another event (for union, intersection, difference).\n",
    "        mode : str\n",
    "            - One of {\"plain\", \"union\", \"intersection\", \"difference\", \"complement\"}\n",
    "        universe : set | None\n",
    "            - The sample space (only needed for complement).\n",
    "        \"\"\"\n",
    "        from matplotlib_venn import venn2\n",
    "        import matplotlib.pyplot as plt\n",
    "    \n",
    "        dark_blue = \"#1f4e79\"\n",
    "        light_blue = \"#a7c6ed\"\n",
    "    \n",
    "        if other is None and mode != \"complement\":\n",
    "            raise ValueError(\"Other event must be provided for this operation.\")\n",
    "    \n",
    "        # Handle complement as a special case\n",
    "        if mode == \"complement\":\n",
    "            if universe is None:\n",
    "                raise ValueError(\"Universe (sample space) required for complement.\")\n",
    "            comp = universe.difference(self._outcomes)\n",
    "            other = Event(comp, desc=f\"{self._desc}ᶜ\")\n",
    "    \n",
    "        # Create the venn diagram\n",
    "        v = venn2([self._outcomes, other._outcomes],\n",
    "                  set_labels=(self._desc, other._desc))\n",
    "    \n",
    "        # Default: everything light blue with black outline\n",
    "        for region in (\"10\", \"01\", \"11\"):\n",
    "            p = v.get_patch_by_id(region)\n",
    "            if p:\n",
    "                p.set_facecolor(light_blue)\n",
    "                p.set_edgecolor(\"black\")\n",
    "                p.set_alpha(0.8)\n",
    "    \n",
    "        # Highlight relevant regions\n",
    "        if mode == \"union\":\n",
    "            for region in (\"10\", \"01\", \"11\"):\n",
    "                p = v.get_patch_by_id(region)\n",
    "                if p:\n",
    "                    p.set_facecolor(dark_blue)\n",
    "    \n",
    "        elif mode == \"intersection\":\n",
    "            p = v.get_patch_by_id(\"11\")\n",
    "            if p:\n",
    "                p.set_facecolor(dark_blue)\n",
    "    \n",
    "        elif mode == \"difference\":\n",
    "            p = v.get_patch_by_id(\"10\")  # A only\n",
    "            if p:\n",
    "                p.set_facecolor(dark_blue)\n",
    "    \n",
    "        elif mode == \"complement\":\n",
    "            # Highlight the \"other\" circle (Aᶜ)\n",
    "            p = v.get_patch_by_id(\"01\")\n",
    "            if p:\n",
    "                p.set_facecolor(dark_blue)\n",
    "    \n",
    "        plt.show()\n",
    "\n",
    "    \n"
   ]
  },
  {
   "cell_type": "code",
   "execution_count": 153,
   "id": "6e4e1778-59e1-4db0-bc48-01ae7c098ea9",
   "metadata": {},
   "outputs": [],
   "source": [
    "A = Event([2, 4, 6], desc=\"Even\")\n",
    "B = Event([1, 2, 3, 5], desc=\"Odd\")"
   ]
  },
  {
   "cell_type": "code",
   "execution_count": 161,
   "id": "66b4a79d-3e83-4931-9913-4380ea45770b",
   "metadata": {},
   "outputs": [
    {
     "data": {
      "image/png": "[encoded data removed]",
      "text/plain": [
       "<Figure size 640x480 with 1 Axes>"
      ]
     },
     "metadata": {},
     "output_type": "display_data"
    }
   ],
   "source": [
    "# A.visualize(B)\n",
    "A.visualize(B, mode=\"complement\", universe={1, 2, 3, 4, 5, 6})"
   ]
  },
  {
   "cell_type": "code",
   "execution_count": 151,
   "id": "07b3f306-4524-486c-8c1e-76e559a42e4e",
   "metadata": {},
   "outputs": [
    {
     "ename": "AttributeError",
     "evalue": "'list' object has no attribute 'values'",
     "output_type": "error",
     "traceback": [
      "\u001b[0;31m---------------------------------------------------------------------------\u001b[0m",
      "\u001b[0;31mAttributeError\u001b[0m                            Traceback (most recent call last)",
      "Cell \u001b[0;32mIn[151], line 5\u001b[0m\n\u001b[1;32m      2\u001b[0m B \u001b[38;5;241m=\u001b[39m Event([\u001b[38;5;241m3\u001b[39m,\u001b[38;5;241m4\u001b[39m,\u001b[38;5;241m5\u001b[39m,\u001b[38;5;241m6\u001b[39m], desc\u001b[38;5;241m=\u001b[39m\u001b[38;5;124m\"\u001b[39m\u001b[38;5;124mB\u001b[39m\u001b[38;5;124m\"\u001b[39m)\n\u001b[1;32m      3\u001b[0m U \u001b[38;5;241m=\u001b[39m \u001b[38;5;28mset\u001b[39m(\u001b[38;5;28mrange\u001b[39m(\u001b[38;5;241m1\u001b[39m,\u001b[38;5;241m7\u001b[39m))\n\u001b[0;32m----> 5\u001b[0m \u001b[43mA\u001b[49m\u001b[38;5;241;43m.\u001b[39;49m\u001b[43mvisualize\u001b[49m\u001b[43m(\u001b[49m\u001b[43mB\u001b[49m\u001b[43m,\u001b[49m\u001b[43m \u001b[49m\u001b[43mmode\u001b[49m\u001b[38;5;241;43m=\u001b[39;49m\u001b[38;5;124;43m\"\u001b[39;49m\u001b[38;5;124;43munion\u001b[39;49m\u001b[38;5;124;43m\"\u001b[39;49m\u001b[43m)\u001b[49m         \u001b[38;5;66;03m# union\u001b[39;00m\n\u001b[1;32m      6\u001b[0m A\u001b[38;5;241m.\u001b[39mvisualize(B, mode\u001b[38;5;241m=\u001b[39m\u001b[38;5;124m\"\u001b[39m\u001b[38;5;124mintersection\u001b[39m\u001b[38;5;124m\"\u001b[39m)  \u001b[38;5;66;03m# intersection\u001b[39;00m\n\u001b[1;32m      7\u001b[0m A\u001b[38;5;241m.\u001b[39mvisualize(B, mode\u001b[38;5;241m=\u001b[39m\u001b[38;5;124m\"\u001b[39m\u001b[38;5;124mdifference\u001b[39m\u001b[38;5;124m\"\u001b[39m)    \u001b[38;5;66;03m# difference (A - B)\u001b[39;00m\n",
      "Cell \u001b[0;32mIn[148], line 115\u001b[0m, in \u001b[0;36mEvent.visualize\u001b[0;34m(self, other, mode, universe)\u001b[0m\n\u001b[1;32m    111\u001b[0m v \u001b[38;5;241m=\u001b[39m venn2([\u001b[38;5;28mself\u001b[39m\u001b[38;5;241m.\u001b[39m_outcomes, other\u001b[38;5;241m.\u001b[39m_outcomes],\n\u001b[1;32m    112\u001b[0m           set_labels\u001b[38;5;241m=\u001b[39m(\u001b[38;5;28mself\u001b[39m\u001b[38;5;241m.\u001b[39m_desc, other\u001b[38;5;241m.\u001b[39m_desc))\n\u001b[1;32m    114\u001b[0m \u001b[38;5;66;03m# Default coloring: everything light blue + outline\u001b[39;00m\n\u001b[0;32m--> 115\u001b[0m \u001b[38;5;28;01mfor\u001b[39;00m patch \u001b[38;5;129;01min\u001b[39;00m \u001b[43mv\u001b[49m\u001b[38;5;241;43m.\u001b[39;49m\u001b[43mpatches\u001b[49m\u001b[38;5;241;43m.\u001b[39;49m\u001b[43mvalues\u001b[49m():\n\u001b[1;32m    116\u001b[0m     \u001b[38;5;28;01mif\u001b[39;00m patch:\n\u001b[1;32m    117\u001b[0m         patch\u001b[38;5;241m.\u001b[39mset_facecolor(light_blue)\n",
      "\u001b[0;31mAttributeError\u001b[0m: 'list' object has no attribute 'values'"
     ]
    },
    {
     "data": {
      "image/png": "[encoded data removed]",
      "text/plain": [
       "<Figure size 640x480 with 1 Axes>"
      ]
     },
     "metadata": {},
     "output_type": "display_data"
    }
   ],
   "source": [
    "A = Event([1,2,3,4], desc=\"A\")\n",
    "B = Event([3,4,5,6], desc=\"B\")\n",
    "U = set(range(1,7))\n",
    "\n",
    "A.visualize(B, mode=\"union\")         # union\n",
    "A.visualize(B, mode=\"intersection\")  # intersection\n",
    "A.visualize(B, mode=\"difference\")    # difference (A - B)\n",
    "A.visualize(mode=\"complement\", universe=U)  # complement\n"
   ]
  },
  {
   "cell_type": "code",
   "execution_count": 129,
   "id": "4d247612-122e-4a48-8870-ba95fb96ef18",
   "metadata": {},
   "outputs": [
    {
     "data": {
      "text/plain": [
       "{'3', '4', '2', '1', '5', '6'}"
      ]
     },
     "execution_count": 129,
     "metadata": {},
     "output_type": "execute_result"
    }
   ],
   "source": [
    "A.union(B)"
   ]
  },
  {
   "cell_type": "code",
   "execution_count": null,
   "id": "0a180d77-d20c-4549-8101-192b11c1484a",
   "metadata": {},
   "outputs": [],
   "source": []
  },
  {
   "cell_type": "markdown",
   "id": "840e68c2-3f44-4834-adf6-934cb41a5b24",
   "metadata": {},
   "source": []
  },
  {
   "cell_type": "code",
   "execution_count": null,
   "id": "f03a2a5a-8593-4071-aff8-f6f4f0223811",
   "metadata": {},
   "outputs": [],
   "source": []
  }
 ],
 "metadata": {
  "kernelspec": {
   "display_name": "DevQuest",
   "language": "python",
   "name": "devquest-3.10"
  },
  "language_info": {
   "codemirror_mode": {
    "name": "ipython",
    "version": 3
   },
   "file_extension": ".py",
   "mimetype": "text/x-python",
   "name": "python",
   "nbconvert_exporter": "python",
   "pygments_lexer": "ipython3",
   "version": "3.10.18"
  }
 },
 "nbformat": 4,
 "nbformat_minor": 5
}
