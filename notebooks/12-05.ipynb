{
 "cells": [
  {
   "cell_type": "markdown",
   "id": "1eaf9f4f-c84f-48f1-9d9e-f7b6415ed40f",
   "metadata": {},
   "source": [
    "# NumPy\n",
    "A python library for performing numerical computation."
   ]
  },
  {
   "cell_type": "code",
   "execution_count": 1,
   "id": "6fb80c86-8650-406d-a15f-dda837c483f7",
   "metadata": {},
   "outputs": [],
   "source": [
    "import numpy as np # Numerical Computation"
   ]
  },
  {
   "cell_type": "markdown",
   "id": "f0236c73-e42e-4372-b8af-24875fddecf7",
   "metadata": {},
   "source": [
    "## How to instantiate NumPy arrays"
   ]
  },
  {
   "cell_type": "markdown",
   "id": "df8affef-3bf7-4042-9c14-948d7870c101",
   "metadata": {},
   "source": [
    "### Using `np.array`"
   ]
  },
  {
   "cell_type": "code",
   "execution_count": 17,
   "id": "03f3be62-3676-4d6d-aa28-316f90e17e48",
   "metadata": {},
   "outputs": [
    {
     "name": "stdout",
     "output_type": "stream",
     "text": [
      "[1 2 6 8] <class 'numpy.ndarray'>\n"
     ]
    }
   ],
   "source": [
    "arr = np.array([1, 2, 6, 8]) # array-like object is passed\n",
    "print(arr, type(arr))"
   ]
  },
  {
   "cell_type": "markdown",
   "id": "2c55ce8e-9642-42cf-8b13-63f2119b76c7",
   "metadata": {},
   "source": [
    "### Using user-friendly APIs provided by `numpy`\n",
    "- `np.arange`\n",
    "- `np.linspace`\n",
    "- `np.random.random`"
   ]
  },
  {
   "cell_type": "code",
   "execution_count": 79,
   "id": "b51f5c43-bbf2-49bd-a3c8-8a5b02b15ff4",
   "metadata": {},
   "outputs": [
    {
     "name": "stdout",
     "output_type": "stream",
     "text": [
      "[1 3 5 7 9]\n",
      "[0 1 2 3 4 5 6 7 8 9]\n"
     ]
    }
   ],
   "source": [
    "arr1 = np.arange(1, 10, 2)\n",
    "print(arr1)\n",
    "arr2 = np.arange(10) # 0 to 10(excluded)\n",
    "print(arr2)"
   ]
  },
  {
   "cell_type": "code",
   "execution_count": 80,
   "id": "406daa9c-3596-4f3e-a8cd-b2ebe64c7bec",
   "metadata": {},
   "outputs": [
    {
     "name": "stdout",
     "output_type": "stream",
     "text": [
      "[10.         10.02222222 10.04444444 10.06666667 10.08888889 10.11111111\n",
      " 10.13333333 10.15555556 10.17777778 10.2       ]\n"
     ]
    }
   ],
   "source": [
    "t = np.linspace(10, 10.2, 10)\n",
    "print(t)"
   ]
  },
  {
   "cell_type": "code",
   "execution_count": 87,
   "id": "4608c7fc-1498-4f38-837c-5585541d0286",
   "metadata": {},
   "outputs": [
    {
     "name": "stdout",
     "output_type": "stream",
     "text": [
      "[0.46414008 0.90148875 0.01848855 0.58663472 0.32002122 0.36823626\n",
      " 0.53662756 0.13304774 0.41019008 0.06316759]\n",
      "(10,) 1\n"
     ]
    }
   ],
   "source": [
    "arr = np.random.random(10)\n",
    "print(arr)\n",
    "print(arr.shape, arr.ndim)"
   ]
  },
  {
   "cell_type": "markdown",
   "id": "706d7ab4-972e-447e-a6a6-ade1d6502a73",
   "metadata": {},
   "source": [
    "## Properties of a numpy array\n",
    "- shape: Tells about the shape of the array.\n",
    "- ndim: Tells about the dimension of the array."
   ]
  },
  {
   "cell_type": "code",
   "execution_count": 81,
   "id": "26036af8-5e67-4375-b5b6-7fb90fe9c58d",
   "metadata": {},
   "outputs": [],
   "source": [
    "arr = np.array([[1, 2, 3]])"
   ]
  },
  {
   "cell_type": "markdown",
   "id": "9ca38514-0977-4d1a-be7f-1414230fd7f7",
   "metadata": {},
   "source": [
    "Scalar: 1 ... \\\n",
    "Collection of scalars: 1D array \\\n",
    "Collection of 1D array: 2D array"
   ]
  },
  {
   "cell_type": "code",
   "execution_count": 82,
   "id": "e39fb7d2-4845-4a1c-b5b9-dd2bcf4b6d2b",
   "metadata": {},
   "outputs": [
    {
     "name": "stdout",
     "output_type": "stream",
     "text": [
      "[[1 2 3]\n",
      " [4 5 6]]\n",
      "(2, 3)\n",
      "2\n"
     ]
    }
   ],
   "source": [
    "a = np.array([[1, 2, 3], [4, 5, 6]])\n",
    "print(a)\n",
    "print(a.shape)\n",
    "print(a.ndim)"
   ]
  },
  {
   "cell_type": "code",
   "execution_count": 83,
   "id": "ea3b7d90-2a4a-40de-94c4-616ae0ad2b6f",
   "metadata": {},
   "outputs": [],
   "source": [
    "a = np.array([[[1, 2, 3], [4, 5, 6]], [[1, 2, 3], [4, 5, 6]]])"
   ]
  },
  {
   "cell_type": "code",
   "execution_count": 84,
   "id": "3ce6d5f9-8cd3-452b-a24c-2f8a0344d652",
   "metadata": {},
   "outputs": [
    {
     "name": "stdout",
     "output_type": "stream",
     "text": [
      "(2, 2, 3)\n",
      "3\n"
     ]
    }
   ],
   "source": [
    "print(a.shape)\n",
    "print(a.ndim)"
   ]
  },
  {
   "cell_type": "markdown",
   "id": "66a7a804-b2e3-40dd-93fc-1ae64b647349",
   "metadata": {},
   "source": [
    "## Extracting elements from array"
   ]
  },
  {
   "cell_type": "code",
   "execution_count": 94,
   "id": "8809a48a-147b-4588-8c5f-7048dd3cb0e2",
   "metadata": {},
   "outputs": [
    {
     "name": "stdout",
     "output_type": "stream",
     "text": [
      "[5 4 3 2 1]\n",
      "[5 4 3 2]\n"
     ]
    }
   ],
   "source": [
    "arr = np.array([5, 4, 3, 2, 1])\n",
    "print(arr)\n",
    "print(\"-----\")\n",
    "print(arr[:-1])"
   ]
  },
  {
   "cell_type": "code",
   "execution_count": 120,
   "id": "6bc7acfd-719c-4851-9608-9916f5a19268",
   "metadata": {},
   "outputs": [
    {
     "name": "stdout",
     "output_type": "stream",
     "text": [
      "[[[1 2 3]\n",
      "  [4 5 6]]\n",
      "\n",
      " [[1 2 3]\n",
      "  [4 5 6]]]\n",
      "----\n",
      "4\n"
     ]
    }
   ],
   "source": [
    "arr = np.array([[[1, 2, 3], [4, 5, 6]], [[1, 2, 3], [4, 5, 6]]]) # image => \n",
    "print(arr)\n",
    "print(\"----\")\n",
    "print(arr[1, 1, 0])"
   ]
  }
 ],
 "metadata": {
  "kernelspec": {
   "display_name": "Modusa",
   "language": "python",
   "name": "modusa-3.12"
  },
  "language_info": {
   "codemirror_mode": {
    "name": "ipython",
    "version": 3
   },
   "file_extension": ".py",
   "mimetype": "text/x-python",
   "name": "python",
   "nbconvert_exporter": "python",
   "pygments_lexer": "ipython3",
   "version": "3.12.0"
  }
 },
 "nbformat": 4,
 "nbformat_minor": 5
}
