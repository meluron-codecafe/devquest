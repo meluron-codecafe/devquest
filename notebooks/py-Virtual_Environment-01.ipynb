{
 "cells": [
  {
   "cell_type": "markdown",
   "id": "2f1ad5d3-47f7-4211-84b2-e68f2c979c67",
   "metadata": {},
   "source": [
    "<div style=\"font-family: 'Georgia', serif; border-left: 3px solid #ccc; padding-left: 12px; margin-bottom: 1em;\">\n",
    "  <h2 style=\"margin: 0; color: #EF8C00; font-size: 2.4em; padding-left: 0; text-indent: 0;\">\n",
    "      Virtual Environment\n",
    "  </h2>\n",
    "    <p>\n",
    "        venv; jupyter kernel\n",
    "    </p>\n",
    "</div>"
   ]
  },
  {
   "cell_type": "code",
   "execution_count": 11,
   "id": "bef3be62-9a18-4d46-ab0d-4804a19b2e1c",
   "metadata": {
    "jupyter": {
     "source_hidden": true
    }
   },
   "outputs": [
    {
     "data": {
      "text/html": [
       "\n",
       "\t<div style=\"\n",
       "\t\tdisplay: inline-block;\n",
       "\t\tfont-family: 'Arial', sans-serif;\n",
       "\t\tborder-radius: 8px;\n",
       "\t\toverflow: hidden;\n",
       "\t\tbox-shadow: 1px 1px 6px rgba(0,0,0,0.1);\n",
       "\t\twidth: 120px;\n",
       "\t\tfont-size: 12px;\n",
       "\t\ttext-align: center;\n",
       "\t\">\n",
       "\t\t<!-- Last modified label -->\n",
       "\t\t<div style=\"\n",
       "\t\t\tbackground: #f4f4f4;\n",
       "\t\t\tcolor: #555;\n",
       "\t\t\tpadding: 4px 0;\n",
       "\t\t\tfont-weight: bold;\n",
       "\t\t\tborder-top-left-radius: 8px;\n",
       "\t\t\tborder-top-right-radius: 8px;\n",
       "\t\t\">\n",
       "\t\t\tLast modified\n",
       "\t\t</div>\n",
       "\t\t\n",
       "\t\t<!-- Main calendar -->\n",
       "\t\t<div>\n",
       "\t\t\t<div style=\"\n",
       "\t\t\t\tbackground: #66a6ff;\n",
       "\t\t\t\tcolor: white;\n",
       "\t\t\t\tpadding: 5px 0;\n",
       "\t\t\t\tfont-weight: bold;\n",
       "\t\t\t\">\n",
       "\t\t\t\tAug, 2025\n",
       "\t\t\t</div>\n",
       "\t\t\t<div style=\"\n",
       "\t\t\t\tbackground: #fff;\n",
       "\t\t\t\tcolor: #333;\n",
       "\t\t\t\tpadding: 8px 0;\n",
       "\t\t\t\tfont-size: 20px;\n",
       "\t\t\t\tfont-weight: bold;\n",
       "\t\t\t\">\n",
       "\t\t\t\t18\n",
       "\t\t\t</div>\n",
       "\t\t\t<div style=\"\n",
       "\t\t\t\tbackground: #f4f4f4;\n",
       "\t\t\t\tcolor: #333;\n",
       "\t\t\t\tpadding: 4px 0;\n",
       "\t\t\t\tfont-size: 12px;\n",
       "\t\t\t\">\n",
       "\t\t\t\t08:09:52 PM\n",
       "\t\t\t</div>\n",
       "\t\t</div>\n",
       "\t</div>\n",
       "\t"
      ],
      "text/plain": [
       "<IPython.core.display.HTML object>"
      ]
     },
     "metadata": {},
     "output_type": "display_data"
    }
   ],
   "source": [
    "#hide\n",
    "from utils import *\n",
    "cal()"
   ]
  },
  {
   "cell_type": "markdown",
   "id": "98f10871-dce8-4eb7-9719-323270336028",
   "metadata": {},
   "source": [
    "Think of virtual environment as a **special folder/directory** that stores all the external python tools you need for a project. This helps isolate your project related tools from other projects or from system-wide available tools. \\\n",
    "You can name the folder anything you want and have it located anywhere on your machine but a general convention is to have virtual environment folder for a project in the project root directory by the name **.venv**"
   ]
  },
  {
   "cell_type": "markdown",
   "id": "7407b06b-6980-43a7-a1ec-1ec3b2988b8b",
   "metadata": {},
   "source": [
    "One of the advantages of using python is huge collection of third-party packages that we can install on our machine and use their APIs to build our projects. \\\n",
    "But this comes with its own problems. Let's say you are currently working on two different projects, **project A** and **project B**.\n",
    "Consider **project A** started much before and it uses a **package P** of *verion 0.1.0* whereas **project B** needs the same **package P** but latest *version 1.0.0*. Assuming that these versions have breaking changes which means that some of the modules in the latest version is not compatible with the older version."
   ]
  },
  {
   "cell_type": "markdown",
   "id": "78494354-0d8e-4285-853a-eb287c4304c3",
   "metadata": {},
   "source": [
    "Now we see a need of having separate versions of the package for different projects, this is where virtual environment comes into play. Virtual environment allows us to have different environments for different projects to avoid any sort of mixing dependencies."
   ]
  },
  {
   "cell_type": "markdown",
   "id": "19fb31c5-5e76-45c8-9791-c1b891b1cb93",
   "metadata": {},
   "source": [
    "Also, it does not harm to use virtual environment even if it is a small project. It is just a habit, a good one, that one builds. I always like to create a virtual environment in the project directory with the name (.venv) regardless of how small the project is."
   ]
  },
  {
   "cell_type": "markdown",
   "id": "4f0056b0-7ced-4eba-bae5-3135aac67120",
   "metadata": {},
   "source": [
    "## Creating a virtual environment."
   ]
  },
  {
   "cell_type": "markdown",
   "id": "447c6754-fee9-46f5-859a-8fb5a1366d4e",
   "metadata": {},
   "source": [
    "First, you need to have python installed on your machine to create a virtual environment. There are multiple ways to download python based on the OS you are using. Assuming you already have python installed on your machine. Python gives you a module that can be used to create virtual environment. Note that every virtual environment needs to have a python interpreter (which is simply the one that you used to create the virtual environment itself)."
   ]
  },
  {
   "cell_type": "markdown",
   "id": "0e96ccb9-bd50-47e3-b49f-07bb3fed4781",
   "metadata": {},
   "source": [
    "To find out the availabe python versions on your machine, you can run:\n",
    "\n",
    "Mac/Linux:  ```ls /Library/Frameworks/Python.framework/Versions/```\n",
    "\n",
    "Windows: ```?```"
   ]
  },
  {
   "cell_type": "markdown",
   "id": "543298c5-f90a-4290-bc4e-0352f09f45e9",
   "metadata": {},
   "source": [
    "On Mac/Linux: ```source <name of the venv>/bin/activate``` \\\n",
    "Example: ```source .venv/bin/activate```\n",
    "\n",
    "On Windows: ```<name of the venv>\\Scripts\\activate``` \\\n",
    "Example: ```.venv\\Scripts\\activate```"
   ]
  },
  {
   "cell_type": "markdown",
   "id": "7d751ca4-3d3c-4330-9339-0d00f587228d",
   "metadata": {},
   "source": [
    "Upon activation, you should see the name of the virtual environment on the left: \\\n",
    "<img src=\"../data/images/venv-tut.png\" width=500>"
   ]
  },
  {
   "cell_type": "markdown",
   "id": "14b64eeb-da4e-41c8-942a-7723887c83dc",
   "metadata": {},
   "source": [
    "## Installing python packages in virtual environment."
   ]
  },
  {
   "cell_type": "markdown",
   "id": "6b90f5a8-6af6-4ec3-b0ad-27a642ec6662",
   "metadata": {},
   "source": [
    "Once the virtual environment is activated, you can use pip or any other python package manager tools to install packages.\n",
    "\n",
    "With pip: `pip install <name of the package>`\n",
    "\n",
    "Example: `pip install numpy`\n",
    "\n",
    "Use `pip list` to check all the installed tools."
   ]
  },
  {
   "cell_type": "markdown",
   "id": "97bc7850-ef62-4b40-b81d-2eca7919c122",
   "metadata": {},
   "source": [
    "Upon activation, you should see the name of the virtual environment on the left: \\\n",
    "<img src=\"../data/images/venv-pip-install.png\" width=500>"
   ]
  },
  {
   "cell_type": "markdown",
   "id": "6b868459-2dc5-4fee-8e47-7fd2b04734a7",
   "metadata": {},
   "source": [
    "You can look into the venv directory to see where the downloaded packages are stored: \\\n",
    "<img src=\"../data/images/venv-directory.png\" width=900>"
   ]
  },
  {
   "cell_type": "markdown",
   "id": "e4eab18b-fa36-4778-befa-e03b5762e479",
   "metadata": {},
   "source": [
    "## Jupyter Kernel"
   ]
  },
  {
   "cell_type": "markdown",
   "id": "6d9f9d74-ce0f-4e6a-9666-35052a6ff849",
   "metadata": {},
   "source": [
    "When we run python code from terminal, we can activate any virtual environment and python of that virtual environment will be automatically used to run scripts (.py files) directly by running `python main.py` without any issues.\n",
    "\n",
    "However while using Jupyter, it is important to understand that it has its own way to allow virtual environments to be used. This is done through **kernels**."
   ]
  },
  {
   "cell_type": "markdown",
   "id": "c4fabcc7-4d01-4bdb-9bf1-08b9b3e931f8",
   "metadata": {},
   "source": [
    "Think of kernel as a configuration that allows Jupyter to access different existing virtual environments and run python code using the python interpreter available in those virtual environments."
   ]
  },
  {
   "cell_type": "markdown",
   "id": "74773862-25a3-4262-901d-2431da575380",
   "metadata": {},
   "source": [
    "For example, we see a list of kernels available to us in the Jupyter notebooks below.\n",
    "\n",
    "<img src=\"../data/images/jupyter-lab-kernels.png\" width=600 height=300>"
   ]
  },
  {
   "cell_type": "markdown",
   "id": "b360622e-5156-4cc8-9662-6d56a5e611f1",
   "metadata": {},
   "source": [
    "Creating a virtual environment does not make it automatically available in jupyter, you need to create a kernel using a python module `ipykernel`."
   ]
  },
  {
   "cell_type": "markdown",
   "id": "03110189-3610-4ef3-bca3-b243e38510bd",
   "metadata": {},
   "source": [
    "Command: ```python -m ipykernel install --user --name=<kernel_name> --display-name=<name to show in jupyter>```\n",
    "\n",
    "Example: `python -m ipykernel install --user --name=devquest-3.12 --display-name=DevQuest`"
   ]
  },
  {
   "cell_type": "markdown",
   "id": "bc42cfdb-159b-4d8c-ad7f-e970dc3a81c9",
   "metadata": {},
   "source": [
    "Command: `jupyter kernelspec list`"
   ]
  },
  {
   "cell_type": "markdown",
   "id": "3155d935-f189-42f8-9be7-9efc1212c592",
   "metadata": {},
   "source": [
    "Command: `jupyter kernelspec remove <kernel_name>`\n",
    "\n",
    "or you can just open the kernels folder and delete the kernel. (Not recommended)\n",
    "\n",
    "<img src=\"../data/images/kernels-dir.png\" width=300>"
   ]
  }
 ],
 "metadata": {
  "kernelspec": {
   "display_name": "Python 3 (ipykernel)",
   "language": "python",
   "name": "python3"
  },
  "language_info": {
   "codemirror_mode": {
    "name": "ipython",
    "version": 3
   },
   "file_extension": ".py",
   "mimetype": "text/x-python",
   "name": "python",
   "nbconvert_exporter": "python",
   "pygments_lexer": "ipython3",
   "version": "3.10.18"
  }
 },
 "nbformat": 4,
 "nbformat_minor": 5
}
