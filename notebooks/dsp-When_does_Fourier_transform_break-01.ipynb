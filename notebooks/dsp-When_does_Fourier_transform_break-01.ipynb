{
 "cells": [
  {
   "cell_type": "code",
   "execution_count": 2,
   "id": "29982129-b397-4fc4-8ec6-112ca2e3024d",
   "metadata": {
    "jupyter": {
     "source_hidden": true
    }
   },
   "outputs": [
    {
     "data": {
      "text/html": [
       "\n",
       "    <div style=\"\n",
       "        display: flex;\n",
       "        align-items: center;\n",
       "        font-family: 'Georgia', serif;\n",
       "        border-left: 3px solid #ccc;\n",
       "        padding-left: 12px;\n",
       "        margin-bottom: 1em;\n",
       "        gap: 20px;\n",
       "    \">\n",
       "        <!-- Calendar on the left -->\n",
       "        <div style=\"\n",
       "            display: inline-block;\n",
       "            font-family: 'Arial', sans-serif;\n",
       "            border-radius: 8px;\n",
       "            overflow: hidden;\n",
       "            box-shadow: 1px 1px 6px rgba(0,0,0,0.1);\n",
       "            width: 120px;\n",
       "            font-size: 12px;\n",
       "            text-align: center;\n",
       "            flex-shrink: 0;\n",
       "        \">\n",
       "            <!-- Last modified label -->\n",
       "            <div style=\"\n",
       "                background: #f4f4f4;\n",
       "                color: #555;\n",
       "                padding: 4px 0;\n",
       "                font-weight: bold;\n",
       "                border-top-left-radius: 8px;\n",
       "                border-top-right-radius: 8px;\n",
       "            \">\n",
       "                Last modified\n",
       "            </div>\n",
       "            \n",
       "            <!-- Main calendar -->\n",
       "            <div>\n",
       "                <div style=\"\n",
       "                    background: #66a6ff;\n",
       "                    color: white;\n",
       "                    padding: 5px 0;\n",
       "                    font-weight: bold;\n",
       "                \">\n",
       "                    Aug, 2025\n",
       "                </div>\n",
       "                <div style=\"\n",
       "                    background: #fff;\n",
       "                    color: #333;\n",
       "                    padding: 8px 0;\n",
       "                    font-size: 20px;\n",
       "                    font-weight: bold;\n",
       "                \">\n",
       "                    20\n",
       "                </div>\n",
       "                <div style=\"\n",
       "                    background: #f4f4f4;\n",
       "                    color: #333;\n",
       "                    padding: 4px 0;\n",
       "                    font-size: 12px;\n",
       "                \">\n",
       "                    04:43:04 PM\n",
       "                </div>\n",
       "            </div>\n",
       "        </div>\n",
       "        \n",
       "        <!-- Header content on the right -->\n",
       "        <div style=\"flex: 1;\">\n",
       "            <h2 style=\"\n",
       "                margin: 0;\n",
       "                color: #EF8C00;\n",
       "                font-size: 2.4em;\n",
       "                padding-left: 0;\n",
       "                text-indent: 0;\n",
       "            \">\n",
       "                When does Fourier transform break?\n",
       "            </h2>\n",
       "            <p style=\"margin: 0.5em 0 0 0;\">\n",
       "                \n",
       "            </p>\n",
       "        </div>\n",
       "    </div>\n",
       "    "
      ],
      "text/plain": [
       "<IPython.core.display.HTML object>"
      ]
     },
     "metadata": {},
     "output_type": "display_data"
    },
    {
     "data": {
      "text/html": [
       "\n",
       "\t<div style=\"padding:12px; border-radius:6px; background:#f9f9f9; margin:8px 0; border-left:3px solid #667eea;\">\n",
       "\t\t<div style=\"font:bold 16px Arial; color:#333; margin-bottom:12px;\">\n",
       "\t\t\t📋 Table of Contents\n",
       "\t\t</div>\n",
       "\t\t<div style=\"font:11px Arial; color:#666; margin-bottom:8px;\">\n",
       "\t\t\tProgress: 0% (0/0)\n",
       "\t\t</div>\n",
       "\t\t\n",
       "\t</div>\n",
       "\t"
      ],
      "text/plain": [
       "<IPython.core.display.HTML object>"
      ]
     },
     "metadata": {},
     "output_type": "display_data"
    }
   ],
   "source": [
    "#hide\n",
    "from utils import *\n",
    "hc(\n",
    "    \"When does Fourier transform break?\",\n",
    "    []\n",
    ")\n",
    "toc(\n",
    "    [\n",
    "    ],\n",
    "    1\n",
    ")"
   ]
  },
  {
   "cell_type": "markdown",
   "id": "9592ad2b-9f8a-49b7-8a14-f59add332987",
   "metadata": {},
   "source": [
    "A digital signal is an array of numbers sampled at a constant rate often refere.\n",
    "\n",
    "Laplace transform tells us about the characterstics of a signal."
   ]
  },
  {
   "cell_type": "markdown",
   "id": "ce6e48e7-2c86-4f8d-84a9-7ddfffd0ba89",
   "metadata": {},
   "source": [
    "## Getting familiar with exponential function\n",
    "\n",
    "To really understand the essence of **Laplace** transformation, we need to understand the behaviour/characterstics of an exponential function.\n",
    "\n",
    "$exp(n) = e^{n}$\n",
    "where $e \\approx 2.72$"
   ]
  },
  {
   "cell_type": "code",
   "execution_count": 5,
   "id": "8053de3e-2802-4993-a31d-a1aeecada12a",
   "metadata": {},
   "outputs": [],
   "source": [
    "import modusa as ms\n",
    "import numpy as np"
   ]
  },
  {
   "cell_type": "code",
   "execution_count": 19,
   "id": "2d3d2cfd-5678-45b7-9185-fb0c7a3ddee4",
   "metadata": {},
   "outputs": [
    {
     "data": {
      "image/png": "[encoded data removed]",
      "text/plain": [
       "<Figure size 1600x200 with 2 Axes>"
      ]
     },
     "execution_count": 19,
     "metadata": {},
     "output_type": "execute_result"
    }
   ],
   "source": [
    "sr = 1000 # Hz\n",
    "dur = 5 # sec\n",
    "f = 1 # Hz\n",
    "t = np.arange(int(dur * sr)) / sr\n",
    "y = np.sin(2*np.pi*f*t)\n",
    "\n",
    "a = 0.2 # Damping factor\n",
    "y_decay = y * np.exp(-a*t)\n",
    "\n",
    "ms.plot1d(\n",
    "    (y, t),\n",
    "    (y_decay, t)\n",
    ")"
   ]
  },
  {
   "cell_type": "code",
   "execution_count": 3,
   "id": "97fa829b-e80e-4572-9e4f-942f1567ca33",
   "metadata": {},
   "outputs": [
    {
     "data": {
      "text/plain": [
       "np.float64(7.38905609893065)"
      ]
     },
     "execution_count": 3,
     "metadata": {},
     "output_type": "execute_result"
    }
   ],
   "source": [
    "np.exp(2)"
   ]
  },
  {
   "cell_type": "code",
   "execution_count": null,
   "id": "087483d1-2e0f-44d4-9ab2-fbc38d1d1cd1",
   "metadata": {},
   "outputs": [],
   "source": []
  },
  {
   "cell_type": "code",
   "execution_count": null,
   "id": "70c6e672-d4d3-4ed9-af70-54dec5b9900d",
   "metadata": {},
   "outputs": [],
   "source": []
  }
 ],
 "metadata": {
  "kernelspec": {
   "display_name": "DevQuest",
   "language": "python",
   "name": "devquest-3.10"
  },
  "language_info": {
   "codemirror_mode": {
    "name": "ipython",
    "version": 3
   },
   "file_extension": ".py",
   "mimetype": "text/x-python",
   "name": "python",
   "nbconvert_exporter": "python",
   "pygments_lexer": "ipython3",
   "version": "3.10.18"
  }
 },
 "nbformat": 4,
 "nbformat_minor": 5
}
