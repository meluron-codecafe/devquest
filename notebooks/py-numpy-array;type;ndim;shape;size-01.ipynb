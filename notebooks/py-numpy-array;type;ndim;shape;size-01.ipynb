{
 "cells": [
  {
   "cell_type": "markdown",
   "id": "eabe549c-13b1-4a1d-85d2-8effc405cafd",
   "metadata": {},
   "source": [
    "<div style=\"font-family: 'Georgia', serif; border-left: 3px solid #ccc; padding-left: 12px; margin-bottom: 1em;\">\n",
    "  <h2 style=\"margin: 0; color: #EF8C00; font-size: 2.4em; padding-left: 0; text-indent: 0;\">\n",
    "      Numpy\n",
    "  </h2>\n",
    "    <p>\n",
    "        array, type, ndim, shape, size\n",
    "    </p>\n",
    "</div>"
   ]
  },
  {
   "cell_type": "code",
   "execution_count": 2,
   "id": "f4e7c06f-b9f3-4b07-8ce2-683bf0eec09e",
   "metadata": {},
   "outputs": [],
   "source": [
    "import numpy as np"
   ]
  },
  {
   "cell_type": "markdown",
   "id": "ecb8ed8d-3f38-4035-bb0d-31e0f2db2725",
   "metadata": {},
   "source": [
    "## Array"
   ]
  },
  {
   "cell_type": "code",
   "execution_count": 5,
   "id": "a0c442c8-87b1-4c00-84da-9fe3c63769fe",
   "metadata": {},
   "outputs": [],
   "source": [
    "arr = np.array([1, 2, 3])"
   ]
  },
  {
   "cell_type": "markdown",
   "id": "45dd2d24-ec93-4830-9661-0c3a84364e4f",
   "metadata": {},
   "source": [
    "### type\n",
    "The type of any numpy array will be `np.ndarray`"
   ]
  },
  {
   "cell_type": "code",
   "execution_count": 7,
   "id": "b45339d7-5057-48c8-9665-d6adefc48e58",
   "metadata": {},
   "outputs": [
    {
     "data": {
      "text/plain": [
       "numpy.ndarray"
      ]
     },
     "execution_count": 7,
     "metadata": {},
     "output_type": "execute_result"
    }
   ],
   "source": [
    "type(arr)"
   ]
  },
  {
   "cell_type": "markdown",
   "id": "3ea6e3e8-f24a-473a-a6c0-d872ac7b36b5",
   "metadata": {},
   "source": [
    "### ndim\n",
    "Every `np.ndarray` object has `ndim` attribute that returns `int`."
   ]
  },
  {
   "cell_type": "code",
   "execution_count": 24,
   "id": "ac9d9553-8016-4fef-8403-ecc0d04301f2",
   "metadata": {},
   "outputs": [
    {
     "name": "stdout",
     "output_type": "stream",
     "text": [
      "arr=1, \tndim=0\n",
      "\n",
      "arr=[], ndim=1\n",
      "\n",
      "arr=[1 2 3], ndim=1\n",
      "\n",
      "arr=[], ndim=2\n",
      "\n",
      "arr=[[1 2 3]\n",
      " [5 6 7]], ndim=2\n",
      "\n",
      "arr=[[1 2 3]], ndim=2\n",
      "\n",
      "arr=[[[1 2 3]]], ndim=3\n",
      "\n"
     ]
    }
   ],
   "source": [
    "arr = np.array(1) # 0 => Scalar => A number (no datastructure)\n",
    "print(f\"arr={arr}, \\tndim={arr.ndim}\\n\")\n",
    "\n",
    "arr = np.array([]) # 1 => Collection of scalar (0D array)\n",
    "print(f\"arr={arr}, ndim={arr.ndim}\\n\")\n",
    "\n",
    "arr = np.array([1, 2, 3]) # 1 => Collection of scalar (0D array) => Also known as vector\n",
    "print(f\"arr={arr}, ndim={arr.ndim}\\n\")\n",
    "\n",
    "arr = np.array([[], []]) # 2 => Collection of vector (1D array) => Also known as matrix\n",
    "print(f\"arr={arr}, ndim={arr.ndim}\\n\")\n",
    "\n",
    "arr = np.array([[1, 2, 3], [5, 6, 7]]) # 2 => Collection of vector (1D array) => Also known as matrix\n",
    "print(f\"arr={arr}, ndim={arr.ndim}\\n\")\n",
    "\n",
    "arr = np.array([[1, 2, 3]]) # 2 => Collection of vector (1D array) => Also known as matrix\n",
    "print(f\"arr={arr}, ndim={arr.ndim}\\n\")\n",
    "\n",
    "arr = np.array([[[1, 2, 3]]]) # 3 => Collection of matrix (2D array) => Also known as 3D\n",
    "print(f\"arr={arr}, ndim={arr.ndim}\\n\")"
   ]
  },
  {
   "cell_type": "markdown",
   "id": "50f0485e-29e5-434f-a262-fe869ed64e49",
   "metadata": {},
   "source": [
    "### shape\n",
    "Every `np.ndarray` object has `shape` attribute that returns `tuple` of length `ndim`."
   ]
  },
  {
   "cell_type": "code",
   "execution_count": 61,
   "id": "516dca60-ca42-4a02-b89d-22540bbe421a",
   "metadata": {},
   "outputs": [
    {
     "name": "stdout",
     "output_type": "stream",
     "text": [
      "arr=1, \tndim=0, shape=()\n",
      "\n",
      "arr=[], ndim=1, shape=(0,)\n",
      "\n",
      "arr=[1 2 3], ndim=1, shape=(3,)\n",
      "\n",
      "arr=[], ndim=2, shape=(2, 0)\n",
      "\n",
      "arr=[[1 2 3]\n",
      " [5 6 7]], ndim=2, shape=(2, 3)\n",
      "\n",
      "arr=[[1 2 3]], ndim=2, shape=(1, 3)\n",
      "\n",
      "arr=[[1]\n",
      " [2]\n",
      " [3]], ndim=2, shape=(3, 1)\n",
      "\n",
      "arr=[[[1 2 3]]], ndim=3, shape=(1, 1, 3)\n",
      "\n"
     ]
    }
   ],
   "source": [
    "arr = np.array(1) # 0 => Scalar => A number (no datastructure)\n",
    "print(f\"arr={arr}, \\tndim={arr.ndim}, shape={arr.shape}\\n\")\n",
    "\n",
    "arr = np.array([]) # 1 => Collection of scalar (0D array)\n",
    "print(f\"arr={arr}, ndim={arr.ndim}, shape={arr.shape}\\n\")\n",
    "\n",
    "arr = np.array([1, 2, 3]) # 1 => Collection of scalar (0D array) => Also known as vector\n",
    "print(f\"arr={arr}, ndim={arr.ndim}, shape={arr.shape}\\n\")\n",
    "\n",
    "arr = np.array([[], []]) # 2 => Collection of vector (1D array) => Also known as matrix\n",
    "print(f\"arr={arr}, ndim={arr.ndim}, shape={arr.shape}\\n\")\n",
    "\n",
    "arr = np.array([[1, 2, 3], [5, 6, 7]]) # 2 => Collection of vector (1D array) => Also known as matrix\n",
    "print(f\"arr={arr}, ndim={arr.ndim}, shape={arr.shape}\\n\")\n",
    "\n",
    "arr = np.array([[1, 2, 3]]) # 2 => Collection of vector (1D array) => Also known as matrix (row vector)\n",
    "print(f\"arr={arr}, ndim={arr.ndim}, shape={arr.shape}\\n\")\n",
    "\n",
    "arr = np.array([[1], [2], [3]]) # 2 => Collection of vector (1D array) => Also known as matrix (column vector)\n",
    "print(f\"arr={arr}, ndim={arr.ndim}, shape={arr.shape}\\n\")\n",
    "\n",
    "arr = np.array([[[1, 2, 3]]]) # 3 => Collection of matrix (2D array) => Also known as 3D\n",
    "print(f\"arr={arr}, ndim={arr.ndim}, shape={arr.shape}\\n\")"
   ]
  },
  {
   "cell_type": "markdown",
   "id": "dabbe997-4584-4178-ade8-749502a11f38",
   "metadata": {},
   "source": [
    "### size\n",
    "Every `np.ndarray` object has `size` attribute that returns `int`. It is basically the total number of scalar objects."
   ]
  },
  {
   "cell_type": "code",
   "execution_count": 66,
   "id": "38a4caaf-7faf-4dad-ad81-9e6d598aa477",
   "metadata": {},
   "outputs": [
    {
     "name": "stdout",
     "output_type": "stream",
     "text": [
      "arr=1, \tndim=0, shape=() size=1\n",
      "\n",
      "arr=[], ndim=1, shape=(0,) size=0\n",
      "\n",
      "arr=[1 2 3], ndim=1, shape=(3,) size=3\n",
      "\n",
      "arr=[], ndim=2, shape=(2, 0) size=0\n",
      "\n",
      "arr=[[1 2 3]\n",
      " [5 6 7]], ndim=2, shape=(2, 3) size=6\n",
      "\n",
      "arr=[[1 2 3]], ndim=2, shape=(1, 3) size=3\n",
      "\n",
      "arr=[[1]\n",
      " [2]\n",
      " [3]], ndim=2, shape=(3, 1) size=3\n",
      "\n",
      "arr=[[[1 2 3]]], ndim=3, shape=(1, 1, 3) size=3\n",
      "\n"
     ]
    }
   ],
   "source": [
    "arr = np.array(1) # 0 => Scalar => A number (no datastructure)\n",
    "print(f\"arr={arr}, \\tndim={arr.ndim}, shape={arr.shape} size={arr.size}\\n\")\n",
    "\n",
    "arr = np.array([]) # 1 => Collection of scalar (0D array)\n",
    "print(f\"arr={arr}, ndim={arr.ndim}, shape={arr.shape} size={arr.size}\\n\")\n",
    "\n",
    "arr = np.array([1, 2, 3]) # 1 => Collection of scalar (0D array) => Also known as vector\n",
    "print(f\"arr={arr}, ndim={arr.ndim}, shape={arr.shape} size={arr.size}\\n\")\n",
    "\n",
    "arr = np.array([[], []]) # 2 => Collection of vector (1D array) => Also known as matrix\n",
    "print(f\"arr={arr}, ndim={arr.ndim}, shape={arr.shape} size={arr.size}\\n\")\n",
    "\n",
    "arr = np.array([[1, 2, 3], [5, 6, 7]]) # 2 => Collection of vector (1D array) => Also known as matrix\n",
    "print(f\"arr={arr}, ndim={arr.ndim}, shape={arr.shape} size={arr.size}\\n\")\n",
    "\n",
    "arr = np.array([[1, 2, 3]]) # 2 => Collection of vector (1D array) => Also known as matrix (row vector)\n",
    "print(f\"arr={arr}, ndim={arr.ndim}, shape={arr.shape} size={arr.size}\\n\")\n",
    "\n",
    "arr = np.array([[1], [2], [3]]) # 2 => Collection of vector (1D array) => Also known as matrix (column vector)\n",
    "print(f\"arr={arr}, ndim={arr.ndim}, shape={arr.shape} size={arr.size}\\n\")\n",
    "\n",
    "arr = np.array([[[1, 2, 3]]]) # 3 => Collection of matrix (2D array) => Also known as 3D\n",
    "print(f\"arr={arr}, ndim={arr.ndim}, shape={arr.shape} size={arr.size}\\n\")"
   ]
  },
  {
   "cell_type": "code",
   "execution_count": null,
   "id": "e3d56c9c-e1e3-49b0-94e0-9deb4b81cb5c",
   "metadata": {},
   "outputs": [],
   "source": []
  },
  {
   "cell_type": "code",
   "execution_count": null,
   "id": "e38b5fad-b4c7-488c-9865-70152178b7c3",
   "metadata": {},
   "outputs": [],
   "source": []
  },
  {
   "cell_type": "code",
   "execution_count": null,
   "id": "b4ce76ae-8118-48cc-b60a-53672d864e24",
   "metadata": {},
   "outputs": [],
   "source": []
  }
 ],
 "metadata": {
  "kernelspec": {
   "display_name": "Python 3 (ipykernel)",
   "language": "python",
   "name": "python3"
  },
  "language_info": {
   "codemirror_mode": {
    "name": "ipython",
    "version": 3
   },
   "file_extension": ".py",
   "mimetype": "text/x-python",
   "name": "python",
   "nbconvert_exporter": "python",
   "pygments_lexer": "ipython3",
   "version": "3.10.18"
  }
 },
 "nbformat": 4,
 "nbformat_minor": 5
}
