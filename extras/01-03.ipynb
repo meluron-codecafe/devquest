{
 "cells": [
  {
   "cell_type": "code",
   "execution_count": 1,
   "id": "c2bdeecb-7153-45f2-a927-a1f6b537c42a",
   "metadata": {
    "papermill": {
     "duration": 0.018571,
     "end_time": "2025-06-21T22:12:05.648849",
     "exception": false,
     "start_time": "2025-06-21T22:12:05.630278",
     "status": "completed"
    },
    "tags": []
   },
   "outputs": [],
   "source": [
    "#hide"
   ]
  },
  {
   "cell_type": "code",
   "execution_count": 2,
   "id": "4b625284-6f4a-4859-a267-724b1db4744b",
   "metadata": {
    "jupyter": {
     "source_hidden": true
    },
    "papermill": {
     "duration": 0.015496,
     "end_time": "2025-06-21T22:12:05.668681",
     "exception": false,
     "start_time": "2025-06-21T22:12:05.653185",
     "status": "completed"
    },
    "tags": []
   },
   "outputs": [
    {
     "data": {
      "text/html": [
       "\n",
       "    <div style=\"\n",
       "        position: relative;\n",
       "        display: flex; \n",
       "        align-items: center; \n",
       "        justify-content: flex-start;\n",
       "        min-height: 80px;\n",
       "        width: 800px;\n",
       "        background: linear-gradient(135deg, #f5f7fa 0%, #c3cfe2 100%);\n",
       "        padding: 20px;\n",
       "        border-radius: 12px;\n",
       "        box-shadow: 0 4px 15px rgba(0, 0, 0, 0.1);\n",
       "        border: 1px solid #e1e8ed;\n",
       "        margin: 10px 0;\n",
       "        font-family: 'Segoe UI', Tahoma, Geneva, Verdana, sans-serif;\n",
       "    \">\n",
       "\n",
       "        <!-- GitHub Icon + Name in top-right -->\n",
       "        <a href=\"https://github.com/meluron-codecafe\" target=\"_blank\" style=\"\n",
       "            position: absolute;\n",
       "            top: 16px;\n",
       "            right: 20px;\n",
       "            display: flex;\n",
       "            align-items: center;\n",
       "            text-decoration: none;\n",
       "            color: #333;\n",
       "            font-size: 14px;\n",
       "            font-weight: 500;\n",
       "            gap: 6px;\n",
       "        \">\n",
       "            <img src=\"https://cdn-icons-png.flaticon.com/512/25/25231.png\" \n",
       "                 alt=\"GitHub\" \n",
       "                 style=\"width: 18px; height: 18px; display: inline-block; vertical-align: middle;\">\n",
       "            <span style=\"transform: translateY(-1px); line-height: 1;\">\n",
       "                /meluron-codecafe\n",
       "            </span>\n",
       "        </a>\n",
       "\n",
       "        <!-- Logo + Label stacked vertically -->\n",
       "        <div style=\"\n",
       "            display: flex; \n",
       "            flex-direction: column; \n",
       "            align-items: center; \n",
       "            justify-content: center;\n",
       "            margin-right: 35px;\n",
       "        \">\n",
       "            <a href=\"https://meluron-codecafe.github.io/DevQuest/\">\n",
       "                <img src=\"https://raw.githubusercontent.com/meluron/assets/refs/heads/main/logos/meluron-codecafe/DevQuest/orig.png\" \n",
       "                     alt=\"My Logo\" \n",
       "                     style=\"\n",
       "                        width: 70px; \n",
       "                        height: 70px;\n",
       "                        border-radius: 8px;\n",
       "                        box-shadow: 0 3px 10px rgba(253, 138, 9, 0.3);\n",
       "                     \">\n",
       "            </a>\n",
       "            <div style=\"\n",
       "                font-size: 13px; \n",
       "                color: #fd8a09; \n",
       "                font-weight: bold;\n",
       "                margin-top: 6px;\n",
       "                text-align: center;\n",
       "            \">\n",
       "            </div>\n",
       "        </div>\n",
       "\n",
       "        <!-- Question Badge -->\n",
       "        <div style=\"\n",
       "            font-size: 14px; \n",
       "            background: linear-gradient(135deg, #667eea, #764ba2);\n",
       "            color: white; \n",
       "            padding: 8px 14px; \n",
       "            border-radius: 20px; \n",
       "            display: inline-flex;\n",
       "            align-items: center;\n",
       "            gap: 6px;\n",
       "            font-weight: 600;\n",
       "            box-shadow: 0 3px 12px rgba(102, 126, 234, 0.3);\n",
       "        \">\n",
       "            <span style=\"font-size: 16px;\">❔</span>\n",
       "            How to setup a virtual environment in Python?\n",
       "            \n",
       "        </div>\n",
       "    </div>\n",
       "    "
      ],
      "text/plain": [
       "<IPython.core.display.HTML object>"
      ]
     },
     "metadata": {},
     "output_type": "display_data"
    }
   ],
   "source": [
    "#hide\n",
    "import utils\n",
    "utils.hero(\"How to setup a virtual environment in Python?\")"
   ]
  },
  {
   "cell_type": "code",
   "execution_count": 9,
   "id": "75aa88df-cd1e-44e8-bc8a-5c36511afcf0",
   "metadata": {
    "jupyter": {
     "source_hidden": true
    },
    "papermill": {
     "duration": 0.009208,
     "end_time": "2025-06-21T22:12:05.680893",
     "exception": false,
     "start_time": "2025-06-21T22:12:05.671685",
     "status": "completed"
    },
    "tags": []
   },
   "outputs": [
    {
     "data": {
      "text/html": [
       "\n",
       "        <div style=\"\n",
       "            margin: 25px 0 15px 0;\n",
       "            padding: 0;\n",
       "        \">\n",
       "            <h2 style=\"\n",
       "                font-size: 24px;\n",
       "                font-weight: 600;\n",
       "                color: #2c3e50;\n",
       "                margin: 0;\n",
       "                padding: 12px 0 8px 0;\n",
       "                display: inline-block;\n",
       "                font-family: 'Segoe UI', Tahoma, Geneva, Verdana, sans-serif;\n",
       "                background: linear-gradient(135deg, #667eea, #764ba2);\n",
       "                -webkit-background-clip: text;\n",
       "                -webkit-text-fill-color: transparent;\n",
       "                background-clip: text;\n",
       "            \">▶ Create a virtual environment</h2>\n",
       "        </div>\n",
       "    "
      ],
      "text/plain": [
       "<IPython.core.display.HTML object>"
      ]
     },
     "metadata": {},
     "output_type": "display_data"
    }
   ],
   "source": [
    "#hide\n",
    "utils.h1(\"Create a virtual environment\")"
   ]
  },
  {
   "cell_type": "markdown",
   "id": "a0bec2e1-c45a-47af-b0d4-1ec3ce8c94ee",
   "metadata": {
    "papermill": {
     "duration": 0.002405,
     "end_time": "2025-06-21T22:12:05.685902",
     "exception": false,
     "start_time": "2025-06-21T22:12:05.683497",
     "status": "completed"
    },
    "tags": []
   },
   "source": [
    "First, you need to have python installed on your machine to create a virtual environment. There are multiple ways to download python based on the OS you are using. Assuming you already have python installed on your machine. Python gives you a module that can be used to create virtual environment. Note that every virtual environment needs to have a python interpreter (which is simply the one that you used to create the virtual environment itself)."
   ]
  },
  {
   "cell_type": "markdown",
   "id": "e7aa5735-1ea9-4169-afbe-4f1a7687be50",
   "metadata": {
    "papermill": {
     "duration": 0.002861,
     "end_time": "2025-06-21T22:12:05.691112",
     "exception": false,
     "start_time": "2025-06-21T22:12:05.688251",
     "status": "completed"
    },
    "tags": []
   },
   "source": [
    "To find out the availabe python versions on your machine, you can run:\n",
    "\n",
    "Mac/Linux:  ```ls /Library/Frameworks/Python.framework/Versions/```\n",
    "\n",
    "Windows: ```?```"
   ]
  },
  {
   "cell_type": "markdown",
   "id": "fe37646a-a6c0-46ed-b3ce-a42b262b02cd",
   "metadata": {
    "papermill": {
     "duration": 0.002349,
     "end_time": "2025-06-21T22:12:05.695851",
     "exception": false,
     "start_time": "2025-06-21T22:12:05.693502",
     "status": "completed"
    },
    "tags": []
   },
   "source": [
    "To create a virtual environment:\n",
    "1. Navigate to the project directory\n",
    "2. Run ```python -m venv <name of the virtual env>``` \\\n",
    "   Example ```python -m venv .venv```\n",
    "\n",
    "This should create a directory named '.venv'"
   ]
  },
  {
   "cell_type": "code",
   "execution_count": 4,
   "id": "3d200071-28c4-4154-afea-2b1ff29527b9",
   "metadata": {
    "jupyter": {
     "source_hidden": true
    },
    "papermill": {
     "duration": 0.009032,
     "end_time": "2025-06-21T22:12:05.707540",
     "exception": false,
     "start_time": "2025-06-21T22:12:05.698508",
     "status": "completed"
    },
    "tags": []
   },
   "outputs": [
    {
     "data": {
      "text/html": [
       "\n",
       "        <div style=\"\n",
       "            margin: 25px 0 15px 0;\n",
       "            padding: 0;\n",
       "        \">\n",
       "            <h2 style=\"\n",
       "                font-size: 24px;\n",
       "                font-weight: 600;\n",
       "                color: #2c3e50;\n",
       "                margin: 0;\n",
       "                padding: 12px 0 8px 0;\n",
       "                display: inline-block;\n",
       "                font-family: 'Segoe UI', Tahoma, Geneva, Verdana, sans-serif;\n",
       "                background: linear-gradient(135deg, #667eea, #764ba2);\n",
       "                -webkit-background-clip: text;\n",
       "                -webkit-text-fill-color: transparent;\n",
       "                background-clip: text;\n",
       "            \">▶ Activate the virtual environment</h2>\n",
       "        </div>\n",
       "    "
      ],
      "text/plain": [
       "<IPython.core.display.HTML object>"
      ]
     },
     "metadata": {},
     "output_type": "display_data"
    }
   ],
   "source": [
    "#hide\n",
    "utils.h1(\"Activate the virtual environment\")"
   ]
  },
  {
   "cell_type": "markdown",
   "id": "78bb7353-4768-438e-90d6-bb84f315aabf",
   "metadata": {
    "papermill": {
     "duration": 0.002441,
     "end_time": "2025-06-21T22:12:05.712670",
     "exception": false,
     "start_time": "2025-06-21T22:12:05.710229",
     "status": "completed"
    },
    "tags": []
   },
   "source": [
    "On Mac/Linux: ```source <name of the venv>/bin/activate``` \\\n",
    "Example: ```source .venv/bin/activate```\n",
    "\n",
    "On Windows: ```<name of the venv>\\Scripts\\activate``` \\\n",
    "Example: ```.venv\\Scripts\\activate```"
   ]
  },
  {
   "cell_type": "markdown",
   "id": "b3461836-a0ef-40b6-aa86-142148d85a36",
   "metadata": {
    "papermill": {
     "duration": 0.002438,
     "end_time": "2025-06-21T22:12:05.717515",
     "exception": false,
     "start_time": "2025-06-21T22:12:05.715077",
     "status": "completed"
    },
    "tags": []
   },
   "source": [
    "Upon activation, you should see the name of the virtual environment on the left: \\\n",
    "<img src=\"../data/images/venv-tut.png\" width=500>"
   ]
  },
  {
   "cell_type": "code",
   "execution_count": 10,
   "id": "a9217297-6285-48e4-8c44-d4f8c069b0b8",
   "metadata": {
    "jupyter": {
     "source_hidden": true
    },
    "papermill": {
     "duration": 0.009105,
     "end_time": "2025-06-21T22:12:05.729077",
     "exception": false,
     "start_time": "2025-06-21T22:12:05.719972",
     "status": "completed"
    },
    "tags": []
   },
   "outputs": [
    {
     "data": {
      "text/html": [
       "\n",
       "        <div style=\"\n",
       "            margin: 25px 0 15px 0;\n",
       "            padding: 0;\n",
       "        \">\n",
       "            <h2 style=\"\n",
       "                font-size: 24px;\n",
       "                font-weight: 600;\n",
       "                color: #2c3e50;\n",
       "                margin: 0;\n",
       "                padding: 12px 0 8px 0;\n",
       "                display: inline-block;\n",
       "                font-family: 'Segoe UI', Tahoma, Geneva, Verdana, sans-serif;\n",
       "                background: linear-gradient(135deg, #667eea, #764ba2);\n",
       "                -webkit-background-clip: text;\n",
       "                -webkit-text-fill-color: transparent;\n",
       "                background-clip: text;\n",
       "            \">▶ Install python packages in the virtual enviroment</h2>\n",
       "        </div>\n",
       "    "
      ],
      "text/plain": [
       "<IPython.core.display.HTML object>"
      ]
     },
     "metadata": {},
     "output_type": "display_data"
    }
   ],
   "source": [
    "#hide\n",
    "utils.h1(\"Install python packages in the virtual enviroment\")"
   ]
  },
  {
   "cell_type": "markdown",
   "id": "3e2bf613-6092-4cf6-8052-3602e8d7f9cd",
   "metadata": {
    "papermill": {
     "duration": 0.002519,
     "end_time": "2025-06-21T22:12:05.734268",
     "exception": false,
     "start_time": "2025-06-21T22:12:05.731749",
     "status": "completed"
    },
    "tags": []
   },
   "source": [
    "Once the virtual environment is activated, you can use pip or any other python package manager tools to install packages.\n",
    "\n",
    "With pip: `pip install <name of the package>`\n",
    "\n",
    "Example: `pip install numpy`\n",
    "\n",
    "Use `pip list` to check all the installed tools."
   ]
  },
  {
   "cell_type": "markdown",
   "id": "ab60b9d9-d94e-46ed-a2fb-17d2d29b10a3",
   "metadata": {},
   "source": [
    "Upon activation, you should see the name of the virtual environment on the left: \\\n",
    "<img src=\"../data/images/venv-pip-install.png\" width=500>"
   ]
  },
  {
   "cell_type": "markdown",
   "id": "c6e8e3da-d26a-41e1-abfc-69ab9d7055ef",
   "metadata": {},
   "source": [
    "You can look into the venv directory to see where the downloaded packages are stored: \\\n",
    "<img src=\"../data/images/venv-directory.png\" width=900>"
   ]
  },
  {
   "cell_type": "code",
   "execution_count": 8,
   "id": "433c3020-8cd9-4b27-8163-b5eaf517e9b4",
   "metadata": {
    "papermill": {
     "duration": 0.002401,
     "end_time": "2025-06-21T22:12:05.739127",
     "exception": false,
     "start_time": "2025-06-21T22:12:05.736726",
     "status": "completed"
    },
    "tags": []
   },
   "outputs": [
    {
     "data": {
      "text/html": [
       "\n",
       "    <div style=\"\n",
       "        margin: 15px 0; \n",
       "        padding: 16px 20px; \n",
       "        border-radius: 8px; \n",
       "        border-left: 4px solid #607d8b; \n",
       "        box-shadow: 0 2px 8px rgba(0, 0, 0, 0.1); \n",
       "        background-color: #f8f9fa; \n",
       "        color: #37474f;\n",
       "        font-family: -apple-system, BlinkMacSystemFont, 'Segoe UI', Roboto, sans-serif;\n",
       "    \">\n",
       "        <div style=\"\n",
       "            font-weight: bold; \n",
       "            margin-bottom: 12px; \n",
       "            font-size: 14px; \n",
       "            text-transform: uppercase; \n",
       "            letter-spacing: 0.5px;\n",
       "            display: flex;\n",
       "            align-items: center;\n",
       "            gap: 8px;\n",
       "        \">\n",
       "            <span style=\"font-size: 18px;\">🧭</span>\n",
       "            Navigation\n",
       "        </div>\n",
       "        <div style=\"\n",
       "            display: flex; \n",
       "            justify-content: space-between; \n",
       "            align-items: center;\n",
       "            gap: 16px;\n",
       "        \">\n",
       "            <div><a href=\"./01-02\" style=\"color: #5d4037; text-decoration: none; padding: 8px 12px; border-radius: 4px; background-color: #efebe9; border: 1px solid #8d6e63; display: inline-block; font-weight: 500;\">⬅️ Previous Section</a></div>\n",
       "            <div><a href=\"./01-04.html\" style=\"color: #2e7d32; text-decoration: none; padding: 8px 12px; border-radius: 4px; background-color: #e8f5e8; border: 1px solid #66bb6a; display: inline-block; font-weight: 500;\">Next Section ➡️</a></div>\n",
       "        </div>\n",
       "    </div>\n",
       "    "
      ],
      "text/plain": [
       "<IPython.core.display.HTML object>"
      ]
     },
     "execution_count": 8,
     "metadata": {},
     "output_type": "execute_result"
    }
   ],
   "source": [
    "#hide\n",
    "utils.nav(\"./01-02\", \"./01-04.html\")"
   ]
  },
  {
   "cell_type": "code",
   "execution_count": null,
   "id": "bf35ede5-7913-42b9-ad56-ae93f115047f",
   "metadata": {},
   "outputs": [],
   "source": []
  }
 ],
 "metadata": {
  "kernelspec": {
   "display_name": "Musa",
   "language": "python",
   "name": "musa-3.13"
  },
  "language_info": {
   "codemirror_mode": {
    "name": "ipython",
    "version": 3
   },
   "file_extension": ".py",
   "mimetype": "text/x-python",
   "name": "python",
   "nbconvert_exporter": "python",
   "pygments_lexer": "ipython3",
   "version": "3.12.0"
  },
  "papermill": {
   "default_parameters": {},
   "duration": 1.090868,
   "end_time": "2025-06-21T22:12:05.962041",
   "environment_variables": {},
   "exception": null,
   "input_path": "notebooks/01-01.ipynb",
   "output_path": "notebooks/01-01.ipynb",
   "parameters": {},
   "start_time": "2025-06-21T22:12:04.871173",
   "version": "2.6.0"
  }
 },
 "nbformat": 4,
 "nbformat_minor": 5
}
