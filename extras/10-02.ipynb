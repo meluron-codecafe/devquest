{
 "cells": [
  {
   "cell_type": "code",
   "execution_count": 1,
   "id": "708cf325-9112-46f7-9570-216464053bbd",
   "metadata": {},
   "outputs": [],
   "source": [
    "#hide"
   ]
  },
  {
   "cell_type": "code",
   "execution_count": 3,
   "id": "21f474b3-b684-4fdd-bd00-1ef47af2d9df",
   "metadata": {
    "jupyter": {
     "source_hidden": true
    }
   },
   "outputs": [
    {
     "data": {
      "text/html": [
       "\n",
       "    <div style=\"\n",
       "        position: relative;\n",
       "        display: flex; \n",
       "        align-items: center; \n",
       "        justify-content: flex-start;\n",
       "        min-height: 80px;\n",
       "        width: 800px;\n",
       "        background: linear-gradient(135deg, #f5f7fa 0%, #c3cfe2 100%);\n",
       "        padding: 20px;\n",
       "        border-radius: 12px;\n",
       "        box-shadow: 0 4px 15px rgba(0, 0, 0, 0.1);\n",
       "        border: 1px solid #e1e8ed;\n",
       "        margin: 10px 0;\n",
       "        font-family: 'Segoe UI', Tahoma, Geneva, Verdana, sans-serif;\n",
       "    \">\n",
       "\n",
       "        <!-- GitHub Icon + Name in top-right -->\n",
       "        <a href=\"https://github.com/meluron-codecafe\" target=\"_blank\" style=\"\n",
       "            position: absolute;\n",
       "            top: 16px;\n",
       "            right: 20px;\n",
       "            display: flex;\n",
       "            align-items: center;\n",
       "            text-decoration: none;\n",
       "            color: #333;\n",
       "            font-size: 14px;\n",
       "            font-weight: 500;\n",
       "            gap: 6px;\n",
       "        \">\n",
       "            <img src=\"https://cdn-icons-png.flaticon.com/512/25/25231.png\" \n",
       "                 alt=\"GitHub\" \n",
       "                 style=\"width: 18px; height: 18px; display: inline-block; vertical-align: middle;\">\n",
       "            <span style=\"transform: translateY(-1px); line-height: 1;\">\n",
       "                /meluron-codecafe\n",
       "            </span>\n",
       "        </a>\n",
       "\n",
       "        <!-- Logo + Label stacked vertically -->\n",
       "        <div style=\"\n",
       "            display: flex; \n",
       "            flex-direction: column; \n",
       "            align-items: center; \n",
       "            justify-content: center;\n",
       "            margin-right: 35px;\n",
       "        \">\n",
       "            <a href=\"https://meluron-codecafe.github.io/DevQuest/\">\n",
       "                <img src=\"https://raw.githubusercontent.com/meluron/assets/refs/heads/main/logos/meluron-codecafe/DevQuest/icon_with_text.png\" \n",
       "                     alt=\"My Logo\" \n",
       "                     style=\"\n",
       "                        width: 120px; \n",
       "                        height: 50px;\n",
       "                        border-radius: 5px;\n",
       "                        box-shadow: 0 3px 10px rgba(253, 138, 9, 0.3);\n",
       "                     \">\n",
       "            </a>\n",
       "            <div style=\"\n",
       "                font-size: 13px; \n",
       "                color: #fd8a09; \n",
       "                font-weight: bold;\n",
       "                margin-top: 6px;\n",
       "                text-align: center;\n",
       "            \">\n",
       "            </div>\n",
       "        </div>\n",
       "\n",
       "        <!-- Question Badge -->\n",
       "        <div style=\"\n",
       "            font-size: 14px; \n",
       "            background: linear-gradient(135deg, #667eea, #764ba2);\n",
       "            color: white; \n",
       "            padding: 8px 10px; \n",
       "            border-radius: 5px; \n",
       "            display: inline-flex;\n",
       "            align-items: center;\n",
       "            gap: 6px;\n",
       "            font-weight: 600;\n",
       "            box-shadow: 0 3px 12px rgba(102, 126, 234, 0.3);\n",
       "            margin-top: -10px;\n",
       "        \">\n",
       "            Examples of classes\n",
       "            \n",
       "        </div>\n",
       "    </div>\n",
       "    "
      ],
      "text/plain": [
       "<IPython.core.display.HTML object>"
      ]
     },
     "metadata": {},
     "output_type": "display_data"
    }
   ],
   "source": [
    "#hide\n",
    "import utils\n",
    "utils.hero(\"Examples of classes\")"
   ]
  },
  {
   "cell_type": "markdown",
   "id": "496a402a-bc1c-443e-aff2-73262c4f9792",
   "metadata": {},
   "source": [
    "1. One of the reasons to use class is to create a **namespace** for sharing similar **methods**.\n",
    "2. Another reason to use class is to create and maintain states."
   ]
  },
  {
   "cell_type": "code",
   "execution_count": 8,
   "id": "139209f0-d988-43b4-bd67-4c83b67b15e0",
   "metadata": {},
   "outputs": [],
   "source": [
    "class Calculator:\n",
    "    def __init__(self, a, b):\n",
    "        self.a = a # state/attribute\n",
    "        self.b = b # state/attribute\n",
    "    def add(self):\n",
    "        return self.a + self.b\n",
    "    def subtract(self):\n",
    "        return self.a - self.b"
   ]
  },
  {
   "cell_type": "code",
   "execution_count": 9,
   "id": "e64fa05b-b8b2-4937-896d-309fb9476e35",
   "metadata": {},
   "outputs": [],
   "source": [
    "calc_obj = Calculator(10, 20)"
   ]
  },
  {
   "cell_type": "code",
   "execution_count": 15,
   "id": "4c4bcd1c-82a9-4ca2-a05d-c75bec023116",
   "metadata": {},
   "outputs": [],
   "source": [
    "calc_obj.a = 20 # changed the state of the object"
   ]
  },
  {
   "cell_type": "code",
   "execution_count": 16,
   "id": "44e5d4f1-ccaf-47d0-84f9-a1dcd3055558",
   "metadata": {},
   "outputs": [
    {
     "data": {
      "text/plain": [
       "0"
      ]
     },
     "execution_count": 16,
     "metadata": {},
     "output_type": "execute_result"
    }
   ],
   "source": [
    "calc_obj.subtract()"
   ]
  },
  {
   "cell_type": "code",
   "execution_count": 41,
   "id": "5a97160b-f908-4532-9a04-b728641bfffa",
   "metadata": {},
   "outputs": [],
   "source": [
    "class BankAccount:\n",
    "    def __init__(self, account_holder: str, balance: float = 0.0):\n",
    "        self.account_holder = account_holder\n",
    "        self.balance = balance\n",
    "\n",
    "    def deposit(self, amount: float) -> None:\n",
    "        self.balance += amount\n",
    "\n",
    "    def withdraw(self, amount: float) -> None:\n",
    "        if amount > self.balance:\n",
    "            print(\"Insufficient balance\")\n",
    "        else:\n",
    "            self.balance -= amount\n",
    "\n",
    "    def get_balance(self) -> float:\n",
    "        return self.balance\n",
    "\n",
    "    def __str__(self) -> str:\n",
    "        return f\"Account holder name: {self.account_holder} | Balance: {self.balance}\""
   ]
  },
  {
   "cell_type": "code",
   "execution_count": 2,
   "id": "f796e743-999d-4883-ad8e-1c23df2b6e98",
   "metadata": {},
   "outputs": [],
   "source": [
    "class Timer:\n",
    "    def __init__(self):\n",
    "        self.elapsed_times = []\n",
    "        self.running = False\n",
    "        \n",
    "    def start(self):\n",
    "        self.running = True\n",
    "        self.start_time = time.time()\n",
    "        print(f\"Timer has started...\")\n",
    "    \n",
    "    def pause(self):\n",
    "        self.running = False\n",
    "        self.end_time = time.time()\n",
    "        self.elapsed_times.append(self.get_elapsed())\n",
    "        print(f\"Timer has paused...\")\n",
    "\n",
    "    def reset(self):\n",
    "        self.start_time = 0.0 # Time is reset to 0\n",
    "\n",
    "    def get_elapsed(self):\n",
    "        return self.end_time - self.start_time\n",
    "\n",
    "    def get_total_elapsed_time(self):\n",
    "        total_elapsed_time = 0\n",
    "        for elapsed_time in self.elapsed_times:\n",
    "            total_elapsed_time += elapsed_time\n",
    "        return total_elapsed_time"
   ]
  },
  {
   "cell_type": "markdown",
   "id": "da250bf5-2ab9-437d-a4ef-f4affe66a0fa",
   "metadata": {},
   "source": []
  },
  {
   "cell_type": "code",
   "execution_count": null,
   "id": "0bbb40e2-3516-49ad-b846-87aecf3997f7",
   "metadata": {},
   "outputs": [],
   "source": []
  },
  {
   "cell_type": "code",
   "execution_count": null,
   "id": "32cefe99-a91c-4154-a454-325781980e7b",
   "metadata": {},
   "outputs": [],
   "source": []
  },
  {
   "cell_type": "code",
   "execution_count": null,
   "id": "66db6244-2a45-41c1-b3de-49ea5ad58589",
   "metadata": {},
   "outputs": [],
   "source": []
  },
  {
   "cell_type": "code",
   "execution_count": null,
   "id": "3f2e2130-680d-471f-88f3-f6d08b70d0c4",
   "metadata": {},
   "outputs": [],
   "source": []
  },
  {
   "cell_type": "code",
   "execution_count": null,
   "id": "8d5ed03d-eeee-4188-9fbd-13a60f8bf0a0",
   "metadata": {},
   "outputs": [],
   "source": []
  },
  {
   "cell_type": "code",
   "execution_count": null,
   "id": "a8b5d746-7d2f-4e1b-8f21-33f8c95e1a08",
   "metadata": {},
   "outputs": [],
   "source": []
  }
 ],
 "metadata": {
  "kernelspec": {
   "display_name": "Modusa",
   "language": "python",
   "name": "modusa-3.12"
  },
  "language_info": {
   "codemirror_mode": {
    "name": "ipython",
    "version": 3
   },
   "file_extension": ".py",
   "mimetype": "text/x-python",
   "name": "python",
   "nbconvert_exporter": "python",
   "pygments_lexer": "ipython3",
   "version": "3.12.0"
  }
 },
 "nbformat": 4,
 "nbformat_minor": 5
}
