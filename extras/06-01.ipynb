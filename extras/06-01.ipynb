{
 "cells": [
  {
   "cell_type": "code",
   "execution_count": 4,
   "id": "25226ac9-2d32-437b-89e7-7c691fdc91c3",
   "metadata": {},
   "outputs": [],
   "source": [
    "#hide"
   ]
  },
  {
   "cell_type": "code",
   "execution_count": 1,
   "id": "c6382150-230f-420a-86b8-4168ccec5a61",
   "metadata": {
    "jupyter": {
     "source_hidden": true
    }
   },
   "outputs": [
    {
     "data": {
      "text/html": [
       "\n",
       "    <div style=\"\n",
       "        position: relative;\n",
       "        display: flex; \n",
       "        align-items: center; \n",
       "        justify-content: flex-start;\n",
       "        min-height: 80px;\n",
       "        width: 800px;\n",
       "        background: linear-gradient(135deg, #f5f7fa 0%, #c3cfe2 100%);\n",
       "        padding: 20px;\n",
       "        border-radius: 12px;\n",
       "        box-shadow: 0 4px 15px rgba(0, 0, 0, 0.1);\n",
       "        border: 1px solid #e1e8ed;\n",
       "        margin: 10px 0;\n",
       "        font-family: 'Segoe UI', Tahoma, Geneva, Verdana, sans-serif;\n",
       "    \">\n",
       "\n",
       "        <!-- GitHub Icon + Name in top-right -->\n",
       "        <a href=\"https://github.com/meluron-codecafe\" target=\"_blank\" style=\"\n",
       "            position: absolute;\n",
       "            top: 16px;\n",
       "            right: 20px;\n",
       "            display: flex;\n",
       "            align-items: center;\n",
       "            text-decoration: none;\n",
       "            color: #333;\n",
       "            font-size: 14px;\n",
       "            font-weight: 500;\n",
       "            gap: 6px;\n",
       "        \">\n",
       "            <img src=\"https://cdn-icons-png.flaticon.com/512/25/25231.png\" \n",
       "                 alt=\"GitHub\" \n",
       "                 style=\"width: 18px; height: 18px; display: inline-block; vertical-align: middle;\">\n",
       "            <span style=\"transform: translateY(-1px); line-height: 1;\">\n",
       "                /meluron-codecafe\n",
       "            </span>\n",
       "        </a>\n",
       "\n",
       "        <!-- Logo + Label stacked vertically -->\n",
       "        <div style=\"\n",
       "            display: flex; \n",
       "            flex-direction: column; \n",
       "            align-items: center; \n",
       "            justify-content: center;\n",
       "            margin-right: 35px;\n",
       "        \">\n",
       "            <a href=\"https://meluron-codecafe.github.io/DevQuest/\">\n",
       "                <img src=\"https://raw.githubusercontent.com/meluron/assets/refs/heads/main/logos/meluron-codecafe/DevQuest/orig.png\" \n",
       "                     alt=\"My Logo\" \n",
       "                     style=\"\n",
       "                        width: 70px; \n",
       "                        height: 70px;\n",
       "                        border-radius: 8px;\n",
       "                        box-shadow: 0 3px 10px rgba(253, 138, 9, 0.3);\n",
       "                     \">\n",
       "            </a>\n",
       "            <div style=\"\n",
       "                font-size: 13px; \n",
       "                color: #fd8a09; \n",
       "                font-weight: bold;\n",
       "                margin-top: 6px;\n",
       "                text-align: center;\n",
       "            \">\n",
       "            </div>\n",
       "        </div>\n",
       "\n",
       "        <!-- Question Badge -->\n",
       "        <div style=\"\n",
       "            font-size: 14px; \n",
       "            background: linear-gradient(135deg, #667eea, #764ba2);\n",
       "            color: white; \n",
       "            padding: 8px 14px; \n",
       "            border-radius: 20px; \n",
       "            display: inline-flex;\n",
       "            align-items: center;\n",
       "            gap: 6px;\n",
       "            font-weight: 600;\n",
       "            box-shadow: 0 3px 12px rgba(102, 126, 234, 0.3);\n",
       "        \">\n",
       "            <span style=\"font-size: 16px;\">❔</span>\n",
       "            What is a metronome?\n",
       "            \n",
       "        </div>\n",
       "    </div>\n",
       "    "
      ],
      "text/plain": [
       "<IPython.core.display.HTML object>"
      ]
     },
     "metadata": {},
     "output_type": "display_data"
    }
   ],
   "source": [
    "#hide\n",
    "import utils\n",
    "utils.hero(\"What is a metronome?\")"
   ]
  },
  {
   "cell_type": "markdown",
   "id": "21b95ae2-be6d-42eb-b69b-c6ef5e52d644",
   "metadata": {
    "scrolled": true
   },
   "source": [
    "Think of it as a tool that creates a specific tick/click sound at regular intervals. This is generally used by musicians to play music on time. The sound that it produces is also referred to as **metronome sound**."
   ]
  },
  {
   "cell_type": "markdown",
   "id": "4a76a80a-fbec-48a4-a7b6-6692c748791f",
   "metadata": {},
   "source": [
    "**Tempo of a metronome**: It is basically a physical quantity that tells how close these consecutive ticks are. The unit used is **BPM** which stands for **Beat Per Minute**. \\\n",
    "A metronome playing at 60 BPM means it will tick/click 60 times in a minutes (all spaced at regular intervals)."
   ]
  },
  {
   "cell_type": "markdown",
   "id": "1090a4b6-dca1-48e6-9fa5-42266195f6b8",
   "metadata": {},
   "source": [
    "To listen to a typical metronome playing at 100 BPM: \\\n",
    "<img src = \"../data/images/google-metronome.png\" width=600>"
   ]
  },
  {
   "cell_type": "code",
   "execution_count": null,
   "id": "8824558e-1566-4141-9daa-3457000ddd7b",
   "metadata": {},
   "outputs": [],
   "source": []
  },
  {
   "cell_type": "code",
   "execution_count": null,
   "id": "684b4a17-3f66-4d56-94a6-3d316c3ddc80",
   "metadata": {},
   "outputs": [],
   "source": []
  },
  {
   "cell_type": "code",
   "execution_count": null,
   "id": "9f1aa654-f8ca-4d4c-a16a-9673ce8a2d60",
   "metadata": {},
   "outputs": [],
   "source": []
  },
  {
   "cell_type": "code",
   "execution_count": null,
   "id": "9c165e55-19e4-47b1-97fe-ddaa19e614d2",
   "metadata": {},
   "outputs": [],
   "source": []
  }
 ],
 "metadata": {
  "kernelspec": {
   "display_name": "DevQuest",
   "language": "python",
   "name": "devquest-3.12"
  },
  "language_info": {
   "codemirror_mode": {
    "name": "ipython",
    "version": 3
   },
   "file_extension": ".py",
   "mimetype": "text/x-python",
   "name": "python",
   "nbconvert_exporter": "python",
   "pygments_lexer": "ipython3",
   "version": "3.12.0"
  }
 },
 "nbformat": 4,
 "nbformat_minor": 5
}
