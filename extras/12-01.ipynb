{
 "cells": [
  {
   "cell_type": "code",
   "execution_count": 1,
   "id": "8d2d7a7a-1b27-4fff-b154-b07f644db2c6",
   "metadata": {},
   "outputs": [],
   "source": [
    "#hide"
   ]
  },
  {
   "cell_type": "code",
   "execution_count": 3,
   "id": "e6f79b99-9856-4c11-b4b9-07c8f6d6b8c8",
   "metadata": {
    "jupyter": {
     "source_hidden": true
    }
   },
   "outputs": [
    {
     "data": {
      "text/html": [
       "\n",
       "    <div style=\"\n",
       "        position: relative;\n",
       "        display: flex; \n",
       "        align-items: center; \n",
       "        justify-content: flex-start;\n",
       "        min-height: 80px;\n",
       "        width: 800px;\n",
       "        background: linear-gradient(135deg, #f5f7fa 0%, #c3cfe2 100%);\n",
       "        padding: 20px;\n",
       "        border-radius: 12px;\n",
       "        box-shadow: 0 4px 15px rgba(0, 0, 0, 0.1);\n",
       "        border: 1px solid #e1e8ed;\n",
       "        margin: 10px 0;\n",
       "        font-family: 'Segoe UI', Tahoma, Geneva, Verdana, sans-serif;\n",
       "    \">\n",
       "\n",
       "        <!-- GitHub Icon + Name in top-right -->\n",
       "        <a href=\"https://github.com/meluron-codecafe\" target=\"_blank\" style=\"\n",
       "            position: absolute;\n",
       "            top: 16px;\n",
       "            right: 20px;\n",
       "            display: flex;\n",
       "            align-items: center;\n",
       "            text-decoration: none;\n",
       "            color: #333;\n",
       "            font-size: 14px;\n",
       "            font-weight: 500;\n",
       "            gap: 6px;\n",
       "        \">\n",
       "            <img src=\"https://cdn-icons-png.flaticon.com/512/25/25231.png\" \n",
       "                 alt=\"GitHub\" \n",
       "                 style=\"width: 18px; height: 18px; display: inline-block; vertical-align: middle;\">\n",
       "            <span style=\"transform: translateY(-1px); line-height: 1;\">\n",
       "                /meluron-codecafe\n",
       "            </span>\n",
       "        </a>\n",
       "\n",
       "        <!-- Logo + Label stacked vertically -->\n",
       "        <div style=\"\n",
       "            display: flex; \n",
       "            flex-direction: column; \n",
       "            align-items: center; \n",
       "            justify-content: center;\n",
       "            margin-right: 35px;\n",
       "        \">\n",
       "            <a href=\"https://meluron-codecafe.github.io/DevQuest/\">\n",
       "                <img src=\"https://raw.githubusercontent.com/meluron/assets/refs/heads/main/logos/meluron-codecafe/DevQuest/icon_with_text.png\" \n",
       "                     alt=\"My Logo\" \n",
       "                     style=\"\n",
       "                        width: 120px; \n",
       "                        height: 50px;\n",
       "                        border-radius: 5px;\n",
       "                        box-shadow: 0 3px 10px rgba(253, 138, 9, 0.3);\n",
       "                     \">\n",
       "            </a>\n",
       "            <div style=\"\n",
       "                font-size: 13px; \n",
       "                color: #fd8a09; \n",
       "                font-weight: bold;\n",
       "                margin-top: 6px;\n",
       "                text-align: center;\n",
       "            \">\n",
       "            </div>\n",
       "        </div>\n",
       "\n",
       "        <!-- Question Badge -->\n",
       "        <div style=\"\n",
       "            font-size: 14px; \n",
       "            background: linear-gradient(135deg, #667eea, #764ba2);\n",
       "            color: white; \n",
       "            padding: 8px 10px; \n",
       "            border-radius: 5px; \n",
       "            display: inline-flex;\n",
       "            align-items: center;\n",
       "            gap: 6px;\n",
       "            font-weight: 600;\n",
       "            box-shadow: 0 3px 12px rgba(102, 126, 234, 0.3);\n",
       "            margin-top: -10px;\n",
       "        \">\n",
       "            DSA - Tutorial on Bubbles\n",
       "            \n",
       "        </div>\n",
       "    </div>\n",
       "    "
      ],
      "text/plain": [
       "<IPython.core.display.HTML object>"
      ]
     },
     "metadata": {},
     "output_type": "display_data"
    }
   ],
   "source": [
    "#hide\n",
    "import utils\n",
    "utils.hero(\"DSA - Tutorial on Bubbles\")"
   ]
  },
  {
   "cell_type": "code",
   "execution_count": 35,
   "id": "54607638-c935-44ec-a57e-c5397976b13b",
   "metadata": {},
   "outputs": [],
   "source": [
    "class MyDisjointSet:\n",
    "    \"\"\"\n",
    "    List of lists where each inner list corresponds to a bubble.\n",
    "    \"\"\"\n",
    "    def __init__(self, N: int) -> None:\n",
    "        self.N = N\n",
    "        self._bubbles = [[i] for i in range(N)] # [[0], [1], [2], [3],..., [N-1]] \n",
    "\n",
    "    def _find_elem(self, elem: int) -> int:\n",
    "        \"\"\"\n",
    "        Find the index of the bubble containing elem.\n",
    "\n",
    "        Parameters\n",
    "        ----------\n",
    "        elem: int\n",
    "            Element we're looking for.\n",
    "\n",
    "        Returns\n",
    "        -------\n",
    "        int\n",
    "            index of the bubble containing elem if found, otherwise -1\n",
    "        \"\"\"\n",
    "        for i, bubble in enumerate(self._bubbles):\n",
    "            if elem in bubble:\n",
    "                return i\n",
    "        return -1\n",
    "\n",
    "    def union(self, elem1: int, elem2: int) -> None:\n",
    "        \"\"\"\n",
    "        Merge two bubbles containing elem1 and elem2,\n",
    "        does not do anything if they are in the same\n",
    "        bubble or not found.\n",
    "\n",
    "        Parameters\n",
    "        ----------\n",
    "        elem1: int\n",
    "            First element\n",
    "        elem2: int\n",
    "            Second element\n",
    "        \"\"\"\n",
    "\n",
    "        idx1 = self._find_elem(elem1)\n",
    "        idx2 = self._find_elem(elem2)\n",
    "\n",
    "        if idx1 != -1 and idx2 != -2: # Bubble with the elements exist\n",
    "            if idx1 != idx2: # Both elements not in the same bubble\n",
    "                self._bubbles[idx1] += self._bubbles[idx2]\n",
    "                self._bubbles.pop(idx2)"
   ]
  },
  {
   "cell_type": "code",
   "execution_count": 40,
   "id": "5e120697-6f17-46c9-b453-6c3dbab2c087",
   "metadata": {},
   "outputs": [
    {
     "name": "stdout",
     "output_type": "stream",
     "text": [
      "[[0], [1], [2], [3], [4], [5], [6], [7], [8], [9]]\n",
      "[[0, 2], [1, 8, 7], [3], [4], [5], [6], [9]]\n"
     ]
    }
   ],
   "source": [
    "S = MyDisjointSet(10)\n",
    "print(S._bubbles)\n",
    "S.union(0, 2)\n",
    "S.union(1, 8)\n",
    "S.union(8, 7)\n",
    "print(S._bubbles)"
   ]
  },
  {
   "cell_type": "markdown",
   "id": "6668d6cf-0487-4e1b-93d7-be4aa775fd68",
   "metadata": {},
   "source": [
    "An immediate improvement that we can make here is to use `set` instead of list for bubble."
   ]
  },
  {
   "cell_type": "code",
   "execution_count": 41,
   "id": "f8d76a56-9c0b-4214-8cdc-32dd45ffaaa7",
   "metadata": {},
   "outputs": [],
   "source": [
    "class MyDisjointSet:\n",
    "    \"\"\"\n",
    "    List of sets where each inner list corresponds to a bubble.\n",
    "    \"\"\"\n",
    "    def __init__(self, N: int) -> None:\n",
    "        self.N = N\n",
    "        self._bubbles = [{i} for i in range(N)] # [{0}, {1}, {2}, {3},..., {N-1}] \n",
    "\n",
    "    def _find_elem(self, elem: int) -> int:\n",
    "        \"\"\"\n",
    "        Find the index of the bubble containing elem.\n",
    "\n",
    "        Parameters\n",
    "        ----------\n",
    "        elem: int\n",
    "            Element we're looking for.\n",
    "\n",
    "        Returns\n",
    "        -------\n",
    "        int\n",
    "            index of the bubble containing elem if found, otherwise -1\n",
    "        \"\"\"\n",
    "        for i, bubble in enumerate(self._bubbles):\n",
    "            if elem in bubble:\n",
    "                return i\n",
    "        return -1\n",
    "\n",
    "    def union(self, elem1: int, elem2: int) -> None:\n",
    "        \"\"\"\n",
    "        Merge two bubbles containing elem1 and elem2,\n",
    "        does not do anything if they are in the same\n",
    "        bubble or not found.\n",
    "\n",
    "        Parameters\n",
    "        ----------\n",
    "        elem1: int\n",
    "            First element\n",
    "        elem2: int\n",
    "            Second element\n",
    "        \"\"\"\n",
    "\n",
    "        idx1 = self._find_elem(elem1)\n",
    "        idx2 = self._find_elem(elem2)\n",
    "\n",
    "        if idx1 != -1 and idx2 != -2: # Bubble with the elements exist\n",
    "            if idx1 != idx2: # Both elements not in the same bubble\n",
    "                self._bubbles[idx1] |= self._bubbles[idx2] # Taking the union of two sets with \"|\"\n",
    "                self._bubbles.pop(idx2)"
   ]
  },
  {
   "cell_type": "code",
   "execution_count": 42,
   "id": "012831b3-06ef-4458-aef7-7dadafe2f702",
   "metadata": {},
   "outputs": [
    {
     "name": "stdout",
     "output_type": "stream",
     "text": [
      "[{0}, {1}, {2}, {3}, {4}, {5}, {6}, {7}, {8}, {9}]\n",
      "[{0, 2}, {8, 1, 7}, {3}, {4}, {5}, {6}, {9}]\n"
     ]
    }
   ],
   "source": [
    "S = MyDisjointSet(10)\n",
    "print(S._bubbles)\n",
    "S.union(0, 2)\n",
    "S.union(1, 8)\n",
    "S.union(8, 7)\n",
    "print(S._bubbles)"
   ]
  },
  {
   "cell_type": "code",
   "execution_count": null,
   "id": "bb5f3d36-92d7-4d04-a766-cf61338447f8",
   "metadata": {},
   "outputs": [],
   "source": []
  }
 ],
 "metadata": {
  "kernelspec": {
   "display_name": "Python 3 (ipykernel)",
   "language": "python",
   "name": "python3"
  },
  "language_info": {
   "codemirror_mode": {
    "name": "ipython",
    "version": 3
   },
   "file_extension": ".py",
   "mimetype": "text/x-python",
   "name": "python",
   "nbconvert_exporter": "python",
   "pygments_lexer": "ipython3",
   "version": "3.12.0"
  }
 },
 "nbformat": 4,
 "nbformat_minor": 5
}
