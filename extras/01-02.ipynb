{
 "cells": [
  {
   "cell_type": "code",
   "execution_count": 3,
   "id": "ea4876dc-f29d-44d7-a851-250f43653021",
   "metadata": {
    "papermill": {
     "duration": 0.015915,
     "end_time": "2025-06-21T22:12:08.512872",
     "exception": false,
     "start_time": "2025-06-21T22:12:08.496957",
     "status": "completed"
    },
    "tags": []
   },
   "outputs": [],
   "source": [
    "#hide"
   ]
  },
  {
   "cell_type": "code",
   "execution_count": 4,
   "id": "b14ceb58-0583-4699-b096-a45978a866ea",
   "metadata": {
    "jupyter": {
     "source_hidden": true
    },
    "papermill": {
     "duration": 0.013695,
     "end_time": "2025-06-21T22:12:08.529801",
     "exception": false,
     "start_time": "2025-06-21T22:12:08.516106",
     "status": "completed"
    },
    "tags": []
   },
   "outputs": [
    {
     "data": {
      "text/html": [
       "\n",
       "    <div style=\"\n",
       "        position: relative;\n",
       "        display: flex; \n",
       "        align-items: center; \n",
       "        justify-content: flex-start;\n",
       "        min-height: 80px;\n",
       "        width: 800px;\n",
       "        background: linear-gradient(135deg, #f5f7fa 0%, #c3cfe2 100%);\n",
       "        padding: 20px;\n",
       "        border-radius: 12px;\n",
       "        box-shadow: 0 4px 15px rgba(0, 0, 0, 0.1);\n",
       "        border: 1px solid #e1e8ed;\n",
       "        margin: 10px 0;\n",
       "        font-family: 'Segoe UI', Tahoma, Geneva, Verdana, sans-serif;\n",
       "    \">\n",
       "\n",
       "        <!-- GitHub Icon + Name in top-right -->\n",
       "        <a href=\"https://github.com/meluron-codecafe\" target=\"_blank\" style=\"\n",
       "            position: absolute;\n",
       "            top: 16px;\n",
       "            right: 20px;\n",
       "            display: flex;\n",
       "            align-items: center;\n",
       "            text-decoration: none;\n",
       "            color: #333;\n",
       "            font-size: 14px;\n",
       "            font-weight: 500;\n",
       "            gap: 6px;\n",
       "        \">\n",
       "            <img src=\"https://cdn-icons-png.flaticon.com/512/25/25231.png\" \n",
       "                 alt=\"GitHub\" \n",
       "                 style=\"width: 18px; height: 18px; display: inline-block; vertical-align: middle;\">\n",
       "            <span style=\"transform: translateY(-1px); line-height: 1;\">\n",
       "                /meluron-codecafe\n",
       "            </span>\n",
       "        </a>\n",
       "\n",
       "        <!-- Logo + Label stacked vertically -->\n",
       "        <div style=\"\n",
       "            display: flex; \n",
       "            flex-direction: column; \n",
       "            align-items: center; \n",
       "            justify-content: center;\n",
       "            margin-right: 35px;\n",
       "        \">\n",
       "            <a href=\"https://meluron-codecafe.github.io/DevQuest/\">\n",
       "                <img src=\"https://raw.githubusercontent.com/meluron/assets/refs/heads/main/logos/meluron-codecafe/DevQuest/orig.png\" \n",
       "                     alt=\"My Logo\" \n",
       "                     style=\"\n",
       "                        width: 70px; \n",
       "                        height: 70px;\n",
       "                        border-radius: 8px;\n",
       "                        box-shadow: 0 3px 10px rgba(253, 138, 9, 0.3);\n",
       "                     \">\n",
       "            </a>\n",
       "            <div style=\"\n",
       "                font-size: 13px; \n",
       "                color: #fd8a09; \n",
       "                font-weight: bold;\n",
       "                margin-top: 6px;\n",
       "                text-align: center;\n",
       "            \">\n",
       "            </div>\n",
       "        </div>\n",
       "\n",
       "        <!-- Question Badge -->\n",
       "        <div style=\"\n",
       "            font-size: 14px; \n",
       "            background: linear-gradient(135deg, #667eea, #764ba2);\n",
       "            color: white; \n",
       "            padding: 8px 14px; \n",
       "            border-radius: 20px; \n",
       "            display: inline-flex;\n",
       "            align-items: center;\n",
       "            gap: 6px;\n",
       "            font-weight: 600;\n",
       "            box-shadow: 0 3px 12px rgba(102, 126, 234, 0.3);\n",
       "        \">\n",
       "            <span style=\"font-size: 16px;\">❔</span>\n",
       "            Why do we even need to use a virtual environment?\n",
       "            \n",
       "        </div>\n",
       "    </div>\n",
       "    "
      ],
      "text/plain": [
       "<IPython.core.display.HTML object>"
      ]
     },
     "metadata": {},
     "output_type": "display_data"
    }
   ],
   "source": [
    "#hide\n",
    "import utils\n",
    "utils.hero(\"Why do we even need to use a virtual environment?\")"
   ]
  },
  {
   "cell_type": "markdown",
   "id": "fe7af2d9-d20f-4b0f-8716-921d3cc8983d",
   "metadata": {
    "papermill": {
     "duration": 0.00202,
     "end_time": "2025-06-21T22:12:08.534047",
     "exception": false,
     "start_time": "2025-06-21T22:12:08.532027",
     "status": "completed"
    },
    "tags": []
   },
   "source": [
    "One of the advantages of using python is huge collection of third-party packages that we can install on our machine and use their APIs to build our projects."
   ]
  },
  {
   "cell_type": "markdown",
   "id": "e706b9df-b08c-4727-bf7b-f8627d99f3d6",
   "metadata": {
    "papermill": {
     "duration": 0.001709,
     "end_time": "2025-06-21T22:12:08.537621",
     "exception": false,
     "start_time": "2025-06-21T22:12:08.535912",
     "status": "completed"
    },
    "tags": []
   },
   "source": [
    "Now, let's say you are currently working on two different projects, **project A** and **project B**. \\\n",
    "Consider **project A** started much before and it uses a **package P** of *verion 0.1.0* whereas **project B** needs the same **package P** but latest *version 1.0.0*. Assuming that these versions have breaking changes which means that some of the modules in the latest version is not compatible with the older version."
   ]
  },
  {
   "cell_type": "markdown",
   "id": "9a2aec1c-b359-48b4-a339-616bc7036924",
   "metadata": {
    "papermill": {
     "duration": 0.001743,
     "end_time": "2025-06-21T22:12:08.541090",
     "exception": false,
     "start_time": "2025-06-21T22:12:08.539347",
     "status": "completed"
    },
    "tags": []
   },
   "source": [
    "Now we see a need of having separate versions of the package for different projects, this is where virtual environment comes into play. Virtual environment allows us to have different environments for different projects to avoid any sort of mixing dependencies."
   ]
  },
  {
   "cell_type": "markdown",
   "id": "bffd4fad-b20b-46b4-9f1c-5ee128be6e0f",
   "metadata": {
    "papermill": {
     "duration": 0.001782,
     "end_time": "2025-06-21T22:12:08.544659",
     "exception": false,
     "start_time": "2025-06-21T22:12:08.542877",
     "status": "completed"
    },
    "tags": []
   },
   "source": [
    "Also, it does not harm to use virtual environment even if it is a small project. It is just a habit, a good one, that one builds. I always like to create a virtual environment in the project directory with the name (.venv) regardless of how small the project is."
   ]
  },
  {
   "cell_type": "code",
   "execution_count": 5,
   "id": "6b0bd32c-b7bb-4b1a-bfed-12bb140d8c2b",
   "metadata": {
    "jupyter": {
     "source_hidden": true
    },
    "papermill": {
     "duration": 0.001779,
     "end_time": "2025-06-21T22:12:08.548178",
     "exception": false,
     "start_time": "2025-06-21T22:12:08.546399",
     "status": "completed"
    },
    "tags": []
   },
   "outputs": [
    {
     "data": {
      "text/html": [
       "\n",
       "    <div style=\"\n",
       "        margin: 15px 0; \n",
       "        padding: 16px 20px; \n",
       "        border-radius: 8px; \n",
       "        border-left: 4px solid #607d8b; \n",
       "        box-shadow: 0 2px 8px rgba(0, 0, 0, 0.1); \n",
       "        background-color: #f8f9fa; \n",
       "        color: #37474f;\n",
       "        font-family: -apple-system, BlinkMacSystemFont, 'Segoe UI', Roboto, sans-serif;\n",
       "    \">\n",
       "        <div style=\"\n",
       "            font-weight: bold; \n",
       "            margin-bottom: 12px; \n",
       "            font-size: 14px; \n",
       "            text-transform: uppercase; \n",
       "            letter-spacing: 0.5px;\n",
       "            display: flex;\n",
       "            align-items: center;\n",
       "            gap: 8px;\n",
       "        \">\n",
       "            <span style=\"font-size: 18px;\">🧭</span>\n",
       "            Navigation\n",
       "        </div>\n",
       "        <div style=\"\n",
       "            display: flex; \n",
       "            justify-content: space-between; \n",
       "            align-items: center;\n",
       "            gap: 16px;\n",
       "        \">\n",
       "            <div><a href=\"./01-01.html\" style=\"color: #5d4037; text-decoration: none; padding: 8px 12px; border-radius: 4px; background-color: #efebe9; border: 1px solid #8d6e63; display: inline-block; font-weight: 500;\">⬅️ Previous Section</a></div>\n",
       "            <div><a href=\"./01-03.html\" style=\"color: #2e7d32; text-decoration: none; padding: 8px 12px; border-radius: 4px; background-color: #e8f5e8; border: 1px solid #66bb6a; display: inline-block; font-weight: 500;\">Next Section ➡️</a></div>\n",
       "        </div>\n",
       "    </div>\n",
       "    "
      ],
      "text/plain": [
       "<IPython.core.display.HTML object>"
      ]
     },
     "execution_count": 5,
     "metadata": {},
     "output_type": "execute_result"
    }
   ],
   "source": [
    "#hide\n",
    "utils.nav(\"./01-01.html\", \"./01-03.html\")"
   ]
  },
  {
   "cell_type": "code",
   "execution_count": null,
   "id": "597eeb41-c546-4b32-927c-90f255aca26d",
   "metadata": {},
   "outputs": [],
   "source": []
  }
 ],
 "metadata": {
  "kernelspec": {
   "display_name": "Python 3 (ipykernel)",
   "language": "python",
   "name": "python3"
  },
  "language_info": {
   "codemirror_mode": {
    "name": "ipython",
    "version": 3
   },
   "file_extension": ".py",
   "mimetype": "text/x-python",
   "name": "python",
   "nbconvert_exporter": "python",
   "pygments_lexer": "ipython3",
   "version": "3.12.0"
  },
  "papermill": {
   "default_parameters": {},
   "duration": 1.234006,
   "end_time": "2025-06-21T22:12:08.770839",
   "environment_variables": {},
   "exception": null,
   "input_path": "notebooks/01-00.ipynb",
   "output_path": "notebooks/01-00.ipynb",
   "parameters": {},
   "start_time": "2025-06-21T22:12:07.536833",
   "version": "2.6.0"
  }
 },
 "nbformat": 4,
 "nbformat_minor": 5
}
