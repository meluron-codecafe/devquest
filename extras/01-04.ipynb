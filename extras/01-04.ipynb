{
 "cells": [
  {
   "cell_type": "code",
   "execution_count": 1,
   "id": "3714854d-45fd-4d65-aff2-8db832a06ca7",
   "metadata": {},
   "outputs": [],
   "source": [
    "#hide"
   ]
  },
  {
   "cell_type": "code",
   "execution_count": 2,
   "id": "2a551e6e-b758-4bac-97a0-355b64e7aa7a",
   "metadata": {
    "jupyter": {
     "source_hidden": true
    },
    "papermill": {
     "duration": 0.023603,
     "end_time": "2025-06-21T22:12:12.706643",
     "exception": false,
     "start_time": "2025-06-21T22:12:12.683040",
     "status": "completed"
    },
    "tags": []
   },
   "outputs": [
    {
     "data": {
      "text/html": [
       "\n",
       "    <div style=\"\n",
       "        position: relative;\n",
       "        display: flex; \n",
       "        align-items: center; \n",
       "        justify-content: flex-start;\n",
       "        min-height: 80px;\n",
       "        width: 800px;\n",
       "        background: linear-gradient(135deg, #f5f7fa 0%, #c3cfe2 100%);\n",
       "        padding: 20px;\n",
       "        border-radius: 12px;\n",
       "        box-shadow: 0 4px 15px rgba(0, 0, 0, 0.1);\n",
       "        border: 1px solid #e1e8ed;\n",
       "        margin: 10px 0;\n",
       "        font-family: 'Segoe UI', Tahoma, Geneva, Verdana, sans-serif;\n",
       "    \">\n",
       "\n",
       "        <!-- GitHub Icon + Name in top-right -->\n",
       "        <a href=\"https://github.com/meluron-codecafe\" target=\"_blank\" style=\"\n",
       "            position: absolute;\n",
       "            top: 16px;\n",
       "            right: 20px;\n",
       "            display: flex;\n",
       "            align-items: center;\n",
       "            text-decoration: none;\n",
       "            color: #333;\n",
       "            font-size: 14px;\n",
       "            font-weight: 500;\n",
       "            gap: 6px;\n",
       "        \">\n",
       "            <img src=\"https://cdn-icons-png.flaticon.com/512/25/25231.png\" \n",
       "                 alt=\"GitHub\" \n",
       "                 style=\"width: 18px; height: 18px; display: inline-block; vertical-align: middle;\">\n",
       "            <span style=\"transform: translateY(-1px); line-height: 1;\">\n",
       "                /meluron-codecafe\n",
       "            </span>\n",
       "        </a>\n",
       "\n",
       "        <!-- Logo + Label stacked vertically -->\n",
       "        <div style=\"\n",
       "            display: flex; \n",
       "            flex-direction: column; \n",
       "            align-items: center; \n",
       "            justify-content: center;\n",
       "            margin-right: 35px;\n",
       "        \">\n",
       "            <a href=\"https://meluron-codecafe.github.io/DevQuest/\">\n",
       "                <img src=\"https://raw.githubusercontent.com/meluron/assets/refs/heads/main/logos/meluron-codecafe/DevQuest/orig.png\" \n",
       "                     alt=\"My Logo\" \n",
       "                     style=\"\n",
       "                        width: 70px; \n",
       "                        height: 70px;\n",
       "                        border-radius: 8px;\n",
       "                        box-shadow: 0 3px 10px rgba(253, 138, 9, 0.3);\n",
       "                     \">\n",
       "            </a>\n",
       "            <div style=\"\n",
       "                font-size: 13px; \n",
       "                color: #fd8a09; \n",
       "                font-weight: bold;\n",
       "                margin-top: 6px;\n",
       "                text-align: center;\n",
       "            \">\n",
       "            </div>\n",
       "        </div>\n",
       "\n",
       "        <!-- Question Badge -->\n",
       "        <div style=\"\n",
       "            font-size: 14px; \n",
       "            background: linear-gradient(135deg, #667eea, #764ba2);\n",
       "            color: white; \n",
       "            padding: 8px 14px; \n",
       "            border-radius: 20px; \n",
       "            display: inline-flex;\n",
       "            align-items: center;\n",
       "            gap: 6px;\n",
       "            font-weight: 600;\n",
       "            box-shadow: 0 3px 12px rgba(102, 126, 234, 0.3);\n",
       "        \">\n",
       "            <span style=\"font-size: 16px;\">❔</span>\n",
       "            How can I run a Jupyter Notebook using a specific virtual environment?\n",
       "            \n",
       "        </div>\n",
       "    </div>\n",
       "    "
      ],
      "text/plain": [
       "<IPython.core.display.HTML object>"
      ]
     },
     "metadata": {},
     "output_type": "display_data"
    }
   ],
   "source": [
    "#hide\n",
    "import utils\n",
    "utils.hero(\"How can I run a Jupyter Notebook using a specific virtual environment?\")"
   ]
  },
  {
   "cell_type": "markdown",
   "id": "c346dc8b-0ed8-49ab-a761-e457154e7543",
   "metadata": {
    "papermill": {
     "duration": 0.0029,
     "end_time": "2025-06-21T22:12:12.713549",
     "exception": false,
     "start_time": "2025-06-21T22:12:12.710649",
     "status": "completed"
    },
    "tags": []
   },
   "source": [
    "When we run python code from terminal, we can activate any virtual environment and python of that virtual environment will be automatically used to run scripts (.py files) directly by running `python main.py` without any issues.\n",
    "\n",
    "However while using Jupyter, it is important to understand that it has its own way to allow virtual environments to be used. This is done through **kernels**."
   ]
  },
  {
   "cell_type": "code",
   "execution_count": 3,
   "id": "6095393f-fef3-4a4f-a4f3-c191f19ea837",
   "metadata": {
    "jupyter": {
     "source_hidden": true
    },
    "papermill": {
     "duration": 0.009053,
     "end_time": "2025-06-21T22:12:12.735683",
     "exception": false,
     "start_time": "2025-06-21T22:12:12.726630",
     "status": "completed"
    },
    "tags": []
   },
   "outputs": [
    {
     "data": {
      "text/html": [
       "\n",
       "        <div style=\"\n",
       "            margin: 25px 0 15px 0;\n",
       "            padding: 0;\n",
       "        \">\n",
       "            <h2 style=\"\n",
       "                font-size: 24px;\n",
       "                font-weight: 600;\n",
       "                color: #2c3e50;\n",
       "                margin: 0;\n",
       "                padding: 12px 0 8px 0;\n",
       "                display: inline-block;\n",
       "                font-family: 'Segoe UI', Tahoma, Geneva, Verdana, sans-serif;\n",
       "                background: linear-gradient(135deg, #667eea, #764ba2);\n",
       "                -webkit-background-clip: text;\n",
       "                -webkit-text-fill-color: transparent;\n",
       "                background-clip: text;\n",
       "            \">▶ What is a kernel?</h2>\n",
       "        </div>\n",
       "    "
      ],
      "text/plain": [
       "<IPython.core.display.HTML object>"
      ]
     },
     "metadata": {},
     "output_type": "display_data"
    }
   ],
   "source": [
    "#hide\n",
    "utils.h1(\"What is a kernel?\")"
   ]
  },
  {
   "cell_type": "markdown",
   "id": "2aef6bb1-43cc-4f75-a2ad-8789047a454c",
   "metadata": {
    "papermill": {
     "duration": 0.002436,
     "end_time": "2025-06-21T22:12:12.740797",
     "exception": false,
     "start_time": "2025-06-21T22:12:12.738361",
     "status": "completed"
    },
    "tags": []
   },
   "source": [
    "Think of kernel as a configuration that allows Jupyter to access different existing virtual environments and run python code using the python interpreter available in those virtual environments."
   ]
  },
  {
   "cell_type": "markdown",
   "id": "2c3654e2-a786-4786-90ac-bfc1fbf18eac",
   "metadata": {
    "papermill": {
     "duration": 0.002702,
     "end_time": "2025-06-21T22:12:12.718995",
     "exception": false,
     "start_time": "2025-06-21T22:12:12.716293",
     "status": "completed"
    },
    "tags": []
   },
   "source": [
    "For example, we see a list of kernels available to us in the Jupyter notebooks below."
   ]
  },
  {
   "cell_type": "markdown",
   "id": "4cff4ce5-8a2f-4504-8898-bad269462be9",
   "metadata": {
    "papermill": {
     "duration": 0.002483,
     "end_time": "2025-06-21T22:12:12.724222",
     "exception": false,
     "start_time": "2025-06-21T22:12:12.721739",
     "status": "completed"
    },
    "tags": []
   },
   "source": [
    "<img src=\"../data/images/jupyter-lab-kernels.png\" width=600 height=300>"
   ]
  },
  {
   "cell_type": "code",
   "execution_count": 9,
   "id": "edd8eabf-b529-4a46-98d7-ea1eea4b9e8a",
   "metadata": {
    "jupyter": {
     "source_hidden": true
    },
    "papermill": {
     "duration": 0.008808,
     "end_time": "2025-06-21T22:12:12.751990",
     "exception": false,
     "start_time": "2025-06-21T22:12:12.743182",
     "status": "completed"
    },
    "tags": []
   },
   "outputs": [
    {
     "data": {
      "text/html": [
       "\n",
       "        <div style=\"\n",
       "            margin: 25px 0 15px 0;\n",
       "            padding: 0;\n",
       "        \">\n",
       "            <h2 style=\"\n",
       "                font-size: 24px;\n",
       "                font-weight: 600;\n",
       "                color: #2c3e50;\n",
       "                margin: 0;\n",
       "                padding: 12px 0 8px 0;\n",
       "                display: inline-block;\n",
       "                font-family: 'Segoe UI', Tahoma, Geneva, Verdana, sans-serif;\n",
       "                background: linear-gradient(135deg, #667eea, #764ba2);\n",
       "                -webkit-background-clip: text;\n",
       "                -webkit-text-fill-color: transparent;\n",
       "                background-clip: text;\n",
       "            \">▶ Install a kernel using ipykernel module</h2>\n",
       "        </div>\n",
       "    "
      ],
      "text/plain": [
       "<IPython.core.display.HTML object>"
      ]
     },
     "metadata": {},
     "output_type": "display_data"
    }
   ],
   "source": [
    "#hide\n",
    "utils.h1(\"Install a kernel using ipykernel module\")"
   ]
  },
  {
   "cell_type": "markdown",
   "id": "fe6ab592-70dc-4fda-aad6-f6dbbed42d4b",
   "metadata": {},
   "source": [
    "Creating a virtual environment does not make it automatically available in jupyter, you need to create a kernel using a python module `ipykernel`."
   ]
  },
  {
   "cell_type": "markdown",
   "id": "0c055974-c3a9-4d75-b872-160de2bca9f4",
   "metadata": {
    "papermill": {
     "duration": 0.002447,
     "end_time": "2025-06-21T22:12:12.757155",
     "exception": false,
     "start_time": "2025-06-21T22:12:12.754708",
     "status": "completed"
    },
    "tags": []
   },
   "source": [
    "Command: ```python -m ipykernel install --user --name=<kernel_name> --display-name=<name to show in jupyter>```\n",
    "\n",
    "Example: `python -m ipykernel install --user --name=devquest-3.12 --display-name=DevQuest`"
   ]
  },
  {
   "cell_type": "code",
   "execution_count": 12,
   "id": "5d2f22fb-11f6-45c4-8bdd-9e6647a85c66",
   "metadata": {
    "jupyter": {
     "source_hidden": true
    }
   },
   "outputs": [
    {
     "data": {
      "text/html": [
       "\n",
       "    <div style=\"\n",
       "        margin: 15px 0; \n",
       "        padding: 16px 20px; \n",
       "        border-radius: 8px; \n",
       "        border-left: 4px solid #2196f3; \n",
       "        display: flex; \n",
       "        align-items: flex-start; \n",
       "        gap: 12px; \n",
       "        box-shadow: 0 2px 8px rgba(0, 0, 0, 0.1); \n",
       "        background-color: #e3f2fd; \n",
       "        color: #0d47a1;\n",
       "        font-family: -apple-system, BlinkMacSystemFont, 'Segoe UI', Roboto, sans-serif;\n",
       "    \">\n",
       "        <div style=\"\n",
       "            font-size: 20px; \n",
       "            margin-top: 2px; \n",
       "            flex-shrink: 0;\n",
       "        \">📝</div>\n",
       "        <div style=\"flex: 1;\">\n",
       "            <div style=\"\n",
       "                font-weight: bold; \n",
       "                margin-bottom: 6px; \n",
       "                font-size: 14px; \n",
       "                text-transform: uppercase; \n",
       "                letter-spacing: 0.5px;\n",
       "            \">Note</div>\n",
       "            <div style=\"\n",
       "                margin: 0; \n",
       "                font-size: 14px; \n",
       "                line-height: 1.5;\n",
       "            \">The kernel will point to whichever enviroment was activated while installing the kernel using the command above</div>\n",
       "        </div>\n",
       "    </div>\n",
       "    "
      ],
      "text/plain": [
       "<IPython.core.display.HTML object>"
      ]
     },
     "execution_count": 12,
     "metadata": {},
     "output_type": "execute_result"
    }
   ],
   "source": [
    "#hide\n",
    "utils.note(\"The kernel will point to whichever enviroment was activated while installing the kernel using the command above\")"
   ]
  },
  {
   "cell_type": "code",
   "execution_count": 13,
   "id": "b352fe48-8d85-43de-8c25-a2e05e20f3fe",
   "metadata": {
    "jupyter": {
     "source_hidden": true
    },
    "papermill": {
     "duration": 0.008754,
     "end_time": "2025-06-21T22:12:12.768262",
     "exception": false,
     "start_time": "2025-06-21T22:12:12.759508",
     "status": "completed"
    },
    "tags": []
   },
   "outputs": [
    {
     "data": {
      "text/html": [
       "\n",
       "        <div style=\"\n",
       "            margin: 25px 0 15px 0;\n",
       "            padding: 0;\n",
       "        \">\n",
       "            <h2 style=\"\n",
       "                font-size: 24px;\n",
       "                font-weight: 600;\n",
       "                color: #2c3e50;\n",
       "                margin: 0;\n",
       "                padding: 12px 0 8px 0;\n",
       "                display: inline-block;\n",
       "                font-family: 'Segoe UI', Tahoma, Geneva, Verdana, sans-serif;\n",
       "                background: linear-gradient(135deg, #667eea, #764ba2);\n",
       "                -webkit-background-clip: text;\n",
       "                -webkit-text-fill-color: transparent;\n",
       "                background-clip: text;\n",
       "            \">▶ List all the installed kernels?</h2>\n",
       "        </div>\n",
       "    "
      ],
      "text/plain": [
       "<IPython.core.display.HTML object>"
      ]
     },
     "metadata": {},
     "output_type": "display_data"
    }
   ],
   "source": [
    "#hide\n",
    "utils.h1(\"List all the installed kernels?\")"
   ]
  },
  {
   "cell_type": "markdown",
   "id": "b1208dfd-580e-4c7f-b3fc-75d2b2c23533",
   "metadata": {
    "papermill": {
     "duration": 0.002626,
     "end_time": "2025-06-21T22:12:12.773750",
     "exception": false,
     "start_time": "2025-06-21T22:12:12.771124",
     "status": "completed"
    },
    "tags": []
   },
   "source": [
    "Command: `jupyter kernelspec list`"
   ]
  },
  {
   "cell_type": "markdown",
   "id": "2e9bcd2a-435f-47b2-bd20-71363bb13071",
   "metadata": {},
   "source": [
    "<img src=\"../data/images/kernelspec-list.png\" width=600 height=300>"
   ]
  },
  {
   "cell_type": "code",
   "execution_count": 6,
   "id": "348c5543-fc5b-481d-9d01-90a293ec7510",
   "metadata": {
    "jupyter": {
     "source_hidden": true
    },
    "papermill": {
     "duration": 0.009771,
     "end_time": "2025-06-21T22:12:12.786035",
     "exception": false,
     "start_time": "2025-06-21T22:12:12.776264",
     "status": "completed"
    },
    "tags": []
   },
   "outputs": [
    {
     "data": {
      "text/html": [
       "\n",
       "        <div style=\"\n",
       "            margin: 25px 0 15px 0;\n",
       "            padding: 0;\n",
       "        \">\n",
       "            <h2 style=\"\n",
       "                font-size: 24px;\n",
       "                font-weight: 600;\n",
       "                color: #2c3e50;\n",
       "                margin: 0;\n",
       "                padding: 12px 0 8px 0;\n",
       "                display: inline-block;\n",
       "                font-family: 'Segoe UI', Tahoma, Geneva, Verdana, sans-serif;\n",
       "                background: linear-gradient(135deg, #667eea, #764ba2);\n",
       "                -webkit-background-clip: text;\n",
       "                -webkit-text-fill-color: transparent;\n",
       "                background-clip: text;\n",
       "            \">▶ How to list remove an installed kernel?</h2>\n",
       "        </div>\n",
       "    "
      ],
      "text/plain": [
       "<IPython.core.display.HTML object>"
      ]
     },
     "metadata": {},
     "output_type": "display_data"
    }
   ],
   "source": [
    "#hide\n",
    "utils.h1(\"How to list remove an installed kernel?\")"
   ]
  },
  {
   "cell_type": "markdown",
   "id": "c529e899-4f20-4dc2-9da2-7bbb54c8f7ac",
   "metadata": {
    "papermill": {
     "duration": 0.00273,
     "end_time": "2025-06-21T22:12:12.791672",
     "exception": false,
     "start_time": "2025-06-21T22:12:12.788942",
     "status": "completed"
    },
    "tags": []
   },
   "source": [
    "Command: `jupyter kernelspec remove <kernel_name>`\n",
    "\n",
    "or you can just open the kernels folder and delete the kernel. (Not recommended)\n",
    "\n",
    "<img src=\"../data/images/kernels-dir.png\" width=300>"
   ]
  },
  {
   "cell_type": "code",
   "execution_count": 8,
   "id": "82644d48-8ec2-4248-94f1-c57d3037c193",
   "metadata": {
    "jupyter": {
     "source_hidden": true
    },
    "papermill": {
     "duration": 0.003321,
     "end_time": "2025-06-21T22:12:12.799540",
     "exception": false,
     "start_time": "2025-06-21T22:12:12.796219",
     "status": "completed"
    },
    "tags": []
   },
   "outputs": [
    {
     "data": {
      "text/html": [
       "\n",
       "    <div style=\"\n",
       "        margin: 15px 0; \n",
       "        padding: 16px 20px; \n",
       "        border-radius: 8px; \n",
       "        border-left: 4px solid #607d8b; \n",
       "        box-shadow: 0 2px 8px rgba(0, 0, 0, 0.1); \n",
       "        background-color: #f8f9fa; \n",
       "        color: #37474f;\n",
       "        font-family: -apple-system, BlinkMacSystemFont, 'Segoe UI', Roboto, sans-serif;\n",
       "    \">\n",
       "        <div style=\"\n",
       "            font-weight: bold; \n",
       "            margin-bottom: 12px; \n",
       "            font-size: 14px; \n",
       "            text-transform: uppercase; \n",
       "            letter-spacing: 0.5px;\n",
       "            display: flex;\n",
       "            align-items: center;\n",
       "            gap: 8px;\n",
       "        \">\n",
       "            <span style=\"font-size: 18px;\">🧭</span>\n",
       "            Navigation\n",
       "        </div>\n",
       "        <div style=\"\n",
       "            display: flex; \n",
       "            justify-content: space-between; \n",
       "            align-items: center;\n",
       "            gap: 16px;\n",
       "        \">\n",
       "            <div><a href=\"./01-03.html\" style=\"color: #5d4037; text-decoration: none; padding: 8px 12px; border-radius: 4px; background-color: #efebe9; border: 1px solid #8d6e63; display: inline-block; font-weight: 500;\">⬅️ Previous Section</a></div>\n",
       "            <div><span style=\"color: #999; padding: 8px 12px;\">Next Section ➡️</span></div>\n",
       "        </div>\n",
       "    </div>\n",
       "    "
      ],
      "text/plain": [
       "<IPython.core.display.HTML object>"
      ]
     },
     "execution_count": 8,
     "metadata": {},
     "output_type": "execute_result"
    }
   ],
   "source": [
    "#hide\n",
    "utils.nav(\"./01-03.html\", \"\")"
   ]
  },
  {
   "cell_type": "code",
   "execution_count": null,
   "id": "73a0bfbc-de88-4730-a47e-fc5348175a78",
   "metadata": {},
   "outputs": [],
   "source": []
  }
 ],
 "metadata": {
  "kernelspec": {
   "display_name": "Python 3 (ipykernel)",
   "language": "python",
   "name": "python3"
  },
  "language_info": {
   "codemirror_mode": {
    "name": "ipython",
    "version": 3
   },
   "file_extension": ".py",
   "mimetype": "text/x-python",
   "name": "python",
   "nbconvert_exporter": "python",
   "pygments_lexer": "ipython3",
   "version": "3.12.0"
  },
  "papermill": {
   "default_parameters": {},
   "duration": 1.0836,
   "end_time": "2025-06-21T22:12:13.022281",
   "environment_variables": {},
   "exception": null,
   "input_path": "notebooks/01-02.ipynb",
   "output_path": "notebooks/01-02.ipynb",
   "parameters": {},
   "start_time": "2025-06-21T22:12:11.938681",
   "version": "2.6.0"
  }
 },
 "nbformat": 4,
 "nbformat_minor": 5
}
