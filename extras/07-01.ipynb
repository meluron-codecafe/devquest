{
 "cells": [
  {
   "cell_type": "code",
   "execution_count": 1,
   "id": "1d1ff457-6b8f-409b-8e20-abba6ea5f6c1",
   "metadata": {},
   "outputs": [],
   "source": [
    "#hide"
   ]
  },
  {
   "cell_type": "code",
   "execution_count": 2,
   "id": "1861e270-d65d-4b4f-9c48-49007b726090",
   "metadata": {
    "jupyter": {
     "source_hidden": true
    }
   },
   "outputs": [
    {
     "data": {
      "text/html": [
       "\n",
       "    <div style=\"\n",
       "        position: relative;\n",
       "        display: flex; \n",
       "        align-items: center; \n",
       "        justify-content: flex-start;\n",
       "        min-height: 80px;\n",
       "        width: 800px;\n",
       "        background: linear-gradient(135deg, #f5f7fa 0%, #c3cfe2 100%);\n",
       "        padding: 20px;\n",
       "        border-radius: 12px;\n",
       "        box-shadow: 0 4px 15px rgba(0, 0, 0, 0.1);\n",
       "        border: 1px solid #e1e8ed;\n",
       "        margin: 10px 0;\n",
       "        font-family: 'Segoe UI', Tahoma, Geneva, Verdana, sans-serif;\n",
       "    \">\n",
       "\n",
       "        <!-- GitHub Icon + Name in top-right -->\n",
       "        <a href=\"https://github.com/meluron-codecafe\" target=\"_blank\" style=\"\n",
       "            position: absolute;\n",
       "            top: 16px;\n",
       "            right: 20px;\n",
       "            display: flex;\n",
       "            align-items: center;\n",
       "            text-decoration: none;\n",
       "            color: #333;\n",
       "            font-size: 14px;\n",
       "            font-weight: 500;\n",
       "            gap: 6px;\n",
       "        \">\n",
       "            <img src=\"https://cdn-icons-png.flaticon.com/512/25/25231.png\" \n",
       "                 alt=\"GitHub\" \n",
       "                 style=\"width: 18px; height: 18px; display: inline-block; vertical-align: middle;\">\n",
       "            <span style=\"transform: translateY(-1px); line-height: 1;\">\n",
       "                /meluron-codecafe\n",
       "            </span>\n",
       "        </a>\n",
       "\n",
       "        <!-- Logo + Label stacked vertically -->\n",
       "        <div style=\"\n",
       "            display: flex; \n",
       "            flex-direction: column; \n",
       "            align-items: center; \n",
       "            justify-content: center;\n",
       "            margin-right: 35px;\n",
       "        \">\n",
       "            <a href=\"https://meluron-codecafe.github.io/DevQuest/\">\n",
       "                <img src=\"https://raw.githubusercontent.com/meluron/assets/refs/heads/main/logos/meluron-codecafe/DevQuest/orig.png\" \n",
       "                     alt=\"My Logo\" \n",
       "                     style=\"\n",
       "                        width: 70px; \n",
       "                        height: 70px;\n",
       "                        border-radius: 8px;\n",
       "                        box-shadow: 0 3px 10px rgba(253, 138, 9, 0.3);\n",
       "                     \">\n",
       "            </a>\n",
       "            <div style=\"\n",
       "                font-size: 13px; \n",
       "                color: #fd8a09; \n",
       "                font-weight: bold;\n",
       "                margin-top: 6px;\n",
       "                text-align: center;\n",
       "            \">\n",
       "            </div>\n",
       "        </div>\n",
       "\n",
       "        <!-- Question Badge -->\n",
       "        <div style=\"\n",
       "            font-size: 14px; \n",
       "            background: linear-gradient(135deg, #667eea, #764ba2);\n",
       "            color: white; \n",
       "            padding: 8px 14px; \n",
       "            border-radius: 20px; \n",
       "            display: inline-flex;\n",
       "            align-items: center;\n",
       "            gap: 6px;\n",
       "            font-weight: 600;\n",
       "            box-shadow: 0 3px 12px rgba(102, 126, 234, 0.3);\n",
       "        \">\n",
       "            <span style=\"font-size: 16px;\">❔</span>\n",
       "            Loops in Python\n",
       "            \n",
       "        </div>\n",
       "    </div>\n",
       "    "
      ],
      "text/plain": [
       "<IPython.core.display.HTML object>"
      ]
     },
     "metadata": {},
     "output_type": "display_data"
    }
   ],
   "source": [
    "#hide\n",
    "import utils\n",
    "utils.hero(\"Loops in Python\")"
   ]
  },
  {
   "cell_type": "markdown",
   "id": "2cb0d338-814f-4880-b39a-c977b07f32be",
   "metadata": {},
   "source": [
    "When there is repetition of same code block then we intend to use loops."
   ]
  },
  {
   "cell_type": "code",
   "execution_count": 4,
   "id": "0eb6d11e-981c-4791-b692-3a77ce0c9d16",
   "metadata": {
    "jupyter": {
     "source_hidden": true
    }
   },
   "outputs": [
    {
     "data": {
      "text/html": [
       "\n",
       "        <div style=\"\n",
       "            margin: 25px 0 15px 0;\n",
       "            padding: 0;\n",
       "        \">\n",
       "            <h2 style=\"\n",
       "                font-size: 24px;\n",
       "                font-weight: 600;\n",
       "                color: #2c3e50;\n",
       "                margin: 0;\n",
       "                padding: 12px 0 8px 0;\n",
       "                display: inline-block;\n",
       "                font-family: 'Segoe UI', Tahoma, Geneva, Verdana, sans-serif;\n",
       "                background: linear-gradient(135deg, #667eea, #764ba2);\n",
       "                -webkit-background-clip: text;\n",
       "                -webkit-text-fill-color: transparent;\n",
       "                background-clip: text;\n",
       "            \">▶ For loop</h2>\n",
       "        </div>\n",
       "    "
      ],
      "text/plain": [
       "<IPython.core.display.HTML object>"
      ]
     },
     "metadata": {},
     "output_type": "display_data"
    }
   ],
   "source": [
    "#hide\n",
    "utils.h1(\"For loop\")"
   ]
  },
  {
   "cell_type": "markdown",
   "id": "d16e9a51-a9a2-4c46-af05-ac53d63fc40a",
   "metadata": {},
   "source": [
    "Defining `for loop`: \\\n",
    "`for {var_name} in {Iterable object}:`"
   ]
  },
  {
   "cell_type": "markdown",
   "id": "5bf3c2d9-a271-4994-bb21-02f28c1972c7",
   "metadata": {},
   "source": [
    "**Iterable object:**\n",
    "An object of a class which has `__iter__` method defined. "
   ]
  },
  {
   "cell_type": "markdown",
   "id": "e00d18e7-63f8-42b7-9e07-d79248800430",
   "metadata": {},
   "source": [
    "How to check if an object is Iterable?\n",
    "1. We will use `Iterable` class of `typing` module. \\\n",
    "`from typing import Iterable`\n",
    "2. Then we will check if the object is an instance of the `Iterable` class. \\\n",
    "`isinstance(object, Iterable)`"
   ]
  },
  {
   "cell_type": "code",
   "execution_count": 34,
   "id": "824624a8-e373-4b51-8b6f-e00fb230ad4f",
   "metadata": {},
   "outputs": [
    {
     "name": "stdout",
     "output_type": "stream",
     "text": [
      "Is `A` Iterable? -> False\n",
      "Is `B` Iterable? -> True\n"
     ]
    }
   ],
   "source": [
    "from typing import Iterable\n",
    "# Example\n",
    "class A:\n",
    "    pass\n",
    "\n",
    "class B:\n",
    "    def __iter__(self):\n",
    "        pass\n",
    "\n",
    "obj_a = A() # Create an instance of the class A\n",
    "obj_b = B() # Create an instance of the class B\n",
    "\n",
    "print(f\"Is `A` Iterable? -> {isinstance(obj_a, Iterable)}\")\n",
    "print(f\"Is `B` Iterable? -> {isinstance(obj_b, Iterable)}\")"
   ]
  },
  {
   "cell_type": "code",
   "execution_count": 35,
   "id": "e8e79e22-e715-4f90-9f06-aa90d211af4d",
   "metadata": {},
   "outputs": [
    {
     "name": "stdout",
     "output_type": "stream",
     "text": [
      "Is `list` Iterable? -> False\n"
     ]
    }
   ],
   "source": [
    "# Another example with built-in datatypes\n",
    "from typing import Iterable\n",
    "a = [1, 2, 3]\n",
    "print(f\"Is `list` Iterable? -> {isinstance(obj_a, Iterable)}\") # List is iterable"
   ]
  },
  {
   "cell_type": "code",
   "execution_count": 41,
   "id": "244d4e9a-e442-4fb8-bf8b-b21c83aaad40",
   "metadata": {},
   "outputs": [
    {
     "name": "stdout",
     "output_type": "stream",
     "text": [
      "0\n",
      "1\n",
      "2\n",
      "3\n",
      "-----LIST------\n",
      "1\n",
      "2\n",
      "Ball\n",
      "Cat\n",
      "-----DICT-----\n",
      "a\n",
      "b\n",
      "------\n",
      "apple\n",
      "ball\n",
      "------\n",
      "('a', 'apple')\n",
      "('b', 'ball')\n",
      "------\n",
      "a apple\n",
      "b ball\n"
     ]
    }
   ],
   "source": [
    "# Definition\n",
    "\n",
    "# Range\n",
    "for i in range(4):\n",
    "    print(i)\n",
    "    \n",
    "print(\"-----LIST------\")\n",
    "\n",
    "# List\n",
    "for i in [1, 2, \"Ball\", \"Cat\"]:\n",
    "    print(i)\n",
    "    \n",
    "print(\"-----DICT-----\")\n",
    "\n",
    "# Dict\n",
    "for i in {\"a\": \"apple\", \"b\": \"ball\"}.keys():\n",
    "    print(i)\n",
    "print(\"------\")\n",
    "\n",
    "for i in {\"a\": \"apple\", \"b\": \"ball\"}.values():\n",
    "    print(i)\n",
    "print(\"------\")\n",
    "\n",
    "for item in {\"a\": \"apple\", \"b\": \"ball\"}.items():\n",
    "    print(item)\n",
    "print(\"------\")\n",
    "\n",
    "for k, v in {\"a\": \"apple\", \"b\": \"ball\"}.items():\n",
    "    print(k, v)"
   ]
  },
  {
   "cell_type": "code",
   "execution_count": 55,
   "id": "120d9fb7-bc82-4fb8-8f13-0cdc86df6965",
   "metadata": {},
   "outputs": [],
   "source": [
    "class A:\n",
    "    def __str__(self): # -> str\n",
    "        pass\n",
    "\n",
    "    def __iter__(self): # -> iterator type\n",
    "        pass"
   ]
  },
  {
   "cell_type": "code",
   "execution_count": 56,
   "id": "d68fe2f4-710b-49cf-b52e-330bd4360900",
   "metadata": {},
   "outputs": [],
   "source": [
    "obj_a = A()"
   ]
  },
  {
   "cell_type": "code",
   "execution_count": 57,
   "id": "758b9bab-c622-47e0-b9a7-9000985cd672",
   "metadata": {
    "jupyter": {
     "source_hidden": true
    }
   },
   "outputs": [
    {
     "data": {
      "text/html": [
       "\n",
       "        <div style=\"\n",
       "            margin: 25px 0 15px 0;\n",
       "            padding: 0;\n",
       "        \">\n",
       "            <h2 style=\"\n",
       "                font-size: 24px;\n",
       "                font-weight: 600;\n",
       "                color: #2c3e50;\n",
       "                margin: 0;\n",
       "                padding: 12px 0 8px 0;\n",
       "                display: inline-block;\n",
       "                font-family: 'Segoe UI', Tahoma, Geneva, Verdana, sans-serif;\n",
       "                background: linear-gradient(135deg, #667eea, #764ba2);\n",
       "                -webkit-background-clip: text;\n",
       "                -webkit-text-fill-color: transparent;\n",
       "                background-clip: text;\n",
       "            \">▶ While loop</h2>\n",
       "        </div>\n",
       "    "
      ],
      "text/plain": [
       "<IPython.core.display.HTML object>"
      ]
     },
     "metadata": {},
     "output_type": "display_data"
    }
   ],
   "source": [
    "#hide\n",
    "utils.h1(\"While loop\")"
   ]
  },
  {
   "cell_type": "markdown",
   "id": "827e9f7c-20e5-40af-a4f5-6b4f47e41b1f",
   "metadata": {},
   "source": [
    "Defining `while loop`: \\\n",
    "`while bool:`"
   ]
  },
  {
   "cell_type": "code",
   "execution_count": 65,
   "id": "308c26ad-a6ab-48c4-91e0-0fbdcbce3e7a",
   "metadata": {},
   "outputs": [
    {
     "name": "stdout",
     "output_type": "stream",
     "text": [
      "Hello\n"
     ]
    }
   ],
   "source": [
    "i = 10\n",
    "while i <= 10:\n",
    "    print(\"Hello\")\n",
    "    i += 2"
   ]
  },
  {
   "cell_type": "code",
   "execution_count": 66,
   "id": "7dd6e01f-e7be-47a8-95b3-5ef343097b9e",
   "metadata": {
    "jupyter": {
     "source_hidden": true
    }
   },
   "outputs": [
    {
     "data": {
      "text/html": [
       "\n",
       "    <div style=\"\n",
       "        margin: 15px 0; \n",
       "        padding: 16px 20px; \n",
       "        border-radius: 8px; \n",
       "        border-left: 4px solid #607d8b; \n",
       "        box-shadow: 0 2px 8px rgba(0, 0, 0, 0.1); \n",
       "        background-color: #f8f9fa; \n",
       "        color: #37474f;\n",
       "        font-family: -apple-system, BlinkMacSystemFont, 'Segoe UI', Roboto, sans-serif;\n",
       "    \">\n",
       "        <div style=\"\n",
       "            font-weight: bold; \n",
       "            margin-bottom: 12px; \n",
       "            font-size: 14px; \n",
       "            text-transform: uppercase; \n",
       "            letter-spacing: 0.5px;\n",
       "            display: flex;\n",
       "            align-items: center;\n",
       "            gap: 8px;\n",
       "        \">\n",
       "            <span style=\"font-size: 18px;\">🧭</span>\n",
       "            Navigation\n",
       "        </div>\n",
       "        <div style=\"\n",
       "            display: flex; \n",
       "            justify-content: space-between; \n",
       "            align-items: center;\n",
       "            gap: 16px;\n",
       "        \">\n",
       "            <div><span style=\"color: #999; padding: 8px 12px;\">⬅️ Previous Section</span></div>\n",
       "            <div><span style=\"color: #999; padding: 8px 12px;\">Next Section ➡️</span></div>\n",
       "        </div>\n",
       "    </div>\n",
       "    "
      ],
      "text/plain": [
       "<IPython.core.display.HTML object>"
      ]
     },
     "execution_count": 66,
     "metadata": {},
     "output_type": "execute_result"
    }
   ],
   "source": [
    "#hide\n",
    "utils.nav()"
   ]
  },
  {
   "cell_type": "code",
   "execution_count": null,
   "id": "69da935f-79e6-474a-98fb-bab6d9dc591b",
   "metadata": {},
   "outputs": [],
   "source": []
  }
 ],
 "metadata": {
  "kernelspec": {
   "display_name": "Python 3 (ipykernel)",
   "language": "python",
   "name": "python3"
  },
  "language_info": {
   "codemirror_mode": {
    "name": "ipython",
    "version": 3
   },
   "file_extension": ".py",
   "mimetype": "text/x-python",
   "name": "python",
   "nbconvert_exporter": "python",
   "pygments_lexer": "ipython3",
   "version": "3.12.0"
  }
 },
 "nbformat": 4,
 "nbformat_minor": 5
}
