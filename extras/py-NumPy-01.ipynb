{
 "cells": [
  {
   "cell_type": "code",
   "execution_count": 12,
   "id": "126d2b98-dd00-448b-ace3-da6bc8aaeb4f",
   "metadata": {
    "jupyter": {
     "source_hidden": true
    }
   },
   "outputs": [
    {
     "data": {
      "text/html": [
       "\n",
       "    <div style=\"\n",
       "        display: flex;\n",
       "        align-items: center;\n",
       "        font-family: 'Georgia', serif;\n",
       "        border-left: 3px solid #ccc;\n",
       "        padding-left: 12px;\n",
       "        margin-bottom: 1em;\n",
       "        gap: 20px;\n",
       "    \">\n",
       "        <!-- Calendar on the left -->\n",
       "        <div style=\"\n",
       "            display: inline-block;\n",
       "            font-family: 'Arial', sans-serif;\n",
       "            border-radius: 8px;\n",
       "            overflow: hidden;\n",
       "            box-shadow: 1px 1px 6px rgba(0,0,0,0.1);\n",
       "            width: 120px;\n",
       "            font-size: 12px;\n",
       "            text-align: center;\n",
       "            flex-shrink: 0;\n",
       "        \">\n",
       "            <!-- Last modified label -->\n",
       "            <div style=\"\n",
       "                background: #f4f4f4;\n",
       "                color: #555;\n",
       "                padding: 4px 0;\n",
       "                font-weight: bold;\n",
       "                border-top-left-radius: 8px;\n",
       "                border-top-right-radius: 8px;\n",
       "            \">\n",
       "                Last modified\n",
       "            </div>\n",
       "            \n",
       "            <!-- Main calendar -->\n",
       "            <div>\n",
       "                <div style=\"\n",
       "                    background: #66a6ff;\n",
       "                    color: white;\n",
       "                    padding: 5px 0;\n",
       "                    font-weight: bold;\n",
       "                \">\n",
       "                    Aug, 2025\n",
       "                </div>\n",
       "                <div style=\"\n",
       "                    background: #fff;\n",
       "                    color: #333;\n",
       "                    padding: 8px 0;\n",
       "                    font-size: 20px;\n",
       "                    font-weight: bold;\n",
       "                \">\n",
       "                    21\n",
       "                </div>\n",
       "                <div style=\"\n",
       "                    background: #f4f4f4;\n",
       "                    color: #333;\n",
       "                    padding: 4px 0;\n",
       "                    font-size: 12px;\n",
       "                \">\n",
       "                    12:11:06 PM\n",
       "                </div>\n",
       "            </div>\n",
       "        </div>\n",
       "        \n",
       "        <!-- Header content on the right -->\n",
       "        <div style=\"flex: 1;\">\n",
       "            <h2 style=\"\n",
       "                margin: 0;\n",
       "                color: #EF8C00;\n",
       "                font-size: 2.4em;\n",
       "                padding-left: 0;\n",
       "                text-indent: 0;\n",
       "            \">\n",
       "                How to get comfortable with NumPy?\n",
       "            </h2>\n",
       "            <p style=\"margin: 0.5em 0 0 0;\">\n",
       "                ndarray; type; ndim; shape; size; APIs;\n",
       "            </p>\n",
       "        </div>\n",
       "    </div>\n",
       "    "
      ],
      "text/plain": [
       "<IPython.core.display.HTML object>"
      ]
     },
     "metadata": {},
     "output_type": "display_data"
    },
    {
     "data": {
      "text/html": [
       "\n",
       "    <div id=\"toc-box\" style=\"\n",
       "        position:fixed; \n",
       "        top:40px; right:10px; \n",
       "        background:#fafafa; \n",
       "        border-left:4px solid #4caf50; \n",
       "        border-radius:8px; \n",
       "        box-shadow:0 2px 8px rgba(0,0,0,0.15); \n",
       "        font-family:Arial;\n",
       "        z-index:9999;\n",
       "        width:50px; /* collapsed width */\n",
       "        transition: width 0.3s ease;\n",
       "        overflow:hidden;\n",
       "    \">\n",
       "    \n",
       "    <div onclick=\"\n",
       "        var box=document.getElementById('toc-box');\n",
       "        var content=document.getElementById('toc-box-content');\n",
       "        if(content.style.display=='none'){\n",
       "            content.style.display='block';\n",
       "            box.style.width='260px';\n",
       "        } else {\n",
       "            content.style.display='none';\n",
       "            box.style.width='50px';\n",
       "        }\n",
       "    \" style=\"display:flex; align-items:center; justify-content:center; \n",
       "             padding:8px; cursor:pointer; user-select:none;\">\n",
       "        <svg width=\"32\" height=\"32\" viewBox=\"0 0 36 36\" style=\"transform: rotate(-90deg);\">\n",
       "            <circle cx=\"18\" cy=\"18\" r=\"15.9155\" fill=\"none\" stroke=\"#eee\" stroke-width=\"3\"/>\n",
       "            <circle cx=\"18\" cy=\"18\" r=\"15.9155\" fill=\"none\" \n",
       "                    stroke=\"#4caf50\" stroke-width=\"3\"\n",
       "                    stroke-dasharray=\"16, 100\"/>\n",
       "            <text x=\"18\" y=\"21\" text-anchor=\"middle\" fill=\"#333\"\n",
       "                  font-size=\"9\" font-family=\"Arial\" transform=\"rotate(90,18,18)\">1/6</text>\n",
       "        </svg>\n",
       "    </div>\n",
       "    \n",
       "    <div id=\"toc-box-content\" style=\"display:none; padding:0 15px 12px 15px; \n",
       "                max-height:60vh; overflow-y:auto;\">\n",
       "        <div style=\"font-weight:bold; font-size:14px; margin-bottom:10px;\">Table of Contents</div>\n",
       "    \n",
       "        <div>\n",
       "            <div style=\"display:flex; align-items:center; margin-bottom:0;\">\n",
       "                <div style=\"\n",
       "                    width:20px; height:20px; border-radius:50%; \n",
       "                    background:#4caf50; color:white; \n",
       "                    display:flex; align-items:center; justify-content:center;\n",
       "                    font-size:10px; font-weight:bold;\n",
       "                    box-shadow: 0 2px 4px rgba(0,0,0,0.1);\n",
       "                \">✓</div>\n",
       "                <div style=\"margin-left:10px; font:12px Arial; font-weight:500;\">\n",
       "                    <a href=\"#NumPy-arrays-over-python-list\" style=\"color:#4caf50; text-decoration:none;\">NumPy arrays over python list</a>\n",
       "                </div>\n",
       "            </div>\n",
       "            <div style=\"width:2px; height:20px; background:#4caf50; margin-left:9px; margin-top:-4px;\"></div>\n",
       "        </div>\n",
       "        \n",
       "        <div>\n",
       "            <div style=\"display:flex; align-items:center; margin-bottom:0;\">\n",
       "                <div style=\"\n",
       "                    width:20px; height:20px; border-radius:50%; \n",
       "                    background:#ddd; color:white; \n",
       "                    display:flex; align-items:center; justify-content:center;\n",
       "                    font-size:10px; font-weight:bold;\n",
       "                    box-shadow: 0 2px 4px rgba(0,0,0,0.1);\n",
       "                \">○</div>\n",
       "                <div style=\"margin-left:10px; font:12px Arial; font-weight:500;\">\n",
       "                    <a href=\"#Scalars\" style=\"color:#999; text-decoration:none;\">Scalars</a>\n",
       "                </div>\n",
       "            </div>\n",
       "            <div style=\"width:2px; height:20px; background:#ddd; margin-left:9px; margin-top:-4px;\"></div>\n",
       "        </div>\n",
       "        \n",
       "        <div>\n",
       "            <div style=\"display:flex; align-items:center; margin-bottom:0;\">\n",
       "                <div style=\"\n",
       "                    width:20px; height:20px; border-radius:50%; \n",
       "                    background:#ddd; color:white; \n",
       "                    display:flex; align-items:center; justify-content:center;\n",
       "                    font-size:10px; font-weight:bold;\n",
       "                    box-shadow: 0 2px 4px rgba(0,0,0,0.1);\n",
       "                \">○</div>\n",
       "                <div style=\"margin-left:10px; font:12px Arial; font-weight:500;\">\n",
       "                    <a href=\"#Arrays\" style=\"color:#999; text-decoration:none;\">Arrays</a>\n",
       "                </div>\n",
       "            </div>\n",
       "            <div style=\"width:2px; height:20px; background:#ddd; margin-left:9px; margin-top:-4px;\"></div>\n",
       "        </div>\n",
       "        \n",
       "        <div>\n",
       "            <div style=\"display:flex; align-items:center; margin-bottom:0;\">\n",
       "                <div style=\"\n",
       "                    width:20px; height:20px; border-radius:50%; \n",
       "                    background:#ddd; color:white; \n",
       "                    display:flex; align-items:center; justify-content:center;\n",
       "                    font-size:10px; font-weight:bold;\n",
       "                    box-shadow: 0 2px 4px rgba(0,0,0,0.1);\n",
       "                \">○</div>\n",
       "                <div style=\"margin-left:10px; font:12px Arial; font-weight:500;\">\n",
       "                    <a href=\"#Array-properties\" style=\"color:#999; text-decoration:none;\">Array properties</a>\n",
       "                </div>\n",
       "            </div>\n",
       "            <div style=\"width:2px; height:20px; background:#ddd; margin-left:9px; margin-top:-4px;\"></div>\n",
       "        </div>\n",
       "        \n",
       "        <div>\n",
       "            <div style=\"display:flex; align-items:center; margin-bottom:0;\">\n",
       "                <div style=\"\n",
       "                    width:20px; height:20px; border-radius:50%; \n",
       "                    background:#ddd; color:white; \n",
       "                    display:flex; align-items:center; justify-content:center;\n",
       "                    font-size:10px; font-weight:bold;\n",
       "                    box-shadow: 0 2px 4px rgba(0,0,0,0.1);\n",
       "                \">○</div>\n",
       "                <div style=\"margin-left:10px; font:12px Arial; font-weight:500;\">\n",
       "                    <a href=\"#Array-operations\" style=\"color:#999; text-decoration:none;\">Array operations</a>\n",
       "                </div>\n",
       "            </div>\n",
       "            <div style=\"width:2px; height:20px; background:#ddd; margin-left:9px; margin-top:-4px;\"></div>\n",
       "        </div>\n",
       "        \n",
       "        <div>\n",
       "            <div style=\"display:flex; align-items:center; margin-bottom:0;\">\n",
       "                <div style=\"\n",
       "                    width:20px; height:20px; border-radius:50%; \n",
       "                    background:#ddd; color:white; \n",
       "                    display:flex; align-items:center; justify-content:center;\n",
       "                    font-size:10px; font-weight:bold;\n",
       "                    box-shadow: 0 2px 4px rgba(0,0,0,0.1);\n",
       "                \">○</div>\n",
       "                <div style=\"margin-left:10px; font:12px Arial; font-weight:500;\">\n",
       "                    <a href=\"#Operations-along-an-axis\" style=\"color:#999; text-decoration:none;\">Operations along an axis</a>\n",
       "                </div>\n",
       "            </div>\n",
       "            \n",
       "        </div>\n",
       "        </div></div>"
      ],
      "text/plain": [
       "<IPython.core.display.HTML object>"
      ]
     },
     "metadata": {},
     "output_type": "display_data"
    }
   ],
   "source": [
    "#hide\n",
    "from utils import *\n",
    "hc(\n",
    "    \"How to get comfortable with NumPy?\",\n",
    "    [\"ndarray\", \"type\", \"ndim\", \"shape\", \"size\", \"APIs\"],\n",
    ")\n",
    "toc(\n",
    "    [\n",
    "        \"NumPy arrays over python list\",\n",
    "        \"Scalars\",\n",
    "        \"Arrays\",\n",
    "        \"Array properties\",\n",
    "        \"Array operations\",\n",
    "        \"Operations along an axis\"  \n",
    "    ],\n",
    "    1\n",
    ")"
   ]
  },
  {
   "cell_type": "markdown",
   "id": "5be650ea-46c6-45aa-b4e8-8fb70d4fa8b5",
   "metadata": {
    "jp-MarkdownHeadingCollapsed": true
   },
   "source": [
    "## NumPy\n",
    "NumPy is a python **library** which is optimised to **store numerical values** (generally) and **perform numerical operations**."
   ]
  },
  {
   "cell_type": "markdown",
   "id": "8e7ef869-d773-40e8-8569-8ca9526cc292",
   "metadata": {},
   "source": [
    "## NumPy arrays over python list\n",
    "1. Creating an numpy array is much faster than python list.\n",
    "2. NumPy provides alot of convenient element-wise mathematical operations for which we might have to create loop with list.\n",
    "3. We can get rid of python `for` loop for many operations.\n",
    "4. NumPy operation are much faster."
   ]
  },
  {
   "cell_type": "code",
   "execution_count": 11,
   "id": "af9d8d5c-e0ec-4d97-9c57-b88d7641ceee",
   "metadata": {},
   "outputs": [
    {
     "name": "stdout",
     "output_type": "stream",
     "text": [
      "Total time taken to create list: 2.34560 sec\n",
      "Total time taken to create numpy array: 0.04636 sec\n",
      "--------------------------------------------------\n",
      "Total time taken to perform operation on list: 3.88236 sec\n",
      "Total time taken to perform operation on numpy array: 0.05914 sec\n"
     ]
    }
   ],
   "source": [
    "import numpy as np\n",
    "import time\n",
    "\n",
    "#=========Comparing Creation time=========\n",
    "# Python loop\n",
    "tic = time.time()\n",
    "lst = []\n",
    "for i in range(10_000_000):\n",
    "    lst.append(i)\n",
    "toc = time.time()\n",
    "print(f\"Total time taken to create list: {toc - tic:.5f} sec\")\n",
    "\n",
    "# NumPy array\n",
    "tic = time.time()\n",
    "arr = np.arange(10_000_000) # No need for python loop\n",
    "toc = time.time()\n",
    "print(f\"Total time taken to create numpy array: {toc - tic:.5f} sec\")\n",
    "print(\"-\"*50)\n",
    "#=========Comparing Operation time=========\n",
    "# Python loop\n",
    "tic = time.time()\n",
    "for i in range(len(lst)):\n",
    "    lst[i] = lst[i] ** 2\n",
    "toc = time.time()\n",
    "print(f\"Total time taken to perform operation on list: {toc - tic:.5f} sec\")\n",
    "\n",
    "# NumPy array\n",
    "tic = time.time()\n",
    "arr = arr ** 2 # No need for python loop\n",
    "toc = time.time()\n",
    "print(f\"Total time taken to perform operation on numpy array: {toc - tic:.5f} sec\")"
   ]
  },
  {
   "cell_type": "markdown",
   "id": "03c4bb67-90ec-4ded-8c00-93f0de350757",
   "metadata": {
    "jp-MarkdownHeadingCollapsed": true
   },
   "source": [
    "## Scalars"
   ]
  },
  {
   "cell_type": "markdown",
   "id": "ecb8ed8d-3f38-4035-bb0d-31e0f2db2725",
   "metadata": {},
   "source": [
    "## Arrays\n",
    "A collection of **numpy generic** objects."
   ]
  },
  {
   "cell_type": "code",
   "execution_count": 70,
   "id": "a0c442c8-87b1-4c00-84da-9fe3c63769fe",
   "metadata": {},
   "outputs": [],
   "source": [
    "arr = np.array([1, 1, 3])"
   ]
  },
  {
   "cell_type": "markdown",
   "id": "77e2796f-b8d0-4a15-b96e-f0aa96d34697",
   "metadata": {},
   "source": [
    "## Array properties"
   ]
  },
  {
   "cell_type": "markdown",
   "id": "45dd2d24-ec93-4830-9661-0c3a84364e4f",
   "metadata": {
    "jp-MarkdownHeadingCollapsed": true
   },
   "source": [
    "### type\n",
    "The type of any numpy array will be `np.ndarray`"
   ]
  },
  {
   "cell_type": "code",
   "execution_count": 86,
   "id": "9b6dcebf-ba7d-4897-9899-34b437a9eaf3",
   "metadata": {},
   "outputs": [
    {
     "data": {
      "text/plain": [
       "(numpy.ndarray, object)"
      ]
     },
     "execution_count": 86,
     "metadata": {},
     "output_type": "execute_result"
    }
   ],
   "source": [
    "arr.__class__.__mro__"
   ]
  },
  {
   "cell_type": "markdown",
   "id": "3ea6e3e8-f24a-473a-a6c0-d872ac7b36b5",
   "metadata": {
    "jp-MarkdownHeadingCollapsed": true
   },
   "source": [
    "## ndim\n",
    "Every `np.ndarray` object has `ndim` attribute that returns `int`."
   ]
  },
  {
   "cell_type": "code",
   "execution_count": 4,
   "id": "ac9d9553-8016-4fef-8403-ecc0d04301f2",
   "metadata": {},
   "outputs": [
    {
     "name": "stdout",
     "output_type": "stream",
     "text": [
      "arr=1, \tndim=0\n",
      "\n",
      "arr=[], ndim=1\n",
      "\n",
      "arr=[1 2 3], ndim=1\n",
      "\n",
      "arr=[], ndim=2\n",
      "\n",
      "arr=[[1 2 3]\n",
      " [5 6 7]], ndim=2\n",
      "\n",
      "arr=[[1 2 3]], ndim=2\n",
      "\n",
      "arr=[[[1 2 3]]], ndim=3\n",
      "\n"
     ]
    }
   ],
   "source": [
    "arr = np.array(1) # 0 => Scalar => A number (no datastructure)\n",
    "print(f\"arr={arr}, \\tndim={arr.ndim}\\n\")\n",
    "\n",
    "arr = np.array([]) # 1 => Collection of scalar (0D array)\n",
    "print(f\"arr={arr}, ndim={arr.ndim}\\n\")\n",
    "\n",
    "arr = np.array([1, 2, 3]) # 1 => Collection of scalar (0D array) => Also known as vector\n",
    "print(f\"arr={arr}, ndim={arr.ndim}\\n\")\n",
    "\n",
    "arr = np.array([[], []]) # 2 => Collection of vector (1D array) => Also known as matrix\n",
    "print(f\"arr={arr}, ndim={arr.ndim}\\n\")\n",
    "\n",
    "arr = np.array([[1, 2, 3], [5, 6, 7]]) # 2 => Collection of vector (1D array) => Also known as matrix\n",
    "print(f\"arr={arr}, ndim={arr.ndim}\\n\")\n",
    "\n",
    "arr = np.array([[1, 2, 3]]) # 2 => Collection of vector (1D array) => Also known as matrix\n",
    "print(f\"arr={arr}, ndim={arr.ndim}\\n\")\n",
    "\n",
    "arr = np.array([[[1, 2, 3]]]) # 3 => Collection of matrix (2D array) => Also known as 3D\n",
    "print(f\"arr={arr}, ndim={arr.ndim}\\n\")"
   ]
  },
  {
   "cell_type": "markdown",
   "id": "50f0485e-29e5-434f-a262-fe869ed64e49",
   "metadata": {
    "jp-MarkdownHeadingCollapsed": true
   },
   "source": [
    "## shape\n",
    "Every `np.ndarray` object has `shape` attribute that returns `tuple` of length `ndim`."
   ]
  },
  {
   "cell_type": "code",
   "execution_count": 5,
   "id": "516dca60-ca42-4a02-b89d-22540bbe421a",
   "metadata": {},
   "outputs": [
    {
     "name": "stdout",
     "output_type": "stream",
     "text": [
      "arr=1, \tndim=0, shape=()\n",
      "\n",
      "arr=[], ndim=1, shape=(0,)\n",
      "\n",
      "arr=[1 2 3], ndim=1, shape=(3,)\n",
      "\n",
      "arr=[], ndim=2, shape=(2, 0)\n",
      "\n",
      "arr=[[1 2 3]\n",
      " [5 6 7]], ndim=2, shape=(2, 3)\n",
      "\n",
      "arr=[[1 2 3]], ndim=2, shape=(1, 3)\n",
      "\n",
      "arr=[[1]\n",
      " [2]\n",
      " [3]], ndim=2, shape=(3, 1)\n",
      "\n",
      "arr=[[[1 2 3]]], ndim=3, shape=(1, 1, 3)\n",
      "\n"
     ]
    }
   ],
   "source": [
    "arr = np.array(1) # 0 => Scalar => A number (no datastructure)\n",
    "print(f\"arr={arr}, \\tndim={arr.ndim}, shape={arr.shape}\\n\")\n",
    "\n",
    "arr = np.array([]) # 1 => Collection of scalar (0D array)\n",
    "print(f\"arr={arr}, ndim={arr.ndim}, shape={arr.shape}\\n\")\n",
    "\n",
    "arr = np.array([1, 2, 3]) # 1 => Collection of scalar (0D array) => Also known as vector\n",
    "print(f\"arr={arr}, ndim={arr.ndim}, shape={arr.shape}\\n\")\n",
    "\n",
    "arr = np.array([[], []]) # 2 => Collection of vector (1D array) => Also known as matrix\n",
    "print(f\"arr={arr}, ndim={arr.ndim}, shape={arr.shape}\\n\")\n",
    "\n",
    "arr = np.array([[1, 2, 3], [5, 6, 7]]) # 2 => Collection of vector (1D array) => Also known as matrix\n",
    "print(f\"arr={arr}, ndim={arr.ndim}, shape={arr.shape}\\n\")\n",
    "\n",
    "arr = np.array([[1, 2, 3]]) # 2 => Collection of vector (1D array) => Also known as matrix (row vector)\n",
    "print(f\"arr={arr}, ndim={arr.ndim}, shape={arr.shape}\\n\")\n",
    "\n",
    "arr = np.array([[1], [2], [3]]) # 2 => Collection of vector (1D array) => Also known as matrix (column vector)\n",
    "print(f\"arr={arr}, ndim={arr.ndim}, shape={arr.shape}\\n\")\n",
    "\n",
    "arr = np.array([[[1, 2, 3]]]) # 3 => Collection of matrix (2D array) => Also known as 3D\n",
    "print(f\"arr={arr}, ndim={arr.ndim}, shape={arr.shape}\\n\")"
   ]
  },
  {
   "cell_type": "markdown",
   "id": "dabbe997-4584-4178-ade8-749502a11f38",
   "metadata": {
    "jp-MarkdownHeadingCollapsed": true
   },
   "source": [
    "## size\n",
    "Every `np.ndarray` object has `size` attribute that returns `int`. It is basically the total number of scalar objects."
   ]
  },
  {
   "cell_type": "code",
   "execution_count": 6,
   "id": "38a4caaf-7faf-4dad-ad81-9e6d598aa477",
   "metadata": {},
   "outputs": [
    {
     "name": "stdout",
     "output_type": "stream",
     "text": [
      "arr=1, \tndim=0, shape=() size=1\n",
      "\n",
      "arr=[], ndim=1, shape=(0,) size=0\n",
      "\n",
      "arr=[1 2 3], ndim=1, shape=(3,) size=3\n",
      "\n",
      "arr=[], ndim=2, shape=(2, 0) size=0\n",
      "\n",
      "arr=[[1 2 3]\n",
      " [5 6 7]], ndim=2, shape=(2, 3) size=6\n",
      "\n",
      "arr=[[1 2 3]], ndim=2, shape=(1, 3) size=3\n",
      "\n",
      "arr=[[1]\n",
      " [2]\n",
      " [3]], ndim=2, shape=(3, 1) size=3\n",
      "\n",
      "arr=[[[1 2 3]]], ndim=3, shape=(1, 1, 3) size=3\n",
      "\n"
     ]
    }
   ],
   "source": [
    "arr = np.array(1) # 0 => Scalar => A number (no datastructure)\n",
    "print(f\"arr={arr}, \\tndim={arr.ndim}, shape={arr.shape} size={arr.size}\\n\")\n",
    "\n",
    "arr = np.array([]) # 1 => Collection of scalar (0D array)\n",
    "print(f\"arr={arr}, ndim={arr.ndim}, shape={arr.shape} size={arr.size}\\n\")\n",
    "\n",
    "arr = np.array([1, 2, 3]) # 1 => Collection of scalar (0D array) => Also known as vector\n",
    "print(f\"arr={arr}, ndim={arr.ndim}, shape={arr.shape} size={arr.size}\\n\")\n",
    "\n",
    "arr = np.array([[], []]) # 2 => Collection of vector (1D array) => Also known as matrix\n",
    "print(f\"arr={arr}, ndim={arr.ndim}, shape={arr.shape} size={arr.size}\\n\")\n",
    "\n",
    "arr = np.array([[1, 2, 3], [5, 6, 7]]) # 2 => Collection of vector (1D array) => Also known as matrix\n",
    "print(f\"arr={arr}, ndim={arr.ndim}, shape={arr.shape} size={arr.size}\\n\")\n",
    "\n",
    "arr = np.array([[1, 2, 3]]) # 2 => Collection of vector (1D array) => Also known as matrix (row vector)\n",
    "print(f\"arr={arr}, ndim={arr.ndim}, shape={arr.shape} size={arr.size}\\n\")\n",
    "\n",
    "arr = np.array([[1], [2], [3]]) # 2 => Collection of vector (1D array) => Also known as matrix (column vector)\n",
    "print(f\"arr={arr}, ndim={arr.ndim}, shape={arr.shape} size={arr.size}\\n\")\n",
    "\n",
    "arr = np.array([[[1, 2, 3]]]) # 3 => Collection of matrix (2D array) => Also known as 3D\n",
    "print(f\"arr={arr}, ndim={arr.ndim}, shape={arr.shape} size={arr.size}\\n\")"
   ]
  },
  {
   "cell_type": "markdown",
   "id": "2225c456-b483-41dd-9d9e-752bdb4d8b87",
   "metadata": {
    "jp-MarkdownHeadingCollapsed": true
   },
   "source": [
    "## dtype\n",
    "Every `np.ndarray` object has `dtype` attribute that returns the type of scalar objects stored in the array. By default, it is `float64` but it is dynamic and updates as per the scalar objects in the array. One can manually set the dtype while creating `np.ndarray` object."
   ]
  },
  {
   "cell_type": "code",
   "execution_count": 87,
   "id": "e38b5fad-b4c7-488c-9865-70152178b7c3",
   "metadata": {},
   "outputs": [
    {
     "name": "stdout",
     "output_type": "stream",
     "text": [
      "float64\n",
      "\n",
      "int64\n",
      "\n",
      "float64\n",
      "\n",
      "float64\n",
      "\n",
      "bool\n",
      "\n",
      "<U21\n",
      "\n",
      "int64\n",
      "\n"
     ]
    }
   ],
   "source": [
    "arr = np.array([])\n",
    "print(f\"{arr.dtype}\\n\")\n",
    "\n",
    "arr = np.array([1, 2, 3])\n",
    "print(f\"{arr.dtype}\\n\")\n",
    "\n",
    "arr = np.array([1, 2., 3])\n",
    "print(f\"{arr.dtype}\\n\")\n",
    "\n",
    "arr = np.array([1, 2.5, 3])\n",
    "print(f\"{arr.dtype}\\n\")\n",
    "\n",
    "arr = np.array([True, False])\n",
    "print(f\"{arr.dtype}\\n\")\n",
    "\n",
    "arr = np.array([\"a\", \"b\", 1]) # 1 will be upgraded to str type\n",
    "print(f\"{arr.dtype}\\n\")\n",
    "\n",
    "arr = np.array([True, False, 10]) # The elements will be upgraded to int with True -> \n",
    "print(f\"{arr.dtype}\\n\")"
   ]
  },
  {
   "cell_type": "markdown",
   "id": "405d0265-1401-4aa5-b210-708985b403f0",
   "metadata": {},
   "source": [
    "## Array operations\n",
    "Any array operations will result in one of the following:\n",
    "1. Same sized array\n",
    "2. Different sized array\n",
    "3. Scalar"
   ]
  },
  {
   "cell_type": "code",
   "execution_count": 46,
   "id": "24fc133a-a92c-49be-9a78-2d33336b4071",
   "metadata": {},
   "outputs": [
    {
     "name": "stdout",
     "output_type": "stream",
     "text": [
      "[3 4 5 6]\n",
      "[-1  0  1  2]\n",
      "[2 4 6 8]\n",
      "[0.5 1.  1.5 2. ]\n",
      "[0 1 1 2]\n",
      "[ 1  4  9 16]\n",
      "[ 0.84147098  0.90929743  0.14112001 -0.7568025 ]\n",
      "[ 0.54030231 -0.41614684 -0.9899925  -0.65364362]\n",
      "[ 1.55740772 -2.18503986 -0.14254654  1.15782128]\n",
      "[0.         0.69314718 1.09861229 1.38629436]\n",
      "[0.        1.        1.5849625 2.       ]\n",
      "[0.         0.30103    0.47712125 0.60205999]\n",
      "[ 2.71828183  7.3890561  20.08553692 54.59815003]\n",
      "[ 1  3  6 10]\n",
      "[ 1  2  6 24]\n"
     ]
    }
   ],
   "source": [
    "arr = np.array([1, 2, 3, 4])\n",
    "\n",
    "# Basic arithmetic operations => Transformation that returns same dimension array but with different values\n",
    "print(arr + 2) # Add\n",
    "print(arr - 2) # Subtract\n",
    "print(arr * 2) # Multiply\n",
    "print(arr / 2) # True division\n",
    "print(arr // 2) # Floor division\n",
    "print(arr ** 2) # Exponentiation\n",
    "\n",
    "# Other operations\n",
    "print(np.sin(arr))\n",
    "print(np.cos(arr))\n",
    "print(np.tan(arr))\n",
    "print(np.log(arr))\n",
    "print(np.log2(arr))\n",
    "print(np.log10(arr))\n",
    "print(np.exp(arr))\n",
    "print(np.cumsum(arr))\n",
    "print(np.cumprod(arr))"
   ]
  },
  {
   "cell_type": "code",
   "execution_count": 15,
   "id": "8e7d771b-fedd-4bd2-8913-4b3410df4f3f",
   "metadata": {},
   "outputs": [
    {
     "name": "stdout",
     "output_type": "stream",
     "text": [
      "[1 2 3 4 1 2 3 4 1 2 1 1] (12,)\n"
     ]
    }
   ],
   "source": [
    "# Concatenation => Transformation that results in different sized array\n",
    "concat_arr = np.concatenate([arr, arr, [1, 2, 1, 1]])\n",
    "print(concat_arr, concat_arr.shape)"
   ]
  },
  {
   "cell_type": "code",
   "execution_count": 43,
   "id": "ec0c58c5-6997-45fe-a45b-460f38379953",
   "metadata": {},
   "outputs": [
    {
     "name": "stdout",
     "output_type": "stream",
     "text": [
      "15\n",
      "120\n",
      "3.0\n",
      "3.0\n",
      "1\n",
      "5\n",
      "0\n",
      "4\n"
     ]
    }
   ],
   "source": [
    "# Aggregation ops => Transformation that reduces dimension\n",
    "arr = np.array([1, 2, 3, 4, 5])\n",
    "\n",
    "print(np.sum(arr))\n",
    "print(np.prod(arr))\n",
    "print(np.mean(arr)) # sum / n.o. element\n",
    "print(np.median(arr)) # centre value after sorting\n",
    "print(np.min(arr))\n",
    "print(np.max(arr))\n",
    "\n",
    "print(np.argmin(arr)) # Index where mininum occured\n",
    "print(np.argmax(arr)) # Index where mininum occured"
   ]
  },
  {
   "cell_type": "markdown",
   "id": "b8f21834-f2c3-49ea-9f0c-85acabfeec38",
   "metadata": {},
   "source": [
    "## Operations along an axis\n",
    "\n",
    "Any aggregation operation in numpy takes `axis` as a parameter to perform aggregation along that axis."
   ]
  },
  {
   "cell_type": "markdown",
   "id": "5af4877d-2213-462e-8f8c-d6f3a0d325cd",
   "metadata": {},
   "source": [
    "### 2D"
   ]
  },
  {
   "cell_type": "code",
   "execution_count": 117,
   "id": "f1679179-4323-4a4a-96ea-457319488381",
   "metadata": {},
   "outputs": [
    {
     "name": "stdout",
     "output_type": "stream",
     "text": [
      "(3, 3)\n",
      "[3 5 5]\n",
      "[6 3 4]\n"
     ]
    }
   ],
   "source": [
    "# 2D\n",
    "arr = np.array([[1, 2, 3], [1, 1, 1], [1, 2, 1]])\n",
    "\n",
    "# Shape: (3, 3) \n",
    "# Sum: Axis 0: [1, 2, 3] + [1, 1, 1] + [1, 2, 1] = [3, 5, 5]; \n",
    "# Sum: Axis 1: [6, 3, 4]\n",
    "print(arr.shape)\n",
    "print(np.sum(arr, axis=0))\n",
    "print(np.sum(arr, axis=1))"
   ]
  },
  {
   "cell_type": "markdown",
   "id": "8cca1d81-7f00-4221-95c7-bd3208aec000",
   "metadata": {},
   "source": [
    "### 3D\n",
    "<div align=\"center\">\n",
    "  <img src=\"../data/images/martix_aggregation.png\" width=\"700\">\n",
    "</div>"
   ]
  },
  {
   "cell_type": "code",
   "execution_count": 23,
   "id": "312e59d6-3b67-4614-a2d7-bdb4d62eb529",
   "metadata": {},
   "outputs": [
    {
     "name": "stdout",
     "output_type": "stream",
     "text": [
      "(2, 3, 3)\n",
      "31\n",
      "[[2 3 6]\n",
      " [6 2 3]\n",
      " [2 4 3]]\n",
      "[[3 5 5]\n",
      " [7 4 7]]\n",
      "[[6 3 4]\n",
      " [5 8 5]]\n"
     ]
    }
   ],
   "source": [
    "# 3D\n",
    "arr = np.array([[[1, 2, 3], [1, 1, 1], [1, 2, 1]], [[1, 1, 3], [5, 1, 2], [1, 2, 2]]])\n",
    "\n",
    "# Shape: (2, 3, 3) # arr[0, 1, :]\n",
    "\n",
    "# Sum: Axis 0 (3, 3): [[1, 2, 3], [1, 1, 1], [1, 2, 1]] + [[1, 1, 3], [5, 1, 2], [1, 2, 2]] \n",
    "# = [[2, 3, 6], [6, 2, 3], [2, 4, 3]]  -> (3, 3) \n",
    "# Sum: Axis 1 (2, 3): [[1, 2, 3], [1, 1, 3]] + [[1, 1, 1], [5, 1, 2]] + [[1, 2, 1], [1, 2, 2]]\n",
    "# = [[3, 5, 5], [7, 4, 7]]\n",
    "# Sum: Axis 2 (2, 3): [[1, 1, 1], [1, 5, 1]] + [[2, 1, 2], [1, 1, 2]] + [[3, 1, 1], [3, 2, 2]]\n",
    "# = [[6, 3, 4], [5, 8, 5]]\n",
    "print(arr.shape)\n",
    "print(np.sum(arr, axis=None)) # This is by default, all the axes will be collapsed\n",
    "print(np.sum(arr, axis=0))\n",
    "print(np.sum(arr, axis=1))\n",
    "print(np.sum(arr, axis=2))"
   ]
  },
  {
   "cell_type": "markdown",
   "id": "392ccfde-a782-472b-9366-b161a4a225a6",
   "metadata": {},
   "source": [
    "## APIs to generate numpy arrays\n",
    "\n",
    "`numpy` provides several APIs to generate some special arrays. Some of these are:\n",
    "1. arange: Generates array of values ranging from start to end with a given step size (end not included)\n",
    "2. linspace, logspace: Generates array of values between start and end (included) with linear/log spacing for a given number of points.\n",
    "4. zeros, zeros_like: Generates array of size N, with all elements zeros.\n",
    "5. ones, ones_like: Generates array of size N, with all elements ones.\n",
    "6. random: Generate array of random numbers."
   ]
  },
  {
   "cell_type": "code",
   "execution_count": 27,
   "id": "c9552c02-8207-4e26-a0a6-be851ca8aa05",
   "metadata": {},
   "outputs": [
    {
     "name": "stdout",
     "output_type": "stream",
     "text": [
      "[ 0  1  2  3  4  5  6  7  8  9 10 11 12 13 14 15 16 17 18 19 20 21 22 23\n",
      " 24 25 26 27 28 29 30 31 32 33 34 35 36 37 38 39 40 41 42 43 44 45 46 47\n",
      " 48 49 50 51 52 53 54 55 56 57 58 59 60 61 62 63 64 65 66 67 68 69 70 71\n",
      " 72 73 74 75 76 77 78 79 80 81 82 83 84 85 86 87 88 89 90 91 92 93 94 95\n",
      " 96 97 98 99]\n"
     ]
    }
   ],
   "source": [
    "y = np.arange(0, 100, 1)\n",
    "print(y)"
   ]
  },
  {
   "cell_type": "code",
   "execution_count": 35,
   "id": "bc6d0030-5573-40ae-b660-f5cfa557f88a",
   "metadata": {},
   "outputs": [
    {
     "name": "stdout",
     "output_type": "stream",
     "text": [
      "[  0.   1.   2.   3.   4.   5.   6.   7.   8.   9.  10.  11.  12.  13.\n",
      "  14.  15.  16.  17.  18.  19.  20.  21.  22.  23.  24.  25.  26.  27.\n",
      "  28.  29.  30.  31.  32.  33.  34.  35.  36.  37.  38.  39.  40.  41.\n",
      "  42.  43.  44.  45.  46.  47.  48.  49.  50.  51.  52.  53.  54.  55.\n",
      "  56.  57.  58.  59.  60.  61.  62.  63.  64.  65.  66.  67.  68.  69.\n",
      "  70.  71.  72.  73.  74.  75.  76.  77.  78.  79.  80.  81.  82.  83.\n",
      "  84.  85.  86.  87.  88.  89.  90.  91.  92.  93.  94.  95.  96.  97.\n",
      "  98.  99. 100.]\n",
      "[1.e+00 1.e+01 1.e+02 1.e+03 1.e+04 1.e+05 1.e+06 1.e+07 1.e+08 1.e+09\n",
      " 1.e+10]\n"
     ]
    }
   ],
   "source": [
    "y = np.linspace(0, 100, 101)\n",
    "print(y)\n",
    "\n",
    "y = np.logspace(0, 10, 11)\n",
    "print(y)"
   ]
  },
  {
   "cell_type": "code",
   "execution_count": 43,
   "id": "5f2bdaa8-efef-48e8-a1f9-62b0d154d9e4",
   "metadata": {},
   "outputs": [
    {
     "name": "stdout",
     "output_type": "stream",
     "text": [
      "[0. 0. 0. 0. 0. 0. 0. 0. 0. 0.]\n",
      "[[0. 0.]\n",
      " [0. 0.]\n",
      " [0. 0.]\n",
      " [0. 0.]\n",
      " [0. 0.]\n",
      " [0. 0.]\n",
      " [0. 0.]\n",
      " [0. 0.]\n",
      " [0. 0.]\n",
      " [0. 0.]]\n",
      "[[0. 0.]\n",
      " [0. 0.]\n",
      " [0. 0.]\n",
      " [0. 0.]\n",
      " [0. 0.]\n",
      " [0. 0.]\n",
      " [0. 0.]\n",
      " [0. 0.]\n",
      " [0. 0.]\n",
      " [0. 0.]]\n"
     ]
    }
   ],
   "source": [
    "y = np.zeros(10)\n",
    "print(y)\n",
    "\n",
    "y = np.zeros((10, 2))\n",
    "print(y)\n",
    "\n",
    "y1 = np.zeros_like(y)\n",
    "print(y1)"
   ]
  },
  {
   "cell_type": "code",
   "execution_count": 42,
   "id": "90a52c47-5c3f-406d-8435-39df7f4afce2",
   "metadata": {},
   "outputs": [
    {
     "name": "stdout",
     "output_type": "stream",
     "text": [
      "[1. 1. 1. 1. 1. 1. 1. 1. 1. 1.]\n",
      "[[1. 1.]\n",
      " [1. 1.]\n",
      " [1. 1.]\n",
      " [1. 1.]\n",
      " [1. 1.]\n",
      " [1. 1.]\n",
      " [1. 1.]\n",
      " [1. 1.]\n",
      " [1. 1.]\n",
      " [1. 1.]]\n",
      "[[1. 1.]\n",
      " [1. 1.]\n",
      " [1. 1.]\n",
      " [1. 1.]\n",
      " [1. 1.]\n",
      " [1. 1.]\n",
      " [1. 1.]\n",
      " [1. 1.]\n",
      " [1. 1.]\n",
      " [1. 1.]]\n"
     ]
    }
   ],
   "source": [
    "y = np.ones(10)\n",
    "print(y)\n",
    "\n",
    "y = np.ones((10, 2))\n",
    "print(y)\n",
    "\n",
    "y1 = np.ones_like(y)\n",
    "print(y1)"
   ]
  },
  {
   "cell_type": "code",
   "execution_count": 47,
   "id": "11824a47-4046-4ce4-ad6f-24adaf965f1a",
   "metadata": {},
   "outputs": [
    {
     "data": {
      "text/plain": [
       "array([[0.84281802, 0.16563977, 0.31606272],\n",
       "       [0.74371553, 0.0759661 , 0.82426233],\n",
       "       [0.3986615 , 0.90084362, 0.89352666],\n",
       "       [0.44179205, 0.26577335, 0.3773855 ],\n",
       "       [0.12142507, 0.25007688, 0.32239269],\n",
       "       [0.1171167 , 0.73637184, 0.25766493],\n",
       "       [0.84185338, 0.80460354, 0.23434395],\n",
       "       [0.03124573, 0.80635074, 0.42089767],\n",
       "       [0.3876257 , 0.02402851, 0.79147764],\n",
       "       [0.9749466 , 0.63237049, 0.11903628]])"
      ]
     },
     "execution_count": 47,
     "metadata": {},
     "output_type": "execute_result"
    }
   ],
   "source": [
    "y = np.random.random((10, 3))\n",
    "y"
   ]
  }
 ],
 "metadata": {
  "kernelspec": {
   "display_name": "Python 3 (ipykernel)",
   "language": "python",
   "name": "python3"
  },
  "language_info": {
   "codemirror_mode": {
    "name": "ipython",
    "version": 3
   },
   "file_extension": ".py",
   "mimetype": "text/x-python",
   "name": "python",
   "nbconvert_exporter": "python",
   "pygments_lexer": "ipython3",
   "version": "3.10.18"
  }
 },
 "nbformat": 4,
 "nbformat_minor": 5
}
