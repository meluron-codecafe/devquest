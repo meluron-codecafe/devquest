{
 "cells": [
  {
   "cell_type": "code",
   "execution_count": 1,
   "id": "8c6c44df-991c-4d14-be14-81bc5dda22c3",
   "metadata": {
    "papermill": {
     "duration": 0.021307,
     "end_time": "2025-06-21T22:12:06.749096",
     "exception": false,
     "start_time": "2025-06-21T22:12:06.727789",
     "status": "completed"
    },
    "tags": []
   },
   "outputs": [],
   "source": [
    "#hide"
   ]
  },
  {
   "cell_type": "code",
   "execution_count": 2,
   "id": "3a00128c-a0dd-471c-ad63-c27d1ba5204b",
   "metadata": {
    "jupyter": {
     "source_hidden": true
    },
    "papermill": {
     "duration": 0.015903,
     "end_time": "2025-06-21T22:12:06.771254",
     "exception": false,
     "start_time": "2025-06-21T22:12:06.755351",
     "status": "completed"
    },
    "tags": []
   },
   "outputs": [
    {
     "data": {
      "text/html": [
       "\n",
       "    <div style=\"\n",
       "        position: relative;\n",
       "        display: flex; \n",
       "        align-items: center; \n",
       "        justify-content: flex-start;\n",
       "        min-height: 80px;\n",
       "        width: 800px;\n",
       "        background: linear-gradient(135deg, #f5f7fa 0%, #c3cfe2 100%);\n",
       "        padding: 20px;\n",
       "        border-radius: 12px;\n",
       "        box-shadow: 0 4px 15px rgba(0, 0, 0, 0.1);\n",
       "        border: 1px solid #e1e8ed;\n",
       "        margin: 10px 0;\n",
       "        font-family: 'Segoe UI', Tahoma, Geneva, Verdana, sans-serif;\n",
       "    \">\n",
       "\n",
       "        <!-- GitHub Icon + Name in top-right -->\n",
       "        <a href=\"https://github.com/meluron-codecafe\" target=\"_blank\" style=\"\n",
       "            position: absolute;\n",
       "            top: 16px;\n",
       "            right: 20px;\n",
       "            display: flex;\n",
       "            align-items: center;\n",
       "            text-decoration: none;\n",
       "            color: #333;\n",
       "            font-size: 14px;\n",
       "            font-weight: 500;\n",
       "            gap: 6px;\n",
       "        \">\n",
       "            <img src=\"https://cdn-icons-png.flaticon.com/512/25/25231.png\" \n",
       "                 alt=\"GitHub\" \n",
       "                 style=\"width: 18px; height: 18px; display: inline-block; vertical-align: middle;\">\n",
       "            <span style=\"transform: translateY(-1px); line-height: 1;\">\n",
       "                /meluron-codecafe\n",
       "            </span>\n",
       "        </a>\n",
       "\n",
       "        <!-- Logo + Label stacked vertically -->\n",
       "        <div style=\"\n",
       "            display: flex; \n",
       "            flex-direction: column; \n",
       "            align-items: center; \n",
       "            justify-content: center;\n",
       "            margin-right: 35px;\n",
       "        \">\n",
       "            <a href=\"https://meluron-codecafe.github.io/DevQuest/\">\n",
       "                <img src=\"https://raw.githubusercontent.com/meluron/assets/refs/heads/main/logos/meluron-codecafe/DevQuest/orig.png\" \n",
       "                     alt=\"My Logo\" \n",
       "                     style=\"\n",
       "                        width: 70px; \n",
       "                        height: 70px;\n",
       "                        border-radius: 8px;\n",
       "                        box-shadow: 0 3px 10px rgba(253, 138, 9, 0.3);\n",
       "                     \">\n",
       "            </a>\n",
       "            <div style=\"\n",
       "                font-size: 13px; \n",
       "                color: #fd8a09; \n",
       "                font-weight: bold;\n",
       "                margin-top: 6px;\n",
       "                text-align: center;\n",
       "            \">\n",
       "            </div>\n",
       "        </div>\n",
       "\n",
       "        <!-- Question Badge -->\n",
       "        <div style=\"\n",
       "            font-size: 14px; \n",
       "            background: linear-gradient(135deg, #667eea, #764ba2);\n",
       "            color: white; \n",
       "            padding: 8px 14px; \n",
       "            border-radius: 20px; \n",
       "            display: inline-flex;\n",
       "            align-items: center;\n",
       "            gap: 6px;\n",
       "            font-weight: 600;\n",
       "            box-shadow: 0 3px 12px rgba(102, 126, 234, 0.3);\n",
       "        \">\n",
       "            <span style=\"font-size: 16px;\">❔</span>\n",
       "            Getting To Know 'str' Better\n",
       "            \n",
       "        </div>\n",
       "    </div>\n",
       "    "
      ],
      "text/plain": [
       "<IPython.core.display.HTML object>"
      ]
     },
     "metadata": {},
     "output_type": "display_data"
    }
   ],
   "source": [
    "#hide\n",
    "import utils\n",
    "utils.hero(\"Getting To Know 'str' Better\")"
   ]
  },
  {
   "cell_type": "code",
   "execution_count": 3,
   "id": "9115a3eb-f031-4151-ad90-5492b784b9d1",
   "metadata": {
    "jupyter": {
     "source_hidden": true
    },
    "papermill": {
     "duration": 0.010222,
     "end_time": "2025-06-21T22:12:06.786284",
     "exception": false,
     "start_time": "2025-06-21T22:12:06.776062",
     "status": "completed"
    },
    "tags": []
   },
   "outputs": [
    {
     "data": {
      "text/html": [
       "\n",
       "        <div style=\"\n",
       "            margin: 25px 0 15px 0;\n",
       "            padding: 0;\n",
       "        \">\n",
       "            <h2 style=\"\n",
       "                font-size: 24px;\n",
       "                font-weight: 600;\n",
       "                color: #2c3e50;\n",
       "                margin: 0;\n",
       "                padding: 12px 0 8px 0;\n",
       "                display: inline-block;\n",
       "                font-family: 'Segoe UI', Tahoma, Geneva, Verdana, sans-serif;\n",
       "                background: linear-gradient(135deg, #667eea, #764ba2);\n",
       "                -webkit-background-clip: text;\n",
       "                -webkit-text-fill-color: transparent;\n",
       "                background-clip: text;\n",
       "            \">▶ Text Representation</h2>\n",
       "        </div>\n",
       "    "
      ],
      "text/plain": [
       "<IPython.core.display.HTML object>"
      ]
     },
     "metadata": {},
     "output_type": "display_data"
    }
   ],
   "source": [
    "#hide\n",
    "utils.h1(\"Text Representation\")"
   ]
  },
  {
   "cell_type": "markdown",
   "id": "dd20a865-1081-4957-985c-08e1d01f86d8",
   "metadata": {
    "papermill": {
     "duration": 0.004592,
     "end_time": "2025-06-21T22:12:06.795519",
     "exception": false,
     "start_time": "2025-06-21T22:12:06.790927",
     "status": "completed"
    },
    "tags": []
   },
   "source": [
    "Text representation is used to describe human readable information. To store them, we have a built-in datatype in python called 'string'"
   ]
  },
  {
   "cell_type": "code",
   "execution_count": 4,
   "id": "3a7d82d8-a71e-4fd5-8889-3cc6ea929158",
   "metadata": {
    "jupyter": {
     "source_hidden": true
    },
    "papermill": {
     "duration": 0.010949,
     "end_time": "2025-06-21T22:12:06.810804",
     "exception": false,
     "start_time": "2025-06-21T22:12:06.799855",
     "status": "completed"
    },
    "tags": []
   },
   "outputs": [
    {
     "data": {
      "text/html": [
       "\n",
       "        <div style=\"\n",
       "            margin: 25px 0 15px 0;\n",
       "            padding: 0;\n",
       "        \">\n",
       "            <h2 style=\"\n",
       "                font-size: 24px;\n",
       "                font-weight: 600;\n",
       "                color: #2c3e50;\n",
       "                margin: 0;\n",
       "                padding: 12px 0 8px 0;\n",
       "                display: inline-block;\n",
       "                font-family: 'Segoe UI', Tahoma, Geneva, Verdana, sans-serif;\n",
       "                background: linear-gradient(135deg, #667eea, #764ba2);\n",
       "                -webkit-background-clip: text;\n",
       "                -webkit-text-fill-color: transparent;\n",
       "                background-clip: text;\n",
       "            \">▶ Important information about data type</h2>\n",
       "        </div>\n",
       "    "
      ],
      "text/plain": [
       "<IPython.core.display.HTML object>"
      ]
     },
     "metadata": {},
     "output_type": "display_data"
    }
   ],
   "source": [
    "#hide\n",
    "utils.h1(\"Important information about data type\")"
   ]
  },
  {
   "cell_type": "markdown",
   "id": "ee9750b2-8685-4e3e-848c-4abaacd01ff2",
   "metadata": {
    "papermill": {
     "duration": 0.004695,
     "end_time": "2025-06-21T22:12:06.820187",
     "exception": false,
     "start_time": "2025-06-21T22:12:06.815492",
     "status": "completed"
    },
    "tags": []
   },
   "source": [
    "As mentioned previously,\n",
    "For any datatype, one must know these information about them:\n",
    "1. How to create an object/instance of a data type class?\n",
    "2. How much memory does it consume?\n",
    "3. How to find out the memory location where it is stored?\n",
    "4. Can you make changes in the data once created? (Mutable and Immutable datatypes)\n",
    "5. What are the common methods that can be applied to the value?\n",
    "6. How is it represented internally? (small integer caching, string interning)\n",
    "7. Is it iterable or indexable?\n",
    "\n",
    "We will answer these questions for **string** datatype."
   ]
  },
  {
   "cell_type": "code",
   "execution_count": 5,
   "id": "72285de0-1b00-40cd-9704-600f731c1960",
   "metadata": {
    "jupyter": {
     "source_hidden": true
    },
    "papermill": {
     "duration": 0.011153,
     "end_time": "2025-06-21T22:12:06.835693",
     "exception": false,
     "start_time": "2025-06-21T22:12:06.824540",
     "status": "completed"
    },
    "tags": []
   },
   "outputs": [
    {
     "data": {
      "text/html": [
       "\n",
       "        <div style=\"\n",
       "            margin: 25px 0 15px 0;\n",
       "            padding: 0;\n",
       "        \">\n",
       "            <h2 style=\"\n",
       "                font-size: 24px;\n",
       "                font-weight: 600;\n",
       "                color: #2c3e50;\n",
       "                margin: 0;\n",
       "                padding: 12px 0 8px 0;\n",
       "                display: inline-block;\n",
       "                font-family: 'Segoe UI', Tahoma, Geneva, Verdana, sans-serif;\n",
       "                background: linear-gradient(135deg, #667eea, #764ba2);\n",
       "                -webkit-background-clip: text;\n",
       "                -webkit-text-fill-color: transparent;\n",
       "                background-clip: text;\n",
       "            \">▶ String</h2>\n",
       "        </div>\n",
       "    "
      ],
      "text/plain": [
       "<IPython.core.display.HTML object>"
      ]
     },
     "metadata": {},
     "output_type": "display_data"
    }
   ],
   "source": [
    "#hide\n",
    "utils.h1(\"String\")"
   ]
  },
  {
   "cell_type": "code",
   "execution_count": 6,
   "id": "4b9bddcd-ecaf-4279-a794-8ec11746e4c6",
   "metadata": {
    "jupyter": {
     "source_hidden": true
    },
    "papermill": {
     "duration": 0.010697,
     "end_time": "2025-06-21T22:12:06.851112",
     "exception": false,
     "start_time": "2025-06-21T22:12:06.840415",
     "status": "completed"
    },
    "tags": []
   },
   "outputs": [
    {
     "data": {
      "text/html": [
       "\n",
       "        <div style=\"\n",
       "            margin: 25px 0 15px 0;\n",
       "            padding: 0;\n",
       "        \">\n",
       "            <h3 style=\"\n",
       "                font-size: 18px;\n",
       "                font-weight: 600;\n",
       "                color: #2c3e50;\n",
       "                margin: 0;\n",
       "                padding: 12px 0 8px 0;\n",
       "                display: inline-block;\n",
       "                border-bottom: 3px solid #667eea;\n",
       "                font-family: 'Segoe UI', Tahoma, Geneva, Verdana, sans-serif;\n",
       "                background: linear-gradient(135deg, #667eea, #764ba2);\n",
       "                -webkit-background-clip: text;\n",
       "                -webkit-text-fill-color: transparent;\n",
       "                background-clip: text;\n",
       "            \">Declaration</h3>\n",
       "        </div>\n",
       "    "
      ],
      "text/plain": [
       "<IPython.core.display.HTML object>"
      ]
     },
     "metadata": {},
     "output_type": "display_data"
    }
   ],
   "source": [
    "#hide\n",
    "utils.h2(\"Declaration\")"
   ]
  },
  {
   "cell_type": "code",
   "execution_count": 7,
   "id": "ac0c9960-7db4-494f-aab2-87bdfbf2b2e1",
   "metadata": {
    "papermill": {
     "duration": 0.010703,
     "end_time": "2025-06-21T22:12:06.867297",
     "exception": false,
     "start_time": "2025-06-21T22:12:06.856594",
     "status": "completed"
    },
    "tags": []
   },
   "outputs": [
    {
     "name": "stdout",
     "output_type": "stream",
     "text": [
      "Hello <class 'str'>\n",
      "Hi <class 'str'>\n",
      "----------------------------------------------------------------------------------------------------\n"
     ]
    }
   ],
   "source": [
    "# Declaration\n",
    "a = \"Hello\" # Literal declaration, no additional overhead\n",
    "print(f\"{a} {type(a)}\")\n",
    "# OR \n",
    "b = str(\"Hi\") # Calling the constructor, additional overhead\n",
    "print(f\"{b} {type(b)}\")\n",
    "print(\"-\"*100)"
   ]
  },
  {
   "cell_type": "code",
   "execution_count": 8,
   "id": "a56477a3-0466-4230-afc5-7906f37c0cc4",
   "metadata": {
    "jupyter": {
     "source_hidden": true
    },
    "papermill": {
     "duration": 0.011198,
     "end_time": "2025-06-21T22:12:06.883699",
     "exception": false,
     "start_time": "2025-06-21T22:12:06.872501",
     "status": "completed"
    },
    "tags": []
   },
   "outputs": [
    {
     "data": {
      "text/html": [
       "\n",
       "    <div style=\"\n",
       "        margin: 15px 0; \n",
       "        padding: 16px 20px; \n",
       "        border-radius: 8px; \n",
       "        border-left: 4px solid #2196f3; \n",
       "        display: flex; \n",
       "        align-items: flex-start; \n",
       "        gap: 12px; \n",
       "        box-shadow: 0 2px 8px rgba(0, 0, 0, 0.1); \n",
       "        background-color: #e3f2fd; \n",
       "        color: #0d47a1;\n",
       "        font-family: -apple-system, BlinkMacSystemFont, 'Segoe UI', Roboto, sans-serif;\n",
       "    \">\n",
       "        <div style=\"\n",
       "            font-size: 20px; \n",
       "            margin-top: 2px; \n",
       "            flex-shrink: 0;\n",
       "        \">📝</div>\n",
       "        <div style=\"flex: 1;\">\n",
       "            <div style=\"\n",
       "                font-weight: bold; \n",
       "                margin-bottom: 6px; \n",
       "                font-size: 14px; \n",
       "                text-transform: uppercase; \n",
       "                letter-spacing: 0.5px;\n",
       "            \">Note</div>\n",
       "            <div style=\"\n",
       "                margin: 0; \n",
       "                font-size: 14px; \n",
       "                line-height: 1.5;\n",
       "            \">The variable 'a' and 'b' only stores the memory location of the objects and the values itself</div>\n",
       "        </div>\n",
       "    </div>\n",
       "    "
      ],
      "text/plain": [
       "<IPython.core.display.HTML object>"
      ]
     },
     "execution_count": 8,
     "metadata": {},
     "output_type": "execute_result"
    }
   ],
   "source": [
    "#hide\n",
    "utils.note(\"The variable 'a' and 'b' only stores the memory location of the objects and the values itself\")"
   ]
  },
  {
   "cell_type": "code",
   "execution_count": 9,
   "id": "248bc491-a8c1-45b0-8b83-631d42399dc1",
   "metadata": {
    "jupyter": {
     "source_hidden": true
    },
    "papermill": {
     "duration": 0.01108,
     "end_time": "2025-06-21T22:12:06.900859",
     "exception": false,
     "start_time": "2025-06-21T22:12:06.889779",
     "status": "completed"
    },
    "tags": []
   },
   "outputs": [
    {
     "data": {
      "text/html": [
       "\n",
       "    <div style=\"\n",
       "        margin: 15px 0; \n",
       "        padding: 16px 20px; \n",
       "        border-radius: 8px; \n",
       "        border-left: 4px solid #2196f3; \n",
       "        display: flex; \n",
       "        align-items: flex-start; \n",
       "        gap: 12px; \n",
       "        box-shadow: 0 2px 8px rgba(0, 0, 0, 0.1); \n",
       "        background-color: #e3f2fd; \n",
       "        color: #0d47a1;\n",
       "        font-family: -apple-system, BlinkMacSystemFont, 'Segoe UI', Roboto, sans-serif;\n",
       "    \">\n",
       "        <div style=\"\n",
       "            font-size: 20px; \n",
       "            margin-top: 2px; \n",
       "            flex-shrink: 0;\n",
       "        \">📝</div>\n",
       "        <div style=\"flex: 1;\">\n",
       "            <div style=\"\n",
       "                font-weight: bold; \n",
       "                margin-bottom: 6px; \n",
       "                font-size: 14px; \n",
       "                text-transform: uppercase; \n",
       "                letter-spacing: 0.5px;\n",
       "            \">Note</div>\n",
       "            <div style=\"\n",
       "                margin: 0; \n",
       "                font-size: 14px; \n",
       "                line-height: 1.5;\n",
       "            \">Use literal declaration unless intended for type conversion</div>\n",
       "        </div>\n",
       "    </div>\n",
       "    "
      ],
      "text/plain": [
       "<IPython.core.display.HTML object>"
      ]
     },
     "execution_count": 9,
     "metadata": {},
     "output_type": "execute_result"
    }
   ],
   "source": [
    "#hide\n",
    "utils.note(\"Use literal declaration unless intended for type conversion\")"
   ]
  },
  {
   "cell_type": "code",
   "execution_count": 10,
   "id": "e3f14390-5d8c-4279-ba25-6180cecfad38",
   "metadata": {
    "jupyter": {
     "source_hidden": true
    },
    "papermill": {
     "duration": 0.010846,
     "end_time": "2025-06-21T22:12:06.917163",
     "exception": false,
     "start_time": "2025-06-21T22:12:06.906317",
     "status": "completed"
    },
    "tags": []
   },
   "outputs": [
    {
     "data": {
      "text/html": [
       "\n",
       "        <div style=\"\n",
       "            margin: 25px 0 15px 0;\n",
       "            padding: 0;\n",
       "        \">\n",
       "            <h3 style=\"\n",
       "                font-size: 18px;\n",
       "                font-weight: 600;\n",
       "                color: #2c3e50;\n",
       "                margin: 0;\n",
       "                padding: 12px 0 8px 0;\n",
       "                display: inline-block;\n",
       "                border-bottom: 3px solid #667eea;\n",
       "                font-family: 'Segoe UI', Tahoma, Geneva, Verdana, sans-serif;\n",
       "                background: linear-gradient(135deg, #667eea, #764ba2);\n",
       "                -webkit-background-clip: text;\n",
       "                -webkit-text-fill-color: transparent;\n",
       "                background-clip: text;\n",
       "            \">Finding Memory Consumption</h3>\n",
       "        </div>\n",
       "    "
      ],
      "text/plain": [
       "<IPython.core.display.HTML object>"
      ]
     },
     "metadata": {},
     "output_type": "display_data"
    }
   ],
   "source": [
    "#hide\n",
    "utils.h2(\"Finding Memory Consumption\")"
   ]
  },
  {
   "cell_type": "code",
   "execution_count": 11,
   "id": "e4b34817-e8e2-4f20-b32b-63c6e756b3b7",
   "metadata": {
    "papermill": {
     "duration": 0.011552,
     "end_time": "2025-06-21T22:12:06.934127",
     "exception": false,
     "start_time": "2025-06-21T22:12:06.922575",
     "status": "completed"
    },
    "tags": []
   },
   "outputs": [
    {
     "name": "stdout",
     "output_type": "stream",
     "text": [
      "Memory used by the object a=Hello is 46 bytes\n",
      "Memory used by the object b=Hi is 43 bytes\n",
      "Memory used by the object a=Hello is 46 bytes\n",
      "Memory used by the object b=Hi is 43 bytes\n",
      "----------------------------------------------------------------------------------------------------\n"
     ]
    }
   ],
   "source": [
    "# To find the memory consumption, we can use \"sys\" module\n",
    "import sys\n",
    "print(f\"Memory used by the object a={a} is {sys.getsizeof(a)} bytes\")\n",
    "print(f\"Memory used by the object b={b} is {sys.getsizeof(b)} bytes\")\n",
    "# For some built-in datatypes we also have a method '__sizeof__' that gives us the size excluding (garbage collector overhead)\n",
    "print(f\"Memory used by the object a={a} is {a.__sizeof__()} bytes\")\n",
    "print(f\"Memory used by the object b={b} is {b.__sizeof__()} bytes\")\n",
    "print(\"-\"*100)"
   ]
  },
  {
   "cell_type": "code",
   "execution_count": 12,
   "id": "9febd51e-c9fc-4f95-9bc3-1a00a3308a8b",
   "metadata": {
    "papermill": {
     "duration": 0.010788,
     "end_time": "2025-06-21T22:12:06.950378",
     "exception": false,
     "start_time": "2025-06-21T22:12:06.939590",
     "status": "completed"
    },
    "tags": []
   },
   "outputs": [
    {
     "name": "stdout",
     "output_type": "stream",
     "text": [
      "-->41 bytes\n",
      "h-->42 bytes\n",
      "he-->43 bytes\n",
      "hel-->44 bytes\n",
      "hell-->45 bytes\n",
      "hello-->46 bytes\n",
      "hello -->47 bytes\n",
      "hello !-->48 bytes\n"
     ]
    }
   ],
   "source": [
    "# Let's try to see how much memory every character adds to the string object\n",
    "a = \"hello !\"\n",
    "for i in range(len(a)+1):\n",
    "    print(f\"{a[0:i]}-->{sys.getsizeof(a[0:i])} bytes\")"
   ]
  },
  {
   "cell_type": "code",
   "execution_count": 13,
   "id": "2169dd69-4d91-4f5f-96ad-77b0bbaafcef",
   "metadata": {
    "jupyter": {
     "source_hidden": true
    },
    "papermill": {
     "duration": 0.011268,
     "end_time": "2025-06-21T22:12:06.967296",
     "exception": false,
     "start_time": "2025-06-21T22:12:06.956028",
     "status": "completed"
    },
    "tags": []
   },
   "outputs": [
    {
     "data": {
      "text/html": [
       "\n",
       "    <div style=\"\n",
       "        margin: 15px 0; \n",
       "        padding: 16px 20px; \n",
       "        border-radius: 8px; \n",
       "        border-left: 4px solid #2196f3; \n",
       "        display: flex; \n",
       "        align-items: flex-start; \n",
       "        gap: 12px; \n",
       "        box-shadow: 0 2px 8px rgba(0, 0, 0, 0.1); \n",
       "        background-color: #e3f2fd; \n",
       "        color: #0d47a1;\n",
       "        font-family: -apple-system, BlinkMacSystemFont, 'Segoe UI', Roboto, sans-serif;\n",
       "    \">\n",
       "        <div style=\"\n",
       "            font-size: 20px; \n",
       "            margin-top: 2px; \n",
       "            flex-shrink: 0;\n",
       "        \">📝</div>\n",
       "        <div style=\"flex: 1;\">\n",
       "            <div style=\"\n",
       "                font-weight: bold; \n",
       "                margin-bottom: 6px; \n",
       "                font-size: 14px; \n",
       "                text-transform: uppercase; \n",
       "                letter-spacing: 0.5px;\n",
       "            \">Note</div>\n",
       "            <div style=\"\n",
       "                margin: 0; \n",
       "                font-size: 14px; \n",
       "                line-height: 1.5;\n",
       "            \">Each additional character adds 1 byte, and the base string object starts with 41 bytes of additional overhead</div>\n",
       "        </div>\n",
       "    </div>\n",
       "    "
      ],
      "text/plain": [
       "<IPython.core.display.HTML object>"
      ]
     },
     "execution_count": 13,
     "metadata": {},
     "output_type": "execute_result"
    }
   ],
   "source": [
    "#hide\n",
    "utils.note(\"Each additional character adds 1 byte, and the base string object starts with 41 bytes of additional overhead\")"
   ]
  },
  {
   "cell_type": "code",
   "execution_count": 14,
   "id": "60d7c31e-1d49-4245-95ba-2f847f256389",
   "metadata": {
    "jupyter": {
     "source_hidden": true
    },
    "papermill": {
     "duration": 0.011611,
     "end_time": "2025-06-21T22:12:06.984809",
     "exception": false,
     "start_time": "2025-06-21T22:12:06.973198",
     "status": "completed"
    },
    "tags": []
   },
   "outputs": [
    {
     "data": {
      "text/html": [
       "\n",
       "        <div style=\"\n",
       "            margin: 25px 0 15px 0;\n",
       "            padding: 0;\n",
       "        \">\n",
       "            <h3 style=\"\n",
       "                font-size: 18px;\n",
       "                font-weight: 600;\n",
       "                color: #2c3e50;\n",
       "                margin: 0;\n",
       "                padding: 12px 0 8px 0;\n",
       "                display: inline-block;\n",
       "                border-bottom: 3px solid #667eea;\n",
       "                font-family: 'Segoe UI', Tahoma, Geneva, Verdana, sans-serif;\n",
       "                background: linear-gradient(135deg, #667eea, #764ba2);\n",
       "                -webkit-background-clip: text;\n",
       "                -webkit-text-fill-color: transparent;\n",
       "                background-clip: text;\n",
       "            \">Finding Memory Location</h3>\n",
       "        </div>\n",
       "    "
      ],
      "text/plain": [
       "<IPython.core.display.HTML object>"
      ]
     },
     "metadata": {},
     "output_type": "display_data"
    }
   ],
   "source": [
    "#hide\n",
    "utils.h2(\"Finding Memory Location\")"
   ]
  },
  {
   "cell_type": "code",
   "execution_count": 15,
   "id": "91e8969f-41a4-45ec-bc23-2b2c10f9c483",
   "metadata": {
    "papermill": {
     "duration": 0.01525,
     "end_time": "2025-06-21T22:12:07.006072",
     "exception": false,
     "start_time": "2025-06-21T22:12:06.990822",
     "status": "completed"
    },
    "tags": []
   },
   "outputs": [
    {
     "name": "stdout",
     "output_type": "stream",
     "text": [
      "'a' points to 4549567920 | 0x10f2ce5b0\n",
      "----------------------------------------------------------------------------------------------------\n"
     ]
    }
   ],
   "source": [
    "# To find the memory location of an object, we have a built-in function in python called 'id'\n",
    "a = \"Hello\"\n",
    "print(f\"'a' points to {id(a)} | {hex(id(a))}\")\n",
    "print(\"-\"*100)"
   ]
  },
  {
   "cell_type": "code",
   "execution_count": 16,
   "id": "48319c67-b122-4335-89fe-fab8803ec132",
   "metadata": {
    "jupyter": {
     "source_hidden": true
    },
    "papermill": {
     "duration": 0.012712,
     "end_time": "2025-06-21T22:12:07.026223",
     "exception": false,
     "start_time": "2025-06-21T22:12:07.013511",
     "status": "completed"
    },
    "tags": []
   },
   "outputs": [
    {
     "data": {
      "text/html": [
       "\n",
       "    <div style=\"\n",
       "        margin: 15px 0; \n",
       "        padding: 16px 20px; \n",
       "        border-radius: 8px; \n",
       "        border-left: 4px solid #3f51b5; \n",
       "        display: flex; \n",
       "        align-items: flex-start; \n",
       "        gap: 12px; \n",
       "        box-shadow: 0 2px 8px rgba(0, 0, 0, 0.1); \n",
       "        background-color: #e8eaf6; \n",
       "        color: #1a237e;\n",
       "        font-family: -apple-system, BlinkMacSystemFont, 'Segoe UI', Roboto, sans-serif;\n",
       "    \">\n",
       "        <div style=\"\n",
       "            font-size: 20px; \n",
       "            margin-top: 2px; \n",
       "            flex-shrink: 0;\n",
       "        \">🏋️</div>\n",
       "        <div style=\"flex: 1;\">\n",
       "            <div style=\"\n",
       "                font-weight: bold; \n",
       "                margin-bottom: 6px; \n",
       "                font-size: 14px; \n",
       "                text-transform: uppercase; \n",
       "                letter-spacing: 0.5px;\n",
       "            \">Exercise</div>\n",
       "            <div style=\"\n",
       "                margin: 0; \n",
       "                font-size: 14px; \n",
       "                line-height: 1.5;\n",
       "            \">Given the memory location 0x10f2ce5b0, how can you find the value stored in that location?</div>\n",
       "        </div>\n",
       "    </div>\n",
       "    "
      ],
      "text/plain": [
       "<IPython.core.display.HTML object>"
      ]
     },
     "execution_count": 16,
     "metadata": {},
     "output_type": "execute_result"
    }
   ],
   "source": [
    "#hide\n",
    "utils.exercise(f\"Given the memory location {hex(id(a))}, how can you find the value stored in that location?\")"
   ]
  },
  {
   "cell_type": "code",
   "execution_count": 17,
   "id": "4bc51f58-dd60-4837-ad5d-b5a171fb65e5",
   "metadata": {
    "papermill": {
     "duration": 0.011125,
     "end_time": "2025-06-21T22:12:07.043722",
     "exception": false,
     "start_time": "2025-06-21T22:12:07.032597",
     "status": "completed"
    },
    "tags": []
   },
   "outputs": [],
   "source": [
    "# Your solution (hint: Use ctypes module)"
   ]
  },
  {
   "cell_type": "code",
   "execution_count": 18,
   "id": "6a8e3534-ea06-43c0-a8f2-157dce4340d7",
   "metadata": {
    "jupyter": {
     "source_hidden": true
    },
    "papermill": {
     "duration": 0.011457,
     "end_time": "2025-06-21T22:12:07.061364",
     "exception": false,
     "start_time": "2025-06-21T22:12:07.049907",
     "status": "completed"
    },
    "tags": []
   },
   "outputs": [
    {
     "name": "stdout",
     "output_type": "stream",
     "text": [
      "Hello <class 'str'>\n",
      "----------------------------------------------------------------------------------------------------\n"
     ]
    }
   ],
   "source": [
    "# Solution\n",
    "\n",
    "import ctypes\n",
    "value = ctypes.cast(obj=id(a), typ=ctypes.py_object).value # This is only for demonstration, use it extreme caution to avoid crash\n",
    "print(value, type(value))\n",
    "print(\"-\"*100)"
   ]
  },
  {
   "cell_type": "code",
   "execution_count": 19,
   "id": "9e306aa0-a16a-45d2-8aad-a0d4f52160b8",
   "metadata": {
    "jupyter": {
     "source_hidden": true
    },
    "papermill": {
     "duration": 0.011525,
     "end_time": "2025-06-21T22:12:07.079110",
     "exception": false,
     "start_time": "2025-06-21T22:12:07.067585",
     "status": "completed"
    },
    "tags": []
   },
   "outputs": [
    {
     "data": {
      "text/html": [
       "\n",
       "        <div style=\"\n",
       "            margin: 25px 0 15px 0;\n",
       "            padding: 0;\n",
       "        \">\n",
       "            <h3 style=\"\n",
       "                font-size: 18px;\n",
       "                font-weight: 600;\n",
       "                color: #2c3e50;\n",
       "                margin: 0;\n",
       "                padding: 12px 0 8px 0;\n",
       "                display: inline-block;\n",
       "                border-bottom: 3px solid #667eea;\n",
       "                font-family: 'Segoe UI', Tahoma, Geneva, Verdana, sans-serif;\n",
       "                background: linear-gradient(135deg, #667eea, #764ba2);\n",
       "                -webkit-background-clip: text;\n",
       "                -webkit-text-fill-color: transparent;\n",
       "                background-clip: text;\n",
       "            \">Mutable/Immutable?</h3>\n",
       "        </div>\n",
       "    "
      ],
      "text/plain": [
       "<IPython.core.display.HTML object>"
      ]
     },
     "metadata": {},
     "output_type": "display_data"
    }
   ],
   "source": [
    "#hide\n",
    "utils.h2(\"Mutable/Immutable?\")"
   ]
  },
  {
   "cell_type": "markdown",
   "id": "308aa222-b5bb-48a0-9b75-3b2a00ff40d0",
   "metadata": {
    "papermill": {
     "duration": 0.006198,
     "end_time": "2025-06-21T22:12:07.092128",
     "exception": false,
     "start_time": "2025-06-21T22:12:07.085930",
     "status": "completed"
    },
    "tags": []
   },
   "source": [
    "Everything we declare in Python is an object. By object, I mean an instance of a defined 'class'. \\\n",
    "When you create an object and assign it to a variable, the variable stores the memory location of the object or we say the variable points to the object. If the object at that memory location can be modified during runtime then the object and the associated data type is said to be **mutable** otherwise **immutable**."
   ]
  },
  {
   "cell_type": "code",
   "execution_count": 20,
   "id": "30e9e2e1-888b-4199-8e8b-af1d26f9ec51",
   "metadata": {
    "papermill": {
     "duration": 0.011833,
     "end_time": "2025-06-21T22:12:07.110096",
     "exception": false,
     "start_time": "2025-06-21T22:12:07.098263",
     "status": "completed"
    },
    "tags": []
   },
   "outputs": [
    {
     "name": "stdout",
     "output_type": "stream",
     "text": [
      "Variable 'a' points to 4549567920 where the stored value is Hello\n",
      "Variable 'a' points to 4549568400 where the stored value is Hi\n",
      "----------------------------------------------------------------------------------------------------\n"
     ]
    }
   ],
   "source": [
    "a = \"Hello\"\n",
    "print(f\"Variable 'a' points to {id(a)} where the stored value is {a}\")\n",
    "a = \"Hi\"\n",
    "print(f\"Variable 'a' points to {id(a)} where the stored value is {a}\")\n",
    "print(\"-\"*100)"
   ]
  },
  {
   "cell_type": "code",
   "execution_count": 21,
   "id": "95dfebbb-3f78-4d1d-bda0-d27bae5827fe",
   "metadata": {
    "jupyter": {
     "source_hidden": true
    },
    "papermill": {
     "duration": 0.012234,
     "end_time": "2025-06-21T22:12:07.128861",
     "exception": false,
     "start_time": "2025-06-21T22:12:07.116627",
     "status": "completed"
    },
    "tags": []
   },
   "outputs": [
    {
     "data": {
      "text/html": [
       "\n",
       "    <div style=\"\n",
       "        margin: 15px 0; \n",
       "        padding: 16px 20px; \n",
       "        border-radius: 8px; \n",
       "        border-left: 4px solid #9c27b0; \n",
       "        display: flex; \n",
       "        align-items: flex-start; \n",
       "        gap: 12px; \n",
       "        box-shadow: 0 2px 8px rgba(0, 0, 0, 0.1); \n",
       "        background-color: #f3e5f5; \n",
       "        color: #6a1b9a;\n",
       "        font-family: -apple-system, BlinkMacSystemFont, 'Segoe UI', Roboto, sans-serif;\n",
       "    \">\n",
       "        <div style=\"\n",
       "            font-size: 20px; \n",
       "            margin-top: 2px; \n",
       "            flex-shrink: 0;\n",
       "        \">❓</div>\n",
       "        <div style=\"flex: 1;\">\n",
       "            <div style=\"\n",
       "                font-weight: bold; \n",
       "                margin-bottom: 6px; \n",
       "                font-size: 14px; \n",
       "                text-transform: uppercase; \n",
       "                letter-spacing: 0.5px;\n",
       "            \">Question</div>\n",
       "            <div style=\"\n",
       "                margin: 0; \n",
       "                font-size: 14px; \n",
       "                line-height: 1.5;\n",
       "            \">What happened when we changed the value of a to 'Hi'? Is 'str' mutable?</div>\n",
       "        </div>\n",
       "    </div>\n",
       "    "
      ],
      "text/plain": [
       "<IPython.core.display.HTML object>"
      ]
     },
     "execution_count": 21,
     "metadata": {},
     "output_type": "execute_result"
    }
   ],
   "source": [
    "#hide\n",
    "utils.question(\"What happened when we changed the value of a to 'Hi'? Is 'str' mutable?\")"
   ]
  },
  {
   "cell_type": "markdown",
   "id": "40ab6a4d-8214-43cb-98c1-a442c00ee620",
   "metadata": {
    "papermill": {
     "duration": 0.006392,
     "end_time": "2025-06-21T22:12:07.142032",
     "exception": false,
     "start_time": "2025-06-21T22:12:07.135640",
     "status": "completed"
    },
    "tags": []
   },
   "source": [
    "No, 'str' is immutable even though it seems like we managed to change the value (from 'Hello' to 'Hi') but under the hood when we tried to change the value by reassigning 'a' to 'Hi', it actually created a new object('Hi') at a different memory location and then 'a' started pointing to the new object('Hi')"
   ]
  },
  {
   "cell_type": "code",
   "execution_count": 22,
   "id": "cf23a86e-5b8e-450b-8826-90db5e70ab5b",
   "metadata": {
    "jupyter": {
     "source_hidden": true
    },
    "papermill": {
     "duration": 0.013136,
     "end_time": "2025-06-21T22:12:07.161544",
     "exception": false,
     "start_time": "2025-06-21T22:12:07.148408",
     "status": "completed"
    },
    "tags": []
   },
   "outputs": [
    {
     "data": {
      "text/html": [
       "\n",
       "    <div style=\"\n",
       "        margin: 15px 0; \n",
       "        padding: 16px 20px; \n",
       "        border-radius: 8px; \n",
       "        border-left: 4px solid #3f51b5; \n",
       "        display: flex; \n",
       "        align-items: flex-start; \n",
       "        gap: 12px; \n",
       "        box-shadow: 0 2px 8px rgba(0, 0, 0, 0.1); \n",
       "        background-color: #e8eaf6; \n",
       "        color: #1a237e;\n",
       "        font-family: -apple-system, BlinkMacSystemFont, 'Segoe UI', Roboto, sans-serif;\n",
       "    \">\n",
       "        <div style=\"\n",
       "            font-size: 20px; \n",
       "            margin-top: 2px; \n",
       "            flex-shrink: 0;\n",
       "        \">🏋️</div>\n",
       "        <div style=\"flex: 1;\">\n",
       "            <div style=\"\n",
       "                font-weight: bold; \n",
       "                margin-bottom: 6px; \n",
       "                font-size: 14px; \n",
       "                text-transform: uppercase; \n",
       "                letter-spacing: 0.5px;\n",
       "            \">Exercise</div>\n",
       "            <div style=\"\n",
       "                margin: 0; \n",
       "                font-size: 14px; \n",
       "                line-height: 1.5;\n",
       "            \">Find out the value stored at the memory location that 'a' was pointing before reassigning</div>\n",
       "        </div>\n",
       "    </div>\n",
       "    "
      ],
      "text/plain": [
       "<IPython.core.display.HTML object>"
      ]
     },
     "execution_count": 22,
     "metadata": {},
     "output_type": "execute_result"
    }
   ],
   "source": [
    "#hide\n",
    "utils.exercise(\"Find out the value stored at the memory location that 'a' was pointing before reassigning\")"
   ]
  },
  {
   "cell_type": "code",
   "execution_count": 23,
   "id": "0153be16-6dff-402d-a40e-ab6e252a3e60",
   "metadata": {
    "papermill": {
     "duration": 0.011009,
     "end_time": "2025-06-21T22:12:07.179274",
     "exception": false,
     "start_time": "2025-06-21T22:12:07.168265",
     "status": "completed"
    },
    "tags": []
   },
   "outputs": [],
   "source": [
    "# Your solution"
   ]
  },
  {
   "cell_type": "code",
   "execution_count": 24,
   "id": "10957d9c-2e4e-4c3b-b582-13e7780e89d9",
   "metadata": {
    "jupyter": {
     "source_hidden": true
    },
    "papermill": {
     "duration": 0.012816,
     "end_time": "2025-06-21T22:12:07.199053",
     "exception": false,
     "start_time": "2025-06-21T22:12:07.186237",
     "status": "completed"
    },
    "tags": []
   },
   "outputs": [
    {
     "data": {
      "text/html": [
       "\n",
       "        <div style=\"\n",
       "            margin: 25px 0 15px 0;\n",
       "            padding: 0;\n",
       "        \">\n",
       "            <h3 style=\"\n",
       "                font-size: 18px;\n",
       "                font-weight: 600;\n",
       "                color: #2c3e50;\n",
       "                margin: 0;\n",
       "                padding: 12px 0 8px 0;\n",
       "                display: inline-block;\n",
       "                border-bottom: 3px solid #667eea;\n",
       "                font-family: 'Segoe UI', Tahoma, Geneva, Verdana, sans-serif;\n",
       "                background: linear-gradient(135deg, #667eea, #764ba2);\n",
       "                -webkit-background-clip: text;\n",
       "                -webkit-text-fill-color: transparent;\n",
       "                background-clip: text;\n",
       "            \">String Interning/Caching?</h3>\n",
       "        </div>\n",
       "    "
      ],
      "text/plain": [
       "<IPython.core.display.HTML object>"
      ]
     },
     "metadata": {},
     "output_type": "display_data"
    }
   ],
   "source": [
    "#hide\n",
    "utils.h2(\"String Interning/Caching?\")"
   ]
  },
  {
   "cell_type": "code",
   "execution_count": 25,
   "id": "aba7e14c-8af6-4e46-bec0-42f95cd05c6b",
   "metadata": {
    "papermill": {
     "duration": 0.012444,
     "end_time": "2025-06-21T22:12:07.218565",
     "exception": false,
     "start_time": "2025-06-21T22:12:07.206121",
     "status": "completed"
    },
    "tags": []
   },
   "outputs": [
    {
     "name": "stdout",
     "output_type": "stream",
     "text": [
      "Varaible a points at 4544472832 which has hello\n",
      "Varaible b points at 4544472832 which has hello\n",
      "----------------------------------------------------------------------------------------------------\n"
     ]
    }
   ],
   "source": [
    "a = \"hello\"\n",
    "print(f\"Varaible a points at {id(a)} which has {a}\")\n",
    "b = \"hello\"\n",
    "print(f\"Varaible b points at {id(b)} which has {b}\")\n",
    "print(\"-\"*100)"
   ]
  },
  {
   "cell_type": "markdown",
   "id": "670ce3fc-544a-40b5-802d-8bbc9608282c",
   "metadata": {
    "papermill": {
     "duration": 0.007806,
     "end_time": "2025-06-21T22:12:07.233737",
     "exception": false,
     "start_time": "2025-06-21T22:12:07.225931",
     "status": "completed"
    },
    "tags": []
   },
   "source": [
    "Based on above, we observe that both 'a' and 'b' points to different address. Python caches string objects but there is more to it."
   ]
  },
  {
   "cell_type": "code",
   "execution_count": 26,
   "id": "cbdf0454-ad69-4b87-83b8-d914abe775c8",
   "metadata": {
    "papermill": {
     "duration": 0.013429,
     "end_time": "2025-06-21T22:12:07.254518",
     "exception": false,
     "start_time": "2025-06-21T22:12:07.241089",
     "status": "completed"
    },
    "tags": []
   },
   "outputs": [
    {
     "name": "stdout",
     "output_type": "stream",
     "text": [
      "Is 'H' cached? -> True\n",
      "Is '1' cached? -> True\n",
      "Is '!' cached? -> True\n",
      "Is 'Hello' cached? -> True\n",
      "Is 'Hello World' cached? -> False\n",
      "Is 'Hello123World' cached? -> True\n"
     ]
    }
   ],
   "source": [
    "def is_cached(a, b):\n",
    "    print(f\"Is '{a}' cached? -> {a is b}\")\n",
    "\n",
    "a = \"H\"\n",
    "b = \"H\"\n",
    "is_cached(a, b)\n",
    "\n",
    "a = \"1\"\n",
    "b = \"1\"\n",
    "is_cached(a, b)\n",
    "\n",
    "a = \"!\"\n",
    "b = \"!\"\n",
    "is_cached(a, b)\n",
    "\n",
    "a = \"Hello\"\n",
    "b = \"Hello\"\n",
    "is_cached(a, b)\n",
    "\n",
    "a = \"Hello World\"\n",
    "b = \"Hello World\"\n",
    "is_cached(a, b)\n",
    "\n",
    "a = \"Hello123World\"\n",
    "b = \"Hello123World\"\n",
    "is_cached(a, b)"
   ]
  },
  {
   "cell_type": "markdown",
   "id": "c43558c8-2339-437a-9f94-c433f1d5394d",
   "metadata": {
    "papermill": {
     "duration": 0.006666,
     "end_time": "2025-06-21T22:12:07.268379",
     "exception": false,
     "start_time": "2025-06-21T22:12:07.261713",
     "status": "completed"
    },
    "tags": []
   },
   "source": [
    "As per the observation:\n",
    "1. Single character is always interned\n",
    "2. "
   ]
  },
  {
   "cell_type": "code",
   "execution_count": 27,
   "id": "4529e3a3-a85f-4b34-a580-59429eb75ffc",
   "metadata": {
    "papermill": {
     "duration": 0.006611,
     "end_time": "2025-06-21T22:12:07.281754",
     "exception": false,
     "start_time": "2025-06-21T22:12:07.275143",
     "status": "completed"
    },
    "tags": []
   },
   "outputs": [
    {
     "data": {
      "text/html": [
       "\n",
       "    <div style=\"\n",
       "        margin: 15px 0; \n",
       "        padding: 16px 20px; \n",
       "        border-radius: 8px; \n",
       "        border-left: 4px solid #607d8b; \n",
       "        box-shadow: 0 2px 8px rgba(0, 0, 0, 0.1); \n",
       "        background-color: #f8f9fa; \n",
       "        color: #37474f;\n",
       "        font-family: -apple-system, BlinkMacSystemFont, 'Segoe UI', Roboto, sans-serif;\n",
       "    \">\n",
       "        <div style=\"\n",
       "            font-weight: bold; \n",
       "            margin-bottom: 12px; \n",
       "            font-size: 14px; \n",
       "            text-transform: uppercase; \n",
       "            letter-spacing: 0.5px;\n",
       "            display: flex;\n",
       "            align-items: center;\n",
       "            gap: 8px;\n",
       "        \">\n",
       "            <span style=\"font-size: 18px;\">🧭</span>\n",
       "            Navigation\n",
       "        </div>\n",
       "        <div style=\"\n",
       "            display: flex; \n",
       "            justify-content: space-between; \n",
       "            align-items: center;\n",
       "            gap: 16px;\n",
       "        \">\n",
       "            <div><a href=\"./04-04.html\" style=\"color: #5d4037; text-decoration: none; padding: 8px 12px; border-radius: 4px; background-color: #efebe9; border: 1px solid #8d6e63; display: inline-block; font-weight: 500;\">⬅️ Previous Section</a></div>\n",
       "            <div><span style=\"color: #999; padding: 8px 12px;\">Next Section ➡️</span></div>\n",
       "        </div>\n",
       "    </div>\n",
       "    "
      ],
      "text/plain": [
       "<IPython.core.display.HTML object>"
      ]
     },
     "execution_count": 27,
     "metadata": {},
     "output_type": "execute_result"
    }
   ],
   "source": [
    "#hide\n",
    "utils.nav(\"./04-04.html\", \"\")"
   ]
  },
  {
   "cell_type": "code",
   "execution_count": null,
   "id": "a15d6d58-9893-4e41-8205-090c983e60e7",
   "metadata": {},
   "outputs": [],
   "source": []
  }
 ],
 "metadata": {
  "kernelspec": {
   "display_name": "Python 3 (ipykernel)",
   "language": "python",
   "name": "python3"
  },
  "language_info": {
   "codemirror_mode": {
    "name": "ipython",
    "version": 3
   },
   "file_extension": ".py",
   "mimetype": "text/x-python",
   "name": "python",
   "nbconvert_exporter": "python",
   "pygments_lexer": "ipython3",
   "version": "3.12.0"
  },
  "papermill": {
   "default_parameters": {},
   "duration": 1.528842,
   "end_time": "2025-06-21T22:12:07.509967",
   "environment_variables": {},
   "exception": null,
   "input_path": "notebooks/04.ipynb",
   "output_path": "notebooks/04.ipynb",
   "parameters": {},
   "start_time": "2025-06-21T22:12:05.981125",
   "version": "2.6.0"
  }
 },
 "nbformat": 4,
 "nbformat_minor": 5
}
