{
 "cells": [
  {
   "cell_type": "code",
   "execution_count": 1,
   "id": "e75344b0-3f3c-43e6-a037-781adac150e6",
   "metadata": {},
   "outputs": [],
   "source": [
    "#hide"
   ]
  },
  {
   "cell_type": "code",
   "execution_count": 2,
   "id": "58d778ee-5eec-4819-996b-a19da7b5307b",
   "metadata": {
    "jupyter": {
     "source_hidden": true
    }
   },
   "outputs": [
    {
     "data": {
      "text/html": [
       "\n",
       "    <div style=\"\n",
       "        position: relative;\n",
       "        display: flex; \n",
       "        align-items: center; \n",
       "        justify-content: flex-start;\n",
       "        min-height: 80px;\n",
       "        width: 800px;\n",
       "        background: linear-gradient(135deg, #f5f7fa 0%, #c3cfe2 100%);\n",
       "        padding: 20px;\n",
       "        border-radius: 12px;\n",
       "        box-shadow: 0 4px 15px rgba(0, 0, 0, 0.1);\n",
       "        border: 1px solid #e1e8ed;\n",
       "        margin: 10px 0;\n",
       "        font-family: 'Segoe UI', Tahoma, Geneva, Verdana, sans-serif;\n",
       "    \">\n",
       "\n",
       "        <!-- GitHub Icon + Name in top-right -->\n",
       "        <a href=\"https://github.com/meluron-codecafe\" target=\"_blank\" style=\"\n",
       "            position: absolute;\n",
       "            top: 16px;\n",
       "            right: 20px;\n",
       "            display: flex;\n",
       "            align-items: center;\n",
       "            text-decoration: none;\n",
       "            color: #333;\n",
       "            font-size: 14px;\n",
       "            font-weight: 500;\n",
       "            gap: 6px;\n",
       "        \">\n",
       "            <img src=\"https://cdn-icons-png.flaticon.com/512/25/25231.png\" \n",
       "                 alt=\"GitHub\" \n",
       "                 style=\"width: 18px; height: 18px; display: inline-block; vertical-align: middle;\">\n",
       "            <span style=\"transform: translateY(-1px); line-height: 1;\">\n",
       "                /meluron-codecafe\n",
       "            </span>\n",
       "        </a>\n",
       "\n",
       "        <!-- Logo + Label stacked vertically -->\n",
       "        <div style=\"\n",
       "            display: flex; \n",
       "            flex-direction: column; \n",
       "            align-items: center; \n",
       "            justify-content: center;\n",
       "            margin-right: 35px;\n",
       "        \">\n",
       "            <a href=\"https://meluron-codecafe.github.io/DevQuest/\">\n",
       "                <img src=\"https://raw.githubusercontent.com/meluron/assets/refs/heads/main/logos/meluron-codecafe/DevQuest/orig.png\" \n",
       "                     alt=\"My Logo\" \n",
       "                     style=\"\n",
       "                        width: 70px; \n",
       "                        height: 70px;\n",
       "                        border-radius: 8px;\n",
       "                        box-shadow: 0 3px 10px rgba(253, 138, 9, 0.3);\n",
       "                     \">\n",
       "            </a>\n",
       "            <div style=\"\n",
       "                font-size: 13px; \n",
       "                color: #fd8a09; \n",
       "                font-weight: bold;\n",
       "                margin-top: 6px;\n",
       "                text-align: center;\n",
       "            \">\n",
       "            </div>\n",
       "        </div>\n",
       "\n",
       "        <!-- Question Badge -->\n",
       "        <div style=\"\n",
       "            font-size: 14px; \n",
       "            background: linear-gradient(135deg, #667eea, #764ba2);\n",
       "            color: white; \n",
       "            padding: 8px 14px; \n",
       "            border-radius: 20px; \n",
       "            display: inline-flex;\n",
       "            align-items: center;\n",
       "            gap: 6px;\n",
       "            font-weight: 600;\n",
       "            box-shadow: 0 3px 12px rgba(102, 126, 234, 0.3);\n",
       "        \">\n",
       "            <span style=\"font-size: 16px;\">❔</span>\n",
       "            How to deal with a collection of objects?\n",
       "            \n",
       "        </div>\n",
       "    </div>\n",
       "    "
      ],
      "text/plain": [
       "<IPython.core.display.HTML object>"
      ]
     },
     "metadata": {},
     "output_type": "display_data"
    }
   ],
   "source": [
    "#hide\n",
    "import utils\n",
    "utils.hero(\"How to deal with a collection of objects?\")"
   ]
  },
  {
   "cell_type": "code",
   "execution_count": 3,
   "id": "cbf98e60-9934-4c7c-abe7-6b157a952b21",
   "metadata": {
    "jupyter": {
     "source_hidden": true
    }
   },
   "outputs": [
    {
     "data": {
      "text/html": [
       "\n",
       "        <div style=\"\n",
       "            margin: 25px 0 15px 0;\n",
       "            padding: 0;\n",
       "        \">\n",
       "            <h2 style=\"\n",
       "                font-size: 24px;\n",
       "                font-weight: 600;\n",
       "                color: #2c3e50;\n",
       "                margin: 0;\n",
       "                padding: 12px 0 8px 0;\n",
       "                display: inline-block;\n",
       "                font-family: 'Segoe UI', Tahoma, Geneva, Verdana, sans-serif;\n",
       "                background: linear-gradient(135deg, #667eea, #764ba2);\n",
       "                -webkit-background-clip: text;\n",
       "                -webkit-text-fill-color: transparent;\n",
       "                background-clip: text;\n",
       "            \">▶ Data Structures</h2>\n",
       "        </div>\n",
       "    "
      ],
      "text/plain": [
       "<IPython.core.display.HTML object>"
      ]
     },
     "metadata": {},
     "output_type": "display_data"
    }
   ],
   "source": [
    "#hide\n",
    "utils.h1(\"Data Structures\")"
   ]
  },
  {
   "cell_type": "markdown",
   "id": "17e4924e-32bc-44c9-953b-4884f3aa22f8",
   "metadata": {},
   "source": [
    "In most real world scenerio, we interact with not just one data point but multiple, so we need to design some sort of optimised structure to hold multiple data points together. That is what we mean by **data structure**. \\\n",
    "A **data structure** defines a particular way of **storing**, **organizing**, **manipulating** and **accessing** a collection of data efficiently. For example, a list of friends, a dictionary (key-value pair)"
   ]
  },
  {
   "cell_type": "markdown",
   "id": "7eac696b-2e11-4114-a4c4-2827737509f0",
   "metadata": {},
   "source": [
    "<table border=\"1\" cellpadding=\"6\" cellspacing=\"0\">\n",
    "  <thead>\n",
    "    <tr>\n",
    "      <th>Data Structure</th>\n",
    "      <th>Type</th>\n",
    "      <th>Mutable?</th>\n",
    "      <th>Ordered?</th>\n",
    "      <th>Allows Duplicates?</th>\n",
    "      <th>Example</th>\n",
    "    </tr>\n",
    "  </thead>\n",
    "  <tbody>\n",
    "    <tr>\n",
    "      <td>list</td>\n",
    "      <td>Built-in</td>\n",
    "      <td>Yes</td>\n",
    "      <td>Yes</td>\n",
    "      <td>Yes</td>\n",
    "      <td>[1, 2, 3, 2]</td>\n",
    "    </tr>\n",
    "    <tr>\n",
    "      <td>tuple</td>\n",
    "      <td>Built-in</td>\n",
    "      <td>No</td>\n",
    "      <td>Yes</td>\n",
    "      <td>Yes</td>\n",
    "      <td>(1, 2, 3)</td>\n",
    "    </tr>\n",
    "    <tr>\n",
    "      <td>set</td>\n",
    "      <td>Built-in</td>\n",
    "      <td>Yes</td>\n",
    "      <td>No</td>\n",
    "      <td>No</td>\n",
    "      <td>{1, 2, 3}</td>\n",
    "    </tr>\n",
    "    <tr>\n",
    "      <td>frozenset</td>\n",
    "      <td>Built-in</td>\n",
    "      <td>No</td>\n",
    "      <td>No</td>\n",
    "      <td>No</td>\n",
    "      <td>frozenset({1, 2})</td>\n",
    "    </tr>\n",
    "    <tr>\n",
    "      <td>dict</td>\n",
    "      <td>Built-in</td>\n",
    "      <td>Yes</td>\n",
    "      <td>Yes</td>\n",
    "      <td>Keys: No<br>Values: Yes</td>\n",
    "      <td>{\"a\": 1, \"b\": 2}</td>\n",
    "    </tr>\n",
    "    <tr>\n",
    "      <td>deque</td>\n",
    "      <td>From <code>collections</code></td>\n",
    "      <td>Yes</td>\n",
    "      <td>Yes</td>\n",
    "      <td>Yes</td>\n",
    "      <td>deque([1, 2, 3])</td>\n",
    "    </tr>\n",
    "    <tr>\n",
    "      <td>defaultdict</td>\n",
    "      <td>From <code>collections</code></td>\n",
    "      <td>Yes</td>\n",
    "      <td>Yes</td>\n",
    "      <td>Keys: No<br>Values: Yes</td>\n",
    "      <td>defaultdict(int)</td>\n",
    "    </tr>\n",
    "    <tr>\n",
    "      <td>OrderedDict</td>\n",
    "      <td>From <code>collections</code></td>\n",
    "      <td>Yes</td>\n",
    "      <td>Yes</td>\n",
    "      <td>Keys: No<br>Values: Yes</td>\n",
    "      <td>OrderedDict()</td>\n",
    "    </tr>\n",
    "    <tr>\n",
    "      <td>namedtuple</td>\n",
    "      <td>From <code>collections</code></td>\n",
    "      <td>No</td>\n",
    "      <td>Yes</td>\n",
    "      <td>Yes</td>\n",
    "      <td>Point(x=1, y=2)</td>\n",
    "    </tr>\n",
    "  </tbody>\n",
    "</table>\n"
   ]
  },
  {
   "cell_type": "code",
   "execution_count": 4,
   "id": "60107675-1f38-42a1-8d43-8e3d847b6b61",
   "metadata": {
    "jupyter": {
     "source_hidden": true
    }
   },
   "outputs": [
    {
     "data": {
      "text/html": [
       "\n",
       "        <div style=\"\n",
       "            margin: 25px 0 15px 0;\n",
       "            padding: 0;\n",
       "        \">\n",
       "            <h2 style=\"\n",
       "                font-size: 24px;\n",
       "                font-weight: 600;\n",
       "                color: #2c3e50;\n",
       "                margin: 0;\n",
       "                padding: 12px 0 8px 0;\n",
       "                display: inline-block;\n",
       "                font-family: 'Segoe UI', Tahoma, Geneva, Verdana, sans-serif;\n",
       "                background: linear-gradient(135deg, #667eea, #764ba2);\n",
       "                -webkit-background-clip: text;\n",
       "                -webkit-text-fill-color: transparent;\n",
       "                background-clip: text;\n",
       "            \">▶ List Data Structure</h2>\n",
       "        </div>\n",
       "    "
      ],
      "text/plain": [
       "<IPython.core.display.HTML object>"
      ]
     },
     "metadata": {},
     "output_type": "display_data"
    }
   ],
   "source": [
    "#hide\n",
    "utils.h1(\"List Data Structure\")"
   ]
  },
  {
   "cell_type": "code",
   "execution_count": 5,
   "id": "d4d74d9e-5dbf-4151-a359-690fcf6d5e9d",
   "metadata": {},
   "outputs": [],
   "source": [
    "import random\n",
    "a = [random.randint(0, 100) for _  in range(20)] # Generate a collection of random integers and store then in a list data structure"
   ]
  },
  {
   "cell_type": "markdown",
   "id": "813b7f64-3746-4de6-9dfb-f7f4204c87ea",
   "metadata": {},
   "source": [
    "How is `list` in python different from `array` in C? \n",
    "1. Python `list` is **dynamic** in nature. (meaning the size is not fixed.)\n",
    "2. Python `list` can store **multiple datatypes** together as it is **referential array**."
   ]
  },
  {
   "cell_type": "code",
   "execution_count": 6,
   "id": "2aed8fa5-db98-4fc4-9353-ae60966ef73f",
   "metadata": {
    "jupyter": {
     "source_hidden": true
    }
   },
   "outputs": [
    {
     "data": {
      "text/html": [
       "\n",
       "        <div style=\"\n",
       "            margin: 25px 0 15px 0;\n",
       "            padding: 0;\n",
       "        \">\n",
       "            <h3 style=\"\n",
       "                font-size: 18px;\n",
       "                font-weight: 600;\n",
       "                color: #2c3e50;\n",
       "                margin: 0;\n",
       "                padding: 12px 0 8px 0;\n",
       "                display: inline-block;\n",
       "                border-bottom: 3px solid #667eea;\n",
       "                font-family: 'Segoe UI', Tahoma, Geneva, Verdana, sans-serif;\n",
       "                background: linear-gradient(135deg, #667eea, #764ba2);\n",
       "                -webkit-background-clip: text;\n",
       "                -webkit-text-fill-color: transparent;\n",
       "                background-clip: text;\n",
       "            \">Methods available for list</h3>\n",
       "        </div>\n",
       "    "
      ],
      "text/plain": [
       "<IPython.core.display.HTML object>"
      ]
     },
     "metadata": {},
     "output_type": "display_data"
    }
   ],
   "source": [
    "#hide\n",
    "utils.h2(\"Methods available for list\")"
   ]
  },
  {
   "cell_type": "code",
   "execution_count": 7,
   "id": "b5024632-9278-45c6-b31f-c3a87690a869",
   "metadata": {},
   "outputs": [
    {
     "name": "stdout",
     "output_type": "stream",
     "text": [
      "[9, 93, 47, 12, 17, 11, 53, 44, 17, 36, 76, 67, 42, 59, 48, 70, 32, 59, 44, 40]\n"
     ]
    }
   ],
   "source": [
    "# print\n",
    "print(a)"
   ]
  },
  {
   "cell_type": "code",
   "execution_count": 8,
   "id": "47feeb4a-988d-44e4-9393-863a64e7cde3",
   "metadata": {},
   "outputs": [
    {
     "name": "stdout",
     "output_type": "stream",
     "text": [
      "[9, 93, 47, 12, 17, 11, 53, 44, 17, 36, 76, 67, 42, 59, 48, 70, 32, 59, 44, 40, 10]\n"
     ]
    }
   ],
   "source": [
    "# append\n",
    "a.append(10)\n",
    "print(a)"
   ]
  },
  {
   "cell_type": "code",
   "execution_count": 9,
   "id": "78e23ef7-ec40-4fdd-9f33-b84726b028aa",
   "metadata": {},
   "outputs": [
    {
     "name": "stdout",
     "output_type": "stream",
     "text": [
      "[9, 93, 47, 12, 17, 11, 53, 44, 17, 36, 76, 67, 42, 59, 48, 70, 32, 59, 44, 40]\n"
     ]
    }
   ],
   "source": [
    "# pop => remove last element\n",
    "a.pop()\n",
    "print(a)"
   ]
  },
  {
   "cell_type": "code",
   "execution_count": 10,
   "id": "0787f7b3-54ce-4c92-98f5-1100eefe68f3",
   "metadata": {},
   "outputs": [
    {
     "name": "stdout",
     "output_type": "stream",
     "text": [
      "[9, 93, 12, 17, 11, 53, 44, 17, 36, 76, 67, 42, 59, 48, 70, 32, 59, 44, 40]\n"
     ]
    }
   ],
   "source": [
    "# remove element at a given index\n",
    "a.pop(2)\n",
    "print(a)"
   ]
  },
  {
   "cell_type": "code",
   "execution_count": 16,
   "id": "8b4a86d7-8c87-4893-874f-78326c66f4da",
   "metadata": {},
   "outputs": [
    {
     "name": "stdout",
     "output_type": "stream",
     "text": [
      "[9, 93, 17, 11, 53, 44, 17, 36, 76, 67, 42, 59, 48, 70, 32, 59, 44, 40]\n"
     ]
    }
   ],
   "source": [
    "# remove => remove an element\n",
    "a.remove(12)\n",
    "print(a)"
   ]
  },
  {
   "cell_type": "code",
   "execution_count": 17,
   "id": "d9c432d9-22f1-4bc1-b9dd-4012139b88ca",
   "metadata": {},
   "outputs": [
    {
     "ename": "ValueError",
     "evalue": "list.remove(x): x not in list",
     "output_type": "error",
     "traceback": [
      "\u001b[31m---------------------------------------------------------------------------\u001b[39m",
      "\u001b[31mValueError\u001b[39m                                Traceback (most recent call last)",
      "\u001b[36mCell\u001b[39m\u001b[36m \u001b[39m\u001b[32mIn[17]\u001b[39m\u001b[32m, line 2\u001b[39m\n\u001b[32m      1\u001b[39m \u001b[38;5;66;03m# remove => remove an element that does not exist in the list\u001b[39;00m\n\u001b[32m----> \u001b[39m\u001b[32m2\u001b[39m \u001b[43ma\u001b[49m\u001b[43m.\u001b[49m\u001b[43mremove\u001b[49m\u001b[43m(\u001b[49m\u001b[32;43m50\u001b[39;49m\u001b[43m)\u001b[49m\n\u001b[32m      3\u001b[39m \u001b[38;5;28mprint\u001b[39m(a)\n",
      "\u001b[31mValueError\u001b[39m: list.remove(x): x not in list"
     ]
    }
   ],
   "source": [
    "# remove => remove an element that does not exist in the list\n",
    "a.remove(50)\n",
    "print(a)"
   ]
  },
  {
   "cell_type": "code",
   "execution_count": 18,
   "id": "924daabd-6181-4606-aa8f-556b9a6f3f43",
   "metadata": {},
   "outputs": [
    {
     "data": {
      "text/plain": [
       "18"
      ]
     },
     "execution_count": 18,
     "metadata": {},
     "output_type": "execute_result"
    }
   ],
   "source": [
    "# count total number of elements\n",
    "len(a)"
   ]
  },
  {
   "cell_type": "code",
   "execution_count": 19,
   "id": "b6540425-1966-4aea-952d-d407958676d7",
   "metadata": {},
   "outputs": [
    {
     "data": {
      "text/plain": [
       "0"
      ]
     },
     "execution_count": 19,
     "metadata": {},
     "output_type": "execute_result"
    }
   ],
   "source": [
    "# count occurence of an element\n",
    "a.count(16)"
   ]
  },
  {
   "cell_type": "code",
   "execution_count": 23,
   "id": "32c509c9-acb9-4d52-9e06-54c4dfef5711",
   "metadata": {},
   "outputs": [
    {
     "data": {
      "text/plain": [
       "2"
      ]
     },
     "execution_count": 23,
     "metadata": {},
     "output_type": "execute_result"
    }
   ],
   "source": [
    "# find the index of an element\n",
    "a.index(17)"
   ]
  },
  {
   "cell_type": "code",
   "execution_count": 24,
   "id": "5c42069d-f150-4df6-896e-5d09b09d04b7",
   "metadata": {},
   "outputs": [
    {
     "name": "stdout",
     "output_type": "stream",
     "text": [
      "[40, 44, 59, 32, 70, 48, 59, 42, 67, 76, 36, 17, 44, 53, 11, 17, 93, 9]\n"
     ]
    }
   ],
   "source": [
    "# reverse the list\n",
    "a.reverse()\n",
    "print(a)"
   ]
  },
  {
   "cell_type": "code",
   "execution_count": 25,
   "id": "2072a93f-21e9-4041-9d8e-49c7124d5c12",
   "metadata": {},
   "outputs": [
    {
     "name": "stdout",
     "output_type": "stream",
     "text": [
      "[40, 44, 10, 59, 32, 70, 48, 59, 42, 67, 76, 36, 17, 44, 53, 11, 17, 93, 9]\n"
     ]
    }
   ],
   "source": [
    "a.insert(2, 10)\n",
    "print(a)"
   ]
  },
  {
   "cell_type": "code",
   "execution_count": 26,
   "id": "52890703-52df-4e75-b315-2727c0359070",
   "metadata": {},
   "outputs": [
    {
     "name": "stdout",
     "output_type": "stream",
     "text": [
      "[40, 44, 10, 59, 32, 70, 48, 59, 42, 67, 76, 36, 17, 44, 53, 11, 17, 93, 9, [1, 3, 4]]\n"
     ]
    }
   ],
   "source": [
    "# append\n",
    "a.append([1, 3, 4])\n",
    "print(a)"
   ]
  },
  {
   "cell_type": "code",
   "execution_count": 27,
   "id": "51644b61-90d3-4869-8796-0e56dab25c6a",
   "metadata": {},
   "outputs": [
    {
     "name": "stdout",
     "output_type": "stream",
     "text": [
      "[40, 44, 10, 59, 32, 70, 48, 59, 42, 67, 76, 36, 17, 44, 53, 11, 17, 93, 9, [1, 3, 4], 1, 3, 4]\n"
     ]
    }
   ],
   "source": [
    "# append\n",
    "a.extend([1, 3, 4])\n",
    "print(a)"
   ]
  },
  {
   "cell_type": "code",
   "execution_count": 28,
   "id": "0f62e50f-7745-43cf-a90b-247350f8d1e1",
   "metadata": {},
   "outputs": [
    {
     "name": "stdout",
     "output_type": "stream",
     "text": [
      "[]\n"
     ]
    }
   ],
   "source": [
    "# clear all element\n",
    "a.clear()\n",
    "print(a)"
   ]
  },
  {
   "cell_type": "code",
   "execution_count": 29,
   "id": "ae84180d-4d3a-47dd-8fc2-24ea2bd5b22f",
   "metadata": {},
   "outputs": [],
   "source": [
    "# slicing\n",
    "import random\n",
    "a = [random.randint(0, 100) for _  in range(20)] # Generate a collection of random integers and store then in a list data structure"
   ]
  },
  {
   "cell_type": "code",
   "execution_count": 30,
   "id": "0ce69614-2fd7-4d44-87e2-736881d28199",
   "metadata": {},
   "outputs": [
    {
     "name": "stdout",
     "output_type": "stream",
     "text": [
      "[45, 87, 84, 71, 34, 46, 19, 90, 73, 60, 23, 84, 57, 49, 22, 51, 35, 6, 30, 39]\n",
      "[84, 71, 34, 46]\n",
      "[45, 87, 84, 71, 34, 46, 19]\n",
      "[45, 87, 84, 71, 34, 46, 19]\n",
      "[45, 87, 84, 71, 34, 46, 19, 90, 73, 60, 23, 84, 57, 49, 22, 51]\n",
      "[45, 87, 84, 71, 34, 46, 19, 90, 73, 60, 23, 84, 57, 49, 22, 51]\n",
      "[45, 87, 84, 71, 34, 46, 19, 90, 73, 60, 23, 84, 57, 49, 22, 51, 35, 6, 30, 39]\n",
      "[45, 87, 84, 71, 34, 46, 19, 90, 73, 60, 23, 84, 57, 49, 22, 51, 35, 6, 30]\n",
      "[]\n",
      "[84, 34, 19]\n",
      "[84, 90]\n",
      "[]\n",
      "[23, 60, 73, 90, 19, 46, 34, 71]\n",
      "[23, 73, 19, 34]\n",
      "[39, 30, 6, 35, 51, 22, 49, 57, 84, 23, 60, 73, 90, 19, 46, 34, 71, 84, 87]\n",
      "[39, 30, 6, 35, 51, 22, 49, 57, 84, 23, 60, 73, 90, 19, 46, 34, 71, 84, 87]\n",
      "[39, 30, 6, 35, 51, 22, 49, 57, 84, 23, 60, 73, 90, 19, 46, 34, 71, 84, 87, 45]\n"
     ]
    }
   ],
   "source": [
    "# slicing\n",
    "print(a)\n",
    "print(a[2:6])\n",
    "print(a[0:7])\n",
    "print(a[:7])\n",
    "print(a[0:-4])\n",
    "print(a[:-4])\n",
    "print(a[:])\n",
    "print(a[0:-1])\n",
    "print(a[5:2])\n",
    "print(a[2:8:2])\n",
    "print(a[2:10:5])\n",
    "print(a[2:10:-1])\n",
    "print(a[10:2:-1])\n",
    "print(a[10:2:-2])\n",
    "print(a[19:0:-1]) # -1 => len(a) - 1\n",
    "print(a[-1:0:-1])\n",
    "print(a[::-1]) # special case"
   ]
  },
  {
   "cell_type": "code",
   "execution_count": 31,
   "id": "7a17d7a2-85f3-4248-8c48-fa8485d3cceb",
   "metadata": {
    "jupyter": {
     "source_hidden": true
    }
   },
   "outputs": [
    {
     "data": {
      "text/html": [
       "\n",
       "        <div style=\"\n",
       "            margin: 25px 0 15px 0;\n",
       "            padding: 0;\n",
       "        \">\n",
       "            <h2 style=\"\n",
       "                font-size: 24px;\n",
       "                font-weight: 600;\n",
       "                color: #2c3e50;\n",
       "                margin: 0;\n",
       "                padding: 12px 0 8px 0;\n",
       "                display: inline-block;\n",
       "                font-family: 'Segoe UI', Tahoma, Geneva, Verdana, sans-serif;\n",
       "                background: linear-gradient(135deg, #667eea, #764ba2);\n",
       "                -webkit-background-clip: text;\n",
       "                -webkit-text-fill-color: transparent;\n",
       "                background-clip: text;\n",
       "            \">▶ dict</h2>\n",
       "        </div>\n",
       "    "
      ],
      "text/plain": [
       "<IPython.core.display.HTML object>"
      ]
     },
     "metadata": {},
     "output_type": "display_data"
    }
   ],
   "source": [
    "#hide\n",
    "utils.h1(\"dict\")"
   ]
  },
  {
   "cell_type": "code",
   "execution_count": 80,
   "id": "30f8a343-b8d8-4870-88ba-dfd448d966ee",
   "metadata": {},
   "outputs": [],
   "source": [
    "info = {\n",
    "    \"name\": \"Ankit\",\n",
    "    \"location\": \"Mumbai\"\n",
    "}"
   ]
  },
  {
   "cell_type": "code",
   "execution_count": 47,
   "id": "0bbe92c4-ce3a-4317-ba5d-9853430c4d6b",
   "metadata": {},
   "outputs": [],
   "source": [
    "info.get(\"fullname\")"
   ]
  },
  {
   "cell_type": "code",
   "execution_count": 74,
   "id": "43762055-0e19-4c8a-a41a-c8a12be30009",
   "metadata": {},
   "outputs": [
    {
     "data": {
      "text/plain": [
       "(dict_keys(['name', 'location']),\n",
       " dict_values(['Ankit', 'Mumbai']),\n",
       " dict_items([('name', 'Ankit'), ('location', 'Mumbai')]),\n",
       " ['name', 'location'])"
      ]
     },
     "execution_count": 74,
     "metadata": {},
     "output_type": "execute_result"
    }
   ],
   "source": [
    "info.keys(), info.values(), info.items(), list(info.keys())"
   ]
  },
  {
   "cell_type": "code",
   "execution_count": 81,
   "id": "afe9e377-ea43-497e-b786-ba12b853d461",
   "metadata": {},
   "outputs": [
    {
     "data": {
      "text/plain": [
       "'Ankit'"
      ]
     },
     "execution_count": 81,
     "metadata": {},
     "output_type": "execute_result"
    }
   ],
   "source": [
    "info.pop(\"name\")"
   ]
  },
  {
   "cell_type": "code",
   "execution_count": 88,
   "id": "14f215ac-b73f-4e59-9227-06cdfe9167a4",
   "metadata": {},
   "outputs": [
    {
     "name": "stdout",
     "output_type": "stream",
     "text": [
      "4559093056\n",
      "4559093056\n"
     ]
    }
   ],
   "source": [
    "print(id(info))\n",
    "info[\"hometown\"] = \"Purnea\"\n",
    "print(id(info))"
   ]
  },
  {
   "cell_type": "code",
   "execution_count": 89,
   "id": "2dbf7da8-1785-4d06-92ca-434cbd533cff",
   "metadata": {},
   "outputs": [
    {
     "data": {
      "text/plain": [
       "{'location': 'Mumbai', 'hometown': 'Purnea'}"
      ]
     },
     "execution_count": 89,
     "metadata": {},
     "output_type": "execute_result"
    }
   ],
   "source": [
    "info"
   ]
  },
  {
   "cell_type": "code",
   "execution_count": 90,
   "id": "a4f3258e-c1d3-4a92-90b8-bb05bc9f27e9",
   "metadata": {
    "jupyter": {
     "source_hidden": true
    }
   },
   "outputs": [
    {
     "data": {
      "text/html": [
       "\n",
       "        <div style=\"\n",
       "            margin: 25px 0 15px 0;\n",
       "            padding: 0;\n",
       "        \">\n",
       "            <h2 style=\"\n",
       "                font-size: 24px;\n",
       "                font-weight: 600;\n",
       "                color: #2c3e50;\n",
       "                margin: 0;\n",
       "                padding: 12px 0 8px 0;\n",
       "                display: inline-block;\n",
       "                font-family: 'Segoe UI', Tahoma, Geneva, Verdana, sans-serif;\n",
       "                background: linear-gradient(135deg, #667eea, #764ba2);\n",
       "                -webkit-background-clip: text;\n",
       "                -webkit-text-fill-color: transparent;\n",
       "                background-clip: text;\n",
       "            \">▶ Tuple</h2>\n",
       "        </div>\n",
       "    "
      ],
      "text/plain": [
       "<IPython.core.display.HTML object>"
      ]
     },
     "metadata": {},
     "output_type": "display_data"
    }
   ],
   "source": [
    "#hide\n",
    "utils.h1(\"Tuple\")"
   ]
  },
  {
   "cell_type": "code",
   "execution_count": 111,
   "id": "4ccefab3-1f95-499e-9033-0e72dc72b0dd",
   "metadata": {},
   "outputs": [
    {
     "data": {
      "text/plain": [
       "2"
      ]
     },
     "execution_count": 111,
     "metadata": {},
     "output_type": "execute_result"
    }
   ],
   "source": [
    "a = (1, \"Ankit\", 1.0, {\"name\": \"Ankit\"}, (4, 2, 3))\n",
    "a.count(1)"
   ]
  },
  {
   "cell_type": "code",
   "execution_count": 114,
   "id": "a629899b-61f2-4211-b330-00ee9fceefc9",
   "metadata": {},
   "outputs": [
    {
     "data": {
      "text/plain": [
       "1"
      ]
     },
     "execution_count": 114,
     "metadata": {},
     "output_type": "execute_result"
    }
   ],
   "source": [
    "a.index(\"Ankit\")"
   ]
  },
  {
   "cell_type": "code",
   "execution_count": 118,
   "id": "e6fd0138-14fb-4c1f-ae77-49fb7991d702",
   "metadata": {},
   "outputs": [
    {
     "data": {
      "text/plain": [
       "True"
      ]
     },
     "execution_count": 118,
     "metadata": {},
     "output_type": "execute_result"
    }
   ],
   "source": [
    "1 == 1.0"
   ]
  },
  {
   "cell_type": "code",
   "execution_count": 122,
   "id": "1fd7d558-e9e5-4c94-8203-c091f03e4cef",
   "metadata": {},
   "outputs": [
    {
     "data": {
      "text/plain": [
       "True"
      ]
     },
     "execution_count": 122,
     "metadata": {},
     "output_type": "execute_result"
    }
   ],
   "source": [
    "a = 60\n",
    "b = 60\n",
    "a is b"
   ]
  },
  {
   "cell_type": "code",
   "execution_count": 123,
   "id": "96112dd2-502c-4797-83e8-4f2d76ba6d92",
   "metadata": {},
   "outputs": [
    {
     "data": {
      "text/plain": [
       "(4528260000, 4528260000)"
      ]
     },
     "execution_count": 123,
     "metadata": {},
     "output_type": "execute_result"
    }
   ],
   "source": [
    "id(a), id(b)"
   ]
  },
  {
   "cell_type": "code",
   "execution_count": null,
   "id": "7e551977-9411-46c5-b497-4bafc17f3748",
   "metadata": {},
   "outputs": [],
   "source": []
  },
  {
   "cell_type": "code",
   "execution_count": null,
   "id": "7c398eea-f0d6-40ac-8131-7454d1ea885a",
   "metadata": {},
   "outputs": [],
   "source": []
  }
 ],
 "metadata": {
  "kernelspec": {
   "display_name": "Python 3 (ipykernel)",
   "language": "python",
   "name": "python3"
  },
  "language_info": {
   "codemirror_mode": {
    "name": "ipython",
    "version": 3
   },
   "file_extension": ".py",
   "mimetype": "text/x-python",
   "name": "python",
   "nbconvert_exporter": "python",
   "pygments_lexer": "ipython3",
   "version": "3.12.0"
  }
 },
 "nbformat": 4,
 "nbformat_minor": 5
}
