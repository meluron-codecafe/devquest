{
 "cells": [
  {
   "cell_type": "code",
   "execution_count": 1,
   "id": "05a8987b-72c6-4c21-b7ec-1f2b45a5a09d",
   "metadata": {},
   "outputs": [],
   "source": [
    "#hide"
   ]
  },
  {
   "cell_type": "code",
   "execution_count": 2,
   "id": "dd76008d-ac61-4915-b38a-8eefb64e6ff4",
   "metadata": {
    "jupyter": {
     "source_hidden": true
    }
   },
   "outputs": [
    {
     "data": {
      "text/html": [
       "\n",
       "    <div style=\"\n",
       "        position: relative;\n",
       "        display: flex; \n",
       "        align-items: center; \n",
       "        justify-content: flex-start;\n",
       "        min-height: 80px;\n",
       "        width: 800px;\n",
       "        background: linear-gradient(135deg, #f5f7fa 0%, #c3cfe2 100%);\n",
       "        padding: 20px;\n",
       "        border-radius: 12px;\n",
       "        box-shadow: 0 4px 15px rgba(0, 0, 0, 0.1);\n",
       "        border: 1px solid #e1e8ed;\n",
       "        margin: 10px 0;\n",
       "        font-family: 'Segoe UI', Tahoma, Geneva, Verdana, sans-serif;\n",
       "    \">\n",
       "\n",
       "        <!-- GitHub Icon + Name in top-right -->\n",
       "        <a href=\"https://github.com/meluron-codecafe\" target=\"_blank\" style=\"\n",
       "            position: absolute;\n",
       "            top: 16px;\n",
       "            right: 20px;\n",
       "            display: flex;\n",
       "            align-items: center;\n",
       "            text-decoration: none;\n",
       "            color: #333;\n",
       "            font-size: 14px;\n",
       "            font-weight: 500;\n",
       "            gap: 6px;\n",
       "        \">\n",
       "            <img src=\"https://cdn-icons-png.flaticon.com/512/25/25231.png\" \n",
       "                 alt=\"GitHub\" \n",
       "                 style=\"width: 18px; height: 18px; display: inline-block; vertical-align: middle;\">\n",
       "            <span style=\"transform: translateY(-1px); line-height: 1;\">\n",
       "                /meluron-codecafe\n",
       "            </span>\n",
       "        </a>\n",
       "\n",
       "        <!-- Logo + Label stacked vertically -->\n",
       "        <div style=\"\n",
       "            display: flex; \n",
       "            flex-direction: column; \n",
       "            align-items: center; \n",
       "            justify-content: center;\n",
       "            margin-right: 35px;\n",
       "        \">\n",
       "            <a href=\"https://meluron-codecafe.github.io/DevQuest/\">\n",
       "                <img src=\"https://raw.githubusercontent.com/meluron/assets/refs/heads/main/logos/meluron-codecafe/DevQuest/icon_with_text.png\" \n",
       "                     alt=\"My Logo\" \n",
       "                     style=\"\n",
       "                        width: 120px; \n",
       "                        height: 50px;\n",
       "                        border-radius: 5px;\n",
       "                        box-shadow: 0 3px 10px rgba(253, 138, 9, 0.3);\n",
       "                     \">\n",
       "            </a>\n",
       "            <div style=\"\n",
       "                font-size: 13px; \n",
       "                color: #fd8a09; \n",
       "                font-weight: bold;\n",
       "                margin-top: 6px;\n",
       "                text-align: center;\n",
       "            \">\n",
       "            </div>\n",
       "        </div>\n",
       "\n",
       "        <!-- Question Badge -->\n",
       "        <div style=\"\n",
       "            font-size: 14px; \n",
       "            background: linear-gradient(135deg, #667eea, #764ba2);\n",
       "            color: white; \n",
       "            padding: 8px 10px; \n",
       "            border-radius: 5px; \n",
       "            display: inline-flex;\n",
       "            align-items: center;\n",
       "            gap: 6px;\n",
       "            font-weight: 600;\n",
       "            box-shadow: 0 3px 12px rgba(102, 126, 234, 0.3);\n",
       "            margin-top: -10px;\n",
       "        \">\n",
       "            Classes in Python\n",
       "            \n",
       "        </div>\n",
       "    </div>\n",
       "    "
      ],
      "text/plain": [
       "<IPython.core.display.HTML object>"
      ]
     },
     "metadata": {},
     "output_type": "display_data"
    }
   ],
   "source": [
    "#hide\n",
    "import utils\n",
    "utils.hero(\"Classes in Python\")"
   ]
  },
  {
   "cell_type": "markdown",
   "id": "58ecc8dc-80f7-459b-ba7b-b6d251ff89ef",
   "metadata": {},
   "source": [
    "`Class` is a blueprint with `methods`, `attributes` encapsulated together."
   ]
  },
  {
   "cell_type": "code",
   "execution_count": 37,
   "id": "033fc2de-2abd-45b5-8fc6-331a48bfd819",
   "metadata": {},
   "outputs": [],
   "source": [
    "# Creating a class\n",
    "class NameOfTheClass: # CamelCase\n",
    "    pass"
   ]
  },
  {
   "cell_type": "markdown",
   "id": "faafde0d-e92d-438b-9336-021135ce8a76",
   "metadata": {},
   "source": [
    "A `class` cannot be used directly in the code as it is a blueprint. We need to create `object` of the class. We call this process as instantiating a class which means creating an `instance` of a class."
   ]
  },
  {
   "cell_type": "code",
   "execution_count": 41,
   "id": "9b0b3f83-a36a-4791-a853-63c90648abb5",
   "metadata": {},
   "outputs": [
    {
     "name": "stdout",
     "output_type": "stream",
     "text": [
      "<__main__.NameOfTheClass object at 0x10a9c90a0>\n"
     ]
    }
   ],
   "source": [
    "# Creating an object\n",
    "obj = NameOfTheClass()\n",
    "print(obj)"
   ]
  },
  {
   "cell_type": "markdown",
   "id": "a6fd389f-88cc-4b3e-81d8-c92a8da2405e",
   "metadata": {},
   "source": [
    "`Constructor` is a special/dunder `method` which has a defined behavior in python. The `contructor` method name should be `__init__()`. \\\n",
    "The defined behavior is that `constructor` or `__init__` method is called automatically whenever an `object` of the `class` is created."
   ]
  },
  {
   "cell_type": "code",
   "execution_count": 64,
   "id": "1b63aa29-ab6a-4719-ad91-955b53a620b2",
   "metadata": {},
   "outputs": [],
   "source": [
    "# Creating a contructor\n",
    "class MyClass:\n",
    "    def __init__(self):\n",
    "        print(\"Constructor is called\")"
   ]
  },
  {
   "cell_type": "code",
   "execution_count": 65,
   "id": "c9f0e575-42b5-4777-8b68-775c6a7868f2",
   "metadata": {},
   "outputs": [
    {
     "name": "stdout",
     "output_type": "stream",
     "text": [
      "Constructor is called\n"
     ]
    }
   ],
   "source": [
    "MyClass();"
   ]
  },
  {
   "cell_type": "code",
   "execution_count": 73,
   "id": "3b0f1136-be94-471b-bb39-5f46193320c3",
   "metadata": {},
   "outputs": [],
   "source": [
    "# Creating another method\n",
    "class MyClass:\n",
    "    def __init__(self):\n",
    "        pass\n",
    "    def greet(self, name: str) -> None:\n",
    "        print(\"Hello,\", name)"
   ]
  },
  {
   "cell_type": "code",
   "execution_count": 75,
   "id": "f5c42275-2bd7-41c3-924a-0af125994c54",
   "metadata": {},
   "outputs": [
    {
     "name": "stdout",
     "output_type": "stream",
     "text": [
      "Hello, Ankit\n"
     ]
    }
   ],
   "source": [
    "obj = MyClass();\n",
    "obj.greet(name=\"Ankit\")"
   ]
  },
  {
   "cell_type": "markdown",
   "id": "62aea516-68de-4443-bbe6-a2ff5d820ff4",
   "metadata": {},
   "source": [
    "The **first** paramter to any normal method of a class hold the reference to the `object` it was called with."
   ]
  },
  {
   "cell_type": "code",
   "execution_count": 142,
   "id": "29246be2-9c74-47c6-a54a-df7e91ddd203",
   "metadata": {},
   "outputs": [],
   "source": [
    "class Student:\n",
    "    def __init__(self, name: str):\n",
    "        self.name = name\n",
    "    def greet(self) -> None:\n",
    "        print(\"Hello,\", self.name)\n",
    "    def restigate(self) -> None:\n",
    "        print(self.name, \"is resigated.\")"
   ]
  },
  {
   "cell_type": "code",
   "execution_count": 147,
   "id": "682b8377-6907-4591-81a4-e680d10a974b",
   "metadata": {},
   "outputs": [],
   "source": [
    "a = Student(name=\"Sujal\")"
   ]
  },
  {
   "cell_type": "code",
   "execution_count": 149,
   "id": "b77847bf-88bb-4d3f-813c-ff69ba624a1f",
   "metadata": {},
   "outputs": [
    {
     "name": "stdout",
     "output_type": "stream",
     "text": [
      "Sujal is resigated.\n"
     ]
    }
   ],
   "source": [
    "a.restigate()"
   ]
  },
  {
   "cell_type": "code",
   "execution_count": 128,
   "id": "2266fa2b-03da-4acb-a04f-216a2af0f2ed",
   "metadata": {},
   "outputs": [],
   "source": [
    "class Car:\n",
    "    def __init__(self, color: str, brand: str, owner: str):\n",
    "        self.color = color\n",
    "        self.owner = owner\n",
    "        self.brand = brand\n",
    "    def run(self) -> None:\n",
    "        print(f\"{self.owner} car is running\")\n",
    "    def stop(self) -> None:\n",
    "        print(f\"{self.owner} car stopped\")"
   ]
  },
  {
   "cell_type": "code",
   "execution_count": 166,
   "id": "b7ab5879-ddff-403d-a6cc-3581c412638a",
   "metadata": {},
   "outputs": [],
   "source": [
    "sujal_car = Car(color=\"red\", brand=\"bmw\", owner=\"sujal\")\n",
    "ankit_car = Car(color=\"red\", brand=\"bmw\", owner=\"ankit\")"
   ]
  },
  {
   "cell_type": "markdown",
   "id": "1d2695eb-e3ba-45e9-92cb-b6b81cf4e821",
   "metadata": {},
   "source": [
    "There are three types of `methods` that one can define for a class.\n",
    "- `Normal`\n",
    "- `Staticmethod`\n",
    "- `Classmethod`"
   ]
  },
  {
   "cell_type": "code",
   "execution_count": 123,
   "id": "bf57743a-064e-40b6-90b1-bf78e80a1f9e",
   "metadata": {},
   "outputs": [],
   "source": [
    "class Person:\n",
    "    def __init__(self, name: str, age: int):\n",
    "        self.name = name\n",
    "        self.age = age\n",
    "\n",
    "    def celebrate_birthday(self) -> None:\n",
    "        self.age += 1\n",
    "\n",
    "    def get_info(self) -> None:\n",
    "        print(f\"{self.name} is {self.age} years old.\")\n",
    "\n",
    "    @staticmethod\n",
    "    def greet() -> None: # Static method (No object will be passed while calling) => Namespace\n",
    "        print(\"Hello\")\n",
    "\n",
    "    @classmethod\n",
    "    def say_hi(cls) -> None:\n",
    "        if cls.__name__ == \"Person\":\n",
    "            print(\"Good morning\")\n",
    "        elif cls.__name__ == \"Student\":\n",
    "            print(\"Hello\")\n",
    "\n",
    "class Student(Person):\n",
    "    def __init__(self, name: str, age: int, std: int):\n",
    "        super().__init__(name=name, age=age)\n",
    "        self.std = std\n",
    "    pass"
   ]
  },
  {
   "cell_type": "code",
   "execution_count": 124,
   "id": "70be4934-55e2-4fca-9e69-6403498a539e",
   "metadata": {},
   "outputs": [],
   "source": [
    "sujal = Person(name=\"Sujal\", age=17)"
   ]
  },
  {
   "cell_type": "code",
   "execution_count": 125,
   "id": "2853d7f2-3e35-4b74-a35d-4d236a27a2e9",
   "metadata": {},
   "outputs": [],
   "source": [
    "ankit = Student(name=\"Ankit\", age=10, std=9)"
   ]
  },
  {
   "cell_type": "code",
   "execution_count": 126,
   "id": "83604760-59e3-4a86-b57f-6996e72d69db",
   "metadata": {},
   "outputs": [
    {
     "name": "stdout",
     "output_type": "stream",
     "text": [
      "Hello\n"
     ]
    }
   ],
   "source": [
    "ankit.say_hi()"
   ]
  },
  {
   "cell_type": "code",
   "execution_count": 127,
   "id": "df238b1d-f68d-4cf0-b8ab-1c9e1d7ea6d1",
   "metadata": {},
   "outputs": [
    {
     "name": "stdout",
     "output_type": "stream",
     "text": [
      "Good morning\n"
     ]
    }
   ],
   "source": [
    "sujal.say_hi()"
   ]
  },
  {
   "cell_type": "code",
   "execution_count": null,
   "id": "abd8fded-b847-4865-b311-86b94b637651",
   "metadata": {},
   "outputs": [],
   "source": []
  }
 ],
 "metadata": {
  "kernelspec": {
   "display_name": "Python 3 (ipykernel)",
   "language": "python",
   "name": "python3"
  },
  "language_info": {
   "codemirror_mode": {
    "name": "ipython",
    "version": 3
   },
   "file_extension": ".py",
   "mimetype": "text/x-python",
   "name": "python",
   "nbconvert_exporter": "python",
   "pygments_lexer": "ipython3",
   "version": "3.12.0"
  }
 },
 "nbformat": 4,
 "nbformat_minor": 5
}
