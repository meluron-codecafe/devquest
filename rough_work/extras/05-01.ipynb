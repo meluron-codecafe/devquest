{
 "cells": [
  {
   "cell_type": "code",
   "execution_count": 1,
   "id": "8aafc62f-2003-4b7c-92eb-faaabbbc0835",
   "metadata": {},
   "outputs": [],
   "source": [
    "#hide"
   ]
  },
  {
   "cell_type": "code",
   "execution_count": 2,
   "id": "663ff23b-9c42-4e09-8358-2bbfeec13b44",
   "metadata": {
    "jupyter": {
     "source_hidden": true
    }
   },
   "outputs": [
    {
     "data": {
      "text/html": [
       "\n",
       "    <div style=\"\n",
       "        position: relative;\n",
       "        display: flex; \n",
       "        align-items: center; \n",
       "        justify-content: flex-start;\n",
       "        min-height: 80px;\n",
       "        width: 800px;\n",
       "        background: linear-gradient(135deg, #f5f7fa 0%, #c3cfe2 100%);\n",
       "        padding: 20px;\n",
       "        border-radius: 12px;\n",
       "        box-shadow: 0 4px 15px rgba(0, 0, 0, 0.1);\n",
       "        border: 1px solid #e1e8ed;\n",
       "        margin: 10px 0;\n",
       "        font-family: 'Segoe UI', Tahoma, Geneva, Verdana, sans-serif;\n",
       "    \">\n",
       "\n",
       "        <!-- GitHub Icon + Name in top-right -->\n",
       "        <a href=\"https://github.com/meluron-codecafe\" target=\"_blank\" style=\"\n",
       "            position: absolute;\n",
       "            top: 16px;\n",
       "            right: 20px;\n",
       "            display: flex;\n",
       "            align-items: center;\n",
       "            text-decoration: none;\n",
       "            color: #333;\n",
       "            font-size: 14px;\n",
       "            font-weight: 500;\n",
       "            gap: 6px;\n",
       "        \">\n",
       "            <img src=\"https://cdn-icons-png.flaticon.com/512/25/25231.png\" \n",
       "                 alt=\"GitHub\" \n",
       "                 style=\"width: 18px; height: 18px; display: inline-block; vertical-align: middle;\">\n",
       "            <span style=\"transform: translateY(-1px); line-height: 1;\">\n",
       "                /meluron-codecafe\n",
       "            </span>\n",
       "        </a>\n",
       "\n",
       "        <!-- Logo + Label stacked vertically -->\n",
       "        <div style=\"\n",
       "            display: flex; \n",
       "            flex-direction: column; \n",
       "            align-items: center; \n",
       "            justify-content: center;\n",
       "            margin-right: 35px;\n",
       "        \">\n",
       "            <a href=\"https://meluron-codecafe.github.io/DevQuest/\">\n",
       "                <img src=\"https://raw.githubusercontent.com/meluron/assets/refs/heads/main/logos/meluron-codecafe/DevQuest/orig.png\" \n",
       "                     alt=\"My Logo\" \n",
       "                     style=\"\n",
       "                        width: 70px; \n",
       "                        height: 70px;\n",
       "                        border-radius: 8px;\n",
       "                        box-shadow: 0 3px 10px rgba(253, 138, 9, 0.3);\n",
       "                     \">\n",
       "            </a>\n",
       "            <div style=\"\n",
       "                font-size: 13px; \n",
       "                color: #fd8a09; \n",
       "                font-weight: bold;\n",
       "                margin-top: 6px;\n",
       "                text-align: center;\n",
       "            \">\n",
       "            </div>\n",
       "        </div>\n",
       "\n",
       "        <!-- Question Badge -->\n",
       "        <div style=\"\n",
       "            font-size: 14px; \n",
       "            background: linear-gradient(135deg, #667eea, #764ba2);\n",
       "            color: white; \n",
       "            padding: 8px 14px; \n",
       "            border-radius: 20px; \n",
       "            display: inline-flex;\n",
       "            align-items: center;\n",
       "            gap: 6px;\n",
       "            font-weight: 600;\n",
       "            box-shadow: 0 3px 12px rgba(102, 126, 234, 0.3);\n",
       "        \">\n",
       "            <span style=\"font-size: 16px;\">❔</span>\n",
       "            How do we store data in python?\n",
       "            \n",
       "        </div>\n",
       "    </div>\n",
       "    "
      ],
      "text/plain": [
       "<IPython.core.display.HTML object>"
      ]
     },
     "metadata": {},
     "output_type": "display_data"
    }
   ],
   "source": [
    "#hide\n",
    "import utils\n",
    "utils.hero(\"How do we store data in python?\")"
   ]
  },
  {
   "cell_type": "code",
   "execution_count": 3,
   "id": "a5a3148b-05ac-4555-930e-0f6fe9abc951",
   "metadata": {
    "jupyter": {
     "source_hidden": true
    }
   },
   "outputs": [
    {
     "data": {
      "text/html": [
       "\n",
       "        <div style=\"\n",
       "            margin: 25px 0 15px 0;\n",
       "            padding: 0;\n",
       "        \">\n",
       "            <h2 style=\"\n",
       "                font-size: 24px;\n",
       "                font-weight: 600;\n",
       "                color: #2c3e50;\n",
       "                margin: 0;\n",
       "                padding: 12px 0 8px 0;\n",
       "                display: inline-block;\n",
       "                font-family: 'Segoe UI', Tahoma, Geneva, Verdana, sans-serif;\n",
       "                background: linear-gradient(135deg, #667eea, #764ba2);\n",
       "                -webkit-background-clip: text;\n",
       "                -webkit-text-fill-color: transparent;\n",
       "                background-clip: text;\n",
       "            \">▶ What is Data?</h2>\n",
       "        </div>\n",
       "    "
      ],
      "text/plain": [
       "<IPython.core.display.HTML object>"
      ]
     },
     "metadata": {},
     "output_type": "display_data"
    }
   ],
   "source": [
    "#hide\n",
    "utils.h1(\"What is Data?\")"
   ]
  },
  {
   "cell_type": "markdown",
   "id": "ed46fb86-eddc-4c91-aab9-0bbac4ff04a4",
   "metadata": {},
   "source": [
    "Information is floating all around us. Any piece of information that can be **collected**, **stored**, **analysed** and **manipulated** is referred to as data. For example, the name, color, weight, size, height associated to anything you see around is **data**."
   ]
  },
  {
   "cell_type": "markdown",
   "id": "fec3014f-5c51-4130-8ce1-4c4e53f0df20",
   "metadata": {},
   "source": [
    "The operations like **collecting**, **storing**, **analysing** and **manipulating** data can be done both manually or with machines. But in most cases, using a machine makes it easier, faster and less error-prone to run these operations. \\\n",
    "However to make use of machines, we need to have a system well designed and optimised for such operations. For such optimisation, it becomes relevant to categorise data into different categories. \\\n",
    "For example, all the *words like data* can be grouped into one data type (say, **string**), similary all the *integers like data* can be grouped together into one data type (say, **int**)."
   ]
  },
  {
   "cell_type": "code",
   "execution_count": 4,
   "id": "15d54a44-9b9c-4208-b9c3-055d7859dc7f",
   "metadata": {
    "jupyter": {
     "source_hidden": true
    }
   },
   "outputs": [
    {
     "data": {
      "text/html": [
       "\n",
       "        <div style=\"\n",
       "            margin: 25px 0 15px 0;\n",
       "            padding: 0;\n",
       "        \">\n",
       "            <h2 style=\"\n",
       "                font-size: 24px;\n",
       "                font-weight: 600;\n",
       "                color: #2c3e50;\n",
       "                margin: 0;\n",
       "                padding: 12px 0 8px 0;\n",
       "                display: inline-block;\n",
       "                font-family: 'Segoe UI', Tahoma, Geneva, Verdana, sans-serif;\n",
       "                background: linear-gradient(135deg, #667eea, #764ba2);\n",
       "                -webkit-background-clip: text;\n",
       "                -webkit-text-fill-color: transparent;\n",
       "                background-clip: text;\n",
       "            \">▶ What are data types?</h2>\n",
       "        </div>\n",
       "    "
      ],
      "text/plain": [
       "<IPython.core.display.HTML object>"
      ]
     },
     "metadata": {},
     "output_type": "display_data"
    }
   ],
   "source": [
    "#hide\n",
    "utils.h1(\"What are data types?\")"
   ]
  },
  {
   "cell_type": "markdown",
   "id": "e01f82a1-b3ba-4103-a116-8e2e3f58915f",
   "metadata": {},
   "source": [
    "A **data type** defines \"What kind of value it is\". Also, for different datatypes, we have access to different methods that we can perform on the data."
   ]
  },
  {
   "cell_type": "code",
   "execution_count": 5,
   "id": "b9584fca-ba22-4ed6-9c63-06c110e383d0",
   "metadata": {
    "jupyter": {
     "source_hidden": true
    }
   },
   "outputs": [
    {
     "data": {
      "text/html": [
       "\n",
       "        <div style=\"\n",
       "            margin: 25px 0 15px 0;\n",
       "            padding: 0;\n",
       "        \">\n",
       "            <h2 style=\"\n",
       "                font-size: 24px;\n",
       "                font-weight: 600;\n",
       "                color: #2c3e50;\n",
       "                margin: 0;\n",
       "                padding: 12px 0 8px 0;\n",
       "                display: inline-block;\n",
       "                font-family: 'Segoe UI', Tahoma, Geneva, Verdana, sans-serif;\n",
       "                background: linear-gradient(135deg, #667eea, #764ba2);\n",
       "                -webkit-background-clip: text;\n",
       "                -webkit-text-fill-color: transparent;\n",
       "                background-clip: text;\n",
       "            \">▶ How are data types defined in python?</h2>\n",
       "        </div>\n",
       "    "
      ],
      "text/plain": [
       "<IPython.core.display.HTML object>"
      ]
     },
     "metadata": {},
     "output_type": "display_data"
    }
   ],
   "source": [
    "#hide\n",
    "utils.h1(\"How are data types defined in python?\")"
   ]
  },
  {
   "cell_type": "markdown",
   "id": "3d09b493-1d4b-42fe-b986-2896b7d56edd",
   "metadata": {},
   "source": [
    "In python, data types are nothing but classes predefined by python developers and the **API** can be used by other developers. \\\n",
    "**API** stands for **Application Programming Interface** where user can interact with the system without gettting into the internal workings of the system. \\\n",
    "1. You give input.\n",
    "2. You know what the function does.\n",
    "3. You get the output.\n",
    "   \n",
    "You do not bother about the logic."
   ]
  },
  {
   "cell_type": "code",
   "execution_count": 6,
   "id": "6ebedccd-58bd-44a5-9ce2-f2634d42820e",
   "metadata": {
    "jupyter": {
     "source_hidden": true
    }
   },
   "outputs": [
    {
     "data": {
      "text/html": [
       "\n",
       "        <div style=\"\n",
       "            margin: 25px 0 15px 0;\n",
       "            padding: 0;\n",
       "        \">\n",
       "            <h2 style=\"\n",
       "                font-size: 24px;\n",
       "                font-weight: 600;\n",
       "                color: #2c3e50;\n",
       "                margin: 0;\n",
       "                padding: 12px 0 8px 0;\n",
       "                display: inline-block;\n",
       "                font-family: 'Segoe UI', Tahoma, Geneva, Verdana, sans-serif;\n",
       "                background: linear-gradient(135deg, #667eea, #764ba2);\n",
       "                -webkit-background-clip: text;\n",
       "                -webkit-text-fill-color: transparent;\n",
       "                background-clip: text;\n",
       "            \">▶ What are some of the data types available in Python?</h2>\n",
       "        </div>\n",
       "    "
      ],
      "text/plain": [
       "<IPython.core.display.HTML object>"
      ]
     },
     "metadata": {},
     "output_type": "display_data"
    }
   ],
   "source": [
    "#hide\n",
    "utils.h1(\"What are some of the data types available in Python?\")"
   ]
  },
  {
   "cell_type": "markdown",
   "id": "dedcc7b9-5ac3-4759-ad4d-d936296b2850",
   "metadata": {},
   "source": [
    "<table>\n",
    "  <thead>\n",
    "    <tr>\n",
    "      <th>Category</th>\n",
    "      <th>Python Class</th>\n",
    "      <th>Description</th>\n",
    "    </tr>\n",
    "  </thead>\n",
    "  <tbody>\n",
    "    <tr>\n",
    "      <td>Integer</td>\n",
    "      <td><code>int</code></td>\n",
    "      <td>Whole numbers (e.g., 1, -3, 42)</td>\n",
    "    </tr>\n",
    "    <tr>\n",
    "      <td>Floating Point Number</td>\n",
    "      <td><code>float</code></td>\n",
    "      <td>Decimal numbers (e.g., 3.14, -0.01)</td>\n",
    "    </tr>\n",
    "    <tr>\n",
    "      <td>Boolean</td>\n",
    "      <td><code>bool</code></td>\n",
    "      <td>Logical values (<code>True</code> or <code>False</code>)</td>\n",
    "    </tr>\n",
    "    <tr>\n",
    "      <td>String</td>\n",
    "      <td><code>str</code></td>\n",
    "      <td>Sequence of characters (e.g., \"hello\")</td>\n",
    "    </tr>\n",
    "    <tr>\n",
    "      <td>List (Ordered, Mutable)</td>\n",
    "      <td><code>list</code></td>\n",
    "      <td>Ordered collection of objects (e.g., [1, 2, 3.5, \"car\", True])</td>\n",
    "    </tr>\n",
    "    <tr>\n",
    "      <td>Tuple (Ordered, Immutable)</td>\n",
    "      <td><code>tuple</code></td>\n",
    "      <td>Immutable ordered collection of objects (e.g., (1, 2, 3, \"car\", True))</td>\n",
    "    </tr>\n",
    "    <tr>\n",
    "      <td>Set (Unordered, Unique)</td>\n",
    "      <td><code>set</code></td>\n",
    "      <td>Unordered collection with unique elements (e.g., {1, 2})</td>\n",
    "    </tr>\n",
    "    <tr>\n",
    "      <td>Dictionary (Key-Value Store)</td>\n",
    "      <td><code>dict</code></td>\n",
    "      <td>Key-value pairs (e.g., {\"a\": 1, \"b\": 2})</td>\n",
    "    </tr>\n",
    "    <tr>\n",
    "      <td>Bytes</td>\n",
    "      <td><code>bytes</code></td>\n",
    "      <td>Immutable sequence of bytes (e.g., b\"hello\")</td>\n",
    "    </tr>\n",
    "    <tr>\n",
    "      <td>Bytearray</td>\n",
    "      <td><code>bytearray</code></td>\n",
    "      <td>Mutable sequence of bytes</td>\n",
    "    </tr>\n",
    "    <tr>\n",
    "      <td>None Type</td>\n",
    "      <td><code>NoneType</code></td>\n",
    "      <td>Represents the absence of a value (<code>None</code>)</td>\n",
    "    </tr>\n",
    "  </tbody>\n",
    "</table>\n"
   ]
  },
  {
   "cell_type": "code",
   "execution_count": 7,
   "id": "70223bba-380d-4183-9aff-77763d33ddcb",
   "metadata": {
    "jupyter": {
     "source_hidden": true
    }
   },
   "outputs": [
    {
     "data": {
      "text/html": [
       "\n",
       "        <div style=\"\n",
       "            margin: 25px 0 15px 0;\n",
       "            padding: 0;\n",
       "        \">\n",
       "            <h2 style=\"\n",
       "                font-size: 24px;\n",
       "                font-weight: 600;\n",
       "                color: #2c3e50;\n",
       "                margin: 0;\n",
       "                padding: 12px 0 8px 0;\n",
       "                display: inline-block;\n",
       "                font-family: 'Segoe UI', Tahoma, Geneva, Verdana, sans-serif;\n",
       "                background: linear-gradient(135deg, #667eea, #764ba2);\n",
       "                -webkit-background-clip: text;\n",
       "                -webkit-text-fill-color: transparent;\n",
       "                background-clip: text;\n",
       "            \">▶ What happens when we write 'a = 10' in python?</h2>\n",
       "        </div>\n",
       "    "
      ],
      "text/plain": [
       "<IPython.core.display.HTML object>"
      ]
     },
     "metadata": {},
     "output_type": "display_data"
    }
   ],
   "source": [
    "#hide\n",
    "utils.h1(\"What happens when we write 'a = 10' in python?\")"
   ]
  },
  {
   "cell_type": "markdown",
   "id": "c85f22e4-4147-4c8c-96fd-6043275b95dd",
   "metadata": {},
   "source": [
    "When we assign a value to a variable, say `a = 10`:\n",
    "1. An object of `class int` with `value 10` is created and stored in the memory.\n",
    "2. `a` points to the memory address of the object.\n",
    "\n",
    "To check the address of an object, you can use `id(a)`. \\\n",
    "To check the size of an object, you can use `sys` module in python and run `sys.getsizeof(a)`"
   ]
  },
  {
   "cell_type": "code",
   "execution_count": 8,
   "id": "4e9be197-0c69-4e66-91f3-13b9ecb7c47f",
   "metadata": {},
   "outputs": [
    {
     "name": "stdout",
     "output_type": "stream",
     "text": [
      "Type of 'a': <class 'int'>\n",
      "Memory address that 'a' is pointing to: 4341841248\n"
     ]
    }
   ],
   "source": [
    "a = 10\n",
    "print(f\"Type of 'a': {type(a)}\")\n",
    "print(f\"Memory address that 'a' is pointing to: {id(a)}\")"
   ]
  },
  {
   "cell_type": "code",
   "execution_count": 9,
   "id": "bf733f8e-d7cc-4b5e-8f78-3bcf326222cf",
   "metadata": {},
   "outputs": [
    {
     "name": "stdout",
     "output_type": "stream",
     "text": [
      "The size of the object that 'a' is pointing to: 28 bytes.\n"
     ]
    }
   ],
   "source": [
    "import sys\n",
    "size = sys.getsizeof(a)\n",
    "print(f\"The size of the object that 'a' is pointing to: {size} bytes.\")"
   ]
  },
  {
   "cell_type": "code",
   "execution_count": 10,
   "id": "c04b99ea-bf04-4705-ae14-d1f916733fd2",
   "metadata": {
    "jupyter": {
     "source_hidden": true
    }
   },
   "outputs": [
    {
     "data": {
      "text/html": [
       "\n",
       "    <div style=\"\n",
       "        margin: 15px 0; \n",
       "        padding: 16px 20px; \n",
       "        border-radius: 8px; \n",
       "        border-left: 4px solid #607d8b; \n",
       "        box-shadow: 0 2px 8px rgba(0, 0, 0, 0.1); \n",
       "        background-color: #f8f9fa; \n",
       "        color: #37474f;\n",
       "        font-family: -apple-system, BlinkMacSystemFont, 'Segoe UI', Roboto, sans-serif;\n",
       "    \">\n",
       "        <div style=\"\n",
       "            font-weight: bold; \n",
       "            margin-bottom: 12px; \n",
       "            font-size: 14px; \n",
       "            text-transform: uppercase; \n",
       "            letter-spacing: 0.5px;\n",
       "            display: flex;\n",
       "            align-items: center;\n",
       "            gap: 8px;\n",
       "        \">\n",
       "            <span style=\"font-size: 18px;\">🧭</span>\n",
       "            Navigation\n",
       "        </div>\n",
       "        <div style=\"\n",
       "            display: flex; \n",
       "            justify-content: space-between; \n",
       "            align-items: center;\n",
       "            gap: 16px;\n",
       "        \">\n",
       "            <div><span style=\"color: #999; padding: 8px 12px;\">⬅️ Previous Section</span></div>\n",
       "            <div><a href=\"./05-02.html\" style=\"color: #2e7d32; text-decoration: none; padding: 8px 12px; border-radius: 4px; background-color: #e8f5e8; border: 1px solid #66bb6a; display: inline-block; font-weight: 500;\">Next Section ➡️</a></div>\n",
       "        </div>\n",
       "    </div>\n",
       "    "
      ],
      "text/plain": [
       "<IPython.core.display.HTML object>"
      ]
     },
     "execution_count": 10,
     "metadata": {},
     "output_type": "execute_result"
    }
   ],
   "source": [
    "#hide\n",
    "utils.nav(\"\", \"./05-02.html\")"
   ]
  },
  {
   "cell_type": "code",
   "execution_count": null,
   "id": "6846e1b7-3715-487e-a871-56c2de0dbe9c",
   "metadata": {},
   "outputs": [],
   "source": []
  }
 ],
 "metadata": {
  "kernelspec": {
   "display_name": "DevQuest",
   "language": "python",
   "name": "devquest-3.12"
  },
  "language_info": {
   "codemirror_mode": {
    "name": "ipython",
    "version": 3
   },
   "file_extension": ".py",
   "mimetype": "text/x-python",
   "name": "python",
   "nbconvert_exporter": "python",
   "pygments_lexer": "ipython3",
   "version": "3.12.0"
  }
 },
 "nbformat": 4,
 "nbformat_minor": 5
}
