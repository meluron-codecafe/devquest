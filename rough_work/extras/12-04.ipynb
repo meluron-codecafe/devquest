{
 "cells": [
  {
   "cell_type": "code",
   "execution_count": 1,
   "id": "4a2abc86-ee13-4093-9f82-0f42106113dc",
   "metadata": {},
   "outputs": [],
   "source": [
    "#hide"
   ]
  },
  {
   "cell_type": "code",
   "execution_count": 2,
   "id": "38c3f17d-619d-418f-ab61-452f801790d7",
   "metadata": {
    "jupyter": {
     "source_hidden": true
    }
   },
   "outputs": [
    {
     "data": {
      "text/html": [
       "\n",
       "    <div style=\"\n",
       "        position: relative;\n",
       "        display: flex; \n",
       "        align-items: center; \n",
       "        justify-content: flex-start;\n",
       "        min-height: 80px;\n",
       "        width: 800px;\n",
       "        background: linear-gradient(135deg, #f5f7fa 0%, #c3cfe2 100%);\n",
       "        padding: 20px;\n",
       "        border-radius: 12px;\n",
       "        box-shadow: 0 4px 15px rgba(0, 0, 0, 0.1);\n",
       "        border: 1px solid #e1e8ed;\n",
       "        margin: 10px 0;\n",
       "        font-family: 'Segoe UI', Tahoma, Geneva, Verdana, sans-serif;\n",
       "    \">\n",
       "\n",
       "        <!-- GitHub Icon + Name in top-right -->\n",
       "        <a href=\"https://github.com/meluron-codecafe\" target=\"_blank\" style=\"\n",
       "            position: absolute;\n",
       "            top: 16px;\n",
       "            right: 20px;\n",
       "            display: flex;\n",
       "            align-items: center;\n",
       "            text-decoration: none;\n",
       "            color: #333;\n",
       "            font-size: 14px;\n",
       "            font-weight: 500;\n",
       "            gap: 6px;\n",
       "        \">\n",
       "            <img src=\"https://cdn-icons-png.flaticon.com/512/25/25231.png\" \n",
       "                 alt=\"GitHub\" \n",
       "                 style=\"width: 18px; height: 18px; display: inline-block; vertical-align: middle;\">\n",
       "            <span style=\"transform: translateY(-1px); line-height: 1;\">\n",
       "                /meluron-codecafe\n",
       "            </span>\n",
       "        </a>\n",
       "\n",
       "        <!-- Logo + Label stacked vertically -->\n",
       "        <div style=\"\n",
       "            display: flex; \n",
       "            flex-direction: column; \n",
       "            align-items: center; \n",
       "            justify-content: center;\n",
       "            margin-right: 35px;\n",
       "        \">\n",
       "            <a href=\"https://meluron-codecafe.github.io/DevQuest/\">\n",
       "                <img src=\"https://raw.githubusercontent.com/meluron/assets/refs/heads/main/logos/meluron-codecafe/DevQuest/icon_with_text.png\" \n",
       "                     alt=\"My Logo\" \n",
       "                     style=\"\n",
       "                        width: 120px; \n",
       "                        height: 50px;\n",
       "                        border-radius: 5px;\n",
       "                        box-shadow: 0 3px 10px rgba(253, 138, 9, 0.3);\n",
       "                     \">\n",
       "            </a>\n",
       "            <div style=\"\n",
       "                font-size: 13px; \n",
       "                color: #fd8a09; \n",
       "                font-weight: bold;\n",
       "                margin-top: 6px;\n",
       "                text-align: center;\n",
       "            \">\n",
       "            </div>\n",
       "        </div>\n",
       "\n",
       "        <!-- Question Badge -->\n",
       "        <div style=\"\n",
       "            font-size: 14px; \n",
       "            background: linear-gradient(135deg, #667eea, #764ba2);\n",
       "            color: white; \n",
       "            padding: 8px 10px; \n",
       "            border-radius: 5px; \n",
       "            display: inline-flex;\n",
       "            align-items: center;\n",
       "            gap: 6px;\n",
       "            font-weight: 600;\n",
       "            box-shadow: 0 3px 12px rgba(102, 126, 234, 0.3);\n",
       "            margin-top: -10px;\n",
       "        \">\n",
       "            Analytical Time Complexity\n",
       "            \n",
       "        </div>\n",
       "    </div>\n",
       "    "
      ],
      "text/plain": [
       "<IPython.core.display.HTML object>"
      ]
     },
     "metadata": {},
     "output_type": "display_data"
    }
   ],
   "source": [
    "#hide\n",
    "import utils\n",
    "utils.hero(\"Analytical Time Complexity\")"
   ]
  },
  {
   "cell_type": "markdown",
   "id": "e1826472-973b-4b22-a6a4-0cfb2d371fca",
   "metadata": {},
   "source": [
    "**Timing Function** $T(N)$: It is the amount of time in some unit of time (say, seconds) \n",
    "that an algorigthm takes for a problem with input size of N.\n",
    "\n",
    "The problems with finding such a function is that there is a lot of variability.\n",
    "- Every computer's processing speed is different.\n",
    "- Not all operations take same amount of time. (sqrt takes longer that basic arithmetic ops)\n",
    "- There is a lot of background processes going on in the computer which also affects $T(N)$\n",
    "- $T(N)$ also depends on implementation details of the algorithm, for example, we can have\n",
    "algorithm with similar concept but little minor improvements."
   ]
  },
  {
   "cell_type": "markdown",
   "id": "6fa65dd5-1a33-4ef0-a563-89e4f51fd651",
   "metadata": {},
   "source": [
    "In order to solve this problem of finding out the **timing function** of an algorithm, we have a mathematical construct **Big-O Notation** for any **function**. \\\n",
    "**Big-O Notation** is a mathematical construct that helps us to know **blurry upper bound** of a function with respect to **input size**. We ignore **constant** and **non-dominant terms**. \\\n",
    "Mathematically, A function $f(N)$ is $O(g(N))$ if \\\n",
    "$\\exists$ two constants $c$ and $N_o$ such that \\\n",
    "$f(N) \\leq c*g(N)$ $\\forall N \\geq N_0$"
   ]
  },
  {
   "cell_type": "markdown",
   "id": "21273543-b00e-4e10-b069-23a9ac8bdaba",
   "metadata": {},
   "source": [
    "Ex1) Find the Big-O notation for the $f(N)$ given by: \\\n",
    "$f(N) = 5N^2 + 3N + 2$ \\\n",
    "Suppose that $g(N) = N^2$ then we need to find $c$ and $n_0$ such that \\\n",
    "$f(N) \\leq c * N^2$ $\\forall N \\geq n_0$ \\\n",
    "$f(N) = 5N^2 + 3N + 2 \\leq 5N^2 + 3N^2 + 2N^2 = 10 * N^2$ for all $N > 1$ \\\n",
    "$f(N) \\leq 10 * g(N)$ for all $N > 1$ \\\n",
    "Hence, we found $c$ and $n_0$ which proves that $f(N) = O(N^2)$"
   ]
  },
  {
   "cell_type": "code",
   "execution_count": 12,
   "id": "e94a7605-af4f-4dc7-9e11-00a682868926",
   "metadata": {},
   "outputs": [
    {
     "data": {
      "image/png": "[encoded data removed]",
      "text/plain": [
       "<Figure size 1400x300 with 1 Axes>"
      ]
     },
     "metadata": {},
     "output_type": "display_data"
    }
   ],
   "source": [
    "import numpy as np\n",
    "import matplotlib.pyplot as plt\n",
    "Ns = np.arange(10)\n",
    "f = 5 * Ns ** 2 + 3 * Ns + 2\n",
    "c = 10\n",
    "g = c * Ns ** 2\n",
    "plt.figure(figsize=(14, 3))\n",
    "plt.plot(f)\n",
    "plt.plot(g)\n",
    "plt.legend([\"f(N)\", \"c*g(N)\"])\n",
    "plt.show()"
   ]
  },
  {
   "cell_type": "markdown",
   "id": "5e2f462a-4bd0-4800-9a21-2c58f38de79e",
   "metadata": {},
   "source": [
    "Now let us discuss about **Big-O Notation** for **algorithm** \\\n",
    "Assume $T(N)$ to be the total time taken by the algorithm to run. \\\n",
    "We can have three cases, \\\n",
    "Best case ($T(N)$), Average case ($T(N)$), Worst case ($T(N)$)"
   ]
  },
  {
   "cell_type": "markdown",
   "id": "51390a89-c2a7-472d-958c-cde4d2c4df39",
   "metadata": {},
   "source": [
    "We will focus more on worst case scenerio for an example algorithm that we wrote in the previous sections.\n",
    "\n",
    "In the previous section, we wrote these algorithms for finding *sum pairs*:\n",
    "- **Naive Implementation**: Here we ran two for loops, considering each for loop takes $a$ amount of time.\n",
    "The total time taken by the algorithm is given by \\\n",
    "$T(N) = a * N^2$\n",
    "\n",
    "Hence, for this problem, we can say that the time complexity or Big-O notation is $O(N^2)$ with the constants ($c=a$ and $N_0=0$)\n",
    "\n",
    "- **Version 1**: Here we ran j from i+1 to len(arr) which saves us some extra compute.\n",
    "The total time taken by the algorithm is given by \\\n",
    "$T(N) = \\frac{a*N(N-1)}{2}$\n",
    "\n",
    "For this problem, we again have the time complexity of $O(N^2)$ with the constants ($c = \\frac{1}{2}$ and $N_0 = 0$)\n",
    "\n",
    "- **Version 3**: Here we sort the arr first and loop once to check for corresponding elements.\n",
    "The total time taken by the algorithm is given by \\\n",
    "$T(N) = a * N * \\log_2(N-1) + b * N$\n",
    "\n",
    "For this problem, we have the time complexity of $O(N \\log_2(N))$ with the constants ($c = a + b$ and $N_0 = 2$)"
   ]
  },
  {
   "cell_type": "code",
   "execution_count": null,
   "id": "395ab2a9-3712-4f3b-9915-98401346ab9b",
   "metadata": {},
   "outputs": [],
   "source": []
  }
 ],
 "metadata": {
  "kernelspec": {
   "display_name": "Python 3 (ipykernel)",
   "language": "python",
   "name": "python3"
  },
  "language_info": {
   "codemirror_mode": {
    "name": "ipython",
    "version": 3
   },
   "file_extension": ".py",
   "mimetype": "text/x-python",
   "name": "python",
   "nbconvert_exporter": "python",
   "pygments_lexer": "ipython3",
   "version": "3.10.18"
  }
 },
 "nbformat": 4,
 "nbformat_minor": 5
}
