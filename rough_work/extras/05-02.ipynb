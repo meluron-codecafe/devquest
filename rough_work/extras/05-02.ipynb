{
 "cells": [
  {
   "cell_type": "code",
   "execution_count": 2,
   "id": "1bf8bf7f-d526-4030-a2df-1bb2e5a27133",
   "metadata": {},
   "outputs": [],
   "source": [
    "#hide"
   ]
  },
  {
   "cell_type": "code",
   "execution_count": 3,
   "id": "e3b09600-af7b-41ce-8283-9c23e001340d",
   "metadata": {
    "jupyter": {
     "source_hidden": true
    }
   },
   "outputs": [
    {
     "data": {
      "text/html": [
       "\n",
       "    <div style=\"\n",
       "        position: relative;\n",
       "        display: flex; \n",
       "        align-items: center; \n",
       "        justify-content: flex-start;\n",
       "        min-height: 80px;\n",
       "        width: 800px;\n",
       "        background: linear-gradient(135deg, #f5f7fa 0%, #c3cfe2 100%);\n",
       "        padding: 20px;\n",
       "        border-radius: 12px;\n",
       "        box-shadow: 0 4px 15px rgba(0, 0, 0, 0.1);\n",
       "        border: 1px solid #e1e8ed;\n",
       "        margin: 10px 0;\n",
       "        font-family: 'Segoe UI', Tahoma, Geneva, Verdana, sans-serif;\n",
       "    \">\n",
       "\n",
       "        <!-- GitHub Icon + Name in top-right -->\n",
       "        <a href=\"https://github.com/meluron-codecafe\" target=\"_blank\" style=\"\n",
       "            position: absolute;\n",
       "            top: 16px;\n",
       "            right: 20px;\n",
       "            display: flex;\n",
       "            align-items: center;\n",
       "            text-decoration: none;\n",
       "            color: #333;\n",
       "            font-size: 14px;\n",
       "            font-weight: 500;\n",
       "            gap: 6px;\n",
       "        \">\n",
       "            <img src=\"https://cdn-icons-png.flaticon.com/512/25/25231.png\" \n",
       "                 alt=\"GitHub\" \n",
       "                 style=\"width: 18px; height: 18px; display: inline-block; vertical-align: middle;\">\n",
       "            <span style=\"transform: translateY(-1px); line-height: 1;\">\n",
       "                /meluron-codecafe\n",
       "            </span>\n",
       "        </a>\n",
       "\n",
       "        <!-- Logo + Label stacked vertically -->\n",
       "        <div style=\"\n",
       "            display: flex; \n",
       "            flex-direction: column; \n",
       "            align-items: center; \n",
       "            justify-content: center;\n",
       "            margin-right: 35px;\n",
       "        \">\n",
       "            <a href=\"https://meluron-codecafe.github.io/DevQuest/\">\n",
       "                <img src=\"https://raw.githubusercontent.com/meluron/assets/refs/heads/main/logos/meluron-codecafe/DevQuest/orig.png\" \n",
       "                     alt=\"My Logo\" \n",
       "                     style=\"\n",
       "                        width: 70px; \n",
       "                        height: 70px;\n",
       "                        border-radius: 8px;\n",
       "                        box-shadow: 0 3px 10px rgba(253, 138, 9, 0.3);\n",
       "                     \">\n",
       "            </a>\n",
       "            <div style=\"\n",
       "                font-size: 13px; \n",
       "                color: #fd8a09; \n",
       "                font-weight: bold;\n",
       "                margin-top: 6px;\n",
       "                text-align: center;\n",
       "            \">\n",
       "            </div>\n",
       "        </div>\n",
       "\n",
       "        <!-- Question Badge -->\n",
       "        <div style=\"\n",
       "            font-size: 14px; \n",
       "            background: linear-gradient(135deg, #667eea, #764ba2);\n",
       "            color: white; \n",
       "            padding: 8px 14px; \n",
       "            border-radius: 20px; \n",
       "            display: inline-flex;\n",
       "            align-items: center;\n",
       "            gap: 6px;\n",
       "            font-weight: 600;\n",
       "            box-shadow: 0 3px 12px rgba(102, 126, 234, 0.3);\n",
       "        \">\n",
       "            <span style=\"font-size: 16px;\">❔</span>\n",
       "            How are datatypes classified in python?\n",
       "            \n",
       "        </div>\n",
       "    </div>\n",
       "    "
      ],
      "text/plain": [
       "<IPython.core.display.HTML object>"
      ]
     },
     "metadata": {},
     "output_type": "display_data"
    }
   ],
   "source": [
    "#hide\n",
    "import utils\n",
    "utils.hero(\"How are datatypes classified in python?\")"
   ]
  },
  {
   "cell_type": "markdown",
   "id": "85f76f67-3e0c-43b1-abad-780f54023bdb",
   "metadata": {},
   "source": [
    "Datatypes can be classified into the following:\n",
    "1. Primitive or Non-Primitive\n",
    "2. Mutable or Immutable\n",
    "3. Built-in or Custom"
   ]
  },
  {
   "cell_type": "code",
   "execution_count": 4,
   "id": "546b07fb-fdad-447b-9089-3e72c0ae0a70",
   "metadata": {
    "jupyter": {
     "source_hidden": true
    }
   },
   "outputs": [
    {
     "data": {
      "text/html": [
       "\n",
       "        <div style=\"\n",
       "            margin: 25px 0 15px 0;\n",
       "            padding: 0;\n",
       "        \">\n",
       "            <h2 style=\"\n",
       "                font-size: 24px;\n",
       "                font-weight: 600;\n",
       "                color: #2c3e50;\n",
       "                margin: 0;\n",
       "                padding: 12px 0 8px 0;\n",
       "                display: inline-block;\n",
       "                font-family: 'Segoe UI', Tahoma, Geneva, Verdana, sans-serif;\n",
       "                background: linear-gradient(135deg, #667eea, #764ba2);\n",
       "                -webkit-background-clip: text;\n",
       "                -webkit-text-fill-color: transparent;\n",
       "                background-clip: text;\n",
       "            \">▶ Primitive Vs Non-Primitive Data Types</h2>\n",
       "        </div>\n",
       "    "
      ],
      "text/plain": [
       "<IPython.core.display.HTML object>"
      ]
     },
     "metadata": {},
     "output_type": "display_data"
    }
   ],
   "source": [
    "#hide\n",
    "utils.h1(\"Primitive Vs Non-Primitive Data Types\")"
   ]
  },
  {
   "cell_type": "markdown",
   "id": "7b4020a4-24e6-4c08-9ed3-74bf0e9bf25e",
   "metadata": {},
   "source": [
    "- **Primitive data types** (Most basic built-in datatypes that can't be further broken down)\n",
    "1. int\n",
    "2. float\n",
    "3. string\n",
    "4. None\n",
    "5. bool\n",
    "- **Non-Primitive data types** (Any data types or objects in python that are not primitive)\n",
    "1. list\n",
    "2. dict\n",
    "3. set\n",
    "4. tuple\n",
    "5. deque\n",
    "6. numpy.ndarray\n",
    "7. pandas.DataFrame\n",
    "8. torch.Tensor\n",
    "9. a function (yes even a function in python is an object that has data like name of the function, inputs it takes, etc.)"
   ]
  },
  {
   "cell_type": "code",
   "execution_count": 6,
   "id": "c7558013-710b-4a65-a03b-522477509320",
   "metadata": {
    "jupyter": {
     "source_hidden": true
    }
   },
   "outputs": [
    {
     "data": {
      "text/html": [
       "\n",
       "        <div style=\"\n",
       "            margin: 25px 0 15px 0;\n",
       "            padding: 0;\n",
       "        \">\n",
       "            <h2 style=\"\n",
       "                font-size: 24px;\n",
       "                font-weight: 600;\n",
       "                color: #2c3e50;\n",
       "                margin: 0;\n",
       "                padding: 12px 0 8px 0;\n",
       "                display: inline-block;\n",
       "                font-family: 'Segoe UI', Tahoma, Geneva, Verdana, sans-serif;\n",
       "                background: linear-gradient(135deg, #667eea, #764ba2);\n",
       "                -webkit-background-clip: text;\n",
       "                -webkit-text-fill-color: transparent;\n",
       "                background-clip: text;\n",
       "            \">▶ Mutable Vs Immutable Data Types</h2>\n",
       "        </div>\n",
       "    "
      ],
      "text/plain": [
       "<IPython.core.display.HTML object>"
      ]
     },
     "metadata": {},
     "output_type": "display_data"
    }
   ],
   "source": [
    "#hide\n",
    "utils.h1(\"Mutable Vs Immutable Data Types\")"
   ]
  },
  {
   "cell_type": "markdown",
   "id": "bb7d0155-81b8-4389-bf7a-f3317f80ebd7",
   "metadata": {},
   "source": [
    "Everything we declare in python is an **object** which is associated to a **class**. \\\n",
    "When you create an object and assign it to a variable, the variable stores the memory location of the object or we say the variable points to the object. If the **object at that memory location** can be modified during **runtime** then the **object and the associated data type** is said to be **mutable** otherwise **immutable**."
   ]
  },
  {
   "cell_type": "markdown",
   "id": "ef5f8b55-b419-4360-809d-5f9d5cfbacf4",
   "metadata": {},
   "source": [
    "<table border=\"1\" cellpadding=\"6\" cellspacing=\"0\">\n",
    "  <thead>\n",
    "    <tr>\n",
    "      <th>Category</th>\n",
    "      <th>Data Type</th>\n",
    "      <th>Mutable?</th>\n",
    "      <th>Example</th>\n",
    "    </tr>\n",
    "  </thead>\n",
    "  <tbody>\n",
    "    <tr>\n",
    "      <td>Primitive</td>\n",
    "      <td>int</td>\n",
    "      <td>No</td>\n",
    "      <td>42</td>\n",
    "    </tr>\n",
    "    <tr>\n",
    "      <td>Primitive</td>\n",
    "      <td>float</td>\n",
    "      <td>No</td>\n",
    "      <td>3.14</td>\n",
    "    </tr>\n",
    "    <tr>\n",
    "      <td>Primitive</td>\n",
    "      <td>bool</td>\n",
    "      <td>No</td>\n",
    "      <td>True</td>\n",
    "    </tr>\n",
    "    <tr>\n",
    "      <td>Primitive</td>\n",
    "      <td>str</td>\n",
    "      <td>No</td>\n",
    "      <td>\"hello\"</td>\n",
    "    </tr>\n",
    "    <tr>\n",
    "      <td>Primitive</td>\n",
    "      <td>NoneType</td>\n",
    "      <td>No</td>\n",
    "      <td>None</td>\n",
    "    </tr>\n",
    "    <tr>\n",
    "      <td>Non-Primitive</td>\n",
    "      <td>list</td>\n",
    "      <td>Yes</td>\n",
    "      <td>[1, 2, 3]</td>\n",
    "    </tr>\n",
    "    <tr>\n",
    "      <td>Non-Primitive</td>\n",
    "      <td>dict</td>\n",
    "      <td>Yes</td>\n",
    "      <td>{\"a\": 1}</td>\n",
    "    </tr>\n",
    "    <tr>\n",
    "      <td>Non-Primitive</td>\n",
    "      <td>set</td>\n",
    "      <td>Yes</td>\n",
    "      <td>{1, 2, 3}</td>\n",
    "    </tr>\n",
    "    <tr>\n",
    "      <td>Non-Primitive</td>\n",
    "      <td>tuple</td>\n",
    "      <td>No</td>\n",
    "      <td>(1, 2, 3)</td>\n",
    "    </tr>\n",
    "    <tr>\n",
    "      <td>Non-Primitive</td>\n",
    "      <td>frozenset</td>\n",
    "      <td>No</td>\n",
    "      <td>frozenset({1, 2, 3})</td>\n",
    "    </tr>\n",
    "  </tbody>\n",
    "</table>\n"
   ]
  },
  {
   "cell_type": "code",
   "execution_count": 10,
   "id": "2c4dcd2a-5b1e-47c5-bd2e-792e29bc0a20",
   "metadata": {
    "jupyter": {
     "source_hidden": true
    }
   },
   "outputs": [
    {
     "data": {
      "text/html": [
       "\n",
       "        <div style=\"\n",
       "            margin: 25px 0 15px 0;\n",
       "            padding: 0;\n",
       "        \">\n",
       "            <h3 style=\"\n",
       "                font-size: 18px;\n",
       "                font-weight: 600;\n",
       "                color: #2c3e50;\n",
       "                margin: 0;\n",
       "                padding: 12px 0 8px 0;\n",
       "                display: inline-block;\n",
       "                border-bottom: 3px solid #667eea;\n",
       "                font-family: 'Segoe UI', Tahoma, Geneva, Verdana, sans-serif;\n",
       "                background: linear-gradient(135deg, #667eea, #764ba2);\n",
       "                -webkit-background-clip: text;\n",
       "                -webkit-text-fill-color: transparent;\n",
       "                background-clip: text;\n",
       "            \">Mutability Test of a datatype</h3>\n",
       "        </div>\n",
       "    "
      ],
      "text/plain": [
       "<IPython.core.display.HTML object>"
      ]
     },
     "metadata": {},
     "output_type": "display_data"
    }
   ],
   "source": [
    "#hide\n",
    "utils.h2(\"Mutability Test of a datatype\")"
   ]
  },
  {
   "cell_type": "code",
   "execution_count": 8,
   "id": "b7174888-3b85-463e-8bd4-0aad5e68e338",
   "metadata": {},
   "outputs": [
    {
     "name": "stdout",
     "output_type": "stream",
     "text": [
      "Variable 'a' points to 4535995744 where the stored value is 10\n",
      "Variable 'a' points to 4535996064 where the stored value is 20\n",
      "----------------------------------------------------------------------------------------------------\n"
     ]
    }
   ],
   "source": [
    "# int\n",
    "a = 10\n",
    "print(f\"Variable 'a' points to {id(a)} where the stored value is {a}\")\n",
    "a = 20\n",
    "print(f\"Variable 'a' points to {id(a)} where the stored value is {a}\")\n",
    "print(\"-\"*100)"
   ]
  },
  {
   "cell_type": "code",
   "execution_count": 7,
   "id": "8966a920-3fe2-4c71-90ad-a2bcd4b5cc25",
   "metadata": {
    "jupyter": {
     "source_hidden": true
    }
   },
   "outputs": [
    {
     "data": {
      "text/html": [
       "\n",
       "    <div style=\"\n",
       "        margin: 15px 0; \n",
       "        padding: 16px 20px; \n",
       "        border-radius: 8px; \n",
       "        border-left: 4px solid #9c27b0; \n",
       "        display: flex; \n",
       "        align-items: flex-start; \n",
       "        gap: 12px; \n",
       "        box-shadow: 0 2px 8px rgba(0, 0, 0, 0.1); \n",
       "        background-color: #f3e5f5; \n",
       "        color: #6a1b9a;\n",
       "        font-family: -apple-system, BlinkMacSystemFont, 'Segoe UI', Roboto, sans-serif;\n",
       "    \">\n",
       "        <div style=\"\n",
       "            font-size: 20px; \n",
       "            margin-top: 2px; \n",
       "            flex-shrink: 0;\n",
       "        \">❓</div>\n",
       "        <div style=\"flex: 1;\">\n",
       "            <div style=\"\n",
       "                font-weight: bold; \n",
       "                margin-bottom: 6px; \n",
       "                font-size: 14px; \n",
       "                text-transform: uppercase; \n",
       "                letter-spacing: 0.5px;\n",
       "            \">Question</div>\n",
       "            <div style=\"\n",
       "                margin: 0; \n",
       "                font-size: 14px; \n",
       "                line-height: 1.5;\n",
       "            \">What happened when we changed the value of 'a' to 20? Is 'int' mutable?</div>\n",
       "        </div>\n",
       "    </div>\n",
       "    "
      ],
      "text/plain": [
       "<IPython.core.display.HTML object>"
      ]
     },
     "execution_count": 7,
     "metadata": {},
     "output_type": "execute_result"
    }
   ],
   "source": [
    "#hide\n",
    "utils.question(\"What happened when we changed the value of 'a' to 20? Is 'int' mutable?\")"
   ]
  },
  {
   "cell_type": "markdown",
   "id": "9db1da8d-e628-43f1-bae7-9bff9f08be35",
   "metadata": {},
   "source": [
    "No, 'int' is immutable even though it seems like we managed to change the value (from 10 to 20) but under the hood when we tried to change the value by reassigning 'a' to 20, it actually created a new object(20) at a different memory location and then 'a' started pointing to the new object(20)"
   ]
  },
  {
   "cell_type": "code",
   "execution_count": 8,
   "id": "3f4d6f09-f3b2-4df7-b86b-5b69d210fe02",
   "metadata": {},
   "outputs": [
    {
     "name": "stdout",
     "output_type": "stream",
     "text": [
      "Variable 'a' points to 4432967872 where the stored value is ['pen', 'pencil']\n",
      "Variable 'a' points to 4432967872 where the stored value is ['book', 'pencil']\n",
      "----------------------------------------------------------------------------------------------------\n"
     ]
    }
   ],
   "source": [
    "# list\n",
    "a = [\"pen\", \"pencil\"]\n",
    "print(f\"Variable 'a' points to {id(a)} where the stored value is {a}\")\n",
    "a[0] = \"book\"\n",
    "print(f\"Variable 'a' points to {id(a)} where the stored value is {a}\")\n",
    "print(\"-\"*100)"
   ]
  },
  {
   "cell_type": "code",
   "execution_count": 9,
   "id": "1ed212ba-aab5-4016-b0bb-fc68baca8954",
   "metadata": {
    "jupyter": {
     "source_hidden": true
    }
   },
   "outputs": [
    {
     "data": {
      "text/html": [
       "\n",
       "    <div style=\"\n",
       "        margin: 15px 0; \n",
       "        padding: 16px 20px; \n",
       "        border-radius: 8px; \n",
       "        border-left: 4px solid #9c27b0; \n",
       "        display: flex; \n",
       "        align-items: flex-start; \n",
       "        gap: 12px; \n",
       "        box-shadow: 0 2px 8px rgba(0, 0, 0, 0.1); \n",
       "        background-color: #f3e5f5; \n",
       "        color: #6a1b9a;\n",
       "        font-family: -apple-system, BlinkMacSystemFont, 'Segoe UI', Roboto, sans-serif;\n",
       "    \">\n",
       "        <div style=\"\n",
       "            font-size: 20px; \n",
       "            margin-top: 2px; \n",
       "            flex-shrink: 0;\n",
       "        \">❓</div>\n",
       "        <div style=\"flex: 1;\">\n",
       "            <div style=\"\n",
       "                font-weight: bold; \n",
       "                margin-bottom: 6px; \n",
       "                font-size: 14px; \n",
       "                text-transform: uppercase; \n",
       "                letter-spacing: 0.5px;\n",
       "            \">Question</div>\n",
       "            <div style=\"\n",
       "                margin: 0; \n",
       "                font-size: 14px; \n",
       "                line-height: 1.5;\n",
       "            \">What happened when we changed 'a[0]' to 'book'? Is 'list' mutable?</div>\n",
       "        </div>\n",
       "    </div>\n",
       "    "
      ],
      "text/plain": [
       "<IPython.core.display.HTML object>"
      ]
     },
     "execution_count": 9,
     "metadata": {},
     "output_type": "execute_result"
    }
   ],
   "source": [
    "#hide\n",
    "utils.question(\"What happened when we changed 'a[0]' to 'book'? Is 'list' mutable?\")"
   ]
  },
  {
   "cell_type": "markdown",
   "id": "aa96ab40-ee9e-4a6d-9742-0ff3d350fe99",
   "metadata": {},
   "source": [
    "We observe that the memory location of the object even after making changes is still same, which means that we have managed to change the object at that memory location. Hence, `list` is mutable datatype. "
   ]
  },
  {
   "cell_type": "code",
   "execution_count": 10,
   "id": "72d0b2bb-8f9f-4a38-9cce-5ba94efdfd29",
   "metadata": {},
   "outputs": [
    {
     "ename": "TypeError",
     "evalue": "'tuple' object does not support item assignment",
     "output_type": "error",
     "traceback": [
      "\u001b[31m---------------------------------------------------------------------------\u001b[39m",
      "\u001b[31mTypeError\u001b[39m                                 Traceback (most recent call last)",
      "\u001b[36mCell\u001b[39m\u001b[36m \u001b[39m\u001b[32mIn[10]\u001b[39m\u001b[32m, line 3\u001b[39m\n\u001b[32m      1\u001b[39m \u001b[38;5;66;03m#tuple\u001b[39;00m\n\u001b[32m      2\u001b[39m a = (\u001b[33m\"\u001b[39m\u001b[33mpen\u001b[39m\u001b[33m\"\u001b[39m, \u001b[33m\"\u001b[39m\u001b[33mpencil\u001b[39m\u001b[33m\"\u001b[39m)\n\u001b[32m----> \u001b[39m\u001b[32m3\u001b[39m \u001b[43ma\u001b[49m\u001b[43m[\u001b[49m\u001b[32;43m0\u001b[39;49m\u001b[43m]\u001b[49m = \u001b[33m\"\u001b[39m\u001b[33mbook\u001b[39m\u001b[33m\"\u001b[39m\n",
      "\u001b[31mTypeError\u001b[39m: 'tuple' object does not support item assignment"
     ]
    }
   ],
   "source": [
    "#tuple\n",
    "a = (\"pen\", \"pencil\")\n",
    "a[0] = \"book\""
   ]
  },
  {
   "cell_type": "code",
   "execution_count": 11,
   "id": "7202e671-b5bf-4503-9fb2-0a769e63d51a",
   "metadata": {
    "jupyter": {
     "source_hidden": true
    }
   },
   "outputs": [
    {
     "data": {
      "text/html": [
       "\n",
       "    <div style=\"\n",
       "        margin: 15px 0; \n",
       "        padding: 16px 20px; \n",
       "        border-radius: 8px; \n",
       "        border-left: 4px solid #9c27b0; \n",
       "        display: flex; \n",
       "        align-items: flex-start; \n",
       "        gap: 12px; \n",
       "        box-shadow: 0 2px 8px rgba(0, 0, 0, 0.1); \n",
       "        background-color: #f3e5f5; \n",
       "        color: #6a1b9a;\n",
       "        font-family: -apple-system, BlinkMacSystemFont, 'Segoe UI', Roboto, sans-serif;\n",
       "    \">\n",
       "        <div style=\"\n",
       "            font-size: 20px; \n",
       "            margin-top: 2px; \n",
       "            flex-shrink: 0;\n",
       "        \">❓</div>\n",
       "        <div style=\"flex: 1;\">\n",
       "            <div style=\"\n",
       "                font-weight: bold; \n",
       "                margin-bottom: 6px; \n",
       "                font-size: 14px; \n",
       "                text-transform: uppercase; \n",
       "                letter-spacing: 0.5px;\n",
       "            \">Question</div>\n",
       "            <div style=\"\n",
       "                margin: 0; \n",
       "                font-size: 14px; \n",
       "                line-height: 1.5;\n",
       "            \">What happened when we tried to change 'a[0]' to 'book'? Is 'tuple' mutable?</div>\n",
       "        </div>\n",
       "    </div>\n",
       "    "
      ],
      "text/plain": [
       "<IPython.core.display.HTML object>"
      ]
     },
     "execution_count": 11,
     "metadata": {},
     "output_type": "execute_result"
    }
   ],
   "source": [
    "#hide\n",
    "utils.question(\"What happened when we tried to change 'a[0]' to 'book'? Is 'tuple' mutable?\")"
   ]
  },
  {
   "cell_type": "markdown",
   "id": "cdee85de-d0bd-433e-8037-1ed8660b1482",
   "metadata": {},
   "source": [
    "No, `tuple` is immutable. It does not allow to make any changes once defined."
   ]
  },
  {
   "cell_type": "code",
   "execution_count": 11,
   "id": "3d4a252d-42fb-49a0-967c-fce289e17a69",
   "metadata": {
    "jupyter": {
     "source_hidden": true
    }
   },
   "outputs": [
    {
     "data": {
      "text/html": [
       "\n",
       "        <div style=\"\n",
       "            margin: 25px 0 15px 0;\n",
       "            padding: 0;\n",
       "        \">\n",
       "            <h2 style=\"\n",
       "                font-size: 24px;\n",
       "                font-weight: 600;\n",
       "                color: #2c3e50;\n",
       "                margin: 0;\n",
       "                padding: 12px 0 8px 0;\n",
       "                display: inline-block;\n",
       "                font-family: 'Segoe UI', Tahoma, Geneva, Verdana, sans-serif;\n",
       "                background: linear-gradient(135deg, #667eea, #764ba2);\n",
       "                -webkit-background-clip: text;\n",
       "                -webkit-text-fill-color: transparent;\n",
       "                background-clip: text;\n",
       "            \">▶ Built-in Vs Custom Data Types</h2>\n",
       "        </div>\n",
       "    "
      ],
      "text/plain": [
       "<IPython.core.display.HTML object>"
      ]
     },
     "metadata": {},
     "output_type": "display_data"
    }
   ],
   "source": [
    "#hide\n",
    "utils.h1(\"Built-in Vs Custom Data Types\")"
   ]
  },
  {
   "cell_type": "markdown",
   "id": "bc13b421-97cf-40ae-a38c-9c18107cdecd",
   "metadata": {},
   "source": [
    "In python, we can classify data types into two categories based on whether they are built-in python:\n",
    "- **Built in datatypes** (meaning they come pre-defined with python and are available without importing any external module)\n",
    "1. For integer: int\n",
    "2. For decimal: Floating point number (float)\n",
    "3. For word/alphabet: String (str)\n",
    "4. For true/false: Boolean (bool)\n",
    "5. Ordered collection of items: List (list)\n",
    "6. Key-value mappings: Dictionary (dict)\n",
    "- **Custom datatypes** (meaning they are either created by developers (user-defined classes) or provided by external libraries)\n",
    "1. numpy.ndarray: Comes from NumPy library\n",
    "2. torch.Tensor: Comes from PyTorch library\n",
    "3. pandas.DataFrame: Comes from Pandas library\n",
    "4. Any other custom class created by the developer"
   ]
  },
  {
   "cell_type": "code",
   "execution_count": 14,
   "id": "8d1bee3f-2af1-4f2c-a78b-3f015f03b62c",
   "metadata": {
    "jupyter": {
     "source_hidden": true
    }
   },
   "outputs": [
    {
     "data": {
      "text/html": [
       "\n",
       "    <div style=\"\n",
       "        margin: 15px 0; \n",
       "        padding: 16px 20px; \n",
       "        border-radius: 8px; \n",
       "        border-left: 4px solid #607d8b; \n",
       "        box-shadow: 0 2px 8px rgba(0, 0, 0, 0.1); \n",
       "        background-color: #f8f9fa; \n",
       "        color: #37474f;\n",
       "        font-family: -apple-system, BlinkMacSystemFont, 'Segoe UI', Roboto, sans-serif;\n",
       "    \">\n",
       "        <div style=\"\n",
       "            font-weight: bold; \n",
       "            margin-bottom: 12px; \n",
       "            font-size: 14px; \n",
       "            text-transform: uppercase; \n",
       "            letter-spacing: 0.5px;\n",
       "            display: flex;\n",
       "            align-items: center;\n",
       "            gap: 8px;\n",
       "        \">\n",
       "            <span style=\"font-size: 18px;\">🧭</span>\n",
       "            Navigation\n",
       "        </div>\n",
       "        <div style=\"\n",
       "            display: flex; \n",
       "            justify-content: space-between; \n",
       "            align-items: center;\n",
       "            gap: 16px;\n",
       "        \">\n",
       "            <div><a href=\"./05.01.html\" style=\"color: #5d4037; text-decoration: none; padding: 8px 12px; border-radius: 4px; background-color: #efebe9; border: 1px solid #8d6e63; display: inline-block; font-weight: 500;\">⬅️ Previous Section</a></div>\n",
       "            <div><a href=\"./05-03.html\" style=\"color: #2e7d32; text-decoration: none; padding: 8px 12px; border-radius: 4px; background-color: #e8f5e8; border: 1px solid #66bb6a; display: inline-block; font-weight: 500;\">Next Section ➡️</a></div>\n",
       "        </div>\n",
       "    </div>\n",
       "    "
      ],
      "text/plain": [
       "<IPython.core.display.HTML object>"
      ]
     },
     "execution_count": 14,
     "metadata": {},
     "output_type": "execute_result"
    }
   ],
   "source": [
    "#hide\n",
    "utils.nav(\"./05.01.html\", \"./05-03.html\")"
   ]
  },
  {
   "cell_type": "code",
   "execution_count": null,
   "id": "5bcb91c5-b5a3-4461-a91a-e8af29381903",
   "metadata": {},
   "outputs": [],
   "source": []
  }
 ],
 "metadata": {
  "kernelspec": {
   "display_name": "Python 3 (ipykernel)",
   "language": "python",
   "name": "python3"
  },
  "language_info": {
   "codemirror_mode": {
    "name": "ipython",
    "version": 3
   },
   "file_extension": ".py",
   "mimetype": "text/x-python",
   "name": "python",
   "nbconvert_exporter": "python",
   "pygments_lexer": "ipython3",
   "version": "3.12.0"
  }
 },
 "nbformat": 4,
 "nbformat_minor": 5
}
