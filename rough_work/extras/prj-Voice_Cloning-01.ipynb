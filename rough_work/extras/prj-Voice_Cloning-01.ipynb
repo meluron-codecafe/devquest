{
 "cells": [
  {
   "cell_type": "code",
   "execution_count": 2,
   "id": "6a1725db-4cfc-4259-ab05-829d9409ddd8",
   "metadata": {
    "jupyter": {
     "source_hidden": true
    }
   },
   "outputs": [
    {
     "data": {
      "text/html": [
       "\n",
       "    <div style=\"\n",
       "        display: flex;\n",
       "        align-items: center;\n",
       "        font-family: 'Georgia', serif;\n",
       "        border-left: 3px solid #ccc;\n",
       "        padding-left: 12px;\n",
       "        margin-bottom: 1em;\n",
       "        gap: 20px;\n",
       "    \">\n",
       "        <!-- Calendar on the left -->\n",
       "        <div style=\"\n",
       "            display: inline-block;\n",
       "            font-family: 'Arial', sans-serif;\n",
       "            border-radius: 8px;\n",
       "            overflow: hidden;\n",
       "            box-shadow: 1px 1px 6px rgba(0,0,0,0.1);\n",
       "            width: 120px;\n",
       "            font-size: 12px;\n",
       "            text-align: center;\n",
       "            flex-shrink: 0;\n",
       "        \">\n",
       "            <!-- Last modified label -->\n",
       "            <div style=\"\n",
       "                background: #f4f4f4;\n",
       "                color: #555;\n",
       "                padding: 4px 0;\n",
       "                font-weight: bold;\n",
       "                border-top-left-radius: 8px;\n",
       "                border-top-right-radius: 8px;\n",
       "            \">\n",
       "                Last modified\n",
       "            </div>\n",
       "            \n",
       "            <!-- Main calendar -->\n",
       "            <div>\n",
       "                <div style=\"\n",
       "                    background: #66a6ff;\n",
       "                    color: white;\n",
       "                    padding: 5px 0;\n",
       "                    font-weight: bold;\n",
       "                \">\n",
       "                    Aug, 2025\n",
       "                </div>\n",
       "                <div style=\"\n",
       "                    background: #fff;\n",
       "                    color: #333;\n",
       "                    padding: 8px 0;\n",
       "                    font-size: 20px;\n",
       "                    font-weight: bold;\n",
       "                \">\n",
       "                    20\n",
       "                </div>\n",
       "                <div style=\"\n",
       "                    background: #f4f4f4;\n",
       "                    color: #333;\n",
       "                    padding: 4px 0;\n",
       "                    font-size: 12px;\n",
       "                \">\n",
       "                    02:39:42 PM\n",
       "                </div>\n",
       "            </div>\n",
       "        </div>\n",
       "        \n",
       "        <!-- Header content on the right -->\n",
       "        <div style=\"flex: 1;\">\n",
       "            <h2 style=\"\n",
       "                margin: 0;\n",
       "                color: #EF8C00;\n",
       "                font-size: 2.4em;\n",
       "                padding-left: 0;\n",
       "                text-indent: 0;\n",
       "            \">\n",
       "                How to clone your voice?\n",
       "            </h2>\n",
       "            <p style=\"margin: 0.5em 0 0 0;\">\n",
       "                \n",
       "            </p>\n",
       "        </div>\n",
       "    </div>\n",
       "    "
      ],
      "text/plain": [
       "<IPython.core.display.HTML object>"
      ]
     },
     "metadata": {},
     "output_type": "display_data"
    },
    {
     "data": {
      "text/html": [
       "\n",
       "\t<div style=\"padding:12px; border-radius:6px; background:#f9f9f9; margin:8px 0; border-left:3px solid #667eea;\">\n",
       "\t\t<div style=\"font:bold 16px Arial; color:#333; margin-bottom:12px;\">\n",
       "\t\t\t📋 Table of Contents\n",
       "\t\t</div>\n",
       "\t\t<div style=\"font:11px Arial; color:#666; margin-bottom:8px;\">\n",
       "\t\t\tProgress: 0% (0/2)\n",
       "\t\t</div>\n",
       "\t\t\n",
       "\t\t<div>\n",
       "\t\t\t<div style=\"display:flex; align-items:center; margin-bottom:0;\">\n",
       "\t\t\t\t<div style=\"\n",
       "\t\t\t\t\twidth:20px; height:20px; border-radius:50%; \n",
       "\t\t\t\t\tbackground:#ff9800; color:white; \n",
       "\t\t\t\t\tdisplay:flex; align-items:center; justify-content:center;\n",
       "\t\t\t\t\tfont-size:10px; font-weight:bold;\n",
       "\t\t\t\t\tbox-shadow: 0 2px 4px rgba(0,0,0,0.1);\n",
       "\t\t\t\t\">●</div>\n",
       "\t\t\t\t<div style=\"margin-left:10px; font:12px Arial; color:#ff9800; font-weight:500;\">\n",
       "\t\t\t\t\tSkim through the paper\n",
       "\t\t\t\t</div>\n",
       "\t\t\t</div>\n",
       "\t\t\t<div style=\"width:2px; height:20px; background:#ddd; margin-left:9px; margin-top:-4px;\"></div>\n",
       "\t\t</div>\n",
       "\t\t\n",
       "\t\t<div>\n",
       "\t\t\t<div style=\"display:flex; align-items:center; margin-bottom:0;\">\n",
       "\t\t\t\t<div style=\"\n",
       "\t\t\t\t\twidth:20px; height:20px; border-radius:50%; \n",
       "\t\t\t\t\tbackground:#ddd; color:white; \n",
       "\t\t\t\t\tdisplay:flex; align-items:center; justify-content:center;\n",
       "\t\t\t\t\tfont-size:10px; font-weight:bold;\n",
       "\t\t\t\t\tbox-shadow: 0 2px 4px rgba(0,0,0,0.1);\n",
       "\t\t\t\t\">○</div>\n",
       "\t\t\t\t<div style=\"margin-left:10px; font:12px Arial; color:#999; font-weight:500;\">\n",
       "\t\t\t\t\tWrite the high-level steps followed in the paper\n",
       "\t\t\t\t</div>\n",
       "\t\t\t</div>\n",
       "\t\t\t\n",
       "\t\t</div>\n",
       "\t\t\n",
       "\t</div>\n",
       "\t"
      ],
      "text/plain": [
       "<IPython.core.display.HTML object>"
      ]
     },
     "metadata": {},
     "output_type": "display_data"
    }
   ],
   "source": [
    "#hide\n",
    "from utils import *\n",
    "hc(\n",
    "    \"How to clone your voice?\",\n",
    "    []\n",
    ")\n",
    "toc(\n",
    "    [\n",
    "        \"Skim through the paper\",\n",
    "        \"Write the high-level steps followed in the paper\",\n",
    "    ],\n",
    "    1\n",
    ")"
   ]
  },
  {
   "cell_type": "markdown",
   "id": "4e8c17e7-eeb9-4301-8861-adfe19a610b5",
   "metadata": {},
   "source": [
    "References:"
   ]
  },
  {
   "cell_type": "markdown",
   "id": "53a2909c-c583-408f-98fd-10f11df19250",
   "metadata": {},
   "source": [
    "The idea behind this project is to understand and break down the thesis **Automatic Multispeaker Voice Cloning** by **Jemine, Corentine**.\n",
    "\n",
    "Voice cloning has always facinated me. At the moment, I literally have no clue on how this can be achieved but I think this paper will reveal all the magic tricks behind building one. I am excited about it. The best part is that they have open sourced the code so that we can have a look at the implementation."
   ]
  },
  {
   "cell_type": "code",
   "execution_count": 5,
   "id": "8b28311e-0b43-47dc-9187-8accab1c48d8",
   "metadata": {
    "jupyter": {
     "source_hidden": true
    }
   },
   "outputs": [
    {
     "data": {
      "text/html": [
       "\n",
       "    <div style=\"\n",
       "        margin: 15px 0; \n",
       "        padding: 16px 20px; \n",
       "        border-radius: 8px; \n",
       "        border-left: 4px solid #607d8b; \n",
       "        box-shadow: 0 2px 8px rgba(0, 0, 0, 0.1); \n",
       "        background-color: #f8f9fa; \n",
       "        color: #37474f;\n",
       "        font-family: -apple-system, BlinkMacSystemFont, 'Segoe UI', Roboto, sans-serif;\n",
       "    \">\n",
       "        <div style=\"\n",
       "            font-weight: bold; \n",
       "            margin-bottom: 12px; \n",
       "            font-size: 14px; \n",
       "            text-transform: uppercase; \n",
       "            letter-spacing: 0.5px;\n",
       "            display: flex;\n",
       "            align-items: center;\n",
       "            gap: 8px;\n",
       "        \">\n",
       "            <span style=\"font-size: 18px;\">🧭</span>\n",
       "            Navigation\n",
       "        </div>\n",
       "        <div style=\"\n",
       "            display: flex; \n",
       "            justify-content: space-between; \n",
       "            align-items: center;\n",
       "            gap: 16px;\n",
       "        \">\n",
       "            <div><span style=\"color: #999; padding: 8px 12px;\">⬅️ Previous Section</span></div>\n",
       "            <div><a href=\"./prj-Automatic_Multispeaker_Voice_Cloning-02.html\" style=\"color: #2e7d32; text-decoration: none; padding: 8px 12px; border-radius: 4px; background-color: #e8f5e8; border: 1px solid #66bb6a; display: inline-block; font-weight: 500;\">Next Section ➡️</a></div>\n",
       "        </div>\n",
       "    </div>\n",
       "    "
      ],
      "text/plain": [
       "<IPython.core.display.HTML object>"
      ]
     },
     "execution_count": 5,
     "metadata": {},
     "output_type": "execute_result"
    }
   ],
   "source": [
    "#hide\n",
    "nav(\"\", \"./prj-Automatic_Multispeaker_Voice_Cloning-02.html\")"
   ]
  },
  {
   "cell_type": "code",
   "execution_count": null,
   "id": "f6713810-08d2-4d08-abb5-c9bdbc1573f6",
   "metadata": {},
   "outputs": [],
   "source": []
  }
 ],
 "metadata": {
  "kernelspec": {
   "display_name": "DevQuest",
   "language": "python",
   "name": "devquest-3.10"
  },
  "language_info": {
   "codemirror_mode": {
    "name": "ipython",
    "version": 3
   },
   "file_extension": ".py",
   "mimetype": "text/x-python",
   "name": "python",
   "nbconvert_exporter": "python",
   "pygments_lexer": "ipython3",
   "version": "3.10.18"
  }
 },
 "nbformat": 4,
 "nbformat_minor": 5
}
