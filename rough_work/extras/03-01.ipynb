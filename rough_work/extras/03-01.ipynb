{
 "cells": [
  {
   "cell_type": "code",
   "execution_count": 1,
   "id": "9e892015-d1ec-40e7-a89f-2b3e0a209d33",
   "metadata": {
    "papermill": {
     "duration": 0.016248,
     "end_time": "2025-06-21T22:12:00.214062",
     "exception": false,
     "start_time": "2025-06-21T22:12:00.197814",
     "status": "completed"
    },
    "tags": []
   },
   "outputs": [],
   "source": [
    "#hide"
   ]
  },
  {
   "cell_type": "code",
   "execution_count": 2,
   "id": "b66335f9-f140-4b68-99fd-dfdbf12e79f3",
   "metadata": {
    "jupyter": {
     "source_hidden": true
    },
    "papermill": {
     "duration": 0.013222,
     "end_time": "2025-06-21T22:12:00.230317",
     "exception": false,
     "start_time": "2025-06-21T22:12:00.217095",
     "status": "completed"
    },
    "tags": []
   },
   "outputs": [
    {
     "data": {
      "text/html": [
       "\n",
       "    <div style=\"\n",
       "        position: relative;\n",
       "        display: flex; \n",
       "        align-items: center; \n",
       "        justify-content: flex-start;\n",
       "        min-height: 80px;\n",
       "        width: 800px;\n",
       "        background: linear-gradient(135deg, #f5f7fa 0%, #c3cfe2 100%);\n",
       "        padding: 20px;\n",
       "        border-radius: 12px;\n",
       "        box-shadow: 0 4px 15px rgba(0, 0, 0, 0.1);\n",
       "        border: 1px solid #e1e8ed;\n",
       "        margin: 10px 0;\n",
       "        font-family: 'Segoe UI', Tahoma, Geneva, Verdana, sans-serif;\n",
       "    \">\n",
       "\n",
       "        <!-- GitHub Icon + Name in top-right -->\n",
       "        <a href=\"https://github.com/meluron-codecafe\" target=\"_blank\" style=\"\n",
       "            position: absolute;\n",
       "            top: 16px;\n",
       "            right: 20px;\n",
       "            display: flex;\n",
       "            align-items: center;\n",
       "            text-decoration: none;\n",
       "            color: #333;\n",
       "            font-size: 14px;\n",
       "            font-weight: 500;\n",
       "            gap: 6px;\n",
       "        \">\n",
       "            <img src=\"https://cdn-icons-png.flaticon.com/512/25/25231.png\" \n",
       "                 alt=\"GitHub\" \n",
       "                 style=\"width: 18px; height: 18px; display: inline-block; vertical-align: middle;\">\n",
       "            <span style=\"transform: translateY(-1px); line-height: 1;\">\n",
       "                /meluron-codecafe\n",
       "            </span>\n",
       "        </a>\n",
       "\n",
       "        <!-- Logo + Label stacked vertically -->\n",
       "        <div style=\"\n",
       "            display: flex; \n",
       "            flex-direction: column; \n",
       "            align-items: center; \n",
       "            justify-content: center;\n",
       "            margin-right: 35px;\n",
       "        \">\n",
       "            <a href=\"https://meluron-codecafe.github.io/DevQuest/\">\n",
       "                <img src=\"https://raw.githubusercontent.com/meluron/assets/refs/heads/main/logos/meluron-codecafe/DevQuest/icon_with_text.png\" \n",
       "                     alt=\"My Logo\" \n",
       "                     style=\"\n",
       "                        width: 120px; \n",
       "                        height: 50px;\n",
       "                        border-radius: 5px;\n",
       "                        box-shadow: 0 3px 10px rgba(253, 138, 9, 0.3);\n",
       "                     \">\n",
       "            </a>\n",
       "            <div style=\"\n",
       "                font-size: 13px; \n",
       "                color: #fd8a09; \n",
       "                font-weight: bold;\n",
       "                margin-top: 6px;\n",
       "                text-align: center;\n",
       "            \">\n",
       "            </div>\n",
       "        </div>\n",
       "\n",
       "        <!-- Question Badge -->\n",
       "        <div style=\"\n",
       "            font-size: 14px; \n",
       "            background: linear-gradient(135deg, #667eea, #764ba2);\n",
       "            color: white; \n",
       "            padding: 8px 10px; \n",
       "            border-radius: 5px; \n",
       "            display: inline-flex;\n",
       "            align-items: center;\n",
       "            gap: 6px;\n",
       "            font-weight: 600;\n",
       "            box-shadow: 0 3px 12px rgba(102, 126, 234, 0.3);\n",
       "            margin-top: -10px;\n",
       "        \">\n",
       "            What does rhythmicity of a song mean?\n",
       "            \n",
       "        </div>\n",
       "    </div>\n",
       "    "
      ],
      "text/plain": [
       "<IPython.core.display.HTML object>"
      ]
     },
     "metadata": {},
     "output_type": "display_data"
    }
   ],
   "source": [
    "#hide\n",
    "import utils\n",
    "utils.hero(\"What does rhythmicity of a song mean?\")"
   ]
  },
  {
   "cell_type": "markdown",
   "id": "96331acb-7b0c-4fcc-91eb-9e3950bb583c",
   "metadata": {
    "papermill": {
     "duration": 0.001823,
     "end_time": "2025-06-21T22:12:00.234125",
     "exception": false,
     "start_time": "2025-06-21T22:12:00.232302",
     "status": "completed"
    },
    "tags": []
   },
   "source": [
    "**Rhythmicity** of a song refers to the degree to which the music exhibits a **clear**, **regular**, and **predictable** rhythmic structure. It involves how **consistently** and **strongly** the beats or pulses are felt throughout the piece."
   ]
  },
  {
   "cell_type": "markdown",
   "id": "e5481f5a-00cb-4a5a-ac8c-85e3427e8184",
   "metadata": {
    "papermill": {
     "duration": 0.001604,
     "end_time": "2025-06-21T22:12:00.237425",
     "exception": false,
     "start_time": "2025-06-21T22:12:00.235821",
     "status": "completed"
    },
    "tags": []
   },
   "source": [
    "Factors contributing to rhythmicity:\n",
    "1. **Tempo regularity:** How steady the tempo is throughout the song.\n",
    "2. **Accent structure:** The arrangement of strong and weak beat that gives rhythmic shape.\n",
    "3. **Pattern Repetition:** How often the rhytmic patterns are repeated that establish predictablity.\n",
    "4. **Pulse clarity:** How clear the beats are for listeners to tap to?"
   ]
  },
  {
   "cell_type": "code",
   "execution_count": 3,
   "id": "bd93faef-99e1-431c-bb1d-cd33d98e1bbf",
   "metadata": {
    "jupyter": {
     "source_hidden": true
    },
    "papermill": {
     "duration": 0.007872,
     "end_time": "2025-06-21T22:12:00.246839",
     "exception": false,
     "start_time": "2025-06-21T22:12:00.238967",
     "status": "completed"
    },
    "tags": []
   },
   "outputs": [
    {
     "data": {
      "text/html": [
       "\n",
       "    <div style=\"\n",
       "        margin: 15px 0; \n",
       "        padding: 16px 20px; \n",
       "        border-radius: 8px; \n",
       "        border-left: 4px solid #607d8b; \n",
       "        box-shadow: 0 2px 8px rgba(0, 0, 0, 0.1); \n",
       "        background-color: #f8f9fa; \n",
       "        color: #37474f;\n",
       "        font-family: -apple-system, BlinkMacSystemFont, 'Segoe UI', Roboto, sans-serif;\n",
       "    \">\n",
       "        <div style=\"\n",
       "            font-weight: bold; \n",
       "            margin-bottom: 12px; \n",
       "            font-size: 14px; \n",
       "            text-transform: uppercase; \n",
       "            letter-spacing: 0.5px;\n",
       "            display: flex;\n",
       "            align-items: center;\n",
       "            gap: 8px;\n",
       "        \">\n",
       "            <span style=\"font-size: 18px;\">🧭</span>\n",
       "            Navigation\n",
       "        </div>\n",
       "        <div style=\"\n",
       "            display: flex; \n",
       "            justify-content: space-between; \n",
       "            align-items: center;\n",
       "            gap: 16px;\n",
       "        \">\n",
       "            <div><span style=\"color: #999; padding: 8px 12px;\">⬅️ Previous Section</span></div>\n",
       "            <div><a href=\"./03-02.html\" style=\"color: #2e7d32; text-decoration: none; padding: 8px 12px; border-radius: 4px; background-color: #e8f5e8; border: 1px solid #66bb6a; display: inline-block; font-weight: 500;\">Next Section ➡️</a></div>\n",
       "        </div>\n",
       "    </div>\n",
       "    "
      ],
      "text/plain": [
       "<IPython.core.display.HTML object>"
      ]
     },
     "execution_count": 3,
     "metadata": {},
     "output_type": "execute_result"
    }
   ],
   "source": [
    "#hide\n",
    "utils.nav(\"\", \"./03-02.html\")"
   ]
  }
 ],
 "metadata": {
  "kernelspec": {
   "display_name": "Python 3 (ipykernel)",
   "language": "python",
   "name": "python3"
  },
  "language_info": {
   "codemirror_mode": {
    "name": "ipython",
    "version": 3
   },
   "file_extension": ".py",
   "mimetype": "text/x-python",
   "name": "python",
   "nbconvert_exporter": "python",
   "pygments_lexer": "ipython3",
   "version": "3.12.0"
  },
  "papermill": {
   "default_parameters": {},
   "duration": 1.266523,
   "end_time": "2025-06-21T22:12:00.469278",
   "environment_variables": {},
   "exception": null,
   "input_path": "notebooks/03-01.ipynb",
   "output_path": "notebooks/03-01.ipynb",
   "parameters": {},
   "start_time": "2025-06-21T22:11:59.202755",
   "version": "2.6.0"
  }
 },
 "nbformat": 4,
 "nbformat_minor": 5
}
