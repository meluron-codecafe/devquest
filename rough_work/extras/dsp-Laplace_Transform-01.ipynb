{
 "cells": [
  {
   "cell_type": "code",
   "execution_count": 140,
   "id": "29982129-b397-4fc4-8ec6-112ca2e3024d",
   "metadata": {
    "jupyter": {
     "source_hidden": true
    }
   },
   "outputs": [
    {
     "data": {
      "text/html": [
       "\n",
       "    <div style=\"\n",
       "        display: flex;\n",
       "        align-items: center;\n",
       "        font-family: 'Georgia', serif;\n",
       "        border-left: 3px solid #ccc;\n",
       "        padding-left: 12px;\n",
       "        margin-bottom: 1em;\n",
       "        gap: 20px;\n",
       "    \">\n",
       "        <!-- Calendar on the left -->\n",
       "        <div style=\"\n",
       "            display: inline-block;\n",
       "            font-family: 'Arial', sans-serif;\n",
       "            border-radius: 8px;\n",
       "            overflow: hidden;\n",
       "            box-shadow: 1px 1px 6px rgba(0,0,0,0.1);\n",
       "            width: 120px;\n",
       "            font-size: 12px;\n",
       "            text-align: center;\n",
       "            flex-shrink: 0;\n",
       "        \">\n",
       "            <!-- Last modified label -->\n",
       "            <div style=\"\n",
       "                background: #f4f4f4;\n",
       "                color: #555;\n",
       "                padding: 4px 0;\n",
       "                font-weight: bold;\n",
       "                border-top-left-radius: 8px;\n",
       "                border-top-right-radius: 8px;\n",
       "            \">\n",
       "                Last modified\n",
       "            </div>\n",
       "            \n",
       "            <!-- Main calendar -->\n",
       "            <div>\n",
       "                <div style=\"\n",
       "                    background: #66a6ff;\n",
       "                    color: white;\n",
       "                    padding: 5px 0;\n",
       "                    font-weight: bold;\n",
       "                \">\n",
       "                    Aug, 2025\n",
       "                </div>\n",
       "                <div style=\"\n",
       "                    background: #fff;\n",
       "                    color: #333;\n",
       "                    padding: 8px 0;\n",
       "                    font-size: 20px;\n",
       "                    font-weight: bold;\n",
       "                \">\n",
       "                    22\n",
       "                </div>\n",
       "                <div style=\"\n",
       "                    background: #f4f4f4;\n",
       "                    color: #333;\n",
       "                    padding: 4px 0;\n",
       "                    font-size: 12px;\n",
       "                \">\n",
       "                    09:12:22 PM\n",
       "                </div>\n",
       "            </div>\n",
       "        </div>\n",
       "        \n",
       "        <!-- Header content on the right -->\n",
       "        <div style=\"flex: 1;\">\n",
       "            <h2 style=\"\n",
       "                margin: 0;\n",
       "                color: #EF8C00;\n",
       "                font-size: 2.4em;\n",
       "                padding-left: 0;\n",
       "                text-indent: 0;\n",
       "            \">\n",
       "                Laplace Transform\n",
       "            </h2>\n",
       "            <p style=\"margin: 0.5em 0 0 0;\">\n",
       "                \n",
       "            </p>\n",
       "        </div>\n",
       "    </div>\n",
       "    "
      ],
      "text/plain": [
       "<IPython.core.display.HTML object>"
      ]
     },
     "metadata": {},
     "output_type": "display_data"
    },
    {
     "data": {
      "text/html": [
       "\n",
       "    <div id=\"toc-box\" style=\"\n",
       "        position:fixed; \n",
       "        top:40px; right:10px; \n",
       "        background:#fafafa; \n",
       "        border-left:4px solid #4caf50; \n",
       "        border-radius:8px; \n",
       "        box-shadow:0 2px 8px rgba(0,0,0,0.15); \n",
       "        font-family:Arial;\n",
       "        z-index:9999;\n",
       "        width:50px; /* collapsed width */\n",
       "        transition: width 0.3s ease;\n",
       "        overflow:hidden;\n",
       "    \">\n",
       "    \n",
       "    <div onclick=\"\n",
       "        var box=document.getElementById('toc-box');\n",
       "        var content=document.getElementById('toc-box-content');\n",
       "        if(content.style.display=='none'){\n",
       "            content.style.display='block';\n",
       "            box.style.width='260px';\n",
       "        } else {\n",
       "            content.style.display='none';\n",
       "            box.style.width='50px';\n",
       "        }\n",
       "    \" style=\"display:flex; align-items:center; justify-content:center; \n",
       "             padding:8px; cursor:pointer; user-select:none;\">\n",
       "        <svg width=\"32\" height=\"32\" viewBox=\"0 0 36 36\" style=\"transform: rotate(-90deg);\">\n",
       "            <circle cx=\"18\" cy=\"18\" r=\"15.9155\" fill=\"none\" stroke=\"#eee\" stroke-width=\"3\"/>\n",
       "            <circle cx=\"18\" cy=\"18\" r=\"15.9155\" fill=\"none\" \n",
       "                    stroke=\"#4caf50\" stroke-width=\"3\"\n",
       "                    stroke-dasharray=\"16, 100\"/>\n",
       "            <text x=\"18\" y=\"21\" text-anchor=\"middle\" fill=\"#333\"\n",
       "                  font-size=\"9\" font-family=\"Arial\" transform=\"rotate(90,18,18)\">1/6</text>\n",
       "        </svg>\n",
       "    </div>\n",
       "    \n",
       "    <div id=\"toc-box-content\" style=\"display:none; padding:0 15px 12px 15px; \n",
       "                max-height:60vh; overflow-y:auto;\">\n",
       "        <div style=\"font-weight:bold; font-size:14px; margin-bottom:10px;\">Table of Contents</div>\n",
       "    \n",
       "        <div>\n",
       "            <div style=\"display:flex; align-items:center; margin-bottom:0;\">\n",
       "                <div style=\"\n",
       "                    width:20px; height:20px; border-radius:50%; \n",
       "                    background:#4caf50; color:white; \n",
       "                    display:flex; align-items:center; justify-content:center;\n",
       "                    font-size:10px; font-weight:bold;\n",
       "                    box-shadow: 0 2px 4px rgba(0,0,0,0.1);\n",
       "                \">✓</div>\n",
       "                <div style=\"margin-left:10px; font:12px Arial; font-weight:500;\">\n",
       "                    <a href=\"#Motivation\" style=\"color:#4caf50; text-decoration:none;\">Motivation</a>\n",
       "                </div>\n",
       "            </div>\n",
       "            <div style=\"width:2px; height:20px; background:#4caf50; margin-left:9px; margin-top:-4px;\"></div>\n",
       "        </div>\n",
       "        \n",
       "        <div>\n",
       "            <div style=\"display:flex; align-items:center; margin-bottom:0;\">\n",
       "                <div style=\"\n",
       "                    width:20px; height:20px; border-radius:50%; \n",
       "                    background:#ddd; color:white; \n",
       "                    display:flex; align-items:center; justify-content:center;\n",
       "                    font-size:10px; font-weight:bold;\n",
       "                    box-shadow: 0 2px 4px rgba(0,0,0,0.1);\n",
       "                \">○</div>\n",
       "                <div style=\"margin-left:10px; font:12px Arial; font-weight:500;\">\n",
       "                    <a href=\"#Scope\" style=\"color:#999; text-decoration:none;\">Scope</a>\n",
       "                </div>\n",
       "            </div>\n",
       "            <div style=\"width:2px; height:20px; background:#ddd; margin-left:9px; margin-top:-4px;\"></div>\n",
       "        </div>\n",
       "        \n",
       "        <div>\n",
       "            <div style=\"display:flex; align-items:center; margin-bottom:0;\">\n",
       "                <div style=\"\n",
       "                    width:20px; height:20px; border-radius:50%; \n",
       "                    background:#ddd; color:white; \n",
       "                    display:flex; align-items:center; justify-content:center;\n",
       "                    font-size:10px; font-weight:bold;\n",
       "                    box-shadow: 0 2px 4px rgba(0,0,0,0.1);\n",
       "                \">○</div>\n",
       "                <div style=\"margin-left:10px; font:12px Arial; font-weight:500;\">\n",
       "                    <a href=\"#Introduction\" style=\"color:#999; text-decoration:none;\">Introduction</a>\n",
       "                </div>\n",
       "            </div>\n",
       "            <div style=\"width:2px; height:20px; background:#ddd; margin-left:9px; margin-top:-4px;\"></div>\n",
       "        </div>\n",
       "        \n",
       "        <div>\n",
       "            <div style=\"display:flex; align-items:center; margin-bottom:0;\">\n",
       "                <div style=\"\n",
       "                    width:20px; height:20px; border-radius:50%; \n",
       "                    background:#ddd; color:white; \n",
       "                    display:flex; align-items:center; justify-content:center;\n",
       "                    font-size:10px; font-weight:bold;\n",
       "                    box-shadow: 0 2px 4px rgba(0,0,0,0.1);\n",
       "                \">○</div>\n",
       "                <div style=\"margin-left:10px; font:12px Arial; font-weight:500;\">\n",
       "                    <a href=\"#Definition\" style=\"color:#999; text-decoration:none;\">Definition</a>\n",
       "                </div>\n",
       "            </div>\n",
       "            <div style=\"width:2px; height:20px; background:#ddd; margin-left:9px; margin-top:-4px;\"></div>\n",
       "        </div>\n",
       "        \n",
       "        <div>\n",
       "            <div style=\"display:flex; align-items:center; margin-bottom:0;\">\n",
       "                <div style=\"\n",
       "                    width:20px; height:20px; border-radius:50%; \n",
       "                    background:#ddd; color:white; \n",
       "                    display:flex; align-items:center; justify-content:center;\n",
       "                    font-size:10px; font-weight:bold;\n",
       "                    box-shadow: 0 2px 4px rgba(0,0,0,0.1);\n",
       "                \">○</div>\n",
       "                <div style=\"margin-left:10px; font:12px Arial; font-weight:500;\">\n",
       "                    <a href=\"#Properties\" style=\"color:#999; text-decoration:none;\">Properties</a>\n",
       "                </div>\n",
       "            </div>\n",
       "            <div style=\"width:2px; height:20px; background:#ddd; margin-left:9px; margin-top:-4px;\"></div>\n",
       "        </div>\n",
       "        \n",
       "        <div>\n",
       "            <div style=\"display:flex; align-items:center; margin-bottom:0;\">\n",
       "                <div style=\"\n",
       "                    width:20px; height:20px; border-radius:50%; \n",
       "                    background:#ddd; color:white; \n",
       "                    display:flex; align-items:center; justify-content:center;\n",
       "                    font-size:10px; font-weight:bold;\n",
       "                    box-shadow: 0 2px 4px rgba(0,0,0,0.1);\n",
       "                \">○</div>\n",
       "                <div style=\"margin-left:10px; font:12px Arial; font-weight:500;\">\n",
       "                    <a href=\"#Additional-Reading\" style=\"color:#999; text-decoration:none;\">Additional Reading</a>\n",
       "                </div>\n",
       "            </div>\n",
       "            \n",
       "        </div>\n",
       "        </div></div>"
      ],
      "text/plain": [
       "<IPython.core.display.HTML object>"
      ]
     },
     "metadata": {},
     "output_type": "display_data"
    }
   ],
   "source": [
    "#hide\n",
    "from utils import *\n",
    "hc(\n",
    "    \"Laplace Transform\",\n",
    "    []\n",
    ")\n",
    "toc(\n",
    "    [\n",
    "        \"Motivation\",\n",
    "        \"Scope\",\n",
    "        \"Introduction\",\n",
    "        \"Definition\",\n",
    "        \"Properties\",\n",
    "        \"Additional Reading\",\n",
    "        \n",
    "    ],\n",
    "    1\n",
    ")"
   ]
  },
  {
   "cell_type": "markdown",
   "id": "0678f221-e8e3-46d8-ab60-335fef214313",
   "metadata": {},
   "source": [
    "## Motivation\n",
    "\n",
    "My all-time favorite **Fourier Transform** is a special case of **Laplace transform**. That is why I want to spend sometime to understand what does **Laplace transform** offers and explore real-scenerios where **Laplace transform** would be a better choice than **Fourier transform**."
   ]
  },
  {
   "cell_type": "markdown",
   "id": "b1b94f70-1fc0-45ae-be27-8869185ffbf7",
   "metadata": {},
   "source": [
    "## Scope\n",
    "\n",
    "I will be following [Chapter 6: Laplace Tranform](http://www.uop.edu.pk/ocontents/AdvancedEngineeringMathematics.pdf) as the main reference."
   ]
  },
  {
   "cell_type": "markdown",
   "id": "375539cc-0cfc-46e3-a7e6-f59aaa184e57",
   "metadata": {},
   "source": [
    "## Introduction\n",
    "\n",
    "Imagine I say that you can solve ODE just like you would solve algebraic problems. Yes, all thanks to Laplace that it is indeed true."
   ]
  },
  {
   "cell_type": "markdown",
   "id": "2ca93f9d-f0dc-46d0-a66a-5e4191d0979b",
   "metadata": {},
   "source": [
    "## Definition\n",
    "\n",
    "Let $f(t)$ is a function defined $\\forall t \\ge 0$, then the Laplace transform of $f(t)$ is given by:\n",
    "\n",
    "$F(s) = \\int_{0}^{\\infty} f(t)e^{-st}dt$\n",
    "\n",
    "where,\n",
    "$s \\in \\mathbb{C}$, for simplicity we will start with $s \\in \\mathbb{R^+}$\n",
    "\n",
    "Note that the process $f(t) \\rightarrow F(s)$ and the output $F(s)$ both are called Laplace transform. It is an **integral tranform** with **kernel** $k(s,t) = e^{-st}$\n",
    "\n",
    "$f(t)$ is the **inverse tranform** of $F(s)$"
   ]
  },
  {
   "cell_type": "markdown",
   "id": "8fab2b0c-b28e-46dd-b4c3-c22192e3e6a3",
   "metadata": {},
   "source": [
    "### Example 1:\n",
    "Let's take a constant function $f(t) = 1$ and try to find out the Laplace transform.\n",
    "\n",
    "$\\implies F(s) = \\int_{0}^{\\infty} 1e^{-st}dt$\n",
    "\n",
    "$\\implies F(s) = \\frac{1}{s}$\n",
    "\n",
    "Inorder to check it numerically, we need to convert continuous integral into Riemann sum (discrete summation).\n",
    "\n",
    "$F(s) = \\sum_{n=0}^{\\infty} 1e^{-st}\\Delta{t}$\n",
    "\n",
    "Implementing it in code and see if it matches with the analytical solution $\\frac{1}{s}$"
   ]
  },
  {
   "cell_type": "code",
   "execution_count": 136,
   "id": "249b716a-fc61-463d-af1e-eea2dc5fbc91",
   "metadata": {},
   "outputs": [
    {
     "data": {
      "image/png": "[encoded data removed]",
      "text/plain": [
       "<Figure size 1600x200 with 2 Axes>"
      ]
     },
     "metadata": {},
     "output_type": "display_data"
    }
   ],
   "source": [
    "import numpy as np\n",
    "import modusa as ms\n",
    "\n",
    "dt = 1 / 100 # Time steps (sec)\n",
    "\n",
    "t = np.arange(0, 100, dt) # sec\n",
    "f = np.ones(t.size) # Constant function\n",
    "\n",
    "s = 0.4 # Choose a real value for `s`\n",
    "summand = f * np.exp(-s*t) # Summand\n",
    "F = np.sum(summand * (dt)) # Laplace transform\n",
    "\n",
    "display(ms.plot1d(\n",
    "    (f, t),\n",
    "    (summand, t),\n",
    "    title=f\"Laplace Tranform {F:.2f}\",\n",
    "    legend=[\"f\", \"$f e^{-st}$\"],\n",
    "    fmt=[\"k\", \"b--\"]\n",
    "))"
   ]
  },
  {
   "cell_type": "markdown",
   "id": "6d6a24b0-a49f-4aa5-94d2-62a39f7f35ef",
   "metadata": {},
   "source": [
    "### Example 2:\n",
    "Let's take a constant function $f(t) = 1$ and try to find out the Laplace transform.\n",
    "\n",
    "$\\implies F(s) = \\int_{0}^{\\infty} sin(t)e^{-st}dt$\n",
    "\n",
    "$\\implies F(s) = \\frac{1}{s^2 + 1}$\n",
    "\n",
    "Inorder to check it numerically, we need to convert continuous integral into Riemann sum (discrete summation).\n",
    "\n",
    "$F(s) = \\sum_{t=0}^{\\infty} sin(t)e^{-st}\\Delta{t}$\n",
    "\n",
    "Implementing it in code and see if it matches with the analytical solution $\\frac{1}{s}$"
   ]
  },
  {
   "cell_type": "code",
   "execution_count": 138,
   "id": "0a2c6c5a-c710-4f85-be53-0c63499ef2b1",
   "metadata": {},
   "outputs": [
    {
     "data": {
      "image/png": "[encoded data removed]",
      "text/plain": [
       "<Figure size 1600x200 with 2 Axes>"
      ]
     },
     "metadata": {},
     "output_type": "display_data"
    }
   ],
   "source": [
    "dt = 1 / 100 # Time steps (sec)\n",
    "\n",
    "t = np.arange(0, 30, dt) # sec\n",
    "f = np.sin(t) # Constant function\n",
    "\n",
    "s = 0.1 # Choose a real value for `s`\n",
    "summand = f * np.exp(-s*t) # Summand\n",
    "F = np.sum(summand * (dt)) # Laplace transform\n",
    "\n",
    "display(ms.plot1d(\n",
    "    (f, t),\n",
    "    (summand, t),\n",
    "    title=f\"Laplace Tranform {F:.2f}\",\n",
    "    legend=[\"f\", \"$f e^{-st}$\"],\n",
    "    fmt=[\"k\", \"b--\"]\n",
    "))"
   ]
  },
  {
   "cell_type": "markdown",
   "id": "3fe63f69-4317-4bd6-abfe-426de7023cb4",
   "metadata": {},
   "source": [
    "## Properties of the Laplace Theorem"
   ]
  },
  {
   "cell_type": "markdown",
   "id": "996ca80a-cb93-49bc-8c74-fcc8d4736c56",
   "metadata": {},
   "source": [
    "### Linearity"
   ]
  },
  {
   "cell_type": "code",
   "execution_count": null,
   "id": "4756a626-4ba2-403d-9b8b-4c2e2995750b",
   "metadata": {},
   "outputs": [],
   "source": []
  },
  {
   "cell_type": "code",
   "execution_count": null,
   "id": "087483d1-2e0f-44d4-9ab2-fbc38d1d1cd1",
   "metadata": {},
   "outputs": [],
   "source": []
  },
  {
   "cell_type": "code",
   "execution_count": null,
   "id": "70c6e672-d4d3-4ed9-af70-54dec5b9900d",
   "metadata": {},
   "outputs": [],
   "source": []
  }
 ],
 "metadata": {
  "kernelspec": {
   "display_name": "DevQuest",
   "language": "python",
   "name": "devquest-3.10"
  },
  "language_info": {
   "codemirror_mode": {
    "name": "ipython",
    "version": 3
   },
   "file_extension": ".py",
   "mimetype": "text/x-python",
   "name": "python",
   "nbconvert_exporter": "python",
   "pygments_lexer": "ipython3",
   "version": "3.10.18"
  }
 },
 "nbformat": 4,
 "nbformat_minor": 5
}
