{
 "cells": [
  {
   "cell_type": "code",
   "execution_count": 1,
   "id": "0935387c-af16-4770-baa0-f460afd41d34",
   "metadata": {},
   "outputs": [],
   "source": [
    "#hide"
   ]
  },
  {
   "cell_type": "code",
   "execution_count": 2,
   "id": "99c5939a-b120-41e6-b645-ace405e0289b",
   "metadata": {
    "jupyter": {
     "source_hidden": true
    }
   },
   "outputs": [
    {
     "data": {
      "text/html": [
       "\n",
       "    <div style=\"\n",
       "        position: relative;\n",
       "        display: flex; \n",
       "        align-items: center; \n",
       "        justify-content: flex-start;\n",
       "        min-height: 80px;\n",
       "        width: 800px;\n",
       "        background: linear-gradient(135deg, #f5f7fa 0%, #c3cfe2 100%);\n",
       "        padding: 20px;\n",
       "        border-radius: 12px;\n",
       "        box-shadow: 0 4px 15px rgba(0, 0, 0, 0.1);\n",
       "        border: 1px solid #e1e8ed;\n",
       "        margin: 10px 0;\n",
       "        font-family: 'Segoe UI', Tahoma, Geneva, Verdana, sans-serif;\n",
       "    \">\n",
       "\n",
       "        <!-- GitHub Icon + Name in top-right -->\n",
       "        <a href=\"https://github.com/meluron-codecafe\" target=\"_blank\" style=\"\n",
       "            position: absolute;\n",
       "            top: 16px;\n",
       "            right: 20px;\n",
       "            display: flex;\n",
       "            align-items: center;\n",
       "            text-decoration: none;\n",
       "            color: #333;\n",
       "            font-size: 14px;\n",
       "            font-weight: 500;\n",
       "            gap: 6px;\n",
       "        \">\n",
       "            <img src=\"https://cdn-icons-png.flaticon.com/512/25/25231.png\" \n",
       "                 alt=\"GitHub\" \n",
       "                 style=\"width: 18px; height: 18px; display: inline-block; vertical-align: middle;\">\n",
       "            <span style=\"transform: translateY(-1px); line-height: 1;\">\n",
       "                /meluron-codecafe\n",
       "            </span>\n",
       "        </a>\n",
       "\n",
       "        <!-- Logo + Label stacked vertically -->\n",
       "        <div style=\"\n",
       "            display: flex; \n",
       "            flex-direction: column; \n",
       "            align-items: center; \n",
       "            justify-content: center;\n",
       "            margin-right: 35px;\n",
       "        \">\n",
       "            <a href=\"https://meluron-codecafe.github.io/DevQuest/\">\n",
       "                <img src=\"https://raw.githubusercontent.com/meluron/assets/refs/heads/main/logos/meluron-codecafe/DevQuest/orig.png\" \n",
       "                     alt=\"My Logo\" \n",
       "                     style=\"\n",
       "                        width: 70px; \n",
       "                        height: 70px;\n",
       "                        border-radius: 8px;\n",
       "                        box-shadow: 0 3px 10px rgba(253, 138, 9, 0.3);\n",
       "                     \">\n",
       "            </a>\n",
       "            <div style=\"\n",
       "                font-size: 13px; \n",
       "                color: #fd8a09; \n",
       "                font-weight: bold;\n",
       "                margin-top: 6px;\n",
       "                text-align: center;\n",
       "            \">\n",
       "            </div>\n",
       "        </div>\n",
       "\n",
       "        <!-- Question Badge -->\n",
       "        <div style=\"\n",
       "            font-size: 14px; \n",
       "            background: linear-gradient(135deg, #667eea, #764ba2);\n",
       "            color: white; \n",
       "            padding: 8px 14px; \n",
       "            border-radius: 20px; \n",
       "            display: inline-flex;\n",
       "            align-items: center;\n",
       "            gap: 6px;\n",
       "            font-weight: 600;\n",
       "            box-shadow: 0 3px 12px rgba(102, 126, 234, 0.3);\n",
       "        \">\n",
       "            <span style=\"font-size: 16px;\">❔</span>\n",
       "            How to build a metronome?\n",
       "            \n",
       "        </div>\n",
       "    </div>\n",
       "    "
      ],
      "text/plain": [
       "<IPython.core.display.HTML object>"
      ]
     },
     "metadata": {},
     "output_type": "display_data"
    }
   ],
   "source": [
    "#hide\n",
    "import utils\n",
    "utils.hero(\"How to build a metronome?\")"
   ]
  },
  {
   "cell_type": "code",
   "execution_count": 5,
   "id": "0a0ae1e6-4a88-4d2b-a5e9-b9b373995e5a",
   "metadata": {},
   "outputs": [],
   "source": [
    "import librosa\n",
    "import numpy as np\n",
    "\n",
    "from musa.plot import Plotter\n",
    "plotter = Plotter()"
   ]
  },
  {
   "cell_type": "code",
   "execution_count": 14,
   "id": "5886f7f3-bef6-4cd8-b91e-57f03f0ee258",
   "metadata": {},
   "outputs": [
    {
     "data": {
      "image/png": "[encoded data removed]",
      "text/plain": [
       "<Figure size 1500x200 with 1 Axes>"
      ]
     },
     "metadata": {},
     "output_type": "display_data"
    }
   ],
   "source": [
    "click_freq = 1000.0\n",
    "click_duration = 0.1\n",
    "sr = 16000\n",
    "\n",
    "omega = 2 * np.pi * click_freq\n",
    "click = np.logspace(0, -10, num=int(sr * click_duration), base=2.0)\n",
    "click *= np.sin(omega * np.arange(len(click)) / float(sr))\n",
    "plotter.plot_signal(click, sr=sr);"
   ]
  },
  {
   "cell_type": "code",
   "execution_count": null,
   "id": "992c2c35-bc74-427f-b7ef-ea57d7a3781a",
   "metadata": {},
   "outputs": [],
   "source": [
    "\n",
    "\n",
    "click *= np.sin(omega * np.arange(len(click)))"
   ]
  },
  {
   "cell_type": "code",
   "execution_count": 4,
   "id": "8d5decf6-cf4c-4660-93b0-70a107a39af9",
   "metadata": {
    "scrolled": true
   },
   "outputs": [
    {
     "data": {
      "text/plain": [
       "\u001b[31mSignature:\u001b[39m\n",
       "librosa.clicks(\n",
       "    *,\n",
       "    times: \u001b[33m'Optional[_SequenceLike[_FloatLike_co]]'\u001b[39m = \u001b[38;5;28;01mNone\u001b[39;00m,\n",
       "    frames: \u001b[33m'Optional[_SequenceLike[_IntLike_co]]'\u001b[39m = \u001b[38;5;28;01mNone\u001b[39;00m,\n",
       "    sr: \u001b[33m'float'\u001b[39m = \u001b[32m22050\u001b[39m,\n",
       "    hop_length: \u001b[33m'int'\u001b[39m = \u001b[32m512\u001b[39m,\n",
       "    click_freq: \u001b[33m'float'\u001b[39m = \u001b[32m1000.0\u001b[39m,\n",
       "    click_duration: \u001b[33m'float'\u001b[39m = \u001b[32m0.1\u001b[39m,\n",
       "    click: \u001b[33m'Optional[np.ndarray]'\u001b[39m = \u001b[38;5;28;01mNone\u001b[39;00m,\n",
       "    length: \u001b[33m'Optional[int]'\u001b[39m = \u001b[38;5;28;01mNone\u001b[39;00m,\n",
       ") -> \u001b[33m'np.ndarray'\u001b[39m\n",
       "\u001b[31mDocstring:\u001b[39m\n",
       "Construct a \"click track\".\n",
       "\n",
       "This returns a signal with the signal ``click`` sound placed at\n",
       "each specified time.\n",
       "\n",
       "Parameters\n",
       "----------\n",
       "times : np.ndarray or None\n",
       "    times to place clicks, in seconds\n",
       "frames : np.ndarray or None\n",
       "    frame indices to place clicks\n",
       "sr : number > 0\n",
       "    desired sampling rate of the output signal\n",
       "hop_length : int > 0\n",
       "    if positions are specified by ``frames``, the number of samples between frames.\n",
       "click_freq : float > 0\n",
       "    frequency (in Hz) of the default click signal.  Default is 1KHz.\n",
       "click_duration : float > 0\n",
       "    duration (in seconds) of the default click signal.  Default is 100ms.\n",
       "click : np.ndarray or None\n",
       "    (optional) click signal sample to use instead of the default click.\n",
       "    Multi-channel is supported.\n",
       "length : int > 0\n",
       "    desired number of samples in the output signal\n",
       "\n",
       "Returns\n",
       "-------\n",
       "click_signal : np.ndarray\n",
       "    Synthesized click signal.\n",
       "    This will be monophonic by default, or match the number of channels to a provided ``click`` signal.\n",
       "\n",
       "Raises\n",
       "------\n",
       "ParameterError\n",
       "    - If neither ``times`` nor ``frames`` are provided.\n",
       "    - If any of ``click_freq``, ``click_duration``, or ``length`` are out of range.\n",
       "\n",
       "Examples\n",
       "--------\n",
       ">>> # Sonify detected beat events\n",
       ">>> y, sr = librosa.load(librosa.ex('choice'), duration=10)\n",
       ">>> tempo, beats = librosa.beat.beat_track(y=y, sr=sr)\n",
       ">>> y_beats = librosa.clicks(frames=beats, sr=sr)\n",
       "\n",
       ">>> # Or generate a signal of the same length as y\n",
       ">>> y_beats = librosa.clicks(frames=beats, sr=sr, length=len(y))\n",
       "\n",
       ">>> # Or use timing instead of frame indices\n",
       ">>> times = librosa.frames_to_time(beats, sr=sr)\n",
       ">>> y_beat_times = librosa.clicks(times=times, sr=sr)\n",
       "\n",
       ">>> # Or with a click frequency of 880Hz and a 500ms sample\n",
       ">>> y_beat_times880 = librosa.clicks(times=times, sr=sr,\n",
       "...                                  click_freq=880, click_duration=0.5)\n",
       "\n",
       "Display click waveform next to the spectrogram\n",
       "\n",
       ">>> import matplotlib.pyplot as plt\n",
       ">>> fig, ax = plt.subplots(nrows=2, sharex=True)\n",
       ">>> S = librosa.feature.melspectrogram(y=y, sr=sr)\n",
       ">>> librosa.display.specshow(librosa.power_to_db(S, ref=np.max),\n",
       "...                          x_axis='time', y_axis='mel', ax=ax[0])\n",
       ">>> librosa.display.waveshow(y_beat_times, sr=sr, label='Beat clicks',\n",
       "...                          ax=ax[1])\n",
       ">>> ax[1].legend()\n",
       ">>> ax[0].label_outer()\n",
       ">>> ax[0].set_title(None)\n",
       "\u001b[31mFile:\u001b[39m      ~/Documents/meluron-toolbox/musa/.venv/lib/python3.12/site-packages/librosa/core/audio.py\n",
       "\u001b[31mType:\u001b[39m      function"
      ]
     },
     "metadata": {},
     "output_type": "display_data"
    }
   ],
   "source": [
    "# Compute sample positions from time or frames\n",
    "\n",
    "else:\n",
    "    # Create default click signal\n",
    "    if click_duration <= 0:\n",
    "        raise ParameterError(\"click_duration must be strictly positive\")\n",
    "\n",
    "    if click_freq <= 0:\n",
    "        raise ParameterError(\"click_freq must be strictly positive\")\n",
    "\n",
    "    angular_freq = 2 * np.pi * click_freq / float(sr)\n",
    "\n",
    "    click = np.logspace(0, -10, num=int(sr * click_duration), base=2.0)\n",
    "\n",
    "    click *= np.sin(angular_freq * np.arange(len(click)))\n",
    "\n",
    "# Set default length\n",
    "if length is None:\n",
    "    length = positions.max() + click.shape[-1]\n",
    "else:\n",
    "    if length < 1:\n",
    "        raise ParameterError(\"length must be a positive integer\")\n",
    "\n",
    "    # Filter out any positions past the length boundary\n",
    "    positions = positions[positions < length]\n",
    "\n",
    "# Pre-allocate click signal\n",
    "shape = list(click.shape)\n",
    "shape[-1] = length\n",
    "click_signal = np.zeros(shape, dtype=np.float32)\n",
    "\n",
    "# Place clicks\n",
    "for start in positions:\n",
    "    # Compute the end-point of this click\n",
    "    end = start + click.shape[-1]\n",
    "\n",
    "    if end >= length:\n",
    "        click_signal[..., start:] += click[..., : length - start]\n",
    "    else:\n",
    "        # Normally, just add a click here\n",
    "        click_signal[..., start:end] += click\n",
    "\n",
    "return click_signal\n"
   ]
  },
  {
   "cell_type": "code",
   "execution_count": null,
   "id": "c7d7569b-e623-4584-b9c0-69acc6f91920",
   "metadata": {},
   "outputs": [],
   "source": []
  }
 ],
 "metadata": {
  "kernelspec": {
   "display_name": "Musa",
   "language": "python",
   "name": "musa-3.13"
  },
  "language_info": {
   "codemirror_mode": {
    "name": "ipython",
    "version": 3
   },
   "file_extension": ".py",
   "mimetype": "text/x-python",
   "name": "python",
   "nbconvert_exporter": "python",
   "pygments_lexer": "ipython3",
   "version": "3.12.0"
  }
 },
 "nbformat": 4,
 "nbformat_minor": 5
}
