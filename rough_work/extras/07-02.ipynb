{
 "cells": [
  {
   "cell_type": "code",
   "execution_count": 1,
   "id": "48c0c818-53ac-4090-9bfb-b18d16a3a7e7",
   "metadata": {},
   "outputs": [],
   "source": [
    "#hide"
   ]
  },
  {
   "cell_type": "code",
   "execution_count": 3,
   "id": "050c4aff-5595-47d7-a92c-419b456d3f82",
   "metadata": {
    "jupyter": {
     "source_hidden": true
    }
   },
   "outputs": [
    {
     "data": {
      "text/html": [
       "\n",
       "    <div style=\"\n",
       "        position: relative;\n",
       "        display: flex; \n",
       "        align-items: center; \n",
       "        justify-content: flex-start;\n",
       "        min-height: 80px;\n",
       "        width: 800px;\n",
       "        background: linear-gradient(135deg, #f5f7fa 0%, #c3cfe2 100%);\n",
       "        padding: 20px;\n",
       "        border-radius: 12px;\n",
       "        box-shadow: 0 4px 15px rgba(0, 0, 0, 0.1);\n",
       "        border: 1px solid #e1e8ed;\n",
       "        margin: 10px 0;\n",
       "        font-family: 'Segoe UI', Tahoma, Geneva, Verdana, sans-serif;\n",
       "    \">\n",
       "\n",
       "        <!-- GitHub Icon + Name in top-right -->\n",
       "        <a href=\"https://github.com/meluron-codecafe\" target=\"_blank\" style=\"\n",
       "            position: absolute;\n",
       "            top: 16px;\n",
       "            right: 20px;\n",
       "            display: flex;\n",
       "            align-items: center;\n",
       "            text-decoration: none;\n",
       "            color: #333;\n",
       "            font-size: 14px;\n",
       "            font-weight: 500;\n",
       "            gap: 6px;\n",
       "        \">\n",
       "            <img src=\"https://cdn-icons-png.flaticon.com/512/25/25231.png\" \n",
       "                 alt=\"GitHub\" \n",
       "                 style=\"width: 18px; height: 18px; display: inline-block; vertical-align: middle;\">\n",
       "            <span style=\"transform: translateY(-1px); line-height: 1;\">\n",
       "                /meluron-codecafe\n",
       "            </span>\n",
       "        </a>\n",
       "\n",
       "        <!-- Logo + Label stacked vertically -->\n",
       "        <div style=\"\n",
       "            display: flex; \n",
       "            flex-direction: column; \n",
       "            align-items: center; \n",
       "            justify-content: center;\n",
       "            margin-right: 35px;\n",
       "        \">\n",
       "            <a href=\"https://meluron-codecafe.github.io/DevQuest/\">\n",
       "                <img src=\"https://raw.githubusercontent.com/meluron/assets/refs/heads/main/logos/meluron-codecafe/DevQuest/orig.png\" \n",
       "                     alt=\"My Logo\" \n",
       "                     style=\"\n",
       "                        width: 70px; \n",
       "                        height: 70px;\n",
       "                        border-radius: 8px;\n",
       "                        box-shadow: 0 3px 10px rgba(253, 138, 9, 0.3);\n",
       "                     \">\n",
       "            </a>\n",
       "            <div style=\"\n",
       "                font-size: 13px; \n",
       "                color: #fd8a09; \n",
       "                font-weight: bold;\n",
       "                margin-top: 6px;\n",
       "                text-align: center;\n",
       "            \">\n",
       "            </div>\n",
       "        </div>\n",
       "\n",
       "        <!-- Question Badge -->\n",
       "        <div style=\"\n",
       "            font-size: 14px; \n",
       "            background: linear-gradient(135deg, #667eea, #764ba2);\n",
       "            color: white; \n",
       "            padding: 8px 14px; \n",
       "            border-radius: 20px; \n",
       "            display: inline-flex;\n",
       "            align-items: center;\n",
       "            gap: 6px;\n",
       "            font-weight: 600;\n",
       "            box-shadow: 0 3px 12px rgba(102, 126, 234, 0.3);\n",
       "        \">\n",
       "            <span style=\"font-size: 16px;\">❔</span>\n",
       "            Conditional Statements\n",
       "            \n",
       "        </div>\n",
       "    </div>\n",
       "    "
      ],
      "text/plain": [
       "<IPython.core.display.HTML object>"
      ]
     },
     "metadata": {},
     "output_type": "display_data"
    }
   ],
   "source": [
    "#hide\n",
    "import utils\n",
    "utils.hero(\"Conditional Statements\")"
   ]
  },
  {
   "cell_type": "markdown",
   "id": "424be505-9728-45c7-a998-5bb51332fb50",
   "metadata": {},
   "source": [
    "To check if a condition is `True` or `False`"
   ]
  },
  {
   "cell_type": "code",
   "execution_count": 6,
   "id": "99ef062b-b93a-4b4e-8755-dcbb4300a2af",
   "metadata": {
    "jupyter": {
     "source_hidden": true
    }
   },
   "outputs": [
    {
     "data": {
      "text/html": [
       "\n",
       "        <div style=\"\n",
       "            margin: 25px 0 15px 0;\n",
       "            padding: 0;\n",
       "        \">\n",
       "            <h2 style=\"\n",
       "                font-size: 24px;\n",
       "                font-weight: 600;\n",
       "                color: #2c3e50;\n",
       "                margin: 0;\n",
       "                padding: 12px 0 8px 0;\n",
       "                display: inline-block;\n",
       "                font-family: 'Segoe UI', Tahoma, Geneva, Verdana, sans-serif;\n",
       "                background: linear-gradient(135deg, #667eea, #764ba2);\n",
       "                -webkit-background-clip: text;\n",
       "                -webkit-text-fill-color: transparent;\n",
       "                background-clip: text;\n",
       "            \">▶ `if` statement</h2>\n",
       "        </div>\n",
       "    "
      ],
      "text/plain": [
       "<IPython.core.display.HTML object>"
      ]
     },
     "metadata": {},
     "output_type": "display_data"
    }
   ],
   "source": [
    "#hide\n",
    "utils.h1(\"`if` statement\")"
   ]
  },
  {
   "cell_type": "code",
   "execution_count": 12,
   "id": "df84c242-ed72-4493-a8d2-00881527f79d",
   "metadata": {},
   "outputs": [
    {
     "name": "stdout",
     "output_type": "stream",
     "text": [
      "Less than 100\n"
     ]
    }
   ],
   "source": [
    "a = 10\n",
    "if a < 100:\n",
    "    print(\"Less than 100\")"
   ]
  },
  {
   "cell_type": "code",
   "execution_count": 21,
   "id": "14eb2f2c-21cd-40c9-8dd7-a5404f7efbb9",
   "metadata": {},
   "outputs": [
    {
     "name": "stdout",
     "output_type": "stream",
     "text": [
      "Less than 10\n"
     ]
    }
   ],
   "source": [
    "a = 4 # <10, <30, <100\n",
    "if a < 10:\n",
    "    print(\"Less than 10\")\n",
    "elif a < 30:\n",
    "    print(\"Less that 30\")\n",
    "elif a < 100:\n",
    "    print(\"Less that 100\")\n",
    "else:\n",
    "    print(\"Greater than 100\")"
   ]
  },
  {
   "cell_type": "code",
   "execution_count": 22,
   "id": "15ed32b4-c4e1-48fd-ae7a-943ae374fa04",
   "metadata": {},
   "outputs": [
    {
     "name": "stdout",
     "output_type": "stream",
     "text": [
      "Less that 30\n",
      "Less that 100\n"
     ]
    }
   ],
   "source": [
    "a = 20 # <10, <30, <100\n",
    "if a < 10:\n",
    "    print(\"Less than 10\")\n",
    "if a < 30:\n",
    "    print(\"Less that 30\")\n",
    "if a < 100:\n",
    "    print(\"Less that 100\") "
   ]
  },
  {
   "cell_type": "code",
   "execution_count": 24,
   "id": "d81cd4a0-f37b-4894-8119-f16520d22dba",
   "metadata": {},
   "outputs": [
    {
     "name": "stdout",
     "output_type": "stream",
     "text": [
      "Yes\n"
     ]
    }
   ],
   "source": [
    "# Nested if\n",
    "a = 11\n",
    "b = 2\n",
    "if a > 10:\n",
    "    if b < 10:\n",
    "        print(\"Yes\")"
   ]
  },
  {
   "cell_type": "code",
   "execution_count": 29,
   "id": "0110eb54-6ad1-4c55-a6c6-63e26a30e25b",
   "metadata": {},
   "outputs": [
    {
     "name": "stdout",
     "output_type": "stream",
     "text": [
      "a is not an int\n"
     ]
    }
   ],
   "source": [
    "a = 10.0\n",
    "if isinstance(a, int):\n",
    "    print(\"a is an int\")\n",
    "else:\n",
    "    print(\"a is not an int\")"
   ]
  },
  {
   "cell_type": "code",
   "execution_count": 34,
   "id": "9e9de4d9-c6b9-439a-b968-f452e70e2a2f",
   "metadata": {},
   "outputs": [
    {
     "name": "stdout",
     "output_type": "stream",
     "text": [
      "True\n",
      "False\n"
     ]
    }
   ],
   "source": [
    "a = 500\n",
    "b = 500\n",
    "\n",
    "print(a == b) # Check by value\n",
    "print(a is b) # Check by object"
   ]
  },
  {
   "cell_type": "code",
   "execution_count": 35,
   "id": "d77f49b4-60e7-4337-9763-f9e88b13ada3",
   "metadata": {},
   "outputs": [
    {
     "name": "stdout",
     "output_type": "stream",
     "text": [
      "True\n",
      "True\n"
     ]
    }
   ],
   "source": [
    "# Concept -> small interger caching or integer interning\n",
    "a = 50\n",
    "b = 50\n",
    "\n",
    "print(a == b) # Check by value\n",
    "print(a is b) # Check by object"
   ]
  },
  {
   "cell_type": "code",
   "execution_count": 36,
   "id": "2938d894-9f8b-46d2-9f88-40360184447f",
   "metadata": {},
   "outputs": [
    {
     "name": "stdout",
     "output_type": "stream",
     "text": [
      "True\n",
      "True\n"
     ]
    }
   ],
   "source": [
    "a = 700\n",
    "b = a\n",
    "\n",
    "print(a == b) # Check by value\n",
    "print(a is b) # Check by object"
   ]
  },
  {
   "cell_type": "code",
   "execution_count": 52,
   "id": "f532991a-9231-455e-9d22-5a755cc7cab9",
   "metadata": {},
   "outputs": [
    {
     "name": "stdout",
     "output_type": "stream",
     "text": [
      "True\n",
      "False\n"
     ]
    },
    {
     "data": {
      "text/plain": [
       "(4392998336, 4392506176)"
      ]
     },
     "execution_count": 52,
     "metadata": {},
     "output_type": "execute_result"
    }
   ],
   "source": [
    "from copy import deepcopy\n",
    "\n",
    "a = [1, 2, 3]\n",
    "b = deepcopy(a)\n",
    "\n",
    "print(a == b) # Check by value\n",
    "print(a is b) # Check by object"
   ]
  }
 ],
 "metadata": {
  "kernelspec": {
   "display_name": "Musa",
   "language": "python",
   "name": "musa-3.13"
  },
  "language_info": {
   "codemirror_mode": {
    "name": "ipython",
    "version": 3
   },
   "file_extension": ".py",
   "mimetype": "text/x-python",
   "name": "python",
   "nbconvert_exporter": "python",
   "pygments_lexer": "ipython3",
   "version": "3.12.0"
  }
 },
 "nbformat": 4,
 "nbformat_minor": 5
}
